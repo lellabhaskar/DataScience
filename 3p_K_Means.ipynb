{
  "nbformat": 4,
  "nbformat_minor": 0,
  "metadata": {
    "colab": {
      "name": "3p_K-Means.ipynb",
      "provenance": [],
      "include_colab_link": true
    },
    "kernelspec": {
      "name": "python3",
      "display_name": "Python 3"
    }
  },
  "cells": [
    {
      "cell_type": "markdown",
      "metadata": {
        "id": "view-in-github",
        "colab_type": "text"
      },
      "source": [
        "<a href=\"https://colab.research.google.com/github/lellabhaskar/DataScience/blob/main/3p_K_Means.ipynb\" target=\"_parent\"><img src=\"https://colab.research.google.com/assets/colab-badge.svg\" alt=\"Open In Colab\"/></a>"
      ]
    },
    {
      "cell_type": "code",
      "metadata": {
        "id": "Rjm2oDdQrHxZ"
      },
      "source": [
        "# K-MEANS (clustering- dummy data)\n",
        "Unsupervised Alogrithms  -> no idea what the label is,just figure out if things could be kept together "
      ],
      "execution_count": null,
      "outputs": []
    },
    {
      "cell_type": "code",
      "metadata": {
        "id": "E5LYRNTfsVaP"
      },
      "source": [
        "import pandas as pd\n",
        "df = pd.DataFrame({\n",
        "    'x':[12,20,28,18,29,33,24,45,52,45,51,52,55,53,55,61,65,66,72,22],\n",
        "    'y':[39, 35, 30, 52, 55, 53, 46, 55, 59, 63,70, 66,63,58,23,14,8,19,7,24]\n",
        "})"
      ],
      "execution_count": 1,
      "outputs": []
    },
    {
      "cell_type": "code",
      "metadata": {
        "id": "BCMGrpYtgwHQ"
      },
      "source": [
        "# example: we have contains only above data -> there is no output or label to guide us \n",
        "# Hence, no xtrain,ytrain,xtest,ytest either "
      ],
      "execution_count": null,
      "outputs": []
    },
    {
      "cell_type": "code",
      "metadata": {
        "id": "0D9viyeghZAl"
      },
      "source": [
        "Steps of K-Means Alogrithm"
      ],
      "execution_count": null,
      "outputs": []
    },
    {
      "cell_type": "code",
      "metadata": {
        "id": "9ENIFf1Bvb32"
      },
      "source": [
        "1) Assume k number of Centroids. These centroids are the number of clusters you want to divide your data into\n",
        "\n",
        "2) Ramdomly select k points from given dataset or you can even select your Own random points\n",
        "\n",
        "3) Calculate distance of every point from these centroids\n",
        "\n",
        "4) Each point will be classified to the closest (NEAREST) Centroid\n",
        "\n",
        "5) Is this best answer? NO? then we are using [DISTANCE algorithms-> Standard deviation -> MIN STD for best algo]\n",
        "\n",
        "6) Move the centroids to their nearest neighbor\n",
        "\n",
        "7) Go to step 3 again. Keep repeating till all the points are visited or min STD achieved."
      ],
      "execution_count": null,
      "outputs": []
    }
  ]
}