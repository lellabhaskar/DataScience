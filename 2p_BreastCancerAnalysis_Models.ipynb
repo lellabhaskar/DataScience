{
  "nbformat": 4,
  "nbformat_minor": 0,
  "metadata": {
    "colab": {
      "name": "2p_BreastCancerAnalysis_Models.ipynb",
      "provenance": [],
      "collapsed_sections": [],
      "authorship_tag": "ABX9TyOjc/eGEpHB0Eto49cp5I7Y",
      "include_colab_link": true
    },
    "kernelspec": {
      "name": "python3",
      "display_name": "Python 3"
    },
    "language_info": {
      "name": "python"
    }
  },
  "cells": [
    {
      "cell_type": "markdown",
      "metadata": {
        "id": "view-in-github",
        "colab_type": "text"
      },
      "source": [
        "<a href=\"https://colab.research.google.com/github/lellabhaskar/DataScience/blob/main/2p_BreastCancerAnalysis_Models.ipynb\" target=\"_parent\"><img src=\"https://colab.research.google.com/assets/colab-badge.svg\" alt=\"Open In Colab\"/></a>"
      ]
    },
    {
      "cell_type": "code",
      "metadata": {
        "colab": {
          "base_uri": "https://localhost:8080/"
        },
        "id": "AxgxTW_7QKJh",
        "outputId": "fb45a0f5-7f81-4d1e-bb77-c5fa95fbefe0"
      },
      "source": [
        "!ls"
      ],
      "execution_count": 1,
      "outputs": [
        {
          "output_type": "stream",
          "name": "stdout",
          "text": [
            "data.csv  sample_data\n"
          ]
        }
      ]
    },
    {
      "cell_type": "code",
      "metadata": {
        "colab": {
          "base_uri": "https://localhost:8080/"
        },
        "id": "mLr93cYkH8-1",
        "outputId": "74ce9346-cba7-4d3e-e6e1-dbf626c3b97d"
      },
      "source": [
        "#Upload BreastCancerAnalysis DataSet\n",
        "\n",
        "import pandas as pd\n",
        "data=pd.read_csv('data.csv',header=0)\n",
        "data.head()\n",
        "data.columns\n",
        "#columns need to be display"
      ],
      "execution_count": 2,
      "outputs": [
        {
          "output_type": "execute_result",
          "data": {
            "text/plain": [
              "Index(['id', 'diagnosis', 'radius_mean', 'texture_mean', 'perimeter_mean',\n",
              "       'area_mean', 'smoothness_mean', 'compactness_mean', 'concavity_mean',\n",
              "       'concave points_mean', 'symmetry_mean', 'fractal_dimension_mean',\n",
              "       'radius_se', 'texture_se', 'perimeter_se', 'area_se', 'smoothness_se',\n",
              "       'compactness_se', 'concavity_se', 'concave points_se', 'symmetry_se',\n",
              "       'fractal_dimension_se', 'radius_worst', 'texture_worst',\n",
              "       'perimeter_worst', 'area_worst', 'smoothness_worst',\n",
              "       'compactness_worst', 'concavity_worst', 'concave points_worst',\n",
              "       'symmetry_worst', 'fractal_dimension_worst', 'Unnamed: 32'],\n",
              "      dtype='object')"
            ]
          },
          "metadata": {},
          "execution_count": 2
        }
      ]
    },
    {
      "cell_type": "code",
      "metadata": {
        "colab": {
          "base_uri": "https://localhost:8080/",
          "height": 275
        },
        "id": "Ek3sAr09SxBd",
        "outputId": "6bcb2d2d-b823-401e-a15a-f176503aff13"
      },
      "source": [
        "inputs=data.loc[:,['id','radius_mean', 'texture_mean', 'perimeter_mean',\n",
        "       'area_mean', 'smoothness_mean', 'compactness_mean', 'concavity_mean',\n",
        "       'concave points_mean', 'symmetry_mean', 'fractal_dimension_mean']]\n",
        "\n",
        "inputs=inputs.set_index('id') #inplace =True\n",
        "inputs.head()"
      ],
      "execution_count": 3,
      "outputs": [
        {
          "output_type": "execute_result",
          "data": {
            "text/html": [
              "<div>\n",
              "<style scoped>\n",
              "    .dataframe tbody tr th:only-of-type {\n",
              "        vertical-align: middle;\n",
              "    }\n",
              "\n",
              "    .dataframe tbody tr th {\n",
              "        vertical-align: top;\n",
              "    }\n",
              "\n",
              "    .dataframe thead th {\n",
              "        text-align: right;\n",
              "    }\n",
              "</style>\n",
              "<table border=\"1\" class=\"dataframe\">\n",
              "  <thead>\n",
              "    <tr style=\"text-align: right;\">\n",
              "      <th></th>\n",
              "      <th>radius_mean</th>\n",
              "      <th>texture_mean</th>\n",
              "      <th>perimeter_mean</th>\n",
              "      <th>area_mean</th>\n",
              "      <th>smoothness_mean</th>\n",
              "      <th>compactness_mean</th>\n",
              "      <th>concavity_mean</th>\n",
              "      <th>concave points_mean</th>\n",
              "      <th>symmetry_mean</th>\n",
              "      <th>fractal_dimension_mean</th>\n",
              "    </tr>\n",
              "    <tr>\n",
              "      <th>id</th>\n",
              "      <th></th>\n",
              "      <th></th>\n",
              "      <th></th>\n",
              "      <th></th>\n",
              "      <th></th>\n",
              "      <th></th>\n",
              "      <th></th>\n",
              "      <th></th>\n",
              "      <th></th>\n",
              "      <th></th>\n",
              "    </tr>\n",
              "  </thead>\n",
              "  <tbody>\n",
              "    <tr>\n",
              "      <th>842302</th>\n",
              "      <td>17.99</td>\n",
              "      <td>10.38</td>\n",
              "      <td>122.80</td>\n",
              "      <td>1001.0</td>\n",
              "      <td>0.11840</td>\n",
              "      <td>0.27760</td>\n",
              "      <td>0.3001</td>\n",
              "      <td>0.14710</td>\n",
              "      <td>0.2419</td>\n",
              "      <td>0.07871</td>\n",
              "    </tr>\n",
              "    <tr>\n",
              "      <th>842517</th>\n",
              "      <td>20.57</td>\n",
              "      <td>17.77</td>\n",
              "      <td>132.90</td>\n",
              "      <td>1326.0</td>\n",
              "      <td>0.08474</td>\n",
              "      <td>0.07864</td>\n",
              "      <td>0.0869</td>\n",
              "      <td>0.07017</td>\n",
              "      <td>0.1812</td>\n",
              "      <td>0.05667</td>\n",
              "    </tr>\n",
              "    <tr>\n",
              "      <th>84300903</th>\n",
              "      <td>19.69</td>\n",
              "      <td>21.25</td>\n",
              "      <td>130.00</td>\n",
              "      <td>1203.0</td>\n",
              "      <td>0.10960</td>\n",
              "      <td>0.15990</td>\n",
              "      <td>0.1974</td>\n",
              "      <td>0.12790</td>\n",
              "      <td>0.2069</td>\n",
              "      <td>0.05999</td>\n",
              "    </tr>\n",
              "    <tr>\n",
              "      <th>84348301</th>\n",
              "      <td>11.42</td>\n",
              "      <td>20.38</td>\n",
              "      <td>77.58</td>\n",
              "      <td>386.1</td>\n",
              "      <td>0.14250</td>\n",
              "      <td>0.28390</td>\n",
              "      <td>0.2414</td>\n",
              "      <td>0.10520</td>\n",
              "      <td>0.2597</td>\n",
              "      <td>0.09744</td>\n",
              "    </tr>\n",
              "    <tr>\n",
              "      <th>84358402</th>\n",
              "      <td>20.29</td>\n",
              "      <td>14.34</td>\n",
              "      <td>135.10</td>\n",
              "      <td>1297.0</td>\n",
              "      <td>0.10030</td>\n",
              "      <td>0.13280</td>\n",
              "      <td>0.1980</td>\n",
              "      <td>0.10430</td>\n",
              "      <td>0.1809</td>\n",
              "      <td>0.05883</td>\n",
              "    </tr>\n",
              "  </tbody>\n",
              "</table>\n",
              "</div>"
            ],
            "text/plain": [
              "          radius_mean  texture_mean  ...  symmetry_mean  fractal_dimension_mean\n",
              "id                                   ...                                       \n",
              "842302          17.99         10.38  ...         0.2419                 0.07871\n",
              "842517          20.57         17.77  ...         0.1812                 0.05667\n",
              "84300903        19.69         21.25  ...         0.2069                 0.05999\n",
              "84348301        11.42         20.38  ...         0.2597                 0.09744\n",
              "84358402        20.29         14.34  ...         0.1809                 0.05883\n",
              "\n",
              "[5 rows x 10 columns]"
            ]
          },
          "metadata": {},
          "execution_count": 3
        }
      ]
    },
    {
      "cell_type": "code",
      "metadata": {
        "colab": {
          "base_uri": "https://localhost:8080/",
          "height": 275
        },
        "id": "7br1u05ZTmIe",
        "outputId": "75798338-2bdd-48bb-bfba-d139eb173b49"
      },
      "source": [
        "# Z-SCORE \n",
        "stats=inputs.describe().T\n",
        "mu= stats['mean']\n",
        "sigma=stats['std']\n",
        "scaled_inputs =(inputs-mu)/sigma\n",
        "scaled_inputs.head()\n"
      ],
      "execution_count": 4,
      "outputs": [
        {
          "output_type": "execute_result",
          "data": {
            "text/html": [
              "<div>\n",
              "<style scoped>\n",
              "    .dataframe tbody tr th:only-of-type {\n",
              "        vertical-align: middle;\n",
              "    }\n",
              "\n",
              "    .dataframe tbody tr th {\n",
              "        vertical-align: top;\n",
              "    }\n",
              "\n",
              "    .dataframe thead th {\n",
              "        text-align: right;\n",
              "    }\n",
              "</style>\n",
              "<table border=\"1\" class=\"dataframe\">\n",
              "  <thead>\n",
              "    <tr style=\"text-align: right;\">\n",
              "      <th></th>\n",
              "      <th>radius_mean</th>\n",
              "      <th>texture_mean</th>\n",
              "      <th>perimeter_mean</th>\n",
              "      <th>area_mean</th>\n",
              "      <th>smoothness_mean</th>\n",
              "      <th>compactness_mean</th>\n",
              "      <th>concavity_mean</th>\n",
              "      <th>concave points_mean</th>\n",
              "      <th>symmetry_mean</th>\n",
              "      <th>fractal_dimension_mean</th>\n",
              "    </tr>\n",
              "    <tr>\n",
              "      <th>id</th>\n",
              "      <th></th>\n",
              "      <th></th>\n",
              "      <th></th>\n",
              "      <th></th>\n",
              "      <th></th>\n",
              "      <th></th>\n",
              "      <th></th>\n",
              "      <th></th>\n",
              "      <th></th>\n",
              "      <th></th>\n",
              "    </tr>\n",
              "  </thead>\n",
              "  <tbody>\n",
              "    <tr>\n",
              "      <th>842302</th>\n",
              "      <td>1.096100</td>\n",
              "      <td>-2.071512</td>\n",
              "      <td>1.268817</td>\n",
              "      <td>0.983510</td>\n",
              "      <td>1.567087</td>\n",
              "      <td>3.280628</td>\n",
              "      <td>2.650542</td>\n",
              "      <td>2.530249</td>\n",
              "      <td>2.215566</td>\n",
              "      <td>2.253764</td>\n",
              "    </tr>\n",
              "    <tr>\n",
              "      <th>842517</th>\n",
              "      <td>1.828212</td>\n",
              "      <td>-0.353322</td>\n",
              "      <td>1.684473</td>\n",
              "      <td>1.907030</td>\n",
              "      <td>-0.826235</td>\n",
              "      <td>-0.486643</td>\n",
              "      <td>-0.023825</td>\n",
              "      <td>0.547662</td>\n",
              "      <td>0.001391</td>\n",
              "      <td>-0.867889</td>\n",
              "    </tr>\n",
              "    <tr>\n",
              "      <th>84300903</th>\n",
              "      <td>1.578499</td>\n",
              "      <td>0.455786</td>\n",
              "      <td>1.565126</td>\n",
              "      <td>1.557513</td>\n",
              "      <td>0.941382</td>\n",
              "      <td>1.052000</td>\n",
              "      <td>1.362280</td>\n",
              "      <td>2.035440</td>\n",
              "      <td>0.938859</td>\n",
              "      <td>-0.397658</td>\n",
              "    </tr>\n",
              "    <tr>\n",
              "      <th>84348301</th>\n",
              "      <td>-0.768233</td>\n",
              "      <td>0.253509</td>\n",
              "      <td>-0.592166</td>\n",
              "      <td>-0.763792</td>\n",
              "      <td>3.280667</td>\n",
              "      <td>3.399917</td>\n",
              "      <td>1.914213</td>\n",
              "      <td>1.450431</td>\n",
              "      <td>2.864862</td>\n",
              "      <td>4.906602</td>\n",
              "    </tr>\n",
              "    <tr>\n",
              "      <th>84358402</th>\n",
              "      <td>1.748758</td>\n",
              "      <td>-1.150804</td>\n",
              "      <td>1.775011</td>\n",
              "      <td>1.824624</td>\n",
              "      <td>0.280125</td>\n",
              "      <td>0.538866</td>\n",
              "      <td>1.369806</td>\n",
              "      <td>1.427237</td>\n",
              "      <td>-0.009552</td>\n",
              "      <td>-0.561956</td>\n",
              "    </tr>\n",
              "  </tbody>\n",
              "</table>\n",
              "</div>"
            ],
            "text/plain": [
              "          radius_mean  texture_mean  ...  symmetry_mean  fractal_dimension_mean\n",
              "id                                   ...                                       \n",
              "842302       1.096100     -2.071512  ...       2.215566                2.253764\n",
              "842517       1.828212     -0.353322  ...       0.001391               -0.867889\n",
              "84300903     1.578499      0.455786  ...       0.938859               -0.397658\n",
              "84348301    -0.768233      0.253509  ...       2.864862                4.906602\n",
              "84358402     1.748758     -1.150804  ...      -0.009552               -0.561956\n",
              "\n",
              "[5 rows x 10 columns]"
            ]
          },
          "metadata": {},
          "execution_count": 4
        }
      ]
    },
    {
      "cell_type": "code",
      "metadata": {
        "id": "t4FgJVTNOMwy"
      },
      "source": [
        "scaled_inputs.to_csv('scaled_data.csv')"
      ],
      "execution_count": 5,
      "outputs": []
    },
    {
      "cell_type": "code",
      "metadata": {
        "colab": {
          "base_uri": "https://localhost:8080/"
        },
        "id": "AWiwSd1DOLzT",
        "outputId": "72cd2bc1-ac1b-4d8c-d3f8-4e4454d92f97"
      },
      "source": [
        "diagnosis =data.loc[:,'diagnosis']\n",
        "diagnosis "
      ],
      "execution_count": 6,
      "outputs": [
        {
          "output_type": "execute_result",
          "data": {
            "text/plain": [
              "0      M\n",
              "1      M\n",
              "2      M\n",
              "3      M\n",
              "4      M\n",
              "      ..\n",
              "564    M\n",
              "565    M\n",
              "566    M\n",
              "567    M\n",
              "568    B\n",
              "Name: diagnosis, Length: 569, dtype: object"
            ]
          },
          "metadata": {},
          "execution_count": 6
        }
      ]
    },
    {
      "cell_type": "code",
      "metadata": {
        "colab": {
          "base_uri": "https://localhost:8080/"
        },
        "id": "8_0gbEVXLBhp",
        "outputId": "e4b139f6-0d46-4502-a609-2758ed785156"
      },
      "source": [
        "\n",
        "# use logic to convert M and B to 1 and 0 using Labda\n",
        "\n",
        "encoding_logic_number = lambda value: 1 if value=='M' else 0\n",
        "y = diagnosis.map(encoding_logic_number)\n",
        "print(y)\n",
        "x=scaled_inputs\n",
        "print(x)"
      ],
      "execution_count": 7,
      "outputs": [
        {
          "output_type": "stream",
          "name": "stdout",
          "text": [
            "0      1\n",
            "1      1\n",
            "2      1\n",
            "3      1\n",
            "4      1\n",
            "      ..\n",
            "564    1\n",
            "565    1\n",
            "566    1\n",
            "567    1\n",
            "568    0\n",
            "Name: diagnosis, Length: 569, dtype: int64\n",
            "          radius_mean  texture_mean  ...  symmetry_mean  fractal_dimension_mean\n",
            "id                                   ...                                       \n",
            "842302       1.096100     -2.071512  ...       2.215566                2.253764\n",
            "842517       1.828212     -0.353322  ...       0.001391               -0.867889\n",
            "84300903     1.578499      0.455786  ...       0.938859               -0.397658\n",
            "84348301    -0.768233      0.253509  ...       2.864862                4.906602\n",
            "84358402     1.748758     -1.150804  ...      -0.009552               -0.561956\n",
            "...               ...           ...  ...            ...                     ...\n",
            "926424       2.109139      0.720838  ...      -0.312314               -0.930209\n",
            "926682       1.703356      2.083301  ...      -0.217473               -1.057681\n",
            "926954       0.701667      2.043775  ...      -0.808406               -0.894800\n",
            "927241       1.836725      2.334403  ...       2.135315                1.042778\n",
            "92751       -1.806811      1.220718  ...      -0.819349               -0.560539\n",
            "\n",
            "[569 rows x 10 columns]\n"
          ]
        }
      ]
    },
    {
      "cell_type": "code",
      "metadata": {
        "colab": {
          "base_uri": "https://localhost:8080/"
        },
        "id": "NLaXVb-4Ow5K",
        "outputId": "9d28154b-8fab-4f0c-8bfa-92a599cb0096"
      },
      "source": [
        "from sklearn.model_selection import train_test_split\n",
        "xtrain,xtest,ytrain,ytest=train_test_split(x,y,test_size=0.2,random_state=42)\n",
        "\n",
        "\n",
        "print(len(xtrain))\n",
        "print(len(xtest))   # This should be 20% of len(input)\n",
        "print(len(ytrain))\n",
        "print(len(ytest))"
      ],
      "execution_count": 8,
      "outputs": [
        {
          "output_type": "stream",
          "name": "stdout",
          "text": [
            "455\n",
            "114\n",
            "455\n",
            "114\n"
          ]
        }
      ]
    },
    {
      "cell_type": "code",
      "metadata": {
        "id": "-0CYfGJlTnUr",
        "colab": {
          "base_uri": "https://localhost:8080/",
          "height": 275
        },
        "outputId": "4eb343bf-eb02-4105-dac6-16fddbda4204"
      },
      "source": [
        "xtrain.head()"
      ],
      "execution_count": 9,
      "outputs": [
        {
          "output_type": "execute_result",
          "data": {
            "text/html": [
              "<div>\n",
              "<style scoped>\n",
              "    .dataframe tbody tr th:only-of-type {\n",
              "        vertical-align: middle;\n",
              "    }\n",
              "\n",
              "    .dataframe tbody tr th {\n",
              "        vertical-align: top;\n",
              "    }\n",
              "\n",
              "    .dataframe thead th {\n",
              "        text-align: right;\n",
              "    }\n",
              "</style>\n",
              "<table border=\"1\" class=\"dataframe\">\n",
              "  <thead>\n",
              "    <tr style=\"text-align: right;\">\n",
              "      <th></th>\n",
              "      <th>radius_mean</th>\n",
              "      <th>texture_mean</th>\n",
              "      <th>perimeter_mean</th>\n",
              "      <th>area_mean</th>\n",
              "      <th>smoothness_mean</th>\n",
              "      <th>compactness_mean</th>\n",
              "      <th>concavity_mean</th>\n",
              "      <th>concave points_mean</th>\n",
              "      <th>symmetry_mean</th>\n",
              "      <th>fractal_dimension_mean</th>\n",
              "    </tr>\n",
              "    <tr>\n",
              "      <th>id</th>\n",
              "      <th></th>\n",
              "      <th></th>\n",
              "      <th></th>\n",
              "      <th></th>\n",
              "      <th></th>\n",
              "      <th></th>\n",
              "      <th></th>\n",
              "      <th></th>\n",
              "      <th></th>\n",
              "      <th></th>\n",
              "    </tr>\n",
              "  </thead>\n",
              "  <tbody>\n",
              "    <tr>\n",
              "      <th>859471</th>\n",
              "      <td>-1.446714</td>\n",
              "      <td>-0.455622</td>\n",
              "      <td>-1.365450</td>\n",
              "      <td>-1.149113</td>\n",
              "      <td>0.728073</td>\n",
              "      <td>0.699812</td>\n",
              "      <td>2.812359</td>\n",
              "      <td>-0.133216</td>\n",
              "      <td>1.092064</td>\n",
              "      <td>2.501626</td>\n",
              "    </tr>\n",
              "    <tr>\n",
              "      <th>873593</th>\n",
              "      <td>1.975770</td>\n",
              "      <td>1.692697</td>\n",
              "      <td>2.087782</td>\n",
              "      <td>1.864406</td>\n",
              "      <td>1.261345</td>\n",
              "      <td>3.386663</td>\n",
              "      <td>2.005784</td>\n",
              "      <td>2.594677</td>\n",
              "      <td>2.128020</td>\n",
              "      <td>1.583827</td>\n",
              "    </tr>\n",
              "    <tr>\n",
              "      <th>859196</th>\n",
              "      <td>-1.405852</td>\n",
              "      <td>-1.262405</td>\n",
              "      <td>-1.348576</td>\n",
              "      <td>-1.119560</td>\n",
              "      <td>-1.361640</td>\n",
              "      <td>-0.318692</td>\n",
              "      <td>-0.362762</td>\n",
              "      <td>-0.698896</td>\n",
              "      <td>1.931042</td>\n",
              "      <td>0.967711</td>\n",
              "    </tr>\n",
              "    <tr>\n",
              "      <th>88466802</th>\n",
              "      <td>-0.986732</td>\n",
              "      <td>1.378819</td>\n",
              "      <td>-0.986010</td>\n",
              "      <td>-0.874898</td>\n",
              "      <td>0.014912</td>\n",
              "      <td>-0.605933</td>\n",
              "      <td>-0.815473</td>\n",
              "      <td>-0.844504</td>\n",
              "      <td>0.311449</td>\n",
              "      <td>0.069740</td>\n",
              "    </tr>\n",
              "    <tr>\n",
              "      <th>858970</th>\n",
              "      <td>-1.122939</td>\n",
              "      <td>-1.025253</td>\n",
              "      <td>-1.128403</td>\n",
              "      <td>-0.974639</td>\n",
              "      <td>1.211573</td>\n",
              "      <td>-0.449342</td>\n",
              "      <td>-0.977916</td>\n",
              "      <td>-0.928260</td>\n",
              "      <td>3.397431</td>\n",
              "      <td>0.963462</td>\n",
              "    </tr>\n",
              "  </tbody>\n",
              "</table>\n",
              "</div>"
            ],
            "text/plain": [
              "          radius_mean  texture_mean  ...  symmetry_mean  fractal_dimension_mean\n",
              "id                                   ...                                       \n",
              "859471      -1.446714     -0.455622  ...       1.092064                2.501626\n",
              "873593       1.975770      1.692697  ...       2.128020                1.583827\n",
              "859196      -1.405852     -1.262405  ...       1.931042                0.967711\n",
              "88466802    -0.986732      1.378819  ...       0.311449                0.069740\n",
              "858970      -1.122939     -1.025253  ...       3.397431                0.963462\n",
              "\n",
              "[5 rows x 10 columns]"
            ]
          },
          "metadata": {},
          "execution_count": 9
        }
      ]
    },
    {
      "cell_type": "code",
      "metadata": {
        "id": "Z8hBhCy4okDL",
        "colab": {
          "base_uri": "https://localhost:8080/"
        },
        "outputId": "31e3ced0-adf4-4cfc-f47c-35449ecb501e"
      },
      "source": [
        "# Let's apply our first 1 algorithm for comparison-> Stochastic Gradient Descent\n",
        "from sklearn.linear_model import SGDClassifier\n",
        "import time\n",
        "from sklearn.metrics import accuracy_score\n",
        "\n",
        "time_all = [] # we don't want a SLOW algorithms\n",
        "acc_all = [] # we want correct number of guesses\n",
        "time_error = 1.9788742065429688e-05\n",
        "\n",
        "starttime = time.time()\n",
        "\n",
        "model = SGDClassifier()\n",
        "# First step is TRAINING-> Provide it all training input and output \n",
        "model.fit(xtrain, ytrain)\n",
        "# Second is SCORING/TESTING -> Provide it all testing input but not output\n",
        "# we are expecting the model to give us predictions for comparison\n",
        "predictions = model.predict(xtest)\n",
        "\n",
        "endtime = time.time()\n",
        "\n",
        "# Third step is EVALUATE the model -> Compare the predictions to answer that you already know!\n",
        "accr = accuracy_score(predictions, ytest)\n",
        "\n",
        "timetaken  = endtime - starttime - time_error\n",
        "print('Time taken by Stochastic Gradient Descent is: ' + str(timetaken))\n",
        "print('Accuracy of Stochastic Gradient Descent is: ' + str(accr))\n",
        "\n"
      ],
      "execution_count": 10,
      "outputs": [
        {
          "output_type": "stream",
          "name": "stdout",
          "text": [
            "Time taken by Stochastic Gradient Descent is: 0.004947185516357422\n",
            "Accuracy of Stochastic Gradient Descent is: 0.8771929824561403\n"
          ]
        }
      ]
    },
    {
      "cell_type": "code",
      "metadata": {
        "id": "T2g5po7lef2A"
      },
      "source": [
        "# Probabilistic algorithms -> works on probability and will give you a different output every time--> SGD, DT, RF\n",
        "# Empirical algorithms -> will give you Same output everytime because they are dependent on Graphs-->Lin reg, SVMs\n",
        "# Graph cannot be changed because same points will always lead to the same boundary"
      ],
      "execution_count": null,
      "outputs": []
    },
    {
      "cell_type": "code",
      "metadata": {
        "colab": {
          "base_uri": "https://localhost:8080/"
        },
        "id": "iCbFe7q2gDWF",
        "outputId": "002f1dd6-4dd0-4ed4-f765-c3d818285e38"
      },
      "source": [
        "predictions"
      ],
      "execution_count": 11,
      "outputs": [
        {
          "output_type": "execute_result",
          "data": {
            "text/plain": [
              "array([0, 1, 1, 0, 0, 1, 1, 1, 0, 0, 1, 1, 1, 1, 0, 1, 1, 0, 0, 1, 0, 0,\n",
              "       1, 0, 0, 0, 0, 0, 0, 1, 0, 0, 0, 0, 0, 0, 1, 0, 1, 1, 0, 1, 0, 0,\n",
              "       0, 0, 0, 0, 0, 0, 1, 1, 0, 0, 0, 0, 0, 1, 0, 0, 0, 1, 1, 1, 0, 0,\n",
              "       1, 1, 0, 0, 0, 1, 0, 1, 0, 0, 0, 0, 0, 0, 1, 0, 1, 1, 1, 0, 0, 1,\n",
              "       0, 0, 0, 0, 0, 0, 0, 0, 1, 0, 0, 1, 1, 0, 1, 1, 0, 0, 0, 1, 0, 1,\n",
              "       1, 0, 1, 1])"
            ]
          },
          "metadata": {},
          "execution_count": 11
        }
      ]
    },
    {
      "cell_type": "code",
      "metadata": {
        "colab": {
          "base_uri": "https://localhost:8080/"
        },
        "id": "eckWr-S7hcAH",
        "outputId": "5fc81dfe-6f66-45df-dace-4b1c8a914503"
      },
      "source": [
        "ytest.to_numpy()"
      ],
      "execution_count": 12,
      "outputs": [
        {
          "output_type": "execute_result",
          "data": {
            "text/plain": [
              "array([0, 1, 1, 0, 0, 1, 1, 1, 0, 0, 0, 1, 0, 1, 0, 1, 0, 0, 0, 1, 1, 0,\n",
              "       1, 0, 0, 0, 0, 0, 0, 1, 0, 0, 0, 0, 0, 0, 1, 0, 1, 0, 0, 1, 0, 0,\n",
              "       0, 0, 0, 0, 0, 0, 1, 1, 0, 0, 0, 0, 0, 1, 1, 0, 0, 1, 1, 0, 0, 0,\n",
              "       1, 1, 0, 0, 1, 1, 0, 1, 0, 0, 0, 1, 0, 0, 1, 0, 1, 1, 1, 1, 1, 1,\n",
              "       0, 0, 0, 0, 0, 0, 0, 0, 1, 1, 0, 1, 1, 0, 1, 1, 0, 0, 0, 1, 0, 0,\n",
              "       1, 0, 0, 1])"
            ]
          },
          "metadata": {},
          "execution_count": 12
        }
      ]
    },
    {
      "cell_type": "code",
      "metadata": {
        "colab": {
          "base_uri": "https://localhost:8080/"
        },
        "id": "jq9fG_Tvh_jP",
        "outputId": "9cf7ea8b-850c-4051-99ef-24429ef87b0f"
      },
      "source": [
        "# Training and Testing Data\n",
        "from sklearn.model_selection import train_test_split\n",
        "xtrain,xtest,ytrain,ytest=train_test_split(x,y,test_size=0.2,random_state=42)\n",
        "\n",
        "# 3 algorithms for comparison-> SGD,SVC,LinearSVC\n",
        "from sklearn.linear_model import SGDClassifier # gradient descent\n",
        "from sklearn.svm import SVC, LinearSVC # graph\n",
        "\n",
        "import time \n",
        "from sklearn.metrics import accuracy_score\n",
        "\n",
        "# all algos list for comparision \n",
        "algos = {'SGD':SGDClassifier(), 'LinearSVC':LinearSVC(), 'SVC':SVC()}\n",
        "time_all = [] \n",
        "acc_all = []\n",
        "\n",
        "time_error = 1.9788742065429688e-05\n",
        "\n",
        "for name,algo in algos.items():\n",
        "  print('Starting algorithm is: ' + name)\n",
        "  starttime = time.time()\n",
        "  model = algo\n",
        "  model.fit(xtrain, ytrain)\n",
        "  predictions = model.predict(xtest)\n",
        "  endtime = time.time()\n",
        "  accur = accuracy_score(predictions, ytest)\n",
        "  timetaken = endtime- starttime - time_error\n",
        "  print('Time taken by '+ name +' is: ' + str(timetaken))\n",
        "  print('Accuracy of '+ name +' is: ' + str(accur))\n",
        "  time_all.append(timetaken)\n",
        "  acc_all.append(accur)"
      ],
      "execution_count": 13,
      "outputs": [
        {
          "output_type": "stream",
          "name": "stdout",
          "text": [
            "Starting algorithm is: SGD\n",
            "Time taken by SGD is: 0.004415035247802734\n",
            "Accuracy of SGD is: 0.8771929824561403\n",
            "Starting algorithm is: LinearSVC\n",
            "Time taken by LinearSVC is: 0.008595943450927734\n",
            "Accuracy of LinearSVC is: 0.9385964912280702\n",
            "Starting algorithm is: SVC\n",
            "Time taken by SVC is: 0.008201837539672852\n",
            "Accuracy of SVC is: 0.9736842105263158\n"
          ]
        }
      ]
    },
    {
      "cell_type": "code",
      "metadata": {
        "colab": {
          "base_uri": "https://localhost:8080/"
        },
        "id": "C9HvgUe6_8_6",
        "outputId": "9631b915-51f1-4373-ea81-359cfe3dbc39"
      },
      "source": [
        "\n",
        "# added more algorithms for comparisons\n",
        "from sklearn.linear_model import SGDClassifier # gradient descent\n",
        "from sklearn.svm import SVC, LinearSVC # graph\n",
        "from sklearn.naive_bayes import GaussianNB # probability\n",
        "from sklearn.tree import DecisionTreeClassifier # TREE based \n",
        "from sklearn.ensemble import RandomForestClassifier \n",
        "\n",
        "import time \n",
        "from sklearn.metrics import accuracy_score\n",
        "\n",
        "# all algos list for comparision \n",
        "algos = {'SGD':SGDClassifier(), 'LinearSVC':LinearSVC(), 'SVC':SVC(), \n",
        "         'Sherlock':GaussianNB(), 'Dtree':DecisionTreeClassifier(),\n",
        "         'RFPlain': RandomForestClassifier(),#Default value is 100 as per sklearn document\n",
        "         'RF5':RandomForestClassifier(n_estimators=5),'RF200':RandomForestClassifier(n_estimators=200)}\n",
        "time_all = [] \n",
        "acc_all = []\n",
        "\n",
        "time_error = 1.9788742065429688e-05\n",
        "\n",
        "for name,algo in algos.items():\n",
        "  print('Starting algorithm is: ' + name)\n",
        "  starttime = time.time()\n",
        "  model = algo\n",
        "  model.fit(xtrain, ytrain)\n",
        "  predictions = model.predict(xtest)\n",
        "  endtime = time.time()\n",
        "  accur = accuracy_score(predictions, ytest)\n",
        "  timetaken = endtime- starttime - time_error\n",
        "  print('Time taken by '+ name +' is: ' + str(timetaken))\n",
        "  print('Accuracy of '+ name +' is: ' + str(accur))\n",
        "  time_all.append(timetaken)\n",
        "  acc_all.append(accur)"
      ],
      "execution_count": 14,
      "outputs": [
        {
          "output_type": "stream",
          "name": "stdout",
          "text": [
            "Starting algorithm is: SGD\n",
            "Time taken by SGD is: 0.00748443603515625\n",
            "Accuracy of SGD is: 0.9473684210526315\n",
            "Starting algorithm is: LinearSVC\n",
            "Time taken by LinearSVC is: 0.011837482452392578\n",
            "Accuracy of LinearSVC is: 0.9385964912280702\n",
            "Starting algorithm is: SVC\n",
            "Time taken by SVC is: 0.00797414779663086\n",
            "Accuracy of SVC is: 0.9736842105263158\n",
            "Starting algorithm is: Sherlock\n",
            "Time taken by Sherlock is: 0.003668546676635742\n",
            "Accuracy of Sherlock is: 0.9385964912280702\n",
            "Starting algorithm is: Dtree\n",
            "Time taken by Dtree is: 0.005694150924682617\n",
            "Accuracy of Dtree is: 0.9473684210526315\n",
            "Starting algorithm is: RFPlain\n"
          ]
        },
        {
          "output_type": "stream",
          "name": "stderr",
          "text": [
            "/usr/local/lib/python3.7/dist-packages/sklearn/svm/_base.py:1208: ConvergenceWarning: Liblinear failed to converge, increase the number of iterations.\n",
            "  ConvergenceWarning,\n"
          ]
        },
        {
          "output_type": "stream",
          "name": "stdout",
          "text": [
            "Time taken by RFPlain is: 0.20276713371276855\n",
            "Accuracy of RFPlain is: 0.9473684210526315\n",
            "Starting algorithm is: RF5\n",
            "Time taken by RF5 is: 0.015176534652709961\n",
            "Accuracy of RF5 is: 0.9473684210526315\n",
            "Starting algorithm is: RF200\n",
            "Time taken by RF200 is: 0.39804530143737793\n",
            "Accuracy of RF200 is: 0.956140350877193\n"
          ]
        }
      ]
    },
    {
      "cell_type": "code",
      "metadata": {
        "id": "kYXX76eeCinX"
      },
      "source": [
        "# Cross Validation Score \n",
        "# CROSS Val Score is accuracy on SUB-SET(s) of dataset"
      ],
      "execution_count": null,
      "outputs": []
    },
    {
      "cell_type": "code",
      "metadata": {
        "colab": {
          "base_uri": "https://localhost:8080/"
        },
        "id": "mUppus8fYjTZ",
        "outputId": "2a8bdf5c-4911-403b-ce29-97e6824ef65f"
      },
      "source": [
        "from sklearn.linear_model import SGDClassifier # gradient descent\n",
        "from sklearn.svm import SVC, LinearSVC # graph\n",
        "from sklearn.naive_bayes import GaussianNB # probability\n",
        "from sklearn.tree import DecisionTreeClassifier # TREE based \n",
        "from sklearn.ensemble import RandomForestClassifier \n",
        "\n",
        "import time \n",
        "from sklearn.metrics import accuracy_score\n",
        "\n",
        "from sklearn.model_selection import cross_val_score\n",
        "import numpy as np\n",
        "\n",
        "# all algos list for comparision \n",
        "algos = {'SGD':SGDClassifier(), 'LinearSVC':LinearSVC(), 'SVC':SVC(), \n",
        "         'Sherlock':GaussianNB(), 'Dtree':DecisionTreeClassifier(),\n",
        "         'RFPlain': RandomForestClassifier(),#Default value is 100 as per sklearn document\n",
        "         'RF5':RandomForestClassifier(n_estimators=5),'RF200':RandomForestClassifier(n_estimators=200)}\n",
        "time_all = [] \n",
        "acc_all = []\n",
        "\n",
        "cvs_all = []\n",
        "\n",
        "time_error = 1.9788742065429688e-05\n",
        "\n",
        "for name,algo in algos.items():\n",
        "  print('Starting algorithm is: ' + name)\n",
        "  starttime = time.time()\n",
        "  model = algo\n",
        "  model.fit(xtrain, ytrain)\n",
        "  predictions = model.predict(xtest)\n",
        "  endtime = time.time()\n",
        "  accur = accuracy_score(predictions, ytest)\n",
        "\n",
        "  cv_score = cross_val_score(model,x, y, cv=5 ) # no. of cross validations\n",
        "\n",
        "  timetaken = endtime- starttime - time_error\n",
        "  print('Time taken by '+ name +' is: ' + str(timetaken))\n",
        "  print('Accuracy of '+ name +' is: ' + str(accur))\n",
        "\n",
        "  print('CVS of '+ name +' is: ' + str(cv_score)) # 5 experiements \n",
        "\n",
        "  time_all.append(timetaken)\n",
        "  acc_all.append(accur)\n",
        "\n",
        "  cvs_all.append(np.mean(cv_score))   # AVERAGE of experiements of 5 "
      ],
      "execution_count": 15,
      "outputs": [
        {
          "output_type": "stream",
          "name": "stdout",
          "text": [
            "Starting algorithm is: SGD\n",
            "Time taken by SGD is: 0.0047190189361572266\n",
            "Accuracy of SGD is: 0.956140350877193\n",
            "CVS of SGD is: [0.88596491 0.88596491 0.93859649 0.92105263 0.90265487]\n",
            "Starting algorithm is: LinearSVC\n",
            "Time taken by LinearSVC is: 0.011121749877929688\n",
            "Accuracy of LinearSVC is: 0.9385964912280702\n",
            "CVS of LinearSVC is: [0.88596491 0.93859649 0.95614035 0.95614035 0.92920354]\n",
            "Starting algorithm is: SVC\n",
            "Time taken by SVC is: 0.007985591888427734\n",
            "Accuracy of SVC is: 0.9736842105263158\n",
            "CVS of SVC is: [0.90350877 0.93859649 0.94736842 0.96491228 0.92920354]\n",
            "Starting algorithm is: Sherlock\n",
            "Time taken by Sherlock is: 0.0035026073455810547\n",
            "Accuracy of Sherlock is: 0.9385964912280702\n",
            "CVS of Sherlock is: [0.85964912 0.92105263 0.9122807  0.95614035 0.92035398]\n",
            "Starting algorithm is: Dtree\n"
          ]
        },
        {
          "output_type": "stream",
          "name": "stderr",
          "text": [
            "/usr/local/lib/python3.7/dist-packages/sklearn/svm/_base.py:1208: ConvergenceWarning: Liblinear failed to converge, increase the number of iterations.\n",
            "  ConvergenceWarning,\n"
          ]
        },
        {
          "output_type": "stream",
          "name": "stdout",
          "text": [
            "Time taken by Dtree is: 0.0061571598052978516\n",
            "Accuracy of Dtree is: 0.9035087719298246\n",
            "CVS of Dtree is: [0.92105263 0.90350877 0.90350877 0.92982456 0.92920354]\n",
            "Starting algorithm is: RFPlain\n",
            "Time taken by RFPlain is: 0.19330644607543945\n",
            "Accuracy of RFPlain is: 0.956140350877193\n",
            "CVS of RFPlain is: [0.89473684 0.93859649 0.94736842 0.98245614 0.95575221]\n",
            "Starting algorithm is: RF5\n",
            "Time taken by RF5 is: 0.013570547103881836\n",
            "Accuracy of RF5 is: 0.9210526315789473\n",
            "CVS of RF5 is: [0.87719298 0.93859649 0.92105263 0.96491228 0.92035398]\n",
            "Starting algorithm is: RF200\n",
            "Time taken by RF200 is: 0.3821094036102295\n",
            "Accuracy of RF200 is: 0.9473684210526315\n",
            "CVS of RF200 is: [0.90350877 0.94736842 0.94736842 0.98245614 0.95575221]\n"
          ]
        }
      ]
    },
    {
      "cell_type": "code",
      "metadata": {
        "colab": {
          "base_uri": "https://localhost:8080/"
        },
        "id": "eCLCNHzPav6J",
        "outputId": "158d68ee-1d98-4fba-d39d-faa9781eaa40"
      },
      "source": [
        "print(cvs_all)\n",
        "print(acc_all)"
      ],
      "execution_count": null,
      "outputs": [
        {
          "output_type": "stream",
          "name": "stdout",
          "text": [
            "[0.9226828132277596, 0.9332091290172334, 0.9367179009470579, 0.9138953578636858, 0.9086632510479739, 0.9402577239559076, 0.924406148113647, 0.9437820214252446]\n",
            "[0.9298245614035088, 0.9385964912280702, 0.9736842105263158, 0.9385964912280702, 0.9298245614035088, 0.9473684210526315, 0.9385964912280702, 0.9473684210526315]\n"
          ]
        }
      ]
    },
    {
      "cell_type": "code",
      "metadata": {
        "id": "bzsu6m5YZRRO"
      },
      "source": [
        "# As per overfitting, LinearSVC seems best\n",
        "# but as per accuracy, SVC sounds best\n",
        "\n",
        "# Typically try 10-20 algos, pick top 3-5 best algos based on various metrics \n",
        "# use them for few months! -> only then you will come to know in reality which algos were better "
      ],
      "execution_count": null,
      "outputs": []
    },
    {
      "cell_type": "code",
      "metadata": {
        "id": "30QzCsdtZivl"
      },
      "source": [
        "# https://towardsdatascience.com/20-popular-machine-learning-metrics-part-1-classification-regression-evaluation-metrics-1ca3e282a2ce\n",
        "\n",
        "# Subjects:\n",
        "\n",
        "# Signal and Systems,  Linear Transformation, Linear Algebra\n",
        "# Electrical Engineering ,Probability, Data Structures (Trees and Forests)\n"
      ],
      "execution_count": null,
      "outputs": []
    },
    {
      "cell_type": "code",
      "metadata": {
        "id": "Bo98oNPiktKv"
      },
      "source": [
        "#  K-Nearest Neighbors Algo"
      ],
      "execution_count": null,
      "outputs": []
    },
    {
      "cell_type": "markdown",
      "metadata": {
        "id": "TJD6IZtUkH4U"
      },
      "source": [
        "![image.png](data:image/png;base64,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)"
      ]
    },
    {
      "cell_type": "code",
      "metadata": {
        "id": "ei--MO3ekQfL"
      },
      "source": [
        "# Distance formulae  Calucation\n",
        "\n",
        "1. Eucledian  --Most used\n",
        "2. Minkowski\n",
        "3. Manhattan\n",
        "\n",
        "These are integration formulas"
      ],
      "execution_count": null,
      "outputs": []
    },
    {
      "cell_type": "markdown",
      "metadata": {
        "id": "PAj6g_q1mjEt"
      },
      "source": [
        "# Calucation of Eucledian  Distance\n",
        "\n",
        "![image.png](data:image/png;base64,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)"
      ]
    },
    {
      "cell_type": "code",
      "metadata": {
        "id": "cJX8WfuQm2Os"
      },
      "source": [
        "# d is the distance between two points"
      ],
      "execution_count": null,
      "outputs": []
    },
    {
      "cell_type": "code",
      "metadata": {
        "id": "qAildCz-qO-6"
      },
      "source": [
        "# Integration  -> Combine very very tiny (Infinitely Small) particles into one large object\n",
        "# Differentiation  -> Break down a large object into INFINITELY small objects\n",
        "\n",
        "# https://www.mathsisfun.com/calculus/\n",
        "# https://www.mathsisfun.com/calculus/integration-rules.html"
      ],
      "execution_count": null,
      "outputs": []
    },
    {
      "cell_type": "code",
      "metadata": {
        "id": "ZyzswKk33euv"
      },
      "source": [
        "#  K-Nearest Neighbors Algo -Example\n",
        "# KNN (classification-Breast Cancer Analysis -- dataset)"
      ],
      "execution_count": null,
      "outputs": []
    },
    {
      "cell_type": "code",
      "metadata": {
        "colab": {
          "base_uri": "https://localhost:8080/"
        },
        "id": "uwxwRkYp4xbF",
        "outputId": "30d33eca-018a-4562-f195-29036ba13ae1"
      },
      "source": [
        "from sklearn.linear_model import SGDClassifier\n",
        "from sklearn.svm import SVC, LinearSVC\n",
        "from sklearn.naive_bayes import GaussianNB\n",
        "from sklearn.tree import DecisionTreeClassifier\n",
        "from sklearn.ensemble import RandomForestClassifier \n",
        "\n",
        "import time \n",
        "from sklearn.metrics import accuracy_score\n",
        "\n",
        "from sklearn.model_selection import cross_val_score\n",
        "import numpy as np\n",
        "\n",
        "from sklearn.neighbors import KNeighborsClassifier\n",
        "\n",
        "# all algos list for comparision \n",
        "algos = {'SGD':SGDClassifier(), 'LinearSVC':LinearSVC(), 'SVC':SVC(), \n",
        "         'Sherlock':GaussianNB(), 'Dtree':DecisionTreeClassifier(),\n",
        "         'RFPlain': RandomForestClassifier(),#Default value is 100 as per sklearn document\n",
        "         'RF5':RandomForestClassifier(n_estimators=5),'RF200':RandomForestClassifier(n_estimators=200),\n",
        "         'KNN':KNeighborsClassifier()}\n",
        "         \n",
        "time_all = [] \n",
        "acc_all = []\n",
        "\n",
        "cvs_all = []\n",
        "\n",
        "time_error = 1.9788742065429688e-05\n",
        "\n",
        "for name,algo in algos.items():\n",
        "  print('Starting algorithm is: ' + name)\n",
        "  starttime = time.time()\n",
        "  model = algo\n",
        "  model.fit(xtrain, ytrain)\n",
        "  predictions = model.predict(xtest)\n",
        "  endtime = time.time()\n",
        "  accur = accuracy_score(predictions, ytest)\n",
        "\n",
        "  cv_score = cross_val_score(model,x, y, cv=5 )\n",
        "\n",
        "  timetaken = endtime- starttime - time_error\n",
        "  print('Time taken by '+ name +' is: ' + str(timetaken))\n",
        "  print('Accuracy of '+ name +' is: ' + str(accur))\n",
        "\n",
        "  print('CVS of '+ name +' is: ' + str(cv_score))\n",
        "\n",
        "  time_all.append(timetaken)\n",
        "  acc_all.append(accur)\n",
        "\n",
        "  cvs_all.append(np.mean(cv_score))"
      ],
      "execution_count": 16,
      "outputs": [
        {
          "output_type": "stream",
          "name": "stdout",
          "text": [
            "Starting algorithm is: SGD\n",
            "Time taken by SGD is: 0.00541377067565918\n",
            "Accuracy of SGD is: 0.9385964912280702\n",
            "CVS of SGD is: [0.85964912 0.93859649 0.9122807  0.95614035 0.90265487]\n",
            "Starting algorithm is: LinearSVC\n",
            "Time taken by LinearSVC is: 0.012260675430297852\n",
            "Accuracy of LinearSVC is: 0.9385964912280702\n",
            "CVS of LinearSVC is: [0.88596491 0.93859649 0.95614035 0.95614035 0.92920354]\n",
            "Starting algorithm is: SVC\n",
            "Time taken by SVC is: 0.010057210922241211\n",
            "Accuracy of SVC is: 0.9736842105263158\n",
            "CVS of SVC is: [0.90350877 0.93859649 0.94736842 0.96491228 0.92920354]\n",
            "Starting algorithm is: Sherlock\n",
            "Time taken by Sherlock is: 0.00603032112121582\n",
            "Accuracy of Sherlock is: 0.9385964912280702\n",
            "CVS of Sherlock is: [0.85964912 0.92105263 0.9122807  0.95614035 0.92035398]\n",
            "Starting algorithm is: Dtree\n"
          ]
        },
        {
          "output_type": "stream",
          "name": "stderr",
          "text": [
            "/usr/local/lib/python3.7/dist-packages/sklearn/svm/_base.py:1208: ConvergenceWarning: Liblinear failed to converge, increase the number of iterations.\n",
            "  ConvergenceWarning,\n",
            "/usr/local/lib/python3.7/dist-packages/sklearn/svm/_base.py:1208: ConvergenceWarning: Liblinear failed to converge, increase the number of iterations.\n",
            "  ConvergenceWarning,\n"
          ]
        },
        {
          "output_type": "stream",
          "name": "stdout",
          "text": [
            "Time taken by Dtree is: 0.006340742111206055\n",
            "Accuracy of Dtree is: 0.9385964912280702\n",
            "CVS of Dtree is: [0.90350877 0.88596491 0.90350877 0.93859649 0.9380531 ]\n",
            "Starting algorithm is: RFPlain\n",
            "Time taken by RFPlain is: 0.2081289291381836\n",
            "Accuracy of RFPlain is: 0.9473684210526315\n",
            "CVS of RFPlain is: [0.88596491 0.94736842 0.92982456 0.98245614 0.94690265]\n",
            "Starting algorithm is: RF5\n",
            "Time taken by RF5 is: 0.015197992324829102\n",
            "Accuracy of RF5 is: 0.9473684210526315\n",
            "CVS of RF5 is: [0.87719298 0.92982456 0.92982456 0.96491228 0.94690265]\n",
            "Starting algorithm is: RF200\n",
            "Time taken by RF200 is: 0.38318371772766113\n",
            "Accuracy of RF200 is: 0.9473684210526315\n",
            "CVS of RF200 is: [0.90350877 0.93859649 0.94736842 0.98245614 0.94690265]\n",
            "Starting algorithm is: KNN\n",
            "Time taken by KNN is: 0.01041722297668457\n",
            "Accuracy of KNN is: 0.9473684210526315\n",
            "CVS of KNN is: [0.92982456 0.93859649 0.93859649 0.95614035 0.92920354]\n"
          ]
        }
      ]
    },
    {
      "cell_type": "code",
      "metadata": {
        "colab": {
          "base_uri": "https://localhost:8080/"
        },
        "id": "Bdny69e9Aivn",
        "outputId": "975a4288-3616-4e4b-93b0-8a39ba6639ee"
      },
      "source": [
        "print(cvs_all)\n",
        "print(acc_all)"
      ],
      "execution_count": 17,
      "outputs": [
        {
          "output_type": "stream",
          "name": "stdout",
          "text": [
            "[0.9138643067846607, 0.9332091290172334, 0.9367179009470579, 0.9138953578636858, 0.9139264089427108, 0.9385033379909953, 0.9297314081664337, 0.943766495885732, 0.9384722869119703]\n",
            "[0.9385964912280702, 0.9385964912280702, 0.9736842105263158, 0.9385964912280702, 0.9385964912280702, 0.9473684210526315, 0.9473684210526315, 0.9473684210526315, 0.9473684210526315]\n"
          ]
        }
      ]
    },
    {
      "cell_type": "code",
      "metadata": {
        "id": "pMvav4Y8BF1Q"
      },
      "source": [
        "# Tree POV:\n",
        "\n",
        "# https://machinelearningmastery.com/gentle-introduction-to-the-bias-variance-trade-off-in-machine-learning/"
      ],
      "execution_count": null,
      "outputs": []
    },
    {
      "cell_type": "code",
      "metadata": {
        "id": "26OvW75kHXOn"
      },
      "source": [
        "Above all are Supervised algos.Supervised algo means that you know what the label is,\n",
        "# Example LABEL was Diagnosis!\""
      ],
      "execution_count": null,
      "outputs": []
    },
    {
      "cell_type": "code",
      "metadata": {
        "id": "Z-rPZl_WL5di"
      },
      "source": [
        "Unsupervised algos-> no idea what the label is, just figure out if things could be kept together \n",
        "\n",
        "Example: K-MEANS (clustering- dummy data)"
      ],
      "execution_count": null,
      "outputs": []
    }
  ]
}