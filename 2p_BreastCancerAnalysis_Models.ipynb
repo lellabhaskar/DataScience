{
  "nbformat": 4,
  "nbformat_minor": 0,
  "metadata": {
    "colab": {
      "name": "2p_BreastCancerAnalysis_Models.ipynb",
      "provenance": [],
      "authorship_tag": "ABX9TyPGjxcpbwJ6NJOsZ0PBUMi3",
      "include_colab_link": true
    },
    "kernelspec": {
      "name": "python3",
      "display_name": "Python 3"
    },
    "language_info": {
      "name": "python"
    }
  },
  "cells": [
    {
      "cell_type": "markdown",
      "metadata": {
        "id": "view-in-github",
        "colab_type": "text"
      },
      "source": [
        "<a href=\"https://colab.research.google.com/github/lellabhaskar/DataScience/blob/main/2p_BreastCancerAnalysis_Models.ipynb\" target=\"_parent\"><img src=\"https://colab.research.google.com/assets/colab-badge.svg\" alt=\"Open In Colab\"/></a>"
      ]
    },
    {
      "cell_type": "code",
      "metadata": {
        "colab": {
          "base_uri": "https://localhost:8080/"
        },
        "id": "AxgxTW_7QKJh",
        "outputId": "99ad36a4-cb8c-4c0e-cd90-920daa9513a1"
      },
      "source": [
        "!ls"
      ],
      "execution_count": 2,
      "outputs": [
        {
          "output_type": "stream",
          "name": "stdout",
          "text": [
            "data.csv  sample_data\n"
          ]
        }
      ]
    },
    {
      "cell_type": "code",
      "metadata": {
        "colab": {
          "base_uri": "https://localhost:8080/"
        },
        "id": "mLr93cYkH8-1",
        "outputId": "beb6306c-0f4c-4e49-b7e1-6e62c8f7be35"
      },
      "source": [
        "#Upload BreastCancerAnalysis DataSet\n",
        "\n",
        "import pandas as pd\n",
        "data=pd.read_csv('data.csv',header=0)\n",
        "data.head()\n",
        "data.columns\n",
        "#columns need to be display"
      ],
      "execution_count": 3,
      "outputs": [
        {
          "output_type": "execute_result",
          "data": {
            "text/plain": [
              "Index(['id', 'diagnosis', 'radius_mean', 'texture_mean', 'perimeter_mean',\n",
              "       'area_mean', 'smoothness_mean', 'compactness_mean', 'concavity_mean',\n",
              "       'concave points_mean', 'symmetry_mean', 'fractal_dimension_mean',\n",
              "       'radius_se', 'texture_se', 'perimeter_se', 'area_se', 'smoothness_se',\n",
              "       'compactness_se', 'concavity_se', 'concave points_se', 'symmetry_se',\n",
              "       'fractal_dimension_se', 'radius_worst', 'texture_worst',\n",
              "       'perimeter_worst', 'area_worst', 'smoothness_worst',\n",
              "       'compactness_worst', 'concavity_worst', 'concave points_worst',\n",
              "       'symmetry_worst', 'fractal_dimension_worst', 'Unnamed: 32'],\n",
              "      dtype='object')"
            ]
          },
          "metadata": {},
          "execution_count": 3
        }
      ]
    },
    {
      "cell_type": "code",
      "metadata": {
        "colab": {
          "base_uri": "https://localhost:8080/",
          "height": 275
        },
        "id": "Ek3sAr09SxBd",
        "outputId": "241c5a83-f60e-4d01-d0f9-236713523aa9"
      },
      "source": [
        "inputs=data.loc[:,['id','radius_mean', 'texture_mean', 'perimeter_mean',\n",
        "       'area_mean', 'smoothness_mean', 'compactness_mean', 'concavity_mean',\n",
        "       'concave points_mean', 'symmetry_mean', 'fractal_dimension_mean']]\n",
        "\n",
        "inputs=inputs.set_index('id') #inplace =True\n",
        "inputs.head()"
      ],
      "execution_count": 4,
      "outputs": [
        {
          "output_type": "execute_result",
          "data": {
            "text/html": [
              "<div>\n",
              "<style scoped>\n",
              "    .dataframe tbody tr th:only-of-type {\n",
              "        vertical-align: middle;\n",
              "    }\n",
              "\n",
              "    .dataframe tbody tr th {\n",
              "        vertical-align: top;\n",
              "    }\n",
              "\n",
              "    .dataframe thead th {\n",
              "        text-align: right;\n",
              "    }\n",
              "</style>\n",
              "<table border=\"1\" class=\"dataframe\">\n",
              "  <thead>\n",
              "    <tr style=\"text-align: right;\">\n",
              "      <th></th>\n",
              "      <th>radius_mean</th>\n",
              "      <th>texture_mean</th>\n",
              "      <th>perimeter_mean</th>\n",
              "      <th>area_mean</th>\n",
              "      <th>smoothness_mean</th>\n",
              "      <th>compactness_mean</th>\n",
              "      <th>concavity_mean</th>\n",
              "      <th>concave points_mean</th>\n",
              "      <th>symmetry_mean</th>\n",
              "      <th>fractal_dimension_mean</th>\n",
              "    </tr>\n",
              "    <tr>\n",
              "      <th>id</th>\n",
              "      <th></th>\n",
              "      <th></th>\n",
              "      <th></th>\n",
              "      <th></th>\n",
              "      <th></th>\n",
              "      <th></th>\n",
              "      <th></th>\n",
              "      <th></th>\n",
              "      <th></th>\n",
              "      <th></th>\n",
              "    </tr>\n",
              "  </thead>\n",
              "  <tbody>\n",
              "    <tr>\n",
              "      <th>842302</th>\n",
              "      <td>17.99</td>\n",
              "      <td>10.38</td>\n",
              "      <td>122.80</td>\n",
              "      <td>1001.0</td>\n",
              "      <td>0.11840</td>\n",
              "      <td>0.27760</td>\n",
              "      <td>0.3001</td>\n",
              "      <td>0.14710</td>\n",
              "      <td>0.2419</td>\n",
              "      <td>0.07871</td>\n",
              "    </tr>\n",
              "    <tr>\n",
              "      <th>842517</th>\n",
              "      <td>20.57</td>\n",
              "      <td>17.77</td>\n",
              "      <td>132.90</td>\n",
              "      <td>1326.0</td>\n",
              "      <td>0.08474</td>\n",
              "      <td>0.07864</td>\n",
              "      <td>0.0869</td>\n",
              "      <td>0.07017</td>\n",
              "      <td>0.1812</td>\n",
              "      <td>0.05667</td>\n",
              "    </tr>\n",
              "    <tr>\n",
              "      <th>84300903</th>\n",
              "      <td>19.69</td>\n",
              "      <td>21.25</td>\n",
              "      <td>130.00</td>\n",
              "      <td>1203.0</td>\n",
              "      <td>0.10960</td>\n",
              "      <td>0.15990</td>\n",
              "      <td>0.1974</td>\n",
              "      <td>0.12790</td>\n",
              "      <td>0.2069</td>\n",
              "      <td>0.05999</td>\n",
              "    </tr>\n",
              "    <tr>\n",
              "      <th>84348301</th>\n",
              "      <td>11.42</td>\n",
              "      <td>20.38</td>\n",
              "      <td>77.58</td>\n",
              "      <td>386.1</td>\n",
              "      <td>0.14250</td>\n",
              "      <td>0.28390</td>\n",
              "      <td>0.2414</td>\n",
              "      <td>0.10520</td>\n",
              "      <td>0.2597</td>\n",
              "      <td>0.09744</td>\n",
              "    </tr>\n",
              "    <tr>\n",
              "      <th>84358402</th>\n",
              "      <td>20.29</td>\n",
              "      <td>14.34</td>\n",
              "      <td>135.10</td>\n",
              "      <td>1297.0</td>\n",
              "      <td>0.10030</td>\n",
              "      <td>0.13280</td>\n",
              "      <td>0.1980</td>\n",
              "      <td>0.10430</td>\n",
              "      <td>0.1809</td>\n",
              "      <td>0.05883</td>\n",
              "    </tr>\n",
              "  </tbody>\n",
              "</table>\n",
              "</div>"
            ],
            "text/plain": [
              "          radius_mean  texture_mean  ...  symmetry_mean  fractal_dimension_mean\n",
              "id                                   ...                                       \n",
              "842302          17.99         10.38  ...         0.2419                 0.07871\n",
              "842517          20.57         17.77  ...         0.1812                 0.05667\n",
              "84300903        19.69         21.25  ...         0.2069                 0.05999\n",
              "84348301        11.42         20.38  ...         0.2597                 0.09744\n",
              "84358402        20.29         14.34  ...         0.1809                 0.05883\n",
              "\n",
              "[5 rows x 10 columns]"
            ]
          },
          "metadata": {},
          "execution_count": 4
        }
      ]
    },
    {
      "cell_type": "code",
      "metadata": {
        "colab": {
          "base_uri": "https://localhost:8080/",
          "height": 275
        },
        "id": "7br1u05ZTmIe",
        "outputId": "1683080e-b28d-4727-f37e-2f086137764a"
      },
      "source": [
        "# Z-SCORE \n",
        "stats=inputs.describe().T\n",
        "mu= stats['mean']\n",
        "sigma=stats['std']\n",
        "scaled_inputs =(inputs-mu)/sigma\n",
        "scaled_inputs.head()\n"
      ],
      "execution_count": 5,
      "outputs": [
        {
          "output_type": "execute_result",
          "data": {
            "text/html": [
              "<div>\n",
              "<style scoped>\n",
              "    .dataframe tbody tr th:only-of-type {\n",
              "        vertical-align: middle;\n",
              "    }\n",
              "\n",
              "    .dataframe tbody tr th {\n",
              "        vertical-align: top;\n",
              "    }\n",
              "\n",
              "    .dataframe thead th {\n",
              "        text-align: right;\n",
              "    }\n",
              "</style>\n",
              "<table border=\"1\" class=\"dataframe\">\n",
              "  <thead>\n",
              "    <tr style=\"text-align: right;\">\n",
              "      <th></th>\n",
              "      <th>radius_mean</th>\n",
              "      <th>texture_mean</th>\n",
              "      <th>perimeter_mean</th>\n",
              "      <th>area_mean</th>\n",
              "      <th>smoothness_mean</th>\n",
              "      <th>compactness_mean</th>\n",
              "      <th>concavity_mean</th>\n",
              "      <th>concave points_mean</th>\n",
              "      <th>symmetry_mean</th>\n",
              "      <th>fractal_dimension_mean</th>\n",
              "    </tr>\n",
              "    <tr>\n",
              "      <th>id</th>\n",
              "      <th></th>\n",
              "      <th></th>\n",
              "      <th></th>\n",
              "      <th></th>\n",
              "      <th></th>\n",
              "      <th></th>\n",
              "      <th></th>\n",
              "      <th></th>\n",
              "      <th></th>\n",
              "      <th></th>\n",
              "    </tr>\n",
              "  </thead>\n",
              "  <tbody>\n",
              "    <tr>\n",
              "      <th>842302</th>\n",
              "      <td>1.096100</td>\n",
              "      <td>-2.071512</td>\n",
              "      <td>1.268817</td>\n",
              "      <td>0.983510</td>\n",
              "      <td>1.567087</td>\n",
              "      <td>3.280628</td>\n",
              "      <td>2.650542</td>\n",
              "      <td>2.530249</td>\n",
              "      <td>2.215566</td>\n",
              "      <td>2.253764</td>\n",
              "    </tr>\n",
              "    <tr>\n",
              "      <th>842517</th>\n",
              "      <td>1.828212</td>\n",
              "      <td>-0.353322</td>\n",
              "      <td>1.684473</td>\n",
              "      <td>1.907030</td>\n",
              "      <td>-0.826235</td>\n",
              "      <td>-0.486643</td>\n",
              "      <td>-0.023825</td>\n",
              "      <td>0.547662</td>\n",
              "      <td>0.001391</td>\n",
              "      <td>-0.867889</td>\n",
              "    </tr>\n",
              "    <tr>\n",
              "      <th>84300903</th>\n",
              "      <td>1.578499</td>\n",
              "      <td>0.455786</td>\n",
              "      <td>1.565126</td>\n",
              "      <td>1.557513</td>\n",
              "      <td>0.941382</td>\n",
              "      <td>1.052000</td>\n",
              "      <td>1.362280</td>\n",
              "      <td>2.035440</td>\n",
              "      <td>0.938859</td>\n",
              "      <td>-0.397658</td>\n",
              "    </tr>\n",
              "    <tr>\n",
              "      <th>84348301</th>\n",
              "      <td>-0.768233</td>\n",
              "      <td>0.253509</td>\n",
              "      <td>-0.592166</td>\n",
              "      <td>-0.763792</td>\n",
              "      <td>3.280667</td>\n",
              "      <td>3.399917</td>\n",
              "      <td>1.914213</td>\n",
              "      <td>1.450431</td>\n",
              "      <td>2.864862</td>\n",
              "      <td>4.906602</td>\n",
              "    </tr>\n",
              "    <tr>\n",
              "      <th>84358402</th>\n",
              "      <td>1.748758</td>\n",
              "      <td>-1.150804</td>\n",
              "      <td>1.775011</td>\n",
              "      <td>1.824624</td>\n",
              "      <td>0.280125</td>\n",
              "      <td>0.538866</td>\n",
              "      <td>1.369806</td>\n",
              "      <td>1.427237</td>\n",
              "      <td>-0.009552</td>\n",
              "      <td>-0.561956</td>\n",
              "    </tr>\n",
              "  </tbody>\n",
              "</table>\n",
              "</div>"
            ],
            "text/plain": [
              "          radius_mean  texture_mean  ...  symmetry_mean  fractal_dimension_mean\n",
              "id                                   ...                                       \n",
              "842302       1.096100     -2.071512  ...       2.215566                2.253764\n",
              "842517       1.828212     -0.353322  ...       0.001391               -0.867889\n",
              "84300903     1.578499      0.455786  ...       0.938859               -0.397658\n",
              "84348301    -0.768233      0.253509  ...       2.864862                4.906602\n",
              "84358402     1.748758     -1.150804  ...      -0.009552               -0.561956\n",
              "\n",
              "[5 rows x 10 columns]"
            ]
          },
          "metadata": {},
          "execution_count": 5
        }
      ]
    },
    {
      "cell_type": "code",
      "metadata": {
        "id": "t4FgJVTNOMwy"
      },
      "source": [
        "scaled_inputs.to_csv('scaled_data.csv')"
      ],
      "execution_count": 6,
      "outputs": []
    },
    {
      "cell_type": "code",
      "metadata": {
        "colab": {
          "base_uri": "https://localhost:8080/"
        },
        "id": "AWiwSd1DOLzT",
        "outputId": "a07005f6-2e9a-4610-dcc8-17688951e85f"
      },
      "source": [
        "diagnosis =data.loc[:,'diagnosis']\n",
        "diagnosis "
      ],
      "execution_count": 7,
      "outputs": [
        {
          "output_type": "execute_result",
          "data": {
            "text/plain": [
              "0      M\n",
              "1      M\n",
              "2      M\n",
              "3      M\n",
              "4      M\n",
              "      ..\n",
              "564    M\n",
              "565    M\n",
              "566    M\n",
              "567    M\n",
              "568    B\n",
              "Name: diagnosis, Length: 569, dtype: object"
            ]
          },
          "metadata": {},
          "execution_count": 7
        }
      ]
    },
    {
      "cell_type": "code",
      "metadata": {
        "colab": {
          "base_uri": "https://localhost:8080/"
        },
        "id": "8_0gbEVXLBhp",
        "outputId": "f38460fb-8f30-49bc-f408-e4a9fe296950"
      },
      "source": [
        "\n",
        "# use logic to convert M and B to 1 and 0 using Labda\n",
        "\n",
        "encoding_logic_number = lambda value: 1 if value=='M' else 0\n",
        "y = diagnosis.map(encoding_logic_number)\n",
        "print(y)\n",
        "x=scaled_inputs\n",
        "print(x)"
      ],
      "execution_count": 8,
      "outputs": [
        {
          "output_type": "stream",
          "name": "stdout",
          "text": [
            "0      1\n",
            "1      1\n",
            "2      1\n",
            "3      1\n",
            "4      1\n",
            "      ..\n",
            "564    1\n",
            "565    1\n",
            "566    1\n",
            "567    1\n",
            "568    0\n",
            "Name: diagnosis, Length: 569, dtype: int64\n",
            "          radius_mean  texture_mean  ...  symmetry_mean  fractal_dimension_mean\n",
            "id                                   ...                                       \n",
            "842302       1.096100     -2.071512  ...       2.215566                2.253764\n",
            "842517       1.828212     -0.353322  ...       0.001391               -0.867889\n",
            "84300903     1.578499      0.455786  ...       0.938859               -0.397658\n",
            "84348301    -0.768233      0.253509  ...       2.864862                4.906602\n",
            "84358402     1.748758     -1.150804  ...      -0.009552               -0.561956\n",
            "...               ...           ...  ...            ...                     ...\n",
            "926424       2.109139      0.720838  ...      -0.312314               -0.930209\n",
            "926682       1.703356      2.083301  ...      -0.217473               -1.057681\n",
            "926954       0.701667      2.043775  ...      -0.808406               -0.894800\n",
            "927241       1.836725      2.334403  ...       2.135315                1.042778\n",
            "92751       -1.806811      1.220718  ...      -0.819349               -0.560539\n",
            "\n",
            "[569 rows x 10 columns]\n"
          ]
        }
      ]
    },
    {
      "cell_type": "code",
      "metadata": {
        "colab": {
          "base_uri": "https://localhost:8080/"
        },
        "id": "NLaXVb-4Ow5K",
        "outputId": "42e6798c-d435-4b81-9816-0672e36f7ce8"
      },
      "source": [
        "from sklearn.model_selection import train_test_split\n",
        "xtrain,xtest,ytrain,ytest=train_test_split(x,y,test_size=0.2,random_state=42)\n",
        "\n",
        "\n",
        "print(len(xtrain))\n",
        "print(len(xtest))   # This should be 20% of len(input)\n",
        "print(len(ytrain))\n",
        "print(len(ytest))"
      ],
      "execution_count": 9,
      "outputs": [
        {
          "output_type": "stream",
          "name": "stdout",
          "text": [
            "455\n",
            "114\n",
            "455\n",
            "114\n"
          ]
        }
      ]
    },
    {
      "cell_type": "code",
      "metadata": {
        "id": "-0CYfGJlTnUr",
        "colab": {
          "base_uri": "https://localhost:8080/",
          "height": 275
        },
        "outputId": "57bb5c76-b040-4ddc-b08f-2d0a47ad656d"
      },
      "source": [
        "xtrain.head()"
      ],
      "execution_count": 10,
      "outputs": [
        {
          "output_type": "execute_result",
          "data": {
            "text/html": [
              "<div>\n",
              "<style scoped>\n",
              "    .dataframe tbody tr th:only-of-type {\n",
              "        vertical-align: middle;\n",
              "    }\n",
              "\n",
              "    .dataframe tbody tr th {\n",
              "        vertical-align: top;\n",
              "    }\n",
              "\n",
              "    .dataframe thead th {\n",
              "        text-align: right;\n",
              "    }\n",
              "</style>\n",
              "<table border=\"1\" class=\"dataframe\">\n",
              "  <thead>\n",
              "    <tr style=\"text-align: right;\">\n",
              "      <th></th>\n",
              "      <th>radius_mean</th>\n",
              "      <th>texture_mean</th>\n",
              "      <th>perimeter_mean</th>\n",
              "      <th>area_mean</th>\n",
              "      <th>smoothness_mean</th>\n",
              "      <th>compactness_mean</th>\n",
              "      <th>concavity_mean</th>\n",
              "      <th>concave points_mean</th>\n",
              "      <th>symmetry_mean</th>\n",
              "      <th>fractal_dimension_mean</th>\n",
              "    </tr>\n",
              "    <tr>\n",
              "      <th>id</th>\n",
              "      <th></th>\n",
              "      <th></th>\n",
              "      <th></th>\n",
              "      <th></th>\n",
              "      <th></th>\n",
              "      <th></th>\n",
              "      <th></th>\n",
              "      <th></th>\n",
              "      <th></th>\n",
              "      <th></th>\n",
              "    </tr>\n",
              "  </thead>\n",
              "  <tbody>\n",
              "    <tr>\n",
              "      <th>859471</th>\n",
              "      <td>-1.446714</td>\n",
              "      <td>-0.455622</td>\n",
              "      <td>-1.365450</td>\n",
              "      <td>-1.149113</td>\n",
              "      <td>0.728073</td>\n",
              "      <td>0.699812</td>\n",
              "      <td>2.812359</td>\n",
              "      <td>-0.133216</td>\n",
              "      <td>1.092064</td>\n",
              "      <td>2.501626</td>\n",
              "    </tr>\n",
              "    <tr>\n",
              "      <th>873593</th>\n",
              "      <td>1.975770</td>\n",
              "      <td>1.692697</td>\n",
              "      <td>2.087782</td>\n",
              "      <td>1.864406</td>\n",
              "      <td>1.261345</td>\n",
              "      <td>3.386663</td>\n",
              "      <td>2.005784</td>\n",
              "      <td>2.594677</td>\n",
              "      <td>2.128020</td>\n",
              "      <td>1.583827</td>\n",
              "    </tr>\n",
              "    <tr>\n",
              "      <th>859196</th>\n",
              "      <td>-1.405852</td>\n",
              "      <td>-1.262405</td>\n",
              "      <td>-1.348576</td>\n",
              "      <td>-1.119560</td>\n",
              "      <td>-1.361640</td>\n",
              "      <td>-0.318692</td>\n",
              "      <td>-0.362762</td>\n",
              "      <td>-0.698896</td>\n",
              "      <td>1.931042</td>\n",
              "      <td>0.967711</td>\n",
              "    </tr>\n",
              "    <tr>\n",
              "      <th>88466802</th>\n",
              "      <td>-0.986732</td>\n",
              "      <td>1.378819</td>\n",
              "      <td>-0.986010</td>\n",
              "      <td>-0.874898</td>\n",
              "      <td>0.014912</td>\n",
              "      <td>-0.605933</td>\n",
              "      <td>-0.815473</td>\n",
              "      <td>-0.844504</td>\n",
              "      <td>0.311449</td>\n",
              "      <td>0.069740</td>\n",
              "    </tr>\n",
              "    <tr>\n",
              "      <th>858970</th>\n",
              "      <td>-1.122939</td>\n",
              "      <td>-1.025253</td>\n",
              "      <td>-1.128403</td>\n",
              "      <td>-0.974639</td>\n",
              "      <td>1.211573</td>\n",
              "      <td>-0.449342</td>\n",
              "      <td>-0.977916</td>\n",
              "      <td>-0.928260</td>\n",
              "      <td>3.397431</td>\n",
              "      <td>0.963462</td>\n",
              "    </tr>\n",
              "  </tbody>\n",
              "</table>\n",
              "</div>"
            ],
            "text/plain": [
              "          radius_mean  texture_mean  ...  symmetry_mean  fractal_dimension_mean\n",
              "id                                   ...                                       \n",
              "859471      -1.446714     -0.455622  ...       1.092064                2.501626\n",
              "873593       1.975770      1.692697  ...       2.128020                1.583827\n",
              "859196      -1.405852     -1.262405  ...       1.931042                0.967711\n",
              "88466802    -0.986732      1.378819  ...       0.311449                0.069740\n",
              "858970      -1.122939     -1.025253  ...       3.397431                0.963462\n",
              "\n",
              "[5 rows x 10 columns]"
            ]
          },
          "metadata": {},
          "execution_count": 10
        }
      ]
    },
    {
      "cell_type": "code",
      "metadata": {
        "id": "Z8hBhCy4okDL",
        "colab": {
          "base_uri": "https://localhost:8080/"
        },
        "outputId": "5638f1a0-0ee2-493f-8a7d-59f62bb03e08"
      },
      "source": [
        "# Let's apply our first 1 algorithm for comparison-> Stochastic Gradient Descent\n",
        "from sklearn.linear_model import SGDClassifier\n",
        "import time\n",
        "from sklearn.metrics import accuracy_score\n",
        "\n",
        "time_all = [] # we don't want a SLOW algorithms\n",
        "acc_all = [] # we want correct number of guesses\n",
        "time_error = 1.9788742065429688e-05\n",
        "\n",
        "starttime = time.time()\n",
        "\n",
        "model = SGDClassifier()\n",
        "# First step is TRAINING-> Provide it all training input and output \n",
        "model.fit(xtrain, ytrain)\n",
        "# Second is SCORING/TESTING -> Provide it all testing input but not output\n",
        "# we are expecting the model to give us predictions for comparison\n",
        "predictions = model.predict(xtest)\n",
        "\n",
        "endtime = time.time()\n",
        "\n",
        "# Third step is EVALUATE the model -> Compare the predictions to answer that you already know!\n",
        "accr = accuracy_score(predictions, ytest)\n",
        "\n",
        "timetaken  = endtime - starttime - time_error\n",
        "print('Time taken by Stochastic Gradient Descent is: ' + str(timetaken))\n",
        "print('Accuracy of Stochastic Gradient Descent is: ' + str(accr))\n",
        "\n"
      ],
      "execution_count": 11,
      "outputs": [
        {
          "output_type": "stream",
          "name": "stdout",
          "text": [
            "Time taken by Stochastic Gradient Descent is: 0.006067037582397461\n",
            "Accuracy of Stochastic Gradient Descent is: 0.9298245614035088\n"
          ]
        }
      ]
    },
    {
      "cell_type": "code",
      "metadata": {
        "id": "T2g5po7lef2A"
      },
      "source": [
        "# Probabilistic algorithms -> works on probability and will give you a different output every time--> SGD, DT, RF\n",
        "# Empirical algorithms -> will give you Same output everytime because they are dependent on Graphs-->Lin reg, SVMs\n",
        "# Graph cannot be changed because same points will always lead to the same boundary"
      ],
      "execution_count": null,
      "outputs": []
    },
    {
      "cell_type": "code",
      "metadata": {
        "colab": {
          "base_uri": "https://localhost:8080/"
        },
        "id": "iCbFe7q2gDWF",
        "outputId": "afe34b07-e50b-47d7-c452-e5f42c7f5aaa"
      },
      "source": [
        "predictions"
      ],
      "execution_count": 12,
      "outputs": [
        {
          "output_type": "execute_result",
          "data": {
            "text/plain": [
              "array([0, 1, 1, 0, 0, 1, 1, 1, 0, 0, 0, 1, 0, 1, 0, 1, 0, 0, 0, 1, 0, 0,\n",
              "       1, 0, 0, 1, 0, 0, 0, 1, 0, 0, 0, 0, 0, 0, 1, 0, 1, 1, 0, 1, 0, 0,\n",
              "       1, 0, 0, 0, 0, 0, 1, 1, 0, 1, 0, 0, 0, 1, 0, 0, 0, 1, 1, 0, 0, 0,\n",
              "       1, 1, 0, 0, 1, 1, 0, 1, 0, 0, 0, 0, 0, 0, 1, 0, 1, 1, 1, 1, 1, 1,\n",
              "       0, 0, 0, 0, 0, 0, 0, 0, 1, 1, 0, 1, 1, 0, 1, 1, 0, 0, 0, 1, 0, 0,\n",
              "       1, 0, 1, 1])"
            ]
          },
          "metadata": {},
          "execution_count": 12
        }
      ]
    },
    {
      "cell_type": "code",
      "metadata": {
        "colab": {
          "base_uri": "https://localhost:8080/"
        },
        "id": "eckWr-S7hcAH",
        "outputId": "f817fb73-3dc0-4a40-997d-af7195761b8d"
      },
      "source": [
        "ytest.to_numpy()"
      ],
      "execution_count": 13,
      "outputs": [
        {
          "output_type": "execute_result",
          "data": {
            "text/plain": [
              "array([0, 1, 1, 0, 0, 1, 1, 1, 0, 0, 0, 1, 0, 1, 0, 1, 0, 0, 0, 1, 1, 0,\n",
              "       1, 0, 0, 0, 0, 0, 0, 1, 0, 0, 0, 0, 0, 0, 1, 0, 1, 0, 0, 1, 0, 0,\n",
              "       0, 0, 0, 0, 0, 0, 1, 1, 0, 0, 0, 0, 0, 1, 1, 0, 0, 1, 1, 0, 0, 0,\n",
              "       1, 1, 0, 0, 1, 1, 0, 1, 0, 0, 0, 1, 0, 0, 1, 0, 1, 1, 1, 1, 1, 1,\n",
              "       0, 0, 0, 0, 0, 0, 0, 0, 1, 1, 0, 1, 1, 0, 1, 1, 0, 0, 0, 1, 0, 0,\n",
              "       1, 0, 0, 1])"
            ]
          },
          "metadata": {},
          "execution_count": 13
        }
      ]
    },
    {
      "cell_type": "code",
      "metadata": {
        "colab": {
          "base_uri": "https://localhost:8080/"
        },
        "id": "jq9fG_Tvh_jP",
        "outputId": "05724133-c6f6-46d7-9dd0-b6ec8e2f8b23"
      },
      "source": [
        "# Training and Testing Data\n",
        "from sklearn.model_selection import train_test_split\n",
        "xtrain,xtest,ytrain,ytest=train_test_split(x,y,test_size=0.2,random_state=42)\n",
        "\n",
        "# 3 algorithms for comparison-> SGD,SVC,LinearSVC\n",
        "from sklearn.linear_model import SGDClassifier # gradient descent\n",
        "from sklearn.svm import SVC, LinearSVC # graph\n",
        "\n",
        "import time \n",
        "from sklearn.metrics import accuracy_score\n",
        "\n",
        "# all algos list for comparision \n",
        "algos = {'SGD':SGDClassifier(), 'LinearSVC':LinearSVC(), 'SVC':SVC()}\n",
        "time_all = [] \n",
        "acc_all = []\n",
        "\n",
        "time_error = 1.9788742065429688e-05\n",
        "\n",
        "for name,algo in algos.items():\n",
        "  print('Starting algorithm is: ' + name)\n",
        "  starttime = time.time()\n",
        "  model = algo\n",
        "  model.fit(xtrain, ytrain)\n",
        "  predictions = model.predict(xtest)\n",
        "  endtime = time.time()\n",
        "  accur = accuracy_score(predictions, ytest)\n",
        "  timetaken = endtime- starttime - time_error\n",
        "  print('Time taken by '+ name +' is: ' + str(timetaken))\n",
        "  print('Accuracy of '+ name +' is: ' + str(accur))\n",
        "  time_all.append(timetaken)\n",
        "  acc_all.append(accur)"
      ],
      "execution_count": 14,
      "outputs": [
        {
          "output_type": "stream",
          "name": "stdout",
          "text": [
            "Starting algorithm is: SGD\n",
            "Time taken by SGD is: 0.005570888519287109\n",
            "Accuracy of SGD is: 0.9298245614035088\n",
            "Starting algorithm is: LinearSVC\n",
            "Time taken by LinearSVC is: 0.01498866081237793\n",
            "Accuracy of LinearSVC is: 0.9385964912280702\n",
            "Starting algorithm is: SVC\n",
            "Time taken by SVC is: 0.013245105743408203\n",
            "Accuracy of SVC is: 0.9736842105263158\n"
          ]
        }
      ]
    },
    {
      "cell_type": "code",
      "metadata": {
        "colab": {
          "base_uri": "https://localhost:8080/"
        },
        "id": "C9HvgUe6_8_6",
        "outputId": "120984f6-43ce-451a-a9b0-d4df79eed005"
      },
      "source": [
        "\n",
        "# added more algorithms for comparisons\n",
        "from sklearn.linear_model import SGDClassifier # gradient descent\n",
        "from sklearn.svm import SVC, LinearSVC # graph\n",
        "from sklearn.naive_bayes import GaussianNB # probability\n",
        "from sklearn.tree import DecisionTreeClassifier # TREE based \n",
        "from sklearn.ensemble import RandomForestClassifier \n",
        "\n",
        "import time \n",
        "from sklearn.metrics import accuracy_score\n",
        "\n",
        "# all algos list for comparision \n",
        "algos = {'SGD':SGDClassifier(), 'LinearSVC':LinearSVC(), 'SVC':SVC(), \n",
        "         'Sherlock':GaussianNB(), 'Dtree':DecisionTreeClassifier(),\n",
        "         'RFPlain': RandomForestClassifier(),#Default value is 100 as per sklearn document\n",
        "         'RF5':RandomForestClassifier(n_estimators=5),'RF200':RandomForestClassifier(n_estimators=200)}\n",
        "time_all = [] \n",
        "acc_all = []\n",
        "\n",
        "time_error = 1.9788742065429688e-05\n",
        "\n",
        "for name,algo in algos.items():\n",
        "  print('Starting algorithm is: ' + name)\n",
        "  starttime = time.time()\n",
        "  model = algo\n",
        "  model.fit(xtrain, ytrain)\n",
        "  predictions = model.predict(xtest)\n",
        "  endtime = time.time()\n",
        "  accur = accuracy_score(predictions, ytest)\n",
        "  timetaken = endtime- starttime - time_error\n",
        "  print('Time taken by '+ name +' is: ' + str(timetaken))\n",
        "  print('Accuracy of '+ name +' is: ' + str(accur))\n",
        "  time_all.append(timetaken)\n",
        "  acc_all.append(accur)"
      ],
      "execution_count": 15,
      "outputs": [
        {
          "output_type": "stream",
          "name": "stdout",
          "text": [
            "Starting algorithm is: SGD\n",
            "Time taken by SGD is: 0.006301164627075195\n",
            "Accuracy of SGD is: 0.9210526315789473\n",
            "Starting algorithm is: LinearSVC\n",
            "Time taken by LinearSVC is: 0.01392221450805664\n",
            "Accuracy of LinearSVC is: 0.9385964912280702\n",
            "Starting algorithm is: SVC\n",
            "Time taken by SVC is: 0.00830698013305664\n",
            "Accuracy of SVC is: 0.9736842105263158\n",
            "Starting algorithm is: Sherlock\n",
            "Time taken by Sherlock is: 0.004071235656738281\n",
            "Accuracy of Sherlock is: 0.9385964912280702\n",
            "Starting algorithm is: Dtree\n",
            "Time taken by Dtree is: 0.005839109420776367\n",
            "Accuracy of Dtree is: 0.9122807017543859\n",
            "Starting algorithm is: RFPlain\n"
          ]
        },
        {
          "output_type": "stream",
          "name": "stderr",
          "text": [
            "/usr/local/lib/python3.7/dist-packages/sklearn/svm/_base.py:1208: ConvergenceWarning: Liblinear failed to converge, increase the number of iterations.\n",
            "  ConvergenceWarning,\n"
          ]
        },
        {
          "output_type": "stream",
          "name": "stdout",
          "text": [
            "Time taken by RFPlain is: 0.19999122619628906\n",
            "Accuracy of RFPlain is: 0.9473684210526315\n",
            "Starting algorithm is: RF5\n",
            "Time taken by RF5 is: 0.014972925186157227\n",
            "Accuracy of RF5 is: 0.9473684210526315\n",
            "Starting algorithm is: RF200\n",
            "Time taken by RF200 is: 0.3940162658691406\n",
            "Accuracy of RF200 is: 0.9473684210526315\n"
          ]
        }
      ]
    },
    {
      "cell_type": "code",
      "metadata": {
        "id": "kYXX76eeCinX"
      },
      "source": [
        ""
      ],
      "execution_count": null,
      "outputs": []
    }
  ]
}