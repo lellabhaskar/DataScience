{
  "nbformat": 4,
  "nbformat_minor": 0,
  "metadata": {
    "colab": {
      "name": "6p_NLP_NLTK.ipynb",
      "provenance": [],
      "collapsed_sections": [],
      "authorship_tag": "ABX9TyPD3X2nXGGxAbr0MMqyRmKv",
      "include_colab_link": true
    },
    "kernelspec": {
      "name": "python3",
      "display_name": "Python 3"
    }
  },
  "cells": [
    {
      "cell_type": "markdown",
      "metadata": {
        "id": "view-in-github",
        "colab_type": "text"
      },
      "source": [
        "<a href=\"https://colab.research.google.com/github/lellabhaskar/DataScience/blob/main/6p_NLP_NLTK.ipynb\" target=\"_parent\"><img src=\"https://colab.research.google.com/assets/colab-badge.svg\" alt=\"Open In Colab\"/></a>"
      ]
    },
    {
      "cell_type": "code",
      "source": [
        "# NLTK stands for Natural Language Toolkit "
      ],
      "metadata": {
        "id": "yDRwHYw5F-f8"
      },
      "execution_count": null,
      "outputs": []
    },
    {
      "cell_type": "code",
      "source": [
        "# upload for text.txt"
      ],
      "metadata": {
        "id": "eAJ99thvGKCm"
      },
      "execution_count": null,
      "outputs": []
    },
    {
      "cell_type": "code",
      "source": [
        "import nltk\n",
        "fl = open('text.txt','rt')\n",
        "data = fl.read()"
      ],
      "metadata": {
        "id": "CJN1J4DaGRXX"
      },
      "execution_count": 2,
      "outputs": []
    },
    {
      "cell_type": "code",
      "source": [
        "from nltk.tokenize import sent_tokenize\n",
        "sent_tokenize(data)"
      ],
      "metadata": {
        "colab": {
          "base_uri": "https://localhost:8080/",
          "height": 623
        },
        "id": "z6KUr5KcGgtp",
        "outputId": "b9e4eebd-b7e2-4abf-8e0e-f3cefc30f261"
      },
      "execution_count": 3,
      "outputs": [
        {
          "output_type": "error",
          "ename": "LookupError",
          "evalue": "ignored",
          "traceback": [
            "\u001b[0;31m---------------------------------------------------------------------------\u001b[0m",
            "\u001b[0;31mLookupError\u001b[0m                               Traceback (most recent call last)",
            "\u001b[0;32m<ipython-input-3-a67d62921290>\u001b[0m in \u001b[0;36m<module>\u001b[0;34m()\u001b[0m\n\u001b[1;32m      1\u001b[0m \u001b[0;32mfrom\u001b[0m \u001b[0mnltk\u001b[0m\u001b[0;34m.\u001b[0m\u001b[0mtokenize\u001b[0m \u001b[0;32mimport\u001b[0m \u001b[0msent_tokenize\u001b[0m\u001b[0;34m\u001b[0m\u001b[0;34m\u001b[0m\u001b[0m\n\u001b[0;32m----> 2\u001b[0;31m \u001b[0msent_tokenize\u001b[0m\u001b[0;34m(\u001b[0m\u001b[0mdata\u001b[0m\u001b[0;34m)\u001b[0m\u001b[0;34m\u001b[0m\u001b[0;34m\u001b[0m\u001b[0m\n\u001b[0m",
            "\u001b[0;32m/usr/local/lib/python3.7/dist-packages/nltk/tokenize/__init__.py\u001b[0m in \u001b[0;36msent_tokenize\u001b[0;34m(text, language)\u001b[0m\n\u001b[1;32m     92\u001b[0m     \u001b[0;34m:\u001b[0m\u001b[0mparam\u001b[0m \u001b[0mlanguage\u001b[0m\u001b[0;34m:\u001b[0m \u001b[0mthe\u001b[0m \u001b[0mmodel\u001b[0m \u001b[0mname\u001b[0m \u001b[0;32min\u001b[0m \u001b[0mthe\u001b[0m \u001b[0mPunkt\u001b[0m \u001b[0mcorpus\u001b[0m\u001b[0;34m\u001b[0m\u001b[0;34m\u001b[0m\u001b[0m\n\u001b[1;32m     93\u001b[0m     \"\"\"\n\u001b[0;32m---> 94\u001b[0;31m     \u001b[0mtokenizer\u001b[0m \u001b[0;34m=\u001b[0m \u001b[0mload\u001b[0m\u001b[0;34m(\u001b[0m\u001b[0;34m'tokenizers/punkt/{0}.pickle'\u001b[0m\u001b[0;34m.\u001b[0m\u001b[0mformat\u001b[0m\u001b[0;34m(\u001b[0m\u001b[0mlanguage\u001b[0m\u001b[0;34m)\u001b[0m\u001b[0;34m)\u001b[0m\u001b[0;34m\u001b[0m\u001b[0;34m\u001b[0m\u001b[0m\n\u001b[0m\u001b[1;32m     95\u001b[0m     \u001b[0;32mreturn\u001b[0m \u001b[0mtokenizer\u001b[0m\u001b[0;34m.\u001b[0m\u001b[0mtokenize\u001b[0m\u001b[0;34m(\u001b[0m\u001b[0mtext\u001b[0m\u001b[0;34m)\u001b[0m\u001b[0;34m\u001b[0m\u001b[0;34m\u001b[0m\u001b[0m\n\u001b[1;32m     96\u001b[0m \u001b[0;34m\u001b[0m\u001b[0m\n",
            "\u001b[0;32m/usr/local/lib/python3.7/dist-packages/nltk/data.py\u001b[0m in \u001b[0;36mload\u001b[0;34m(resource_url, format, cache, verbose, logic_parser, fstruct_reader, encoding)\u001b[0m\n\u001b[1;32m    832\u001b[0m \u001b[0;34m\u001b[0m\u001b[0m\n\u001b[1;32m    833\u001b[0m     \u001b[0;31m# Load the resource.\u001b[0m\u001b[0;34m\u001b[0m\u001b[0;34m\u001b[0m\u001b[0;34m\u001b[0m\u001b[0m\n\u001b[0;32m--> 834\u001b[0;31m     \u001b[0mopened_resource\u001b[0m \u001b[0;34m=\u001b[0m \u001b[0m_open\u001b[0m\u001b[0;34m(\u001b[0m\u001b[0mresource_url\u001b[0m\u001b[0;34m)\u001b[0m\u001b[0;34m\u001b[0m\u001b[0;34m\u001b[0m\u001b[0m\n\u001b[0m\u001b[1;32m    835\u001b[0m \u001b[0;34m\u001b[0m\u001b[0m\n\u001b[1;32m    836\u001b[0m     \u001b[0;32mif\u001b[0m \u001b[0mformat\u001b[0m \u001b[0;34m==\u001b[0m \u001b[0;34m'raw'\u001b[0m\u001b[0;34m:\u001b[0m\u001b[0;34m\u001b[0m\u001b[0;34m\u001b[0m\u001b[0m\n",
            "\u001b[0;32m/usr/local/lib/python3.7/dist-packages/nltk/data.py\u001b[0m in \u001b[0;36m_open\u001b[0;34m(resource_url)\u001b[0m\n\u001b[1;32m    950\u001b[0m \u001b[0;34m\u001b[0m\u001b[0m\n\u001b[1;32m    951\u001b[0m     \u001b[0;32mif\u001b[0m \u001b[0mprotocol\u001b[0m \u001b[0;32mis\u001b[0m \u001b[0;32mNone\u001b[0m \u001b[0;32mor\u001b[0m \u001b[0mprotocol\u001b[0m\u001b[0;34m.\u001b[0m\u001b[0mlower\u001b[0m\u001b[0;34m(\u001b[0m\u001b[0;34m)\u001b[0m \u001b[0;34m==\u001b[0m \u001b[0;34m'nltk'\u001b[0m\u001b[0;34m:\u001b[0m\u001b[0;34m\u001b[0m\u001b[0;34m\u001b[0m\u001b[0m\n\u001b[0;32m--> 952\u001b[0;31m         \u001b[0;32mreturn\u001b[0m \u001b[0mfind\u001b[0m\u001b[0;34m(\u001b[0m\u001b[0mpath_\u001b[0m\u001b[0;34m,\u001b[0m \u001b[0mpath\u001b[0m \u001b[0;34m+\u001b[0m \u001b[0;34m[\u001b[0m\u001b[0;34m''\u001b[0m\u001b[0;34m]\u001b[0m\u001b[0;34m)\u001b[0m\u001b[0;34m.\u001b[0m\u001b[0mopen\u001b[0m\u001b[0;34m(\u001b[0m\u001b[0;34m)\u001b[0m\u001b[0;34m\u001b[0m\u001b[0;34m\u001b[0m\u001b[0m\n\u001b[0m\u001b[1;32m    953\u001b[0m     \u001b[0;32melif\u001b[0m \u001b[0mprotocol\u001b[0m\u001b[0;34m.\u001b[0m\u001b[0mlower\u001b[0m\u001b[0;34m(\u001b[0m\u001b[0;34m)\u001b[0m \u001b[0;34m==\u001b[0m \u001b[0;34m'file'\u001b[0m\u001b[0;34m:\u001b[0m\u001b[0;34m\u001b[0m\u001b[0;34m\u001b[0m\u001b[0m\n\u001b[1;32m    954\u001b[0m         \u001b[0;31m# urllib might not use mode='rb', so handle this one ourselves:\u001b[0m\u001b[0;34m\u001b[0m\u001b[0;34m\u001b[0m\u001b[0;34m\u001b[0m\u001b[0m\n",
            "\u001b[0;32m/usr/local/lib/python3.7/dist-packages/nltk/data.py\u001b[0m in \u001b[0;36mfind\u001b[0;34m(resource_name, paths)\u001b[0m\n\u001b[1;32m    671\u001b[0m     \u001b[0msep\u001b[0m \u001b[0;34m=\u001b[0m \u001b[0;34m'*'\u001b[0m \u001b[0;34m*\u001b[0m \u001b[0;36m70\u001b[0m\u001b[0;34m\u001b[0m\u001b[0;34m\u001b[0m\u001b[0m\n\u001b[1;32m    672\u001b[0m     \u001b[0mresource_not_found\u001b[0m \u001b[0;34m=\u001b[0m \u001b[0;34m'\\n%s\\n%s\\n%s\\n'\u001b[0m \u001b[0;34m%\u001b[0m \u001b[0;34m(\u001b[0m\u001b[0msep\u001b[0m\u001b[0;34m,\u001b[0m \u001b[0mmsg\u001b[0m\u001b[0;34m,\u001b[0m \u001b[0msep\u001b[0m\u001b[0;34m)\u001b[0m\u001b[0;34m\u001b[0m\u001b[0;34m\u001b[0m\u001b[0m\n\u001b[0;32m--> 673\u001b[0;31m     \u001b[0;32mraise\u001b[0m \u001b[0mLookupError\u001b[0m\u001b[0;34m(\u001b[0m\u001b[0mresource_not_found\u001b[0m\u001b[0;34m)\u001b[0m\u001b[0;34m\u001b[0m\u001b[0;34m\u001b[0m\u001b[0m\n\u001b[0m\u001b[1;32m    674\u001b[0m \u001b[0;34m\u001b[0m\u001b[0m\n\u001b[1;32m    675\u001b[0m \u001b[0;34m\u001b[0m\u001b[0m\n",
            "\u001b[0;31mLookupError\u001b[0m: \n**********************************************************************\n  Resource \u001b[93mpunkt\u001b[0m not found.\n  Please use the NLTK Downloader to obtain the resource:\n\n  \u001b[31m>>> import nltk\n  >>> nltk.download('punkt')\n  \u001b[0m\n  Searched in:\n    - '/root/nltk_data'\n    - '/usr/share/nltk_data'\n    - '/usr/local/share/nltk_data'\n    - '/usr/lib/nltk_data'\n    - '/usr/local/lib/nltk_data'\n    - '/usr/nltk_data'\n    - '/usr/lib/nltk_data'\n    - ''\n**********************************************************************\n"
          ]
        }
      ]
    },
    {
      "cell_type": "code",
      "source": [
        "import nltk\n",
        "nltk.download()\n",
        "  "
      ],
      "metadata": {
        "colab": {
          "base_uri": "https://localhost:8080/",
          "height": 693
        },
        "id": "rdTbpRviG4Hi",
        "outputId": "58609396-ad97-4aee-87b9-3c0514b57b57"
      },
      "execution_count": 4,
      "outputs": [
        {
          "output_type": "stream",
          "name": "stdout",
          "text": [
            "NLTK Downloader\n",
            "---------------------------------------------------------------------------\n",
            "    d) Download   l) List    u) Update   c) Config   h) Help   q) Quit\n",
            "---------------------------------------------------------------------------\n"
          ]
        },
        {
          "output_type": "error",
          "ename": "KeyboardInterrupt",
          "evalue": "ignored",
          "traceback": [
            "\u001b[0;31m---------------------------------------------------------------------------\u001b[0m",
            "\u001b[0;31mTclError\u001b[0m                                  Traceback (most recent call last)",
            "\u001b[0;32m/usr/local/lib/python3.7/dist-packages/nltk/downloader.py\u001b[0m in \u001b[0;36m_interactive_download\u001b[0;34m(self)\u001b[0m\n\u001b[1;32m    981\u001b[0m             \u001b[0;32mtry\u001b[0m\u001b[0;34m:\u001b[0m\u001b[0;34m\u001b[0m\u001b[0;34m\u001b[0m\u001b[0m\n\u001b[0;32m--> 982\u001b[0;31m                 \u001b[0mDownloaderGUI\u001b[0m\u001b[0;34m(\u001b[0m\u001b[0mself\u001b[0m\u001b[0;34m)\u001b[0m\u001b[0;34m.\u001b[0m\u001b[0mmainloop\u001b[0m\u001b[0;34m(\u001b[0m\u001b[0;34m)\u001b[0m\u001b[0;34m\u001b[0m\u001b[0;34m\u001b[0m\u001b[0m\n\u001b[0m\u001b[1;32m    983\u001b[0m             \u001b[0;32mexcept\u001b[0m \u001b[0mTclError\u001b[0m\u001b[0;34m:\u001b[0m\u001b[0;34m\u001b[0m\u001b[0;34m\u001b[0m\u001b[0m\n",
            "\u001b[0;32m/usr/local/lib/python3.7/dist-packages/nltk/downloader.py\u001b[0m in \u001b[0;36m__init__\u001b[0;34m(self, dataserver, use_threads)\u001b[0m\n\u001b[1;32m   1225\u001b[0m         \u001b[0;31m# Create the main window.\u001b[0m\u001b[0;34m\u001b[0m\u001b[0;34m\u001b[0m\u001b[0;34m\u001b[0m\u001b[0m\n\u001b[0;32m-> 1226\u001b[0;31m         \u001b[0mtop\u001b[0m \u001b[0;34m=\u001b[0m \u001b[0mself\u001b[0m\u001b[0;34m.\u001b[0m\u001b[0mtop\u001b[0m \u001b[0;34m=\u001b[0m \u001b[0mTk\u001b[0m\u001b[0;34m(\u001b[0m\u001b[0;34m)\u001b[0m\u001b[0;34m\u001b[0m\u001b[0;34m\u001b[0m\u001b[0m\n\u001b[0m\u001b[1;32m   1227\u001b[0m         \u001b[0mtop\u001b[0m\u001b[0;34m.\u001b[0m\u001b[0mgeometry\u001b[0m\u001b[0;34m(\u001b[0m\u001b[0;34m'+50+50'\u001b[0m\u001b[0;34m)\u001b[0m\u001b[0;34m\u001b[0m\u001b[0;34m\u001b[0m\u001b[0m\n",
            "\u001b[0;32m/usr/lib/python3.7/tkinter/__init__.py\u001b[0m in \u001b[0;36m__init__\u001b[0;34m(self, screenName, baseName, className, useTk, sync, use)\u001b[0m\n\u001b[1;32m   2022\u001b[0m         \u001b[0minteractive\u001b[0m \u001b[0;34m=\u001b[0m \u001b[0;36m0\u001b[0m\u001b[0;34m\u001b[0m\u001b[0;34m\u001b[0m\u001b[0m\n\u001b[0;32m-> 2023\u001b[0;31m         \u001b[0mself\u001b[0m\u001b[0;34m.\u001b[0m\u001b[0mtk\u001b[0m \u001b[0;34m=\u001b[0m \u001b[0m_tkinter\u001b[0m\u001b[0;34m.\u001b[0m\u001b[0mcreate\u001b[0m\u001b[0;34m(\u001b[0m\u001b[0mscreenName\u001b[0m\u001b[0;34m,\u001b[0m \u001b[0mbaseName\u001b[0m\u001b[0;34m,\u001b[0m \u001b[0mclassName\u001b[0m\u001b[0;34m,\u001b[0m \u001b[0minteractive\u001b[0m\u001b[0;34m,\u001b[0m \u001b[0mwantobjects\u001b[0m\u001b[0;34m,\u001b[0m \u001b[0museTk\u001b[0m\u001b[0;34m,\u001b[0m \u001b[0msync\u001b[0m\u001b[0;34m,\u001b[0m \u001b[0muse\u001b[0m\u001b[0;34m)\u001b[0m\u001b[0;34m\u001b[0m\u001b[0;34m\u001b[0m\u001b[0m\n\u001b[0m\u001b[1;32m   2024\u001b[0m         \u001b[0;32mif\u001b[0m \u001b[0museTk\u001b[0m\u001b[0;34m:\u001b[0m\u001b[0;34m\u001b[0m\u001b[0;34m\u001b[0m\u001b[0m\n",
            "\u001b[0;31mTclError\u001b[0m: no display name and no $DISPLAY environment variable",
            "\nDuring handling of the above exception, another exception occurred:\n",
            "\u001b[0;31mKeyboardInterrupt\u001b[0m                         Traceback (most recent call last)",
            "\u001b[0;32m/usr/local/lib/python3.7/dist-packages/ipykernel/kernelbase.py\u001b[0m in \u001b[0;36m_input_request\u001b[0;34m(self, prompt, ident, parent, password)\u001b[0m\n\u001b[1;32m    728\u001b[0m             \u001b[0;32mtry\u001b[0m\u001b[0;34m:\u001b[0m\u001b[0;34m\u001b[0m\u001b[0;34m\u001b[0m\u001b[0m\n\u001b[0;32m--> 729\u001b[0;31m                 \u001b[0mident\u001b[0m\u001b[0;34m,\u001b[0m \u001b[0mreply\u001b[0m \u001b[0;34m=\u001b[0m \u001b[0mself\u001b[0m\u001b[0;34m.\u001b[0m\u001b[0msession\u001b[0m\u001b[0;34m.\u001b[0m\u001b[0mrecv\u001b[0m\u001b[0;34m(\u001b[0m\u001b[0mself\u001b[0m\u001b[0;34m.\u001b[0m\u001b[0mstdin_socket\u001b[0m\u001b[0;34m,\u001b[0m \u001b[0;36m0\u001b[0m\u001b[0;34m)\u001b[0m\u001b[0;34m\u001b[0m\u001b[0;34m\u001b[0m\u001b[0m\n\u001b[0m\u001b[1;32m    730\u001b[0m             \u001b[0;32mexcept\u001b[0m \u001b[0mException\u001b[0m\u001b[0;34m:\u001b[0m\u001b[0;34m\u001b[0m\u001b[0;34m\u001b[0m\u001b[0m\n",
            "\u001b[0;32m/usr/local/lib/python3.7/dist-packages/jupyter_client/session.py\u001b[0m in \u001b[0;36mrecv\u001b[0;34m(self, socket, mode, content, copy)\u001b[0m\n\u001b[1;32m    802\u001b[0m         \u001b[0;32mtry\u001b[0m\u001b[0;34m:\u001b[0m\u001b[0;34m\u001b[0m\u001b[0;34m\u001b[0m\u001b[0m\n\u001b[0;32m--> 803\u001b[0;31m             \u001b[0mmsg_list\u001b[0m \u001b[0;34m=\u001b[0m \u001b[0msocket\u001b[0m\u001b[0;34m.\u001b[0m\u001b[0mrecv_multipart\u001b[0m\u001b[0;34m(\u001b[0m\u001b[0mmode\u001b[0m\u001b[0;34m,\u001b[0m \u001b[0mcopy\u001b[0m\u001b[0;34m=\u001b[0m\u001b[0mcopy\u001b[0m\u001b[0;34m)\u001b[0m\u001b[0;34m\u001b[0m\u001b[0;34m\u001b[0m\u001b[0m\n\u001b[0m\u001b[1;32m    804\u001b[0m         \u001b[0;32mexcept\u001b[0m \u001b[0mzmq\u001b[0m\u001b[0;34m.\u001b[0m\u001b[0mZMQError\u001b[0m \u001b[0;32mas\u001b[0m \u001b[0me\u001b[0m\u001b[0;34m:\u001b[0m\u001b[0;34m\u001b[0m\u001b[0;34m\u001b[0m\u001b[0m\n",
            "\u001b[0;32m/usr/local/lib/python3.7/dist-packages/zmq/sugar/socket.py\u001b[0m in \u001b[0;36mrecv_multipart\u001b[0;34m(self, flags, copy, track)\u001b[0m\n\u001b[1;32m    624\u001b[0m         \"\"\"\n\u001b[0;32m--> 625\u001b[0;31m         \u001b[0mparts\u001b[0m \u001b[0;34m=\u001b[0m \u001b[0;34m[\u001b[0m\u001b[0mself\u001b[0m\u001b[0;34m.\u001b[0m\u001b[0mrecv\u001b[0m\u001b[0;34m(\u001b[0m\u001b[0mflags\u001b[0m\u001b[0;34m,\u001b[0m \u001b[0mcopy\u001b[0m\u001b[0;34m=\u001b[0m\u001b[0mcopy\u001b[0m\u001b[0;34m,\u001b[0m \u001b[0mtrack\u001b[0m\u001b[0;34m=\u001b[0m\u001b[0mtrack\u001b[0m\u001b[0;34m)\u001b[0m\u001b[0;34m]\u001b[0m\u001b[0;34m\u001b[0m\u001b[0;34m\u001b[0m\u001b[0m\n\u001b[0m\u001b[1;32m    626\u001b[0m         \u001b[0;31m# have first part already, only loop while more to receive\u001b[0m\u001b[0;34m\u001b[0m\u001b[0;34m\u001b[0m\u001b[0;34m\u001b[0m\u001b[0m\n",
            "\u001b[0;32mzmq/backend/cython/socket.pyx\u001b[0m in \u001b[0;36mzmq.backend.cython.socket.Socket.recv\u001b[0;34m()\u001b[0m\n",
            "\u001b[0;32mzmq/backend/cython/socket.pyx\u001b[0m in \u001b[0;36mzmq.backend.cython.socket.Socket.recv\u001b[0;34m()\u001b[0m\n",
            "\u001b[0;32mzmq/backend/cython/socket.pyx\u001b[0m in \u001b[0;36mzmq.backend.cython.socket._recv_copy\u001b[0;34m()\u001b[0m\n",
            "\u001b[0;32m/usr/local/lib/python3.7/dist-packages/zmq/backend/cython/checkrc.pxd\u001b[0m in \u001b[0;36mzmq.backend.cython.checkrc._check_rc\u001b[0;34m()\u001b[0m\n",
            "\u001b[0;31mKeyboardInterrupt\u001b[0m: ",
            "\nDuring handling of the above exception, another exception occurred:\n",
            "\u001b[0;31mKeyboardInterrupt\u001b[0m                         Traceback (most recent call last)",
            "\u001b[0;32m<ipython-input-4-6583196845b0>\u001b[0m in \u001b[0;36m<module>\u001b[0;34m()\u001b[0m\n\u001b[1;32m      1\u001b[0m \u001b[0;32mimport\u001b[0m \u001b[0mnltk\u001b[0m\u001b[0;34m\u001b[0m\u001b[0;34m\u001b[0m\u001b[0m\n\u001b[0;32m----> 2\u001b[0;31m \u001b[0mnltk\u001b[0m\u001b[0;34m.\u001b[0m\u001b[0mdownload\u001b[0m\u001b[0;34m(\u001b[0m\u001b[0;34m)\u001b[0m\u001b[0;34m\u001b[0m\u001b[0;34m\u001b[0m\u001b[0m\n\u001b[0m\u001b[1;32m      3\u001b[0m \u001b[0;34m\u001b[0m\u001b[0m\n",
            "\u001b[0;32m/usr/local/lib/python3.7/dist-packages/nltk/downloader.py\u001b[0m in \u001b[0;36mdownload\u001b[0;34m(self, info_or_id, download_dir, quiet, force, prefix, halt_on_error, raise_on_error)\u001b[0m\n\u001b[1;32m    659\u001b[0m             \u001b[0;31m# function should make a new copy of self to use?\u001b[0m\u001b[0;34m\u001b[0m\u001b[0;34m\u001b[0m\u001b[0;34m\u001b[0m\u001b[0m\n\u001b[1;32m    660\u001b[0m             \u001b[0;32mif\u001b[0m \u001b[0mdownload_dir\u001b[0m \u001b[0;32mis\u001b[0m \u001b[0;32mnot\u001b[0m \u001b[0;32mNone\u001b[0m\u001b[0;34m:\u001b[0m \u001b[0mself\u001b[0m\u001b[0;34m.\u001b[0m\u001b[0m_download_dir\u001b[0m \u001b[0;34m=\u001b[0m \u001b[0mdownload_dir\u001b[0m\u001b[0;34m\u001b[0m\u001b[0;34m\u001b[0m\u001b[0m\n\u001b[0;32m--> 661\u001b[0;31m             \u001b[0mself\u001b[0m\u001b[0;34m.\u001b[0m\u001b[0m_interactive_download\u001b[0m\u001b[0;34m(\u001b[0m\u001b[0;34m)\u001b[0m\u001b[0;34m\u001b[0m\u001b[0;34m\u001b[0m\u001b[0m\n\u001b[0m\u001b[1;32m    662\u001b[0m             \u001b[0;32mreturn\u001b[0m \u001b[0;32mTrue\u001b[0m\u001b[0;34m\u001b[0m\u001b[0;34m\u001b[0m\u001b[0m\n\u001b[1;32m    663\u001b[0m \u001b[0;34m\u001b[0m\u001b[0m\n",
            "\u001b[0;32m/usr/local/lib/python3.7/dist-packages/nltk/downloader.py\u001b[0m in \u001b[0;36m_interactive_download\u001b[0;34m(self)\u001b[0m\n\u001b[1;32m    982\u001b[0m                 \u001b[0mDownloaderGUI\u001b[0m\u001b[0;34m(\u001b[0m\u001b[0mself\u001b[0m\u001b[0;34m)\u001b[0m\u001b[0;34m.\u001b[0m\u001b[0mmainloop\u001b[0m\u001b[0;34m(\u001b[0m\u001b[0;34m)\u001b[0m\u001b[0;34m\u001b[0m\u001b[0;34m\u001b[0m\u001b[0m\n\u001b[1;32m    983\u001b[0m             \u001b[0;32mexcept\u001b[0m \u001b[0mTclError\u001b[0m\u001b[0;34m:\u001b[0m\u001b[0;34m\u001b[0m\u001b[0;34m\u001b[0m\u001b[0m\n\u001b[0;32m--> 984\u001b[0;31m                 \u001b[0mDownloaderShell\u001b[0m\u001b[0;34m(\u001b[0m\u001b[0mself\u001b[0m\u001b[0;34m)\u001b[0m\u001b[0;34m.\u001b[0m\u001b[0mrun\u001b[0m\u001b[0;34m(\u001b[0m\u001b[0;34m)\u001b[0m\u001b[0;34m\u001b[0m\u001b[0;34m\u001b[0m\u001b[0m\n\u001b[0m\u001b[1;32m    985\u001b[0m         \u001b[0;32melse\u001b[0m\u001b[0;34m:\u001b[0m\u001b[0;34m\u001b[0m\u001b[0;34m\u001b[0m\u001b[0m\n\u001b[1;32m    986\u001b[0m             \u001b[0mDownloaderShell\u001b[0m\u001b[0;34m(\u001b[0m\u001b[0mself\u001b[0m\u001b[0;34m)\u001b[0m\u001b[0;34m.\u001b[0m\u001b[0mrun\u001b[0m\u001b[0;34m(\u001b[0m\u001b[0;34m)\u001b[0m\u001b[0;34m\u001b[0m\u001b[0;34m\u001b[0m\u001b[0m\n",
            "\u001b[0;32m/usr/local/lib/python3.7/dist-packages/nltk/downloader.py\u001b[0m in \u001b[0;36mrun\u001b[0;34m(self)\u001b[0m\n\u001b[1;32m   1004\u001b[0m             self._simple_interactive_menu(\n\u001b[1;32m   1005\u001b[0m                 'd) Download', 'l) List', ' u) Update', 'c) Config', 'h) Help', 'q) Quit')\n\u001b[0;32m-> 1006\u001b[0;31m             \u001b[0muser_input\u001b[0m \u001b[0;34m=\u001b[0m \u001b[0minput\u001b[0m\u001b[0;34m(\u001b[0m\u001b[0;34m'Downloader> '\u001b[0m\u001b[0;34m)\u001b[0m\u001b[0;34m.\u001b[0m\u001b[0mstrip\u001b[0m\u001b[0;34m(\u001b[0m\u001b[0;34m)\u001b[0m\u001b[0;34m\u001b[0m\u001b[0;34m\u001b[0m\u001b[0m\n\u001b[0m\u001b[1;32m   1007\u001b[0m             \u001b[0;32mif\u001b[0m \u001b[0;32mnot\u001b[0m \u001b[0muser_input\u001b[0m\u001b[0;34m:\u001b[0m \u001b[0mprint\u001b[0m\u001b[0;34m(\u001b[0m\u001b[0;34m)\u001b[0m\u001b[0;34m;\u001b[0m \u001b[0;32mcontinue\u001b[0m\u001b[0;34m\u001b[0m\u001b[0;34m\u001b[0m\u001b[0m\n\u001b[1;32m   1008\u001b[0m             \u001b[0mcommand\u001b[0m \u001b[0;34m=\u001b[0m \u001b[0muser_input\u001b[0m\u001b[0;34m.\u001b[0m\u001b[0mlower\u001b[0m\u001b[0;34m(\u001b[0m\u001b[0;34m)\u001b[0m\u001b[0;34m.\u001b[0m\u001b[0msplit\u001b[0m\u001b[0;34m(\u001b[0m\u001b[0;34m)\u001b[0m\u001b[0;34m[\u001b[0m\u001b[0;36m0\u001b[0m\u001b[0;34m]\u001b[0m\u001b[0;34m\u001b[0m\u001b[0;34m\u001b[0m\u001b[0m\n",
            "\u001b[0;32m/usr/local/lib/python3.7/dist-packages/ipykernel/kernelbase.py\u001b[0m in \u001b[0;36mraw_input\u001b[0;34m(self, prompt)\u001b[0m\n\u001b[1;32m    702\u001b[0m             \u001b[0mself\u001b[0m\u001b[0;34m.\u001b[0m\u001b[0m_parent_ident\u001b[0m\u001b[0;34m,\u001b[0m\u001b[0;34m\u001b[0m\u001b[0;34m\u001b[0m\u001b[0m\n\u001b[1;32m    703\u001b[0m             \u001b[0mself\u001b[0m\u001b[0;34m.\u001b[0m\u001b[0m_parent_header\u001b[0m\u001b[0;34m,\u001b[0m\u001b[0;34m\u001b[0m\u001b[0;34m\u001b[0m\u001b[0m\n\u001b[0;32m--> 704\u001b[0;31m             \u001b[0mpassword\u001b[0m\u001b[0;34m=\u001b[0m\u001b[0;32mFalse\u001b[0m\u001b[0;34m,\u001b[0m\u001b[0;34m\u001b[0m\u001b[0;34m\u001b[0m\u001b[0m\n\u001b[0m\u001b[1;32m    705\u001b[0m         )\n\u001b[1;32m    706\u001b[0m \u001b[0;34m\u001b[0m\u001b[0m\n",
            "\u001b[0;32m/usr/local/lib/python3.7/dist-packages/ipykernel/kernelbase.py\u001b[0m in \u001b[0;36m_input_request\u001b[0;34m(self, prompt, ident, parent, password)\u001b[0m\n\u001b[1;32m    732\u001b[0m             \u001b[0;32mexcept\u001b[0m \u001b[0mKeyboardInterrupt\u001b[0m\u001b[0;34m:\u001b[0m\u001b[0;34m\u001b[0m\u001b[0;34m\u001b[0m\u001b[0m\n\u001b[1;32m    733\u001b[0m                 \u001b[0;31m# re-raise KeyboardInterrupt, to truncate traceback\u001b[0m\u001b[0;34m\u001b[0m\u001b[0;34m\u001b[0m\u001b[0;34m\u001b[0m\u001b[0m\n\u001b[0;32m--> 734\u001b[0;31m                 \u001b[0;32mraise\u001b[0m \u001b[0mKeyboardInterrupt\u001b[0m\u001b[0;34m\u001b[0m\u001b[0;34m\u001b[0m\u001b[0m\n\u001b[0m\u001b[1;32m    735\u001b[0m             \u001b[0;32melse\u001b[0m\u001b[0;34m:\u001b[0m\u001b[0;34m\u001b[0m\u001b[0;34m\u001b[0m\u001b[0m\n\u001b[1;32m    736\u001b[0m                 \u001b[0;32mbreak\u001b[0m\u001b[0;34m\u001b[0m\u001b[0;34m\u001b[0m\u001b[0m\n",
            "\u001b[0;31mKeyboardInterrupt\u001b[0m: "
          ]
        }
      ]
    },
    {
      "cell_type": "code",
      "source": [
        "import nltk\n",
        "nltk.download('all')"
      ],
      "metadata": {
        "colab": {
          "base_uri": "https://localhost:8080/"
        },
        "id": "PDsV5jltG_ln",
        "outputId": "ea38533f-5268-495b-d79a-f4d0192dab05"
      },
      "execution_count": 5,
      "outputs": [
        {
          "output_type": "stream",
          "name": "stdout",
          "text": [
            "[nltk_data] Downloading collection 'all'\n",
            "[nltk_data]    | \n",
            "[nltk_data]    | Downloading package abc to /root/nltk_data...\n",
            "[nltk_data]    |   Unzipping corpora/abc.zip.\n",
            "[nltk_data]    | Downloading package alpino to /root/nltk_data...\n",
            "[nltk_data]    |   Unzipping corpora/alpino.zip.\n",
            "[nltk_data]    | Downloading package biocreative_ppi to\n",
            "[nltk_data]    |     /root/nltk_data...\n",
            "[nltk_data]    |   Unzipping corpora/biocreative_ppi.zip.\n",
            "[nltk_data]    | Downloading package brown to /root/nltk_data...\n",
            "[nltk_data]    |   Unzipping corpora/brown.zip.\n",
            "[nltk_data]    | Downloading package brown_tei to /root/nltk_data...\n",
            "[nltk_data]    |   Unzipping corpora/brown_tei.zip.\n",
            "[nltk_data]    | Downloading package cess_cat to /root/nltk_data...\n",
            "[nltk_data]    |   Unzipping corpora/cess_cat.zip.\n",
            "[nltk_data]    | Downloading package cess_esp to /root/nltk_data...\n",
            "[nltk_data]    |   Unzipping corpora/cess_esp.zip.\n",
            "[nltk_data]    | Downloading package chat80 to /root/nltk_data...\n",
            "[nltk_data]    |   Unzipping corpora/chat80.zip.\n",
            "[nltk_data]    | Downloading package city_database to\n",
            "[nltk_data]    |     /root/nltk_data...\n",
            "[nltk_data]    |   Unzipping corpora/city_database.zip.\n",
            "[nltk_data]    | Downloading package cmudict to /root/nltk_data...\n",
            "[nltk_data]    |   Unzipping corpora/cmudict.zip.\n",
            "[nltk_data]    | Downloading package comparative_sentences to\n",
            "[nltk_data]    |     /root/nltk_data...\n",
            "[nltk_data]    |   Unzipping corpora/comparative_sentences.zip.\n",
            "[nltk_data]    | Downloading package comtrans to /root/nltk_data...\n",
            "[nltk_data]    | Downloading package conll2000 to /root/nltk_data...\n",
            "[nltk_data]    |   Unzipping corpora/conll2000.zip.\n",
            "[nltk_data]    | Downloading package conll2002 to /root/nltk_data...\n",
            "[nltk_data]    |   Unzipping corpora/conll2002.zip.\n",
            "[nltk_data]    | Downloading package conll2007 to /root/nltk_data...\n",
            "[nltk_data]    | Downloading package crubadan to /root/nltk_data...\n",
            "[nltk_data]    |   Unzipping corpora/crubadan.zip.\n",
            "[nltk_data]    | Downloading package dependency_treebank to\n",
            "[nltk_data]    |     /root/nltk_data...\n",
            "[nltk_data]    |   Unzipping corpora/dependency_treebank.zip.\n",
            "[nltk_data]    | Downloading package dolch to /root/nltk_data...\n",
            "[nltk_data]    |   Unzipping corpora/dolch.zip.\n",
            "[nltk_data]    | Downloading package europarl_raw to\n",
            "[nltk_data]    |     /root/nltk_data...\n",
            "[nltk_data]    |   Unzipping corpora/europarl_raw.zip.\n",
            "[nltk_data]    | Downloading package floresta to /root/nltk_data...\n",
            "[nltk_data]    |   Unzipping corpora/floresta.zip.\n",
            "[nltk_data]    | Downloading package framenet_v15 to\n",
            "[nltk_data]    |     /root/nltk_data...\n",
            "[nltk_data]    |   Unzipping corpora/framenet_v15.zip.\n",
            "[nltk_data]    | Downloading package framenet_v17 to\n",
            "[nltk_data]    |     /root/nltk_data...\n",
            "[nltk_data]    |   Unzipping corpora/framenet_v17.zip.\n",
            "[nltk_data]    | Downloading package gazetteers to /root/nltk_data...\n",
            "[nltk_data]    |   Unzipping corpora/gazetteers.zip.\n",
            "[nltk_data]    | Downloading package genesis to /root/nltk_data...\n",
            "[nltk_data]    |   Unzipping corpora/genesis.zip.\n",
            "[nltk_data]    | Downloading package gutenberg to /root/nltk_data...\n",
            "[nltk_data]    |   Unzipping corpora/gutenberg.zip.\n",
            "[nltk_data]    | Downloading package ieer to /root/nltk_data...\n",
            "[nltk_data]    |   Unzipping corpora/ieer.zip.\n",
            "[nltk_data]    | Downloading package inaugural to /root/nltk_data...\n",
            "[nltk_data]    |   Unzipping corpora/inaugural.zip.\n",
            "[nltk_data]    | Downloading package indian to /root/nltk_data...\n",
            "[nltk_data]    |   Unzipping corpora/indian.zip.\n",
            "[nltk_data]    | Downloading package jeita to /root/nltk_data...\n",
            "[nltk_data]    | Downloading package kimmo to /root/nltk_data...\n",
            "[nltk_data]    |   Unzipping corpora/kimmo.zip.\n",
            "[nltk_data]    | Downloading package knbc to /root/nltk_data...\n",
            "[nltk_data]    | Downloading package lin_thesaurus to\n",
            "[nltk_data]    |     /root/nltk_data...\n",
            "[nltk_data]    |   Unzipping corpora/lin_thesaurus.zip.\n",
            "[nltk_data]    | Downloading package mac_morpho to /root/nltk_data...\n",
            "[nltk_data]    |   Unzipping corpora/mac_morpho.zip.\n",
            "[nltk_data]    | Downloading package machado to /root/nltk_data...\n",
            "[nltk_data]    | Downloading package masc_tagged to /root/nltk_data...\n",
            "[nltk_data]    | Downloading package moses_sample to\n",
            "[nltk_data]    |     /root/nltk_data...\n",
            "[nltk_data]    |   Unzipping models/moses_sample.zip.\n",
            "[nltk_data]    | Downloading package movie_reviews to\n",
            "[nltk_data]    |     /root/nltk_data...\n",
            "[nltk_data]    |   Unzipping corpora/movie_reviews.zip.\n",
            "[nltk_data]    | Downloading package names to /root/nltk_data...\n",
            "[nltk_data]    |   Unzipping corpora/names.zip.\n",
            "[nltk_data]    | Downloading package nombank.1.0 to /root/nltk_data...\n",
            "[nltk_data]    | Downloading package nps_chat to /root/nltk_data...\n",
            "[nltk_data]    |   Unzipping corpora/nps_chat.zip.\n",
            "[nltk_data]    | Downloading package omw-1.4 to /root/nltk_data...\n",
            "[nltk_data]    |   Unzipping corpora/omw-1.4.zip.\n",
            "[nltk_data]    | Downloading package omw to /root/nltk_data...\n",
            "[nltk_data]    |   Unzipping corpora/omw.zip.\n",
            "[nltk_data]    | Downloading package opinion_lexicon to\n",
            "[nltk_data]    |     /root/nltk_data...\n",
            "[nltk_data]    |   Unzipping corpora/opinion_lexicon.zip.\n",
            "[nltk_data]    | Downloading package paradigms to /root/nltk_data...\n",
            "[nltk_data]    |   Unzipping corpora/paradigms.zip.\n",
            "[nltk_data]    | Downloading package pil to /root/nltk_data...\n",
            "[nltk_data]    |   Unzipping corpora/pil.zip.\n",
            "[nltk_data]    | Downloading package pl196x to /root/nltk_data...\n",
            "[nltk_data]    |   Unzipping corpora/pl196x.zip.\n",
            "[nltk_data]    | Downloading package ppattach to /root/nltk_data...\n",
            "[nltk_data]    |   Unzipping corpora/ppattach.zip.\n",
            "[nltk_data]    | Downloading package problem_reports to\n",
            "[nltk_data]    |     /root/nltk_data...\n",
            "[nltk_data]    |   Unzipping corpora/problem_reports.zip.\n",
            "[nltk_data]    | Downloading package propbank to /root/nltk_data...\n",
            "[nltk_data]    | Downloading package ptb to /root/nltk_data...\n",
            "[nltk_data]    |   Unzipping corpora/ptb.zip.\n",
            "[nltk_data]    | Downloading package product_reviews_1 to\n",
            "[nltk_data]    |     /root/nltk_data...\n",
            "[nltk_data]    |   Unzipping corpora/product_reviews_1.zip.\n",
            "[nltk_data]    | Downloading package product_reviews_2 to\n",
            "[nltk_data]    |     /root/nltk_data...\n",
            "[nltk_data]    |   Unzipping corpora/product_reviews_2.zip.\n",
            "[nltk_data]    | Downloading package pros_cons to /root/nltk_data...\n",
            "[nltk_data]    |   Unzipping corpora/pros_cons.zip.\n",
            "[nltk_data]    | Downloading package qc to /root/nltk_data...\n",
            "[nltk_data]    |   Unzipping corpora/qc.zip.\n",
            "[nltk_data]    | Downloading package reuters to /root/nltk_data...\n",
            "[nltk_data]    | Downloading package rte to /root/nltk_data...\n",
            "[nltk_data]    |   Unzipping corpora/rte.zip.\n",
            "[nltk_data]    | Downloading package semcor to /root/nltk_data...\n",
            "[nltk_data]    | Downloading package senseval to /root/nltk_data...\n",
            "[nltk_data]    |   Unzipping corpora/senseval.zip.\n",
            "[nltk_data]    | Downloading package sentiwordnet to\n",
            "[nltk_data]    |     /root/nltk_data...\n",
            "[nltk_data]    |   Unzipping corpora/sentiwordnet.zip.\n",
            "[nltk_data]    | Downloading package sentence_polarity to\n",
            "[nltk_data]    |     /root/nltk_data...\n",
            "[nltk_data]    |   Unzipping corpora/sentence_polarity.zip.\n",
            "[nltk_data]    | Downloading package shakespeare to /root/nltk_data...\n",
            "[nltk_data]    |   Unzipping corpora/shakespeare.zip.\n",
            "[nltk_data]    | Downloading package sinica_treebank to\n",
            "[nltk_data]    |     /root/nltk_data...\n",
            "[nltk_data]    |   Unzipping corpora/sinica_treebank.zip.\n",
            "[nltk_data]    | Downloading package smultron to /root/nltk_data...\n",
            "[nltk_data]    |   Unzipping corpora/smultron.zip.\n",
            "[nltk_data]    | Downloading package state_union to /root/nltk_data...\n",
            "[nltk_data]    |   Unzipping corpora/state_union.zip.\n",
            "[nltk_data]    | Downloading package stopwords to /root/nltk_data...\n",
            "[nltk_data]    |   Unzipping corpora/stopwords.zip.\n",
            "[nltk_data]    | Downloading package subjectivity to\n",
            "[nltk_data]    |     /root/nltk_data...\n",
            "[nltk_data]    |   Unzipping corpora/subjectivity.zip.\n",
            "[nltk_data]    | Downloading package swadesh to /root/nltk_data...\n",
            "[nltk_data]    |   Unzipping corpora/swadesh.zip.\n",
            "[nltk_data]    | Downloading package switchboard to /root/nltk_data...\n",
            "[nltk_data]    |   Unzipping corpora/switchboard.zip.\n",
            "[nltk_data]    | Downloading package timit to /root/nltk_data...\n",
            "[nltk_data]    |   Unzipping corpora/timit.zip.\n",
            "[nltk_data]    | Downloading package toolbox to /root/nltk_data...\n",
            "[nltk_data]    |   Unzipping corpora/toolbox.zip.\n",
            "[nltk_data]    | Downloading package treebank to /root/nltk_data...\n",
            "[nltk_data]    |   Unzipping corpora/treebank.zip.\n",
            "[nltk_data]    | Downloading package twitter_samples to\n",
            "[nltk_data]    |     /root/nltk_data...\n",
            "[nltk_data]    |   Unzipping corpora/twitter_samples.zip.\n",
            "[nltk_data]    | Downloading package udhr to /root/nltk_data...\n",
            "[nltk_data]    |   Unzipping corpora/udhr.zip.\n",
            "[nltk_data]    | Downloading package udhr2 to /root/nltk_data...\n",
            "[nltk_data]    |   Unzipping corpora/udhr2.zip.\n",
            "[nltk_data]    | Downloading package unicode_samples to\n",
            "[nltk_data]    |     /root/nltk_data...\n",
            "[nltk_data]    |   Unzipping corpora/unicode_samples.zip.\n",
            "[nltk_data]    | Downloading package universal_treebanks_v20 to\n",
            "[nltk_data]    |     /root/nltk_data...\n",
            "[nltk_data]    | Downloading package verbnet to /root/nltk_data...\n",
            "[nltk_data]    |   Unzipping corpora/verbnet.zip.\n",
            "[nltk_data]    | Downloading package verbnet3 to /root/nltk_data...\n",
            "[nltk_data]    |   Unzipping corpora/verbnet3.zip.\n",
            "[nltk_data]    | Downloading package webtext to /root/nltk_data...\n",
            "[nltk_data]    |   Unzipping corpora/webtext.zip.\n",
            "[nltk_data]    | Downloading package wordnet to /root/nltk_data...\n",
            "[nltk_data]    |   Unzipping corpora/wordnet.zip.\n",
            "[nltk_data]    | Downloading package wordnet31 to /root/nltk_data...\n",
            "[nltk_data]    |   Unzipping corpora/wordnet31.zip.\n",
            "[nltk_data]    | Downloading package wordnet_ic to /root/nltk_data...\n",
            "[nltk_data]    |   Unzipping corpora/wordnet_ic.zip.\n",
            "[nltk_data]    | Downloading package words to /root/nltk_data...\n",
            "[nltk_data]    |   Unzipping corpora/words.zip.\n",
            "[nltk_data]    | Downloading package ycoe to /root/nltk_data...\n",
            "[nltk_data]    |   Unzipping corpora/ycoe.zip.\n",
            "[nltk_data]    | Downloading package rslp to /root/nltk_data...\n",
            "[nltk_data]    |   Unzipping stemmers/rslp.zip.\n",
            "[nltk_data]    | Downloading package maxent_treebank_pos_tagger to\n",
            "[nltk_data]    |     /root/nltk_data...\n",
            "[nltk_data]    |   Unzipping taggers/maxent_treebank_pos_tagger.zip.\n",
            "[nltk_data]    | Downloading package universal_tagset to\n",
            "[nltk_data]    |     /root/nltk_data...\n",
            "[nltk_data]    |   Unzipping taggers/universal_tagset.zip.\n",
            "[nltk_data]    | Downloading package maxent_ne_chunker to\n",
            "[nltk_data]    |     /root/nltk_data...\n",
            "[nltk_data]    |   Unzipping chunkers/maxent_ne_chunker.zip.\n",
            "[nltk_data]    | Downloading package punkt to /root/nltk_data...\n",
            "[nltk_data]    |   Unzipping tokenizers/punkt.zip.\n",
            "[nltk_data]    | Downloading package book_grammars to\n",
            "[nltk_data]    |     /root/nltk_data...\n",
            "[nltk_data]    |   Unzipping grammars/book_grammars.zip.\n",
            "[nltk_data]    | Downloading package sample_grammars to\n",
            "[nltk_data]    |     /root/nltk_data...\n",
            "[nltk_data]    |   Unzipping grammars/sample_grammars.zip.\n",
            "[nltk_data]    | Downloading package spanish_grammars to\n",
            "[nltk_data]    |     /root/nltk_data...\n",
            "[nltk_data]    |   Unzipping grammars/spanish_grammars.zip.\n",
            "[nltk_data]    | Downloading package basque_grammars to\n",
            "[nltk_data]    |     /root/nltk_data...\n",
            "[nltk_data]    |   Unzipping grammars/basque_grammars.zip.\n",
            "[nltk_data]    | Downloading package large_grammars to\n",
            "[nltk_data]    |     /root/nltk_data...\n",
            "[nltk_data]    |   Unzipping grammars/large_grammars.zip.\n",
            "[nltk_data]    | Downloading package tagsets to /root/nltk_data...\n",
            "[nltk_data]    |   Unzipping help/tagsets.zip.\n",
            "[nltk_data]    | Downloading package snowball_data to\n",
            "[nltk_data]    |     /root/nltk_data...\n",
            "[nltk_data]    | Downloading package bllip_wsj_no_aux to\n",
            "[nltk_data]    |     /root/nltk_data...\n",
            "[nltk_data]    |   Unzipping models/bllip_wsj_no_aux.zip.\n",
            "[nltk_data]    | Downloading package word2vec_sample to\n",
            "[nltk_data]    |     /root/nltk_data...\n",
            "[nltk_data]    |   Unzipping models/word2vec_sample.zip.\n",
            "[nltk_data]    | Downloading package panlex_swadesh to\n",
            "[nltk_data]    |     /root/nltk_data...\n",
            "[nltk_data]    | Downloading package mte_teip5 to /root/nltk_data...\n",
            "[nltk_data]    |   Unzipping corpora/mte_teip5.zip.\n",
            "[nltk_data]    | Downloading package averaged_perceptron_tagger to\n",
            "[nltk_data]    |     /root/nltk_data...\n",
            "[nltk_data]    |   Unzipping taggers/averaged_perceptron_tagger.zip.\n",
            "[nltk_data]    | Downloading package averaged_perceptron_tagger_ru to\n",
            "[nltk_data]    |     /root/nltk_data...\n",
            "[nltk_data]    |   Unzipping\n",
            "[nltk_data]    |       taggers/averaged_perceptron_tagger_ru.zip.\n",
            "[nltk_data]    | Downloading package perluniprops to\n",
            "[nltk_data]    |     /root/nltk_data...\n",
            "[nltk_data]    |   Unzipping misc/perluniprops.zip.\n",
            "[nltk_data]    | Downloading package nonbreaking_prefixes to\n",
            "[nltk_data]    |     /root/nltk_data...\n",
            "[nltk_data]    |   Unzipping corpora/nonbreaking_prefixes.zip.\n",
            "[nltk_data]    | Downloading package vader_lexicon to\n",
            "[nltk_data]    |     /root/nltk_data...\n",
            "[nltk_data]    | Downloading package porter_test to /root/nltk_data...\n",
            "[nltk_data]    |   Unzipping stemmers/porter_test.zip.\n",
            "[nltk_data]    | Downloading package wmt15_eval to /root/nltk_data...\n",
            "[nltk_data]    |   Unzipping models/wmt15_eval.zip.\n",
            "[nltk_data]    | Downloading package mwa_ppdb to /root/nltk_data...\n",
            "[nltk_data]    |   Unzipping misc/mwa_ppdb.zip.\n",
            "[nltk_data]    | \n",
            "[nltk_data]  Done downloading collection all\n"
          ]
        },
        {
          "output_type": "execute_result",
          "data": {
            "text/plain": [
              "True"
            ]
          },
          "metadata": {},
          "execution_count": 5
        }
      ]
    },
    {
      "cell_type": "code",
      "source": [
        "from nltk.tokenize import sent_tokenize\n",
        "sent_tokenize(data)"
      ],
      "metadata": {
        "colab": {
          "base_uri": "https://localhost:8080/"
        },
        "id": "Cp5HzVm9Jdnt",
        "outputId": "92fd84d8-8358-4176-bef5-cd1705fda1ee"
      },
      "execution_count": 6,
      "outputs": [
        {
          "output_type": "execute_result",
          "data": {
            "text/plain": [
              "['Mantis shrimps, or stomatopods, are marine crustaceans of the order Stomatopoda.',\n",
              " 'Some species have specialised calcified \"clubs\" that can strike with great power, while others have sharp forelimbs used to capture prey.',\n",
              " 'They branched from other members of the class Malacostraca around 340 million years ago.',\n",
              " '[2] Mantis shrimps typically grow to around 10 cm (3.9 in) in length.',\n",
              " 'A few can reach up to 38 cm (15 in).',\n",
              " '[3] The largest mantis shrimp ever caught had a length of 46 cm (18 in); it was caught in the Indian River near Fort Pierce, Florida, in the United States.',\n",
              " \"[4] A mantis shrimp's carapace (the bony, thick shell that covers crustaceans and some other species) covers only the rear part of the head and the first four segments of the thorax.\",\n",
              " 'Varieties range in color from shades of brown to vivid colors, with more than 450 species of mantis shrimps being known.',\n",
              " 'They are among the most important predators in many shallow, tropical and subtropical marine habitats.',\n",
              " 'However, despite being common, they are poorly understood, as many species spend most of their lives tucked away in burrows and holes.',\n",
              " '[5]\\n\\nCalled \"sea locusts\" by ancient Assyrians, \"prawn killers\" in Australia,[6] and now sometimes referred to as \"thumb splitters\"—because of the animal\\'s ability to inflict painful gashes if handled incautiously[7]—mantis shrimps have powerful claws that are used to attack and kill prey by spearing, stunning, or dismembering.',\n",
              " 'Ecology\\nAround 451 species of mantis shrimps have currently been discovered worldwide; all living species are in the suborder Unipeltata which arose around 193 million years ago.',\n",
              " '[8][2]\\n\\nThese aggressive and typically solitary sea creatures spend most of their time hiding in rock formations or burrowing intricate passageways in the sea bed.',\n",
              " 'They rarely exit their homes except to feed and relocate, and can be active during the day, nocturnal, or active primarily at twilight, depending on the species.',\n",
              " 'Unlike most crustaceans, they sometimes hunt, chase, and kill prey.',\n",
              " 'Although some live in temperate seas, most species live in tropical and subtropical waters in the Indian and Pacific Oceans between eastern Africa and Hawaii.',\n",
              " 'Habitat\\nMantis shrimp live in burrows where they spend the majority of their time.',\n",
              " '[9] The two different categories of mantis shrimp – spearing and smashing – favor different locations for burrowing.',\n",
              " '[9] The spearing species build their habitat in soft sediments and the smashing species make burrows in hard substrata or coral cavities.',\n",
              " '[9] These two habitats are crucial for their ecology since they use burrows as sites for retreat and as locations for consuming their prey.',\n",
              " '[9] Burrows and coral cavities are also used as sites for mating and for keeping their eggs safe.',\n",
              " \"[9]Stomatopod body size undergoes periodic growth which necessitates finding a new cavity or burrow that will fit the animal's new diameter.\",\n",
              " '[9] Some spearing species can modify their pre-established habitat if the burrow is made of silt or mud, which can be expanded.',\n",
              " \"[9]\\n\\nClaws\\n\\nSquilla mantis, showing the spearing appendages\\n\\nMantis shrimp from the front\\nThe mantis shrimp's second pair of thoracic appendages has been adapted for powerful close-range combat with high modifications.\",\n",
              " 'The appendage differences divide mantis shrimp into two main types: those that hunt by impaling their prey with spear-like structures and those that smash prey with a powerful blow from a heavily mineralised club-like appendage.',\n",
              " 'A considerable amount of damage can be inflicted after impact with these robust, hammer-like claws.',\n",
              " 'This club is further divided into three subregions: the impact region, the periodic region, and the striated region.',\n",
              " 'Mantis shrimp are commonly separated into two distinct groups determined by the type of claws they possess:\\n\\nSmashers possess a much more developed club and a more rudimentary spear (which is nevertheless quite sharp and still used in fights between their own kind); the club is used to bludgeon and smash their meals apart.',\n",
              " 'The inner aspect of the terminal portion of the appendage can also possess a sharp edge, used to cut prey while the mantis shrimp swims.',\n",
              " 'Spearers are armed with spiny appendages topped with barbed tips, used to stab and snag prey.',\n",
              " 'Both types strike by rapidly unfolding and swinging their raptorial claws at the prey, and can inflict serious damage on victims significantly greater in size than themselves.',\n",
              " 'In smashers, these two weapons are employed with blinding quickness, with an acceleration of 10,400 g (102,000 m/s2 or 335,000 ft/s2) and speeds of 23 m/s (83 km/h; 51 mph) from a standing start.',\n",
              " '[10] Because they strike so rapidly, they generate vapor-filled bubbles in the water between the appendage and the striking surface—known as cavitation bubbles.',\n",
              " '[10] The collapse of these cavitation bubbles produces measurable forces on their prey in addition to the instantaneous forces of 1,500 newtons that are caused by the impact of the appendage against the striking surface, which means that the prey is hit twice by a single strike; first by the claw and then by the collapsing cavitation bubbles that immediately follow.',\n",
              " '[11] Even if the initial strike misses the prey, the resulting shock wave can be enough to stun or kill.',\n",
              " 'The impact can also produce sonoluminescence from the collapsing bubble.',\n",
              " 'This will produce a very small amount of light within the collapsing bubble, although the light is too weak and short-lived to be detected without advanced scientific equipment.',\n",
              " 'The light emission probably has no biological significance, but is rather a side effect of the rapid snapping motion.',\n",
              " 'Pistol shrimp produce this effect in a very similar manner.',\n",
              " 'Smashers use this ability to attack snails, crabs, molluscs, and rock oysters, their blunt clubs enabling them to crack the shells of their prey into pieces.',\n",
              " 'Spearers, however, prefer the meat of softer animals, such as fish, which their barbed claws can more easily slice and snag.',\n",
              " 'The appendages are being studied as a microscale analogue for new macroscale material structures.',\n",
              " '[12]\\n\\nEyes\\n\\nThe front of Lysiosquillina maculata, showing the stalked eyes\\nThe eyes of the mantis shrimp are mounted on mobile stalks and can move independently of each other.',\n",
              " 'They are thought to have the most complex eyes in the animal kingdom and have the most complex visual system ever discovered.',\n",
              " '[13][14][15] Compared to the three types of photoreceptor cells that humans possess in their eyes, the eyes of a mantis shrimp have between 12 and 16 types of photoreceptors cells.',\n",
              " 'Furthermore, some of these shrimp can tune the sensitivity of their long-wavelength colour vision to adapt to their environment.',\n",
              " '[16] This phenomenon, called \"spectral tuning\", is species-specific.',\n",
              " '[17] Cheroske et al.',\n",
              " 'did not observe spectral tuning in Neogonodactylus oerstedii, the species with the most monotonous natural photic environment.',\n",
              " 'In N. bredini, a species with a variety of habitats ranging from a depth of 5 to 10 m (although it can be found down to 20 m below the surface), spectral tuning was observed, but the ability to alter wavelengths of maximum absorbance was not as pronounced as in N. wennerae, a species with much higher ecological/photic habitat diversity.',\n",
              " \"The diversity of spectral tuning in Stomatopoda is also hypothesized to be directly linked to mutations on the opsin gene's chromophore binding pocket.\",\n",
              " '[18]\\n\\nDespite the impressive range of wavelengths that Mantis shrimp have the ability to see, they do not have the ability to discriminate wavelengths less than 25 nm apart.',\n",
              " 'It is suggested that not discriminating between closely positioned wavelengths allows these organisms to make determinations of its surroundings with little processing delay.',\n",
              " 'Having little delay in evaluating surroundings is important for Mantis shrimp since they are frequently in combat and territorial.',\n",
              " '[19]\\n\\n\\nCloseup of a mantis shrimp showing the structure of the eyes\\nEach compound eye is made up of up tens of thousands of ommatidia, clusters of photoreceptor cells.',\n",
              " '[14] Each eye consists of two flattened hemispheres separated by parallel rows of specialised ommatidia, collectively called the midband.',\n",
              " 'The number of omatidial rows in the midband ranges from two to six.',\n",
              " '[13][14] This divides the eye into three regions.',\n",
              " 'This configuration enables mantis shrimp to see objects with three parts of the same eye.',\n",
              " 'In other words, each eye possesses trinocular vision and therefore depth perception.',\n",
              " 'The upper and lower hemispheres are used primarily for recognition of form and motion, like the eyes of many other crustaceans.',\n",
              " '[13]\\n\\nMantis shrimp can perceive wavelengths of light ranging from deep ultraviolet (UVB) to far-red (300 to 720 nm) and polarized light.',\n",
              " '[14][19] In mantis shrimp in the superfamilies Gonodactyloidea, Lysiosquilloidea, and Hemisquilloidea, the midband is made up of six omatodial rows.',\n",
              " 'Rows 1 to 4 process colours, while rows 5 and 6 detect circularly or linearly polarized light.',\n",
              " 'Twelve types of photoreceptor cells are in rows 1 to 4, four of which detect ultraviolet light.',\n",
              " '[13][14][19][20]\\n\\nRows 1 to 4 of the midband are specialised for colour vision, from deep ultraviolet to far red.',\n",
              " 'Their UV vision can detect five different frequency bands in the deep ultraviolet.',\n",
              " 'To do this, they use two photoreceptors in combination with four different colour filters.',\n",
              " '[21][22] They are not currently believed to be sensitive to infrared light.',\n",
              " '[23] The optical elements in these rows have eight different classes of visual pigments and the rhabdom (area of eye that absorbs light from a single direction) is divided into three different pigmented layers (tiers), each for different wavelengths.',\n",
              " 'The three tiers in rows 2 and 3 are separated by colour filters (intrarhabdomal filters) that can be divided into four distinct classes, two classes in each row.',\n",
              " 'It is organised like a sandwich - a tier, a colour filter of one class, a tier again, a colour filter of another class, and then a last tier.',\n",
              " 'These colour filters allow the mantis shrimp to see with diverse colour vision.',\n",
              " 'Without the filters, the pigments themselves range only a small segment of the visual spectrum, about 490 to 550 nm.',\n",
              " '[24] Rows 5 and 6 are also segregated into different tiers, but have only one class of visual pigment, the ninth class, and are specialised for polarization vision.',\n",
              " 'Depending upon the species, they can detect circularly polarized light, linearly polarised light, or both.',\n",
              " 'A tenth class of visual pigment is found in the upper and lower hemispheres of the eye.',\n",
              " '[13]\\n\\nSome species have at least 16 photoreceptor types, which are divided into four classes (their spectral sensitivity is further tuned by colour filters in the retinas), 12 for colour analysis in the different wavelengths (including six which are sensitive to ultraviolet light[21][25]) and four for analysing polarised light.',\n",
              " 'By comparison, most humans have only four visual pigments, of which three are dedicated to see colour, and human lenses block ultraviolet light.',\n",
              " 'The visual information leaving the retina seems to be processed into numerous parallel data streams leading into the brain, greatly reducing the analytical requirements at higher levels.',\n",
              " '[26]\\n\\nSix species of mantis shrimp have been reported to be able to detect circularly polarized light, which has not been documented in any other animal, and whether it is present across all species is unknown.',\n",
              " '[27][28][29] Some of their biological quarter-waveplates perform more uniformly over the visual spectrum than any current man-made polarising optics, and this could inspire new types of optical media that would outperform the current generation of Blu-ray Disc technology.',\n",
              " '[30][31]\\n\\nThe species Gonodactylus smithii is the only organism known to simultaneously detect the four linear and two circular polarisation components required to measure all four Stokes parameters, which yield a full description of polarisation.',\n",
              " 'It is thus believed to have optimal polarisation vision.',\n",
              " '[28][32] It is the only animal known to have dynamic polarisation vision.',\n",
              " 'This is achieved by rotational eye movements to maximise the polarisation contrast between the object in focus and its background.',\n",
              " '[33] Since each eye moves independently from the other, it creates two separate streams of visual information.',\n",
              " \"[34]\\n\\nThe midband covers only about 5 to 10° of the visual field at any given instant, but like most crustaceans, mantis shrimps' eyes are mounted on stalks.\",\n",
              " 'In mantis shrimps, the movement of the stalked eye is unusually free, and can be driven up to 70° in all possible axes of movement by eight eyecup muscles divided into six functional groups.',\n",
              " 'By using these muscles to scan the surroundings with the midband, they can add information about forms, shapes, and landscape, which cannot be detected by the upper and lower hemispheres of the eyes.',\n",
              " 'They can also track moving objects using large, rapid eye movements where the two eyes move independently.',\n",
              " 'By combining different techniques, including movements in the same direction, the midband can cover a very wide range of the visual field.',\n",
              " 'The huge diversity seen in mantis shrimp photoreceptors likely comes from ancient gene duplication events.',\n",
              " '[24][35] One interesting consequence of this duplication is the lack of correlation between opsin transcript number and physiologically expressed photoreceptors.',\n",
              " '[24] One species may have six different opsin genes, but only express one spectrally distinct photoreceptor.',\n",
              " 'Over the years, some mantis shrimp species have lost the ancestral phenotype, although some still maintain 16 distinct photoreceptors and four light filters.',\n",
              " 'Species that live in a variety of photic environments have high selective pressure for photoreceptor diversity, and maintain ancestral phenotypes better than species that live in murky waters or are primarily nocturnal.',\n",
              " '[24][36]\\n\\nSuggested advantages of visual system\\n\\nClose-up of the trinocular vision of Pseudosquilla ciliata\\nWhat advantage sensitivity to polarisation confers is unclear; however, polarisation vision is used by other animals for sexual signaling and secret communication that avoids the attention of predators.',\n",
              " '[37] This mechanism could provide an evolutionary advantage; it only requires small changes to the cell in the eye and could be easily lead to natural selection.',\n",
              " '[38]\\n\\nThe eyes of mantis shrimps may enable them to recognise different types of coral, prey species (which are often transparent or semitransparent), or predators, such as barracuda, which have shimmering scales.',\n",
              " 'Alternatively, the manner in which they hunt (very rapid movements of the claws) may require very accurate ranging information, which would require accurate depth perception.',\n",
              " 'During mating rituals, mantis shrimps actively fluoresce, and the wavelength of this fluorescence matches the wavelengths detected by their eye pigments.',\n",
              " '[39] Females are only fertile during certain phases of the tidal cycle; the ability to perceive the phase of the moon may, therefore, help prevent wasted mating efforts.',\n",
              " 'It may also give these shrimps information about the size of the tide, which is important to species living in shallow water near the shore.',\n",
              " 'The capacity to see UV light may enable observation of otherwise hard-to-detect prey on coral reefs.',\n",
              " '[25]\\n\\nTheir visual experience of colours is not very different from humans; the eyes are actually a mechanism that operates at the level of individual cones and makes the brain more efficient.',\n",
              " 'This system allows visual information to be preprocessed by the eyes instead of the brain, which would otherwise have to be larger to deal with the stream of raw data, thus requiring more time and energy.',\n",
              " 'While the eyes themselves are complex and not yet fully understood, the principle of the system appears to be simple.',\n",
              " '[40] It is similar in function to the human eye, but works in the opposite manner.',\n",
              " 'In the human brain, the inferior temporal cortex has a huge number of colour-specific neurons, which process visual impulses from the eyes to create colourful experiences.',\n",
              " 'The mantis shrimp instead uses the different types of photoreceptors in its eyes to perform the same function as the human brain neurons, resulting in a hardwired and more efficient system for an animal that requires rapid colour identification.',\n",
              " 'Humans have fewer types of photoreceptors, but more colour-tuned neurons, while mantis shrimps appears to have fewer colour neurons and more classes of photoreceptors.',\n",
              " '[41]\\n\\nA publication by researchers from the University of Queensland stated that the compound eyes of mantis shrimp can detect cancer and the activity of neurons, because they are sensitive to detecting polarised light that reflects differently from cancerous and healthy tissue.',\n",
              " 'The study claims that this ability can be replicated through a camera through the use of aluminium nanowires to replicate polarisation-filtering microvilli on top of photodiodes.',\n",
              " '[42][43] In February 2016, the shrimps were found to be using a form of reflector of polarised light not seen in nature or human technology before.',\n",
              " 'It allows the manipulation of light across the structure rather than through its depth, the typical way polarisers work.',\n",
              " 'This allows the structure to be both small and microscopically thin, and still be able to produce big, bright, colourful polarised signals.',\n",
              " '[44]\\n\\nBehaviour\\n\\nDrawing of a mantis shrimp by Richard Lydekker, 1896\\nMantis shrimps are long-lived and exhibit complex behaviour, such as ritualised fighting.',\n",
              " 'Some species use fluorescent patterns on their bodies for signalling with their own and maybe even other species, expanding their range of behavioural signals.',\n",
              " 'They can learn and remember well, and are able to recognise individual neighbours with which they frequently interact.',\n",
              " 'They can recognise them by visual signs and even by individual smell.',\n",
              " 'Many have developed complex social behaviours to defend their space from rivals.',\n",
              " 'In a lifetime, they can have as many as 20 or 30 breeding episodes.',\n",
              " \"Depending on the species, the eggs can be laid and kept in a burrow, or they can be carried around under the female's tail until they hatch.\",\n",
              " 'Also depending on the species, males and females may come together only to mate, or they may bond in monogamous, long-term relationships.',\n",
              " '[45]\\n\\nIn the monogamous species, the mantis shrimps remain with the same partner up to 20 years.',\n",
              " 'They share the same burrow and may be able to coordinate their activities.',\n",
              " 'Both sexes often take care of the eggs (bi parental care).',\n",
              " 'In Pullosquilla and some species in Nannosquilla, the female lays two clutches of eggs - one that the male tends and one that the female tends.',\n",
              " 'In other species, the female looks after the eggs while the male hunts for both of them.',\n",
              " 'After the eggs hatch, the offspring may spend up to three months as plankton.',\n",
              " 'Although stomatopods typically display the standard types of movement seen in true shrimp and lobsters, one species, Nannosquilla decemspinosa, has been observed flipping itself into a crude wheel.',\n",
              " 'The species lives in shallow, sandy areas.',\n",
              " 'At low tides, N. decemspinosa is often stranded by its short rear legs, which are sufficient for movement when the body is supported by water, but not on dry land.',\n",
              " 'The mantis shrimp then performs a forward flip in an attempt to roll towards the next tide pool.',\n",
              " 'N. has been observed to roll repeatedly for 2 m (6.6 ft), but specimens typically travel less than 1 m (3.3 ft).',\n",
              " '[46]\\n\\nCulinary uses\\n\\nMantis shrimp caught at Hậu Lộc, Thanh Hóa, Vietnam\\nIn Japanese cuisine, the mantis shrimp species Oratosquilla oratoria, called shako (蝦蛄), is eaten boiled as a sushi topping, and occasionally raw as sashimi.',\n",
              " \"Mantis shrimps are abundant along Vietnam's coast, known in Vietnamese as bề bề or tôm tít.\",\n",
              " 'In regions such as Nha Trang, they are called bàn chải, named for its resemblance to a scrub brush.',\n",
              " 'The shrimp can be steamed, boiled, grilled, or dried, used with pepper, salt and lime, fish sauce and tamarind, or fennel.',\n",
              " '[47]\\n\\nIn Cantonese cuisine, the mantis shrimp is known as \"pissing shrimp\" (Chinese: 瀨尿蝦; pinyin: lài niào xiā; Jyutping: laaih niu hā) because of their tendency to shoot a jet of water when picked up.',\n",
              " 'After cooking, their flesh is closer to that of lobsters than that of shrimp, and like lobsters, their shells are quite hard and require some pressure to crack.',\n",
              " 'Usually, they are deep fried with garlic and chili peppers.',\n",
              " 'In the Mediterranean countries, the mantis shrimp Squilla mantis is a common seafood, especially on the Adriatic coasts (canocchia) and the Gulf of Cádiz (galera).',\n",
              " 'In the Philippines, the mantis shrimp is known as tatampal, hipong-dapa, or alupihang-dagat, and is cooked and eaten like any other shrimp.',\n",
              " 'In Hawaii, some mantis shrimp have grown unusually large in the contaminated water of the Grand Ala Wai Canal in Waikiki.',\n",
              " 'The dangers normally associated with consuming seafood caught in contaminated waters are present in these mantis shrimp.',\n",
              " '[3]\\n\\nEnormous Hermit Crab Tears Through Coconuts, Eats KittensOur hero should thank his lucky stars that Rubber Legs didn’t mimic the praying mantis’ oceanic (though totally unrelated) counterpart: the astonishingly lethal mantis shrimp.',\n",
              " 'He would have been dismembered limb by limb with surgical strikes, which would have really mucked up the tone of an otherwise lighthearted movie.',\n",
              " 'These are the stomatopods, some 550 known species of mantis shrimp that range from less than an inch long to well over a foot.',\n",
              " 'They’re feisty, beautifully complex creatures that strike so quickly that they momentarily superheat the water around their spring-loaded clubs to a temperature nearly as hot as the surface of the sun.',\n",
              " 'They may not be particularly big, but they will fight just about anything that so much as looks at them funny.',\n",
              " 'Octopuses, humans, each other – you name it.',\n",
              " 'You see, the mantis shrimp doesn’t grab ass.',\n",
              " 'It kicks it.',\n",
              " 'ARROW\\nLISTS\\n10 Eye-Popping Facts About Mantis Shrimp\\nBY MICHELE DEBCZAK SEPTEMBER 22, 2016\\niStock\\nISTOCK\\n\"Beautiful\" and \"deadly\" are two descriptors you don’t typically see attached to shrimp.',\n",
              " 'But the mantis shrimp is in a class of its own.',\n",
              " 'This colorful specimen has earned a reputation for being one of the most fearsome creatures of the deep.',\n",
              " 'Here are 10 facts worth knowing about the pint-sized bruisers.',\n",
              " '1.',\n",
              " 'THEY’RE NOT SHRIMP.',\n",
              " 'Despite their namesake and relatively puny stature, mantis shrimp aren’t shrimp at all.',\n",
              " '(Neither, of course, are they mantises.)',\n",
              " \"They're stomatopods, distant relatives to crabs, shrimp, and lobsters.\",\n",
              " '2.',\n",
              " 'THEY PACK A POWERFUL PUNCH.',\n",
              " \"The peacock mantis shrimp (Odontodactylus scyllarus) uses two appendages called dactyl clubs to pummel its prey like aquatic Rock 'Em Sock 'Em Robots—that is, if kids’ toys could punch fast enough to boil water and split fingers to the bone.\",\n",
              " 'These wrecking ball \"fists\" spring forth from their bodies at 50 mph, accelerating quicker than a .22-caliber bullet.',\n",
              " 'At those speeds, the water surrounding them briefly reaches the temperature of the Sun’s surface.',\n",
              " 'When the dactyl clubs hit their target, they deliver 160 pounds of force, smashing through shells like a lightning-fast crab mallet.',\n",
              " '3.',\n",
              " 'THERE ARE HUNDREDS OF SPECIES.',\n",
              " 'Mantis shrimp come in a variety of species, and we’re aware of about 550 of them.',\n",
              " 'Stomatopods from different species range in size from smaller than an inch to longer than a foot.',\n",
              " 'They’re usually classified by murder method—either smashing, as detailed above, or spearing.',\n",
              " 'In place of dactyl clubs, spearers have two sharp appendages on the front of their bodies built for harpooning prey.',\n",
              " 'Spear-wielding mantis shrimp don’t move as fast as their club-fisted counterparts (their strikes are about 10 times slower), but the threat of death by impalement is intimidating on its own.',\n",
              " '4.',\n",
              " 'THEIR VISION IS UNPARALLELED.',\n",
              " 'iStock\\nPeacock mantis shrimp have the most complex set of peepers in the animal kingdom.',\n",
              " 'Each eye contains 12 photoreceptors that allow them to sense different types of color.',\n",
              " 'For comparison, human eyes typically contain three types of light-sensitive cells for seeing red, blue, and green.',\n",
              " 'This has led some to conclude that mantis shrimp perceive the world in a psychedelic rainbow of vibrant color we can’t begin to comprehend.',\n",
              " 'But in reality, the crustaceans are actually worse at differentiating between subtle variations in hue than we are.',\n",
              " 'A study from the University of Queensland found that when mantis shrimp were shown colors with a difference in wavelength less than 25 nanometers, they had trouble telling them apart.',\n",
              " 'But just because mantis shrimp may not see the variations between powder blue and periwinkle doesn’t mean their vision isn’t extraordinary.',\n",
              " 'On the contrary, their optic abilities are on a completely separate level from ours, functioning more like a satellite than anything found in nature.',\n",
              " 'Scientists believe that mantis shrimp take all the visual information they see into their brains at once without processing it, allowing them to react to their surroundings as quickly as possible.',\n",
              " 'Their independently roaming eyes and trinocular vision also make them excellent hunters.',\n",
              " '5.',\n",
              " 'THEY SHARE A SECRET LANGUAGE.',\n",
              " 'Roy Caldwell, University Of California, Berkeley\\n \\nIn addition to the all epic abilities listed above, mantis shrimp are one of the only creatures capable of seeing polarized light.',\n",
              " 'This has allowed them to develop a secret code that’s undetectable to other species.',\n",
              " 'The Haptosquilla trispinosa species of mantis shrimp wields feathery feeding appendages called maxillipeds that are marked with iridescent, blue spots.',\n",
              " 'The cells of these features reflect light in a unique way.',\n",
              " 'Instead of bouncing light into a reflective structure like the polarizing cells developed by humans, the cells distribute light across the spot’s surface.',\n",
              " 'The brilliant light is plainly visible to other mantis shrimp, allowing them to signal members of their species while staying hidden from predators.',\n",
              " '6.',\n",
              " 'YOU WON’T FIND THEM IN MOST AQUARIUMS.',\n",
              " 'Prilfish via Flickr // CC BY 2.0\\nYou’d think a mantis shrimp’s technicolor exterior would make it a staple at most aquariums, but this creature is rarely kept in captivity.',\n",
              " 'The same dactyl clubs that allow them to shatter shellfish are also capable of cracking a glass tank.',\n",
              " 'When aquariums do accept a ruthless specimen into their collection, it must kept behind shatterproof acrylic glass.',\n",
              " 'On top of that, a captive mantis shrimp needs to be the sole occupant of its specially constructed home, lest it decides to treat its tank-mates as punching bags.',\n",
              " '7.',\n",
              " 'THEY MAKE MENACING SOUNDS.',\n",
              " 'Elias Levy via Flickr // CC BY 2.0\\nIt’s only natural that a creature as ferocious as the stomatopod would have a threatening call to match.',\n",
              " 'California mantis shrimp have been known to make low, rumbling growling sounds both in the wild and the lab.',\n",
              " 'Male mantis shrimp often emit grunts at dawn and dusk, the periods of the day when they’re most likely to be hunting for food or guarding their homes.',\n",
              " 'Scientists theorize that the growls are meant to attract mates and ward off competitors.',\n",
              " '8.',\n",
              " 'THEY’RE HELPING SCIENTISTS BUILD BETTER BODY ARMOR.',\n",
              " 'Jens Petersen via Wikimedia Commons // CC-BY-SA-3.0\\n \\nThe mantis shrimp’s super-powered punching abilities raise a puzzling question: How can the animal deliver such a deadly blow without injuring itself?',\n",
              " 'To get to the bottom of the mystery, researchers looked at the composition of the peacock mantis shrimp’s built-in weaponry.',\n",
              " 'They found that the creature’s dactyl clubs consisted of an outer coating of hydroxyapatite, a hard crystalline calcium-phosphate ceramic material.',\n",
              " 'Beneath the surface lies the key to the animal’s anti-fracturing qualities.',\n",
              " 'Layers of elastic polysaccharide chitin underlying the shell are positioned in a way to act as shock absorbers, reducing the possibility of cracks.',\n",
              " 'The design is so effective that researchers modeled a new type of carbon fiber material after it with potential applications in aircraft panels and military body armor.',\n",
              " '9.',\n",
              " 'THEY PRACTICE SOCIAL MONOGAMY.',\n",
              " 'Barry Peters via Wikimedia Commons // CC BY 2.0\\nThe life of a mantis shrimp isn’t all cold-blooded killing.',\n",
              " 'Some species of stomatopods are known to engage in the rare practice of social monogamy, a behavior that’s especially remarkable among crustaceans.',\n",
              " 'This means mantis shrimp will choose one partner to share food, shelter, and raise offspring with over the course of a lifetime.',\n",
              " 'What may sound romantic to humans serves a practical purpose for mantis shrimp.',\n",
              " 'Research has shown that certain mantis shrimp tend to cluster outside reefs instead of living in the heart of the action.',\n",
              " 'Without the need to go looking for someone new to mate with on a regular basis, mantis shrimp couples are able to enjoy a relatively safe, sedentary lifestyle secluded from predators.',\n",
              " '10.',\n",
              " 'THEY’RE OLDER THAN DINOSAURS.',\n",
              " 'Derek Keats via Flickr // CC BY 2.0\\nStomatopods began evolving independently from other crustaceans nearly 400 million years ago, about 170 million years before the first dinosaurs appeared on the scene.',\n",
              " 'Since then they’ve followed an isolated, evolutionary lineage that’s resulted in some of their more unique characteristics.',\n",
              " 'Their biology is so bizarre that scientists have assigned them the nickname \"shrimp from Mars.\"']"
            ]
          },
          "metadata": {},
          "execution_count": 6
        }
      ]
    },
    {
      "cell_type": "code",
      "source": [
        "# testing small data\n",
        "txt = 'Hello world. Bye bye world! How are you?'\n",
        "from nltk.tokenize import sent_tokenize\n",
        "sent_tokenize(txt)"
      ],
      "metadata": {
        "colab": {
          "base_uri": "https://localhost:8080/"
        },
        "id": "cnQuDcPoJ9wf",
        "outputId": "d26bcc0c-d399-4ea6-ce02-0d0b616cda59"
      },
      "execution_count": 8,
      "outputs": [
        {
          "output_type": "execute_result",
          "data": {
            "text/plain": [
              "['Hello world.', 'Bye bye world!', 'How are you?']"
            ]
          },
          "metadata": {},
          "execution_count": 8
        }
      ]
    },
    {
      "cell_type": "code",
      "source": [
        "txt = 'Hello world, Bye bye world! How are you?'\n",
        "# sent_tokenize --Sentence tokenize\n",
        "from nltk.tokenize import sent_tokenize\n",
        "sent_tokenize(txt)"
      ],
      "metadata": {
        "colab": {
          "base_uri": "https://localhost:8080/"
        },
        "id": "pUnOQl7lKM1u",
        "outputId": "2d4bb2ab-efeb-4456-b4c5-9158fe8e4d4a"
      },
      "execution_count": 9,
      "outputs": [
        {
          "output_type": "execute_result",
          "data": {
            "text/plain": [
              "['Hello world, Bye bye world!', 'How are you?']"
            ]
          },
          "metadata": {},
          "execution_count": 9
        }
      ]
    },
    {
      "cell_type": "code",
      "source": [
        "# foregin languages \n",
        "sent_tokenize('Como estais amigo! No habla espanol', 'spanish')"
      ],
      "metadata": {
        "colab": {
          "base_uri": "https://localhost:8080/"
        },
        "id": "NiY55qMBKeKJ",
        "outputId": "fdb60dfc-fa31-41d2-c1c0-f48d06faa1d4"
      },
      "execution_count": 12,
      "outputs": [
        {
          "output_type": "execute_result",
          "data": {
            "text/plain": [
              "['Como estais amigo!', 'No habla espanol']"
            ]
          },
          "metadata": {},
          "execution_count": 12
        }
      ]
    },
    {
      "cell_type": "code",
      "source": [
        "sent_tokenize('Enchante! Tres bien. Comment allez-vous?', 'french')"
      ],
      "metadata": {
        "colab": {
          "base_uri": "https://localhost:8080/"
        },
        "id": "E0PXY_YRKylI",
        "outputId": "236633c4-0213-4db4-b04b-4c5a1450d7c4"
      },
      "execution_count": 13,
      "outputs": [
        {
          "output_type": "execute_result",
          "data": {
            "text/plain": [
              "['Enchante!', 'Tres bien.', 'Comment allez-vous?']"
            ]
          },
          "metadata": {},
          "execution_count": 13
        }
      ]
    },
    {
      "cell_type": "code",
      "source": [
        "# word_tokenize\n",
        "from nltk.tokenize import word_tokenize\n",
        "txt = 'Hello world, Bye bye world! How are you?'\n",
        "word_tokenize(txt)"
      ],
      "metadata": {
        "colab": {
          "base_uri": "https://localhost:8080/"
        },
        "id": "ZiopxoY4Kpc4",
        "outputId": "ecc048b4-04dd-4665-eb1e-e36daf2cf47f"
      },
      "execution_count": 11,
      "outputs": [
        {
          "output_type": "execute_result",
          "data": {
            "text/plain": [
              "['Hello', 'world', ',', 'Bye', 'bye', 'world', '!', 'How', 'are', 'you', '?']"
            ]
          },
          "metadata": {},
          "execution_count": 11
        }
      ]
    },
    {
      "cell_type": "code",
      "source": [
        "from nltk.corpus import wordnet # wordnet is a thesaurus\n",
        "syn = wordnet.synsets('hate')\n",
        "syn"
      ],
      "metadata": {
        "colab": {
          "base_uri": "https://localhost:8080/"
        },
        "id": "8puV4hWDKuh4",
        "outputId": "c257f8a6-9aad-44eb-f05f-510543a51aa5"
      },
      "execution_count": 14,
      "outputs": [
        {
          "output_type": "execute_result",
          "data": {
            "text/plain": [
              "[Synset('hate.n.01'), Synset('hate.v.01')]"
            ]
          },
          "metadata": {},
          "execution_count": 14
        }
      ]
    },
    {
      "cell_type": "code",
      "source": [
        "syn[1].definition()"
      ],
      "metadata": {
        "colab": {
          "base_uri": "https://localhost:8080/",
          "height": 35
        },
        "id": "NJ1xZ480K93j",
        "outputId": "5b5d838f-6853-4d31-8961-a114d9d6c06f"
      },
      "execution_count": 15,
      "outputs": [
        {
          "output_type": "execute_result",
          "data": {
            "application/vnd.google.colaboratory.intrinsic+json": {
              "type": "string"
            },
            "text/plain": [
              "'dislike intensely; feel antipathy or aversion towards'"
            ]
          },
          "metadata": {},
          "execution_count": 15
        }
      ]
    },
    {
      "cell_type": "code",
      "source": [
        "syn[1].examples()"
      ],
      "metadata": {
        "colab": {
          "base_uri": "https://localhost:8080/"
        },
        "id": "elrksHUJLAY7",
        "outputId": "8f4911fc-25cd-423f-9d11-cfdc99ae55ea"
      },
      "execution_count": 16,
      "outputs": [
        {
          "output_type": "execute_result",
          "data": {
            "text/plain": [
              "['I hate Mexican food', 'She detests politicians']"
            ]
          },
          "metadata": {},
          "execution_count": 16
        }
      ]
    },
    {
      "cell_type": "code",
      "source": [
        "# Synonyms \n",
        "synos = []\n",
        "for syn in wordnet.synsets('drama'):# Test instead of drama --AI\n",
        "  for lemma in syn.lemmas():\n",
        "    synos.append(lemma.name())\n",
        "\n",
        "synos"
      ],
      "metadata": {
        "colab": {
          "base_uri": "https://localhost:8080/"
        },
        "id": "Key2bTMlLDA6",
        "outputId": "01f5ed5a-5860-469c-99aa-6416c132f195"
      },
      "execution_count": 17,
      "outputs": [
        {
          "output_type": "execute_result",
          "data": {
            "text/plain": [
              "['play', 'drama', 'dramatic_play', 'drama', 'dramatic_event', 'drama', 'drama']"
            ]
          },
          "metadata": {},
          "execution_count": 17
        }
      ]
    },
    {
      "cell_type": "code",
      "source": [
        "synos = []\n",
        "antos = set()\n",
        "for syn in wordnet.synsets('love'):\n",
        "  for lemma in syn.lemmas():\n",
        "    synos.append(lemma.name())\n",
        "    if lemma.antonyms():\n",
        "      antos.add(lemma.antonyms()[0].name())\n",
        "\n",
        "antos"
      ],
      "metadata": {
        "colab": {
          "base_uri": "https://localhost:8080/"
        },
        "id": "grp4bjJDLKbT",
        "outputId": "1cbee7fe-d426-49e3-f3ec-3cc74a85b64f"
      },
      "execution_count": 18,
      "outputs": [
        {
          "output_type": "execute_result",
          "data": {
            "text/plain": [
              "{'hate'}"
            ]
          },
          "metadata": {},
          "execution_count": 18
        }
      ]
    },
    {
      "cell_type": "code",
      "source": [
        "SnowballStemmer.languages"
      ],
      "metadata": {
        "colab": {
          "base_uri": "https://localhost:8080/"
        },
        "id": "zvBy7CsRSpNV",
        "outputId": "1454371f-a35b-4704-aaab-95dfbd35904b"
      },
      "execution_count": 24,
      "outputs": [
        {
          "output_type": "execute_result",
          "data": {
            "text/plain": [
              "('arabic',\n",
              " 'danish',\n",
              " 'dutch',\n",
              " 'english',\n",
              " 'finnish',\n",
              " 'french',\n",
              " 'german',\n",
              " 'hungarian',\n",
              " 'italian',\n",
              " 'norwegian',\n",
              " 'porter',\n",
              " 'portuguese',\n",
              " 'romanian',\n",
              " 'russian',\n",
              " 'spanish',\n",
              " 'swedish')"
            ]
          },
          "metadata": {},
          "execution_count": 24
        }
      ]
    },
    {
      "cell_type": "code",
      "source": [
        "from nltk import SnowballStemmer\n",
        "myStemmer = SnowballStemmer('english')\n",
        "print(myStemmer.stem('drying'))# monies --moni   # Stemmer here word only reduce \n",
        "print(myStemmer.stem('dried'))\n",
        "# stemming result may not be in english dictionary\n",
        "# may-> accidentally but not intentionally in english dictionary"
      ],
      "metadata": {
        "colab": {
          "base_uri": "https://localhost:8080/"
        },
        "id": "kdHqXsrdLex-",
        "outputId": "f0e81abb-6346-4dbc-e70d-cbfb9e7d0db6"
      },
      "execution_count": 19,
      "outputs": [
        {
          "output_type": "stream",
          "name": "stdout",
          "text": [
            "dri\n",
            "dri\n"
          ]
        }
      ]
    },
    {
      "cell_type": "code",
      "source": [
        "from nltk.stem import WordNetLemmatizer\n",
        "lemma =WordNetLemmatizer()\n",
        "print(lemma.lemmatize('believes'))\n",
        "# STRENGTH -> NLTK, speed-> textacy , simple tasks -> spacy \n",
        "# manipulate the Part-of-speech to get desired result\n",
        "print(lemma.lemmatize('believes', pos='v')) # verb\n",
        "print(lemma.lemmatize('believes', pos='a')) # adjective\n",
        "print(lemma.lemmatize('believes', pos='r')) # adverb\n",
        "print(lemma.lemmatize('believes', pos='n')) # noun\n",
        "print(lemma.lemmatize('dogs'))\n",
        "# Result of LEMMA is in ENGLISH dictionary"
      ],
      "metadata": {
        "colab": {
          "base_uri": "https://localhost:8080/"
        },
        "id": "GkJs24xcLhPR",
        "outputId": "746e68fd-b605-48c4-e570-66ea7d599454"
      },
      "execution_count": 20,
      "outputs": [
        {
          "output_type": "stream",
          "name": "stdout",
          "text": [
            "belief\n",
            "believe\n",
            "believes\n",
            "believes\n",
            "belief\n",
            "dog\n"
          ]
        }
      ]
    },
    {
      "cell_type": "code",
      "source": [
        "from nltk.corpus import stopwords\n",
        "stopwords.words('english')"
      ],
      "metadata": {
        "colab": {
          "base_uri": "https://localhost:8080/"
        },
        "id": "aA9YDxAQLjg8",
        "outputId": "7a99ceb3-7d13-4038-c3b1-f58031b10c38"
      },
      "execution_count": 21,
      "outputs": [
        {
          "output_type": "execute_result",
          "data": {
            "text/plain": [
              "['i',\n",
              " 'me',\n",
              " 'my',\n",
              " 'myself',\n",
              " 'we',\n",
              " 'our',\n",
              " 'ours',\n",
              " 'ourselves',\n",
              " 'you',\n",
              " \"you're\",\n",
              " \"you've\",\n",
              " \"you'll\",\n",
              " \"you'd\",\n",
              " 'your',\n",
              " 'yours',\n",
              " 'yourself',\n",
              " 'yourselves',\n",
              " 'he',\n",
              " 'him',\n",
              " 'his',\n",
              " 'himself',\n",
              " 'she',\n",
              " \"she's\",\n",
              " 'her',\n",
              " 'hers',\n",
              " 'herself',\n",
              " 'it',\n",
              " \"it's\",\n",
              " 'its',\n",
              " 'itself',\n",
              " 'they',\n",
              " 'them',\n",
              " 'their',\n",
              " 'theirs',\n",
              " 'themselves',\n",
              " 'what',\n",
              " 'which',\n",
              " 'who',\n",
              " 'whom',\n",
              " 'this',\n",
              " 'that',\n",
              " \"that'll\",\n",
              " 'these',\n",
              " 'those',\n",
              " 'am',\n",
              " 'is',\n",
              " 'are',\n",
              " 'was',\n",
              " 'were',\n",
              " 'be',\n",
              " 'been',\n",
              " 'being',\n",
              " 'have',\n",
              " 'has',\n",
              " 'had',\n",
              " 'having',\n",
              " 'do',\n",
              " 'does',\n",
              " 'did',\n",
              " 'doing',\n",
              " 'a',\n",
              " 'an',\n",
              " 'the',\n",
              " 'and',\n",
              " 'but',\n",
              " 'if',\n",
              " 'or',\n",
              " 'because',\n",
              " 'as',\n",
              " 'until',\n",
              " 'while',\n",
              " 'of',\n",
              " 'at',\n",
              " 'by',\n",
              " 'for',\n",
              " 'with',\n",
              " 'about',\n",
              " 'against',\n",
              " 'between',\n",
              " 'into',\n",
              " 'through',\n",
              " 'during',\n",
              " 'before',\n",
              " 'after',\n",
              " 'above',\n",
              " 'below',\n",
              " 'to',\n",
              " 'from',\n",
              " 'up',\n",
              " 'down',\n",
              " 'in',\n",
              " 'out',\n",
              " 'on',\n",
              " 'off',\n",
              " 'over',\n",
              " 'under',\n",
              " 'again',\n",
              " 'further',\n",
              " 'then',\n",
              " 'once',\n",
              " 'here',\n",
              " 'there',\n",
              " 'when',\n",
              " 'where',\n",
              " 'why',\n",
              " 'how',\n",
              " 'all',\n",
              " 'any',\n",
              " 'both',\n",
              " 'each',\n",
              " 'few',\n",
              " 'more',\n",
              " 'most',\n",
              " 'other',\n",
              " 'some',\n",
              " 'such',\n",
              " 'no',\n",
              " 'nor',\n",
              " 'not',\n",
              " 'only',\n",
              " 'own',\n",
              " 'same',\n",
              " 'so',\n",
              " 'than',\n",
              " 'too',\n",
              " 'very',\n",
              " 's',\n",
              " 't',\n",
              " 'can',\n",
              " 'will',\n",
              " 'just',\n",
              " 'don',\n",
              " \"don't\",\n",
              " 'should',\n",
              " \"should've\",\n",
              " 'now',\n",
              " 'd',\n",
              " 'll',\n",
              " 'm',\n",
              " 'o',\n",
              " 're',\n",
              " 've',\n",
              " 'y',\n",
              " 'ain',\n",
              " 'aren',\n",
              " \"aren't\",\n",
              " 'couldn',\n",
              " \"couldn't\",\n",
              " 'didn',\n",
              " \"didn't\",\n",
              " 'doesn',\n",
              " \"doesn't\",\n",
              " 'hadn',\n",
              " \"hadn't\",\n",
              " 'hasn',\n",
              " \"hasn't\",\n",
              " 'haven',\n",
              " \"haven't\",\n",
              " 'isn',\n",
              " \"isn't\",\n",
              " 'ma',\n",
              " 'mightn',\n",
              " \"mightn't\",\n",
              " 'mustn',\n",
              " \"mustn't\",\n",
              " 'needn',\n",
              " \"needn't\",\n",
              " 'shan',\n",
              " \"shan't\",\n",
              " 'shouldn',\n",
              " \"shouldn't\",\n",
              " 'wasn',\n",
              " \"wasn't\",\n",
              " 'weren',\n",
              " \"weren't\",\n",
              " 'won',\n",
              " \"won't\",\n",
              " 'wouldn',\n",
              " \"wouldn't\"]"
            ]
          },
          "metadata": {},
          "execution_count": 21
        }
      ]
    },
    {
      "cell_type": "code",
      "source": [
        "print(myStemmer.stem('14 dresses'))"
      ],
      "metadata": {
        "colab": {
          "base_uri": "https://localhost:8080/"
        },
        "id": "Jxg6klYcLpJn",
        "outputId": "fb6fe200-538b-4a91-84a8-b8bc7f423f16"
      },
      "execution_count": 23,
      "outputs": [
        {
          "output_type": "stream",
          "name": "stdout",
          "text": [
            "14 dress\n"
          ]
        }
      ]
    }
  ]
}