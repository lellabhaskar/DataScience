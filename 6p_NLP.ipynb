{
  "nbformat": 4,
  "nbformat_minor": 0,
  "metadata": {
    "colab": {
      "name": "6p_NLP.ipynb",
      "provenance": [],
      "collapsed_sections": [],
      "authorship_tag": "ABX9TyPnLVfOO2dXSS7bvjfB49cO",
      "include_colab_link": true
    },
    "kernelspec": {
      "name": "python3",
      "display_name": "Python 3"
    }
  },
  "cells": [
    {
      "cell_type": "markdown",
      "metadata": {
        "id": "view-in-github",
        "colab_type": "text"
      },
      "source": [
        "<a href=\"https://colab.research.google.com/github/lellabhaskar/DataScience/blob/main/6p_NLP.ipynb\" target=\"_parent\"><img src=\"https://colab.research.google.com/assets/colab-badge.svg\" alt=\"Open In Colab\"/></a>"
      ]
    },
    {
      "cell_type": "code",
      "source": [
        "!python --version"
      ],
      "metadata": {
        "id": "Xi_t_x7D-GsO",
        "colab": {
          "base_uri": "https://localhost:8080/"
        },
        "outputId": "8197d17c-5b1d-49d9-a768-e287a71d4287"
      },
      "execution_count": 2,
      "outputs": [
        {
          "output_type": "stream",
          "name": "stdout",
          "text": [
            "Python 3.7.12\n"
          ]
        }
      ]
    },
    {
      "cell_type": "code",
      "source": [
        "# Machine Learing works only for Numbers.\n",
        "# y=mx +c  or   y= weights*x + bias"
      ],
      "metadata": {
        "id": "b4s5KOoEM5ZM"
      },
      "execution_count": null,
      "outputs": []
    },
    {
      "cell_type": "code",
      "source": [
        "# we need to convert words/letters/sentences into mathematical entities are Numbers, Vectors, Tensor"
      ],
      "metadata": {
        "id": "fzTcEtrDNJxa"
      },
      "execution_count": null,
      "outputs": []
    },
    {
      "cell_type": "code",
      "source": [
        "# NLP used Libraries are -> Spacy, Textacy, NLTK, etc..."
      ],
      "metadata": {
        "id": "xITt6l54NZ1C"
      },
      "execution_count": null,
      "outputs": []
    },
    {
      "cell_type": "code",
      "source": [
        "# install spacy library on local machine or web server\n",
        "# pip install -U spacy\n",
        "# python -m spacy download en\n",
        "# python -m spacy download en_core_web_sm"
      ],
      "metadata": {
        "id": "guUTLDVBNj9c"
      },
      "execution_count": null,
      "outputs": []
    },
    {
      "cell_type": "code",
      "source": [
        "import spacy"
      ],
      "metadata": {
        "id": "p10QEQt5JTlj"
      },
      "execution_count": 3,
      "outputs": []
    },
    {
      "cell_type": "code",
      "source": [
        "# we need to download Dictionary\n",
        "# Dictionary created by language Experts, we don't create a new dictionary from scratch\n",
        "dictionary = spacy.load('en_core_web_sm')"
      ],
      "metadata": {
        "id": "Y4eFt8jmOWZT"
      },
      "execution_count": 4,
      "outputs": []
    },
    {
      "cell_type": "code",
      "source": [
        "text = 'Mary had a little lamb, little lamb, little lamb!'\n",
        "tokens = dictionary(text)  # Tokens are broken down pieces of text\n",
        "# Example of Tokens:\n",
        "# Document->Pages-> Paragraphs-> Sentences -> Words -> Letters\n",
        "# Above refer to the subject called Compiler Design -> Break down things into Trees and parse the tree "
      ],
      "metadata": {
        "id": "h44FEWS6O9zp"
      },
      "execution_count": null,
      "outputs": []
    },
    {
      "cell_type": "code",
      "source": [
        ""
      ],
      "metadata": {
        "id": "Mh26uMFcPAqY"
      },
      "execution_count": null,
      "outputs": []
    }
  ]
}