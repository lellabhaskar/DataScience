{
  "nbformat": 4,
  "nbformat_minor": 0,
  "metadata": {
    "colab": {
      "name": "Pandas melt.ipynb",
      "provenance": [],
      "collapsed_sections": [],
      "authorship_tag": "ABX9TyN1n91REat17lCda97/cV/C",
      "include_colab_link": true
    },
    "kernelspec": {
      "name": "python3",
      "display_name": "Python 3"
    }
  },
  "cells": [
    {
      "cell_type": "markdown",
      "metadata": {
        "id": "view-in-github",
        "colab_type": "text"
      },
      "source": [
        "<a href=\"https://colab.research.google.com/github/lellabhaskar/DataScience/blob/main/2/Pandas_melt.ipynb\" target=\"_parent\"><img src=\"https://colab.research.google.com/assets/colab-badge.svg\" alt=\"Open In Colab\"/></a>"
      ]
    },
    {
      "cell_type": "code",
      "metadata": {
        "id": "rmePioc7HRrR",
        "colab": {
          "base_uri": "https://localhost:8080/",
          "height": 85
        },
        "outputId": "a7db9cac-6784-4462-835c-28822b4b9189"
      },
      "source": [
        "import pandas as pd\n",
        "\n",
        "d1 = {\"Shop\": [\"ShopX\", \"ShopY\", \"ShopZ\"], 2017: [34, 68, 48], 2018: [25,76,55]}\n",
        "\n",
        "df = pd.DataFrame(d1)\n",
        "\n",
        "print(df)\n"
      ],
      "execution_count": null,
      "outputs": [
        {
          "output_type": "stream",
          "text": [
            "    Shop  2017  2018\n",
            "0  ShopX    34    25\n",
            "1  ShopY    68    76\n",
            "2  ShopZ    48    55\n"
          ],
          "name": "stdout"
        }
      ]
    },
    {
      "cell_type": "code",
      "metadata": {
        "id": "bXqZFrMkIiSi",
        "colab": {
          "base_uri": "https://localhost:8080/",
          "height": 136
        },
        "outputId": "5356ecbc-690c-4895-fb4b-df576d5a473d"
      },
      "source": [
        "df_melted = pd.melt(df, id_vars=[\"Shop\"], value_vars=[2017, 2018],var_name=\"year\")\n",
        "\n",
        "print(df_melted)"
      ],
      "execution_count": null,
      "outputs": [
        {
          "output_type": "stream",
          "text": [
            "    Shop  year  value\n",
            "0  ShopX  2017     34\n",
            "1  ShopY  2017     68\n",
            "2  ShopZ  2017     48\n",
            "3  ShopX  2018     25\n",
            "4  ShopY  2018     76\n",
            "5  ShopZ  2018     55\n"
          ],
          "name": "stdout"
        }
      ]
    },
    {
      "cell_type": "code",
      "metadata": {
        "id": "FOsqj1oMKht4",
        "colab": {
          "base_uri": "https://localhost:8080/",
          "height": 119
        },
        "outputId": "42670bf0-0818-42eb-a313-b75113bad280"
      },
      "source": [
        "df_unmelted = df_melted.pivot(index='Shop',columns=\"year\")\n",
        "\n",
        "print(df_unmelted)"
      ],
      "execution_count": null,
      "outputs": [
        {
          "output_type": "stream",
          "text": [
            "      value     \n",
            "year   2017 2018\n",
            "Shop            \n",
            "ShopX    34   25\n",
            "ShopY    68   76\n",
            "ShopZ    48   55\n"
          ],
          "name": "stdout"
        }
      ]
    }
  ]
}