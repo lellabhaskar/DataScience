{
  "nbformat": 4,
  "nbformat_minor": 0,
  "metadata": {
    "colab": {
      "name": "2p_Keras_Classification.ipynb",
      "provenance": [],
      "collapsed_sections": [],
      "authorship_tag": "ABX9TyNr5mMsVG1InO25LiimVh/C",
      "include_colab_link": true
    },
    "kernelspec": {
      "name": "python3",
      "display_name": "Python 3"
    }
  },
  "cells": [
    {
      "cell_type": "markdown",
      "metadata": {
        "id": "view-in-github",
        "colab_type": "text"
      },
      "source": [
        "<a href=\"https://colab.research.google.com/github/lellabhaskar/DataScience/blob/main/2/2p_Keras_Classification.ipynb\" target=\"_parent\"><img src=\"https://colab.research.google.com/assets/colab-badge.svg\" alt=\"Open In Colab\"/></a>"
      ]
    },
    {
      "cell_type": "code",
      "metadata": {
        "id": "rmePioc7HRrR",
        "colab": {
          "base_uri": "https://localhost:8080/"
        },
        "outputId": "3a0af5d4-36ae-483a-9dec-d71dc9ed9d55"
      },
      "source": [
        "%tensorflow_version 1.x\n",
        "import tensorflow as tf\n",
        "print(tf.__version__)\n"
      ],
      "execution_count": 1,
      "outputs": [
        {
          "output_type": "stream",
          "name": "stdout",
          "text": [
            "TensorFlow 1.x selected.\n",
            "1.15.2\n"
          ]
        }
      ]
    },
    {
      "cell_type": "code",
      "metadata": {
        "id": "bXqZFrMkIiSi",
        "colab": {
          "base_uri": "https://localhost:8080/"
        },
        "outputId": "10995433-10c8-4c40-88b1-4ce4eb8a91c1"
      },
      "source": [
        "from tensorflow import keras \n",
        "import numpy as np\n",
        "import matplotlib.pyplot as plt\n",
        "\n",
        "# inbuilt dataset from keras \n",
        "(xtrain, ytrain),(xtest,ytest) = keras.datasets.fashion_mnist.load_data()\n",
        "print(len(xtrain))\n",
        "print(len(ytrain))"
      ],
      "execution_count": 3,
      "outputs": [
        {
          "output_type": "stream",
          "name": "stdout",
          "text": [
            "60000\n",
            "60000\n"
          ]
        }
      ]
    },
    {
      "cell_type": "code",
      "source": [
        "# tensorflow.org/tutorials/keras/classification"
      ],
      "metadata": {
        "id": "gSvdmCHhWXS5"
      },
      "execution_count": null,
      "outputs": []
    },
    {
      "cell_type": "code",
      "source": [
        "class_names = ['T-shirt/top', 'Trouser', 'Pullover', 'Dress', 'Coat','Sandal', 'Shirt', 'Sneaker', 'Bag', 'Ankle boot']"
      ],
      "metadata": {
        "id": "ZtogKvz5XTOb"
      },
      "execution_count": 4,
      "outputs": []
    },
    {
      "cell_type": "code",
      "source": [
        "xtrain.shape   # xtrain[0]"
      ],
      "metadata": {
        "colab": {
          "base_uri": "https://localhost:8080/"
        },
        "id": "Om_Kix-GXd1n",
        "outputId": "4cde5c71-1aec-4ed4-95a4-13e913aadbe9"
      },
      "execution_count": 7,
      "outputs": [
        {
          "output_type": "execute_result",
          "data": {
            "text/plain": [
              "(60000, 28, 28)"
            ]
          },
          "metadata": {},
          "execution_count": 7
        }
      ]
    },
    {
      "cell_type": "code",
      "source": [
        "ytrain[0]"
      ],
      "metadata": {
        "colab": {
          "base_uri": "https://localhost:8080/"
        },
        "id": "GiGGY34hXqOR",
        "outputId": "02a258dd-72e5-492d-da39-ac2bda91b401"
      },
      "execution_count": 8,
      "outputs": [
        {
          "output_type": "execute_result",
          "data": {
            "text/plain": [
              "9"
            ]
          },
          "metadata": {},
          "execution_count": 8
        }
      ]
    },
    {
      "cell_type": "code",
      "source": [
        "print(class_names[ytrain[0]])"
      ],
      "metadata": {
        "colab": {
          "base_uri": "https://localhost:8080/"
        },
        "id": "iuVUYnF1YK6V",
        "outputId": "7da23829-9a33-432a-fde5-49ad658e254b"
      },
      "execution_count": 9,
      "outputs": [
        {
          "output_type": "stream",
          "name": "stdout",
          "text": [
            "Ankle boot\n"
          ]
        }
      ]
    },
    {
      "cell_type": "code",
      "source": [
        "plt.figure()\n",
        "plt.imshow(xtrain[0])\n",
        "plt.show()"
      ],
      "metadata": {
        "colab": {
          "base_uri": "https://localhost:8080/",
          "height": 265
        },
        "id": "A3gCncbBYPxa",
        "outputId": "bd3fe30f-d3fa-40d8-f6b1-8dac217986df"
      },
      "execution_count": 11,
      "outputs": [
        {
          "output_type": "display_data",
          "data": {
            "image/png": "[encoded data removed]",
            "text/plain": [
              "<Figure size 432x288 with 1 Axes>"
            ]
          },
          "metadata": {
            "needs_background": "light"
          }
        }
      ]
    },
    {
      "cell_type": "code",
      "source": [
        "plt.figure()\n",
        "plt.imshow(xtrain[0])\n",
        "plt.colorbar()\n",
        "plt.show()"
      ],
      "metadata": {
        "colab": {
          "base_uri": "https://localhost:8080/",
          "height": 265
        },
        "id": "LEsh3ymFYlOq",
        "outputId": "21354b59-32d4-49a3-bcb2-200b9574cd9e"
      },
      "execution_count": 13,
      "outputs": [
        {
          "output_type": "display_data",
          "data": {
            "image/png": "[encoded data removed]",
            "text/plain": [
              "<Figure size 432x288 with 2 Axes>"
            ]
          },
          "metadata": {
            "needs_background": "light"
          }
        }
      ]
    },
    {
      "cell_type": "code",
      "source": [
        "plt.figure()\n",
        "plt.imshow(xtrain[0],cmap='gray')# Greys # gray  --here Both are opposite\n",
        "plt.colorbar()\n",
        "plt.show()"
      ],
      "metadata": {
        "colab": {
          "base_uri": "https://localhost:8080/",
          "height": 265
        },
        "id": "V_RvsQxZYtaK",
        "outputId": "afba6d45-3b0b-4cff-f3b0-07a216c1dd96"
      },
      "execution_count": 15,
      "outputs": [
        {
          "output_type": "display_data",
          "data": {
            "image/png": "[encoded data removed]",
            "text/plain": [
              "<Figure size 432x288 with 2 Axes>"
            ]
          },
          "metadata": {
            "needs_background": "light"
          }
        }
      ]
    },
    {
      "cell_type": "code",
      "source": [
        "print(class_names[ytrain[32]])\n",
        "plt.figure()\n",
        "plt.imshow(xtrain[32], cmap='Greys')\n",
        "plt.colorbar()\n",
        "plt.show()"
      ],
      "metadata": {
        "colab": {
          "base_uri": "https://localhost:8080/",
          "height": 282
        },
        "id": "Hxix5EzuZFF5",
        "outputId": "4e205808-3ac7-4333-9097-43995f5a03f7"
      },
      "execution_count": 16,
      "outputs": [
        {
          "output_type": "stream",
          "name": "stdout",
          "text": [
            "Shirt\n"
          ]
        },
        {
          "output_type": "display_data",
          "data": {
            "image/png": "[encoded data removed]",
            "text/plain": [
              "<Figure size 432x288 with 2 Axes>"
            ]
          },
          "metadata": {
            "needs_background": "light"
          }
        }
      ]
    },
    {
      "cell_type": "code",
      "source": [
        "img = xtrain[32]/255 # ALl the numbers will become between 0 and 1! \n",
        "# min -> 0/255 = 0! max -> 255/255 -> 1 \n",
        "img"
      ],
      "metadata": {
        "colab": {
          "base_uri": "https://localhost:8080/"
        },
        "id": "of_DvNZSZaiU",
        "outputId": "370077be-33f4-4011-f9f6-38b433cc622a"
      },
      "execution_count": 17,
      "outputs": [
        {
          "output_type": "execute_result",
          "data": {
            "text/plain": [
              "array([[0.        , 0.        , 0.        , 0.        , 0.        ,\n",
              "        0.00392157, 0.00784314, 0.        , 0.        , 0.        ,\n",
              "        0.        , 0.22745098, 0.34509804, 0.4       , 0.30588235,\n",
              "        0.39215686, 0.50196078, 0.36862745, 0.        , 0.        ,\n",
              "        0.        , 0.        , 0.        , 0.00784314, 0.        ,\n",
              "        0.        , 0.        , 0.        ],\n",
              "       [0.        , 0.        , 0.        , 0.        , 0.00392157,\n",
              "        0.00392157, 0.00392157, 0.00784314, 0.        , 0.        ,\n",
              "        0.03529412, 0.83137255, 0.67058824, 0.76470588, 0.69019608,\n",
              "        0.87058824, 0.7372549 , 0.72941176, 0.23137255, 0.        ,\n",
              "        0.00392157, 0.00392157, 0.01176471, 0.00392157, 0.        ,\n",
              "        0.        , 0.        , 0.        ],\n",
              "       [0.        , 0.        , 0.        , 0.        , 0.        ,\n",
              "        0.        , 0.        , 0.        , 0.        , 0.        ,\n",
              "        0.72156863, 0.68235294, 0.73333333, 0.64705882, 0.71372549,\n",
              "        0.54509804, 0.5372549 , 0.81568627, 0.63137255, 0.12156863,\n",
              "        0.        , 0.        , 0.        , 0.00392157, 0.        ,\n",
              "        0.        , 0.        , 0.        ],\n",
              "       [0.        , 0.        , 0.        , 0.        , 0.        ,\n",
              "        0.        , 0.        , 0.30196078, 0.5254902 , 0.70980392,\n",
              "        0.77647059, 0.71372549, 0.89411765, 0.71764706, 0.63137255,\n",
              "        0.5254902 , 0.8627451 , 0.72156863, 0.82352941, 0.7372549 ,\n",
              "        0.65882353, 0.36078431, 0.        , 0.        , 0.        ,\n",
              "        0.        , 0.        , 0.        ],\n",
              "       [0.        , 0.        , 0.        , 0.        , 0.        ,\n",
              "        0.        , 0.40784314, 0.78039216, 0.75686275, 0.65882353,\n",
              "        0.56078431, 0.50588235, 0.75686275, 0.56078431, 0.74509804,\n",
              "        0.64313725, 0.59215686, 0.47058824, 0.47058824, 0.54901961,\n",
              "        0.75294118, 0.73333333, 0.56078431, 0.        , 0.        ,\n",
              "        0.        , 0.        , 0.        ],\n",
              "       [0.        , 0.        , 0.        , 0.        , 0.        ,\n",
              "        0.00392157, 0.64313725, 0.68235294, 0.52941176, 0.41960784,\n",
              "        0.49411765, 0.45098039, 0.6627451 , 0.54509804, 0.4       ,\n",
              "        0.84705882, 0.56078431, 0.43137255, 0.46666667, 0.48627451,\n",
              "        0.65098039, 0.44705882, 0.59215686, 0.27058824, 0.        ,\n",
              "        0.        , 0.        , 0.        ],\n",
              "       [0.        , 0.        , 0.        , 0.        , 0.        ,\n",
              "        0.22745098, 0.87843137, 0.76470588, 0.54509804, 0.52156863,\n",
              "        0.48235294, 0.45882353, 0.73333333, 0.62745098, 0.50980392,\n",
              "        0.49019608, 0.61176471, 0.44705882, 0.59215686, 0.40784314,\n",
              "        0.83137255, 0.5254902 , 0.81960784, 0.48627451, 0.        ,\n",
              "        0.        , 0.        , 0.        ],\n",
              "       [0.        , 0.        , 0.        , 0.        , 0.        ,\n",
              "        0.45490196, 0.76862745, 0.70588235, 0.71764706, 0.58039216,\n",
              "        0.47843137, 0.43137255, 0.35686275, 0.89019608, 0.31764706,\n",
              "        0.7254902 , 0.93333333, 0.66666667, 0.61176471, 0.31764706,\n",
              "        0.56862745, 0.23529412, 0.69019608, 0.63529412, 0.        ,\n",
              "        0.        , 0.        , 0.        ],\n",
              "       [0.        , 0.        , 0.        , 0.        , 0.        ,\n",
              "        0.6       , 0.58431373, 0.74509804, 0.81568627, 0.78039216,\n",
              "        0.55686275, 0.37647059, 0.7372549 , 0.74901961, 0.71764706,\n",
              "        0.68627451, 0.7254902 , 0.87058824, 0.43529412, 0.60784314,\n",
              "        0.25098039, 0.72941176, 0.54509804, 0.59215686, 0.        ,\n",
              "        0.        , 0.        , 0.        ],\n",
              "       [0.        , 0.        , 0.        , 0.        , 0.        ,\n",
              "        0.70980392, 0.55686275, 0.74509804, 0.61568627, 0.60392157,\n",
              "        0.64313725, 0.8       , 0.7254902 , 0.61176471, 0.61176471,\n",
              "        0.44313725, 0.48235294, 0.37254902, 0.64705882, 0.5372549 ,\n",
              "        0.69019608, 0.5372549 , 0.57647059, 0.6       , 0.        ,\n",
              "        0.        , 0.        , 0.        ],\n",
              "       [0.        , 0.        , 0.        , 0.        , 0.        ,\n",
              "        0.71764706, 0.57647059, 0.72941176, 0.23529412, 0.55294118,\n",
              "        0.46666667, 0.94117647, 0.7254902 , 0.55294118, 0.64705882,\n",
              "        0.7372549 , 0.64705882, 0.35686275, 0.41176471, 0.78431373,\n",
              "        0.92156863, 0.53333333, 0.59215686, 0.87058824, 0.        ,\n",
              "        0.        , 0.        , 0.        ],\n",
              "       [0.        , 0.        , 0.        , 0.        , 0.01960784,\n",
              "        0.74901961, 0.7372549 , 0.88627451, 0.49019608, 0.42745098,\n",
              "        0.87058824, 0.32941176, 0.6745098 , 0.66666667, 0.53333333,\n",
              "        0.52941176, 0.69411765, 0.43137255, 0.64313725, 0.61568627,\n",
              "        0.56470588, 0.54509804, 0.74901961, 0.7372549 , 0.02352941,\n",
              "        0.        , 0.        , 0.        ],\n",
              "       [0.        , 0.        , 0.        , 0.        , 0.        ,\n",
              "        0.7372549 , 0.61176471, 0.71764706, 0.60392157, 0.82745098,\n",
              "        0.35294118, 0.68235294, 0.88627451, 0.91372549, 0.43921569,\n",
              "        0.74509804, 0.8745098 , 0.74901961, 0.63137255, 0.48235294,\n",
              "        0.69411765, 0.52941176, 0.56078431, 0.78823529, 0.05098039,\n",
              "        0.        , 0.        , 0.        ],\n",
              "       [0.        , 0.        , 0.        , 0.        , 0.        ,\n",
              "        0.73333333, 0.47058824, 0.76078431, 0.91372549, 0.7372549 ,\n",
              "        0.67058824, 0.63529412, 0.68627451, 0.8       , 0.4627451 ,\n",
              "        0.52941176, 0.63529412, 0.45490196, 0.61960784, 0.77647059,\n",
              "        0.85098039, 0.71764706, 0.43921569, 0.74117647, 0.07058824,\n",
              "        0.        , 0.        , 0.        ],\n",
              "       [0.        , 0.        , 0.        , 0.        , 0.03529412,\n",
              "        0.78823529, 0.47843137, 0.7372549 , 0.66666667, 0.54901961,\n",
              "        0.54901961, 0.45882353, 0.64705882, 0.72156863, 0.44705882,\n",
              "        0.60784314, 0.55294118, 0.55686275, 0.42745098, 0.6       ,\n",
              "        0.62352941, 0.5372549 , 0.47843137, 0.8       , 0.15686275,\n",
              "        0.        , 0.        , 0.        ],\n",
              "       [0.        , 0.        , 0.        , 0.        , 0.15686275,\n",
              "        0.8       , 0.49411765, 0.72941176, 0.61960784, 0.50196078,\n",
              "        0.49411765, 0.38039216, 0.57647059, 0.62352941, 0.57254902,\n",
              "        0.8       , 0.53333333, 0.4627451 , 0.30980392, 0.64313725,\n",
              "        0.52941176, 0.5254902 , 0.5254902 , 0.81176471, 0.24313725,\n",
              "        0.        , 0.        , 0.        ],\n",
              "       [0.        , 0.        , 0.        , 0.        , 0.30588235,\n",
              "        0.84705882, 0.72941176, 0.75686275, 0.57647059, 0.55686275,\n",
              "        0.54117647, 0.50588235, 0.62745098, 0.74117647, 0.88235294,\n",
              "        0.55294118, 0.6       , 0.49019608, 0.48627451, 0.63137255,\n",
              "        0.52156863, 0.55294118, 0.74117647, 0.8       , 0.31764706,\n",
              "        0.        , 0.        , 0.        ],\n",
              "       [0.        , 0.        , 0.        , 0.        , 0.21960784,\n",
              "        0.76078431, 0.63921569, 0.74901961, 0.61176471, 0.56078431,\n",
              "        0.56078431, 0.57647059, 0.75294118, 0.86666667, 0.58823529,\n",
              "        0.75686275, 0.87058824, 0.56470588, 0.61176471, 0.6627451 ,\n",
              "        0.62352941, 0.52156863, 0.46666667, 0.74509804, 0.29411765,\n",
              "        0.        , 0.        , 0.        ],\n",
              "       [0.        , 0.        , 0.        , 0.        , 0.24705882,\n",
              "        0.72941176, 0.54901961, 0.84705882, 0.85098039, 0.84705882,\n",
              "        0.78039216, 0.71372549, 0.80392157, 0.84313725, 0.37254902,\n",
              "        0.6       , 0.74117647, 0.56470588, 0.73333333, 0.81568627,\n",
              "        0.81960784, 0.71372549, 0.50980392, 0.65098039, 0.29411765,\n",
              "        0.        , 0.        , 0.        ],\n",
              "       [0.        , 0.        , 0.        , 0.        , 0.34901961,\n",
              "        0.65098039, 0.4745098 , 0.77647059, 0.68235294, 0.61568627,\n",
              "        0.4745098 , 0.49411765, 0.6627451 , 0.69019608, 0.66666667,\n",
              "        0.4745098 , 0.6745098 , 0.43529412, 0.52156863, 0.57254902,\n",
              "        0.66666667, 0.73333333, 0.50980392, 0.68627451, 0.38823529,\n",
              "        0.        , 0.        , 0.        ],\n",
              "       [0.        , 0.        , 0.        , 0.        , 0.40784314,\n",
              "        0.62745098, 0.63529412, 0.71372549, 0.60784314, 0.59215686,\n",
              "        0.50196078, 0.43921569, 0.61176471, 0.61960784, 0.52156863,\n",
              "        0.73333333, 0.54901961, 0.41568627, 0.45490196, 0.63529412,\n",
              "        0.54117647, 0.35294118, 0.56078431, 0.69019608, 0.4       ,\n",
              "        0.        , 0.        , 0.        ],\n",
              "       [0.        , 0.        , 0.        , 0.        , 0.64705882,\n",
              "        0.77647059, 0.8       , 0.64313725, 0.56862745, 0.53333333,\n",
              "        0.48235294, 0.48627451, 0.72156863, 0.67843137, 0.52941176,\n",
              "        0.5372549 , 0.66666667, 0.56862745, 0.44313725, 0.67843137,\n",
              "        0.6       , 0.33333333, 0.81176471, 0.90980392, 0.54901961,\n",
              "        0.        , 0.        , 0.        ],\n",
              "       [0.        , 0.        , 0.        , 0.        , 0.48627451,\n",
              "        0.70980392, 0.83921569, 0.70588235, 0.61568627, 0.56862745,\n",
              "        0.56862745, 0.48627451, 0.7254902 , 0.75686275, 0.49411765,\n",
              "        0.55294118, 0.8       , 0.52156863, 0.43137255, 0.71372549,\n",
              "        0.59215686, 0.65882353, 0.61176471, 0.57254902, 0.42745098,\n",
              "        0.        , 0.        , 0.        ],\n",
              "       [0.        , 0.        , 0.        , 0.        , 0.45098039,\n",
              "        0.38431373, 0.62745098, 0.74117647, 0.74901961, 0.77647059,\n",
              "        0.78823529, 0.76470588, 0.92156863, 0.82745098, 0.83529412,\n",
              "        0.92941176, 0.85882353, 0.6745098 , 0.80392157, 0.85098039,\n",
              "        0.70980392, 0.70980392, 0.65490196, 0.50588235, 0.44313725,\n",
              "        0.        , 0.        , 0.        ],\n",
              "       [0.        , 0.        , 0.        , 0.        , 0.56470588,\n",
              "        0.45098039, 0.6627451 , 0.56078431, 0.74509804, 0.6       ,\n",
              "        0.50588235, 0.4627451 , 0.68235294, 0.47058824, 0.68235294,\n",
              "        0.92941176, 0.57254902, 0.44313725, 0.49411765, 0.6627451 ,\n",
              "        0.58039216, 0.62352941, 0.65490196, 0.50196078, 0.50980392,\n",
              "        0.        , 0.        , 0.        ],\n",
              "       [0.        , 0.        , 0.        , 0.        , 0.54901961,\n",
              "        0.58431373, 0.68235294, 0.1254902 , 0.75294118, 0.72156863,\n",
              "        0.67843137, 0.62352941, 0.72941176, 0.62745098, 0.62745098,\n",
              "        0.36862745, 0.63137255, 0.48235294, 0.48235294, 0.64705882,\n",
              "        0.75294118, 0.31764706, 0.57254902, 0.58039216, 0.40784314,\n",
              "        0.        , 0.        , 0.        ],\n",
              "       [0.        , 0.        , 0.        , 0.        , 0.        ,\n",
              "        0.        , 0.        , 0.        , 0.21176471, 0.87058824,\n",
              "        0.93333333, 0.86666667, 0.85490196, 0.99215686, 0.89019608,\n",
              "        1.        , 0.90196078, 0.85882353, 0.89019608, 0.9372549 ,\n",
              "        0.63529412, 0.        , 0.        , 0.        , 0.        ,\n",
              "        0.        , 0.        , 0.        ],\n",
              "       [0.        , 0.        , 0.        , 0.        , 0.        ,\n",
              "        0.        , 0.        , 0.        , 0.        , 0.        ,\n",
              "        0.08627451, 0.23921569, 0.34509804, 0.37254902, 0.4       ,\n",
              "        0.48235294, 0.3372549 , 0.25882353, 0.12941176, 0.        ,\n",
              "        0.        , 0.        , 0.        , 0.        , 0.        ,\n",
              "        0.        , 0.        , 0.        ]])"
            ]
          },
          "metadata": {},
          "execution_count": 17
        }
      ]
    },
    {
      "cell_type": "code",
      "source": [
        "plt.figure()\n",
        "plt.imshow(img)\n",
        "plt.colorbar()\n",
        "plt.show()"
      ],
      "metadata": {
        "colab": {
          "base_uri": "https://localhost:8080/",
          "height": 269
        },
        "id": "axwnGvNsbdVj",
        "outputId": "468994e9-c4a9-4419-8df4-829821c4952d"
      },
      "execution_count": 18,
      "outputs": [
        {
          "output_type": "display_data",
          "data": {
            "image/png": "[encoded data removed]",
            "text/plain": [
              "<Figure size 432x288 with 2 Axes>"
            ]
          },
          "metadata": {
            "needs_background": "light"
          }
        }
      ]
    },
    {
      "cell_type": "code",
      "source": [
        ""
      ],
      "metadata": {
        "id": "EyDoYh9obw3X"
      },
      "execution_count": null,
      "outputs": []
    }
  ]
}