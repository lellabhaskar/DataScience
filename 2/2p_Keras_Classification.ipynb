{
  "nbformat": 4,
  "nbformat_minor": 0,
  "metadata": {
    "colab": {
      "name": "2p_Keras_Classification.ipynb",
      "provenance": [],
      "collapsed_sections": [],
      "authorship_tag": "ABX9TyNLLHlIT+a9RMQ7IS7W6nD7",
      "include_colab_link": true
    },
    "kernelspec": {
      "name": "python3",
      "display_name": "Python 3"
    }
  },
  "cells": [
    {
      "cell_type": "markdown",
      "metadata": {
        "id": "view-in-github",
        "colab_type": "text"
      },
      "source": [
        "<a href=\"https://colab.research.google.com/github/lellabhaskar/DataScience/blob/main/2/2p_Keras_Classification.ipynb\" target=\"_parent\"><img src=\"https://colab.research.google.com/assets/colab-badge.svg\" alt=\"Open In Colab\"/></a>"
      ]
    },
    {
      "cell_type": "code",
      "metadata": {
        "id": "rmePioc7HRrR",
        "colab": {
          "base_uri": "https://localhost:8080/"
        },
        "outputId": "3a0af5d4-36ae-483a-9dec-d71dc9ed9d55"
      },
      "source": [
        "%tensorflow_version 1.x\n",
        "import tensorflow as tf\n",
        "print(tf.__version__)\n"
      ],
      "execution_count": 1,
      "outputs": [
        {
          "output_type": "stream",
          "name": "stdout",
          "text": [
            "TensorFlow 1.x selected.\n",
            "1.15.2\n"
          ]
        }
      ]
    },
    {
      "cell_type": "code",
      "metadata": {
        "id": "bXqZFrMkIiSi",
        "colab": {
          "base_uri": "https://localhost:8080/"
        },
        "outputId": "7850ee14-9232-46bd-f90d-b9fb82f3afbe"
      },
      "source": [
        "from tensorflow import keras \n",
        "import numpy as np\n",
        "import matplotlib.pyplot as plt\n",
        "\n",
        "# inbuilt dataset from keras \n",
        "(xtrain, ytrain),(xtest,ytest) = keras.datasets.fashion_mnist.load_data()\n",
        "print(len(xtrain))\n",
        "print(len(ytrain))"
      ],
      "execution_count": 23,
      "outputs": [
        {
          "output_type": "stream",
          "name": "stdout",
          "text": [
            "60000\n",
            "60000\n"
          ]
        }
      ]
    },
    {
      "cell_type": "code",
      "source": [
        "dir(keras.datasets.fashion_mnist)"
      ],
      "metadata": {
        "colab": {
          "base_uri": "https://localhost:8080/"
        },
        "id": "8Wsewx0jeBUf",
        "outputId": "708cd0ea-a615-4c99-9e9e-f8b9e8c991e4"
      },
      "execution_count": 26,
      "outputs": [
        {
          "output_type": "execute_result",
          "data": {
            "text/plain": [
              "['__all__',\n",
              " '__builtins__',\n",
              " '__cached__',\n",
              " '__doc__',\n",
              " '__file__',\n",
              " '__loader__',\n",
              " '__name__',\n",
              " '__package__',\n",
              " '__path__',\n",
              " '__spec__',\n",
              " '_module_wrapper',\n",
              " '_sys',\n",
              " 'load_data']"
            ]
          },
          "metadata": {},
          "execution_count": 26
        }
      ]
    },
    {
      "cell_type": "code",
      "source": [
        "# tensorflow.org/tutorials/keras/classification"
      ],
      "metadata": {
        "id": "gSvdmCHhWXS5"
      },
      "execution_count": null,
      "outputs": []
    },
    {
      "cell_type": "code",
      "source": [
        "class_names = ['T-shirt/top', 'Trouser', 'Pullover', 'Dress', 'Coat','Sandal', 'Shirt', 'Sneaker', 'Bag', 'Ankle boot']"
      ],
      "metadata": {
        "id": "ZtogKvz5XTOb"
      },
      "execution_count": 4,
      "outputs": []
    },
    {
      "cell_type": "code",
      "source": [
        "xtrain.shape   # xtrain[0]"
      ],
      "metadata": {
        "colab": {
          "base_uri": "https://localhost:8080/"
        },
        "id": "Om_Kix-GXd1n",
        "outputId": "4cde5c71-1aec-4ed4-95a4-13e913aadbe9"
      },
      "execution_count": 7,
      "outputs": [
        {
          "output_type": "execute_result",
          "data": {
            "text/plain": [
              "(60000, 28, 28)"
            ]
          },
          "metadata": {},
          "execution_count": 7
        }
      ]
    },
    {
      "cell_type": "code",
      "source": [
        "ytrain[0]"
      ],
      "metadata": {
        "colab": {
          "base_uri": "https://localhost:8080/"
        },
        "id": "GiGGY34hXqOR",
        "outputId": "02a258dd-72e5-492d-da39-ac2bda91b401"
      },
      "execution_count": 8,
      "outputs": [
        {
          "output_type": "execute_result",
          "data": {
            "text/plain": [
              "9"
            ]
          },
          "metadata": {},
          "execution_count": 8
        }
      ]
    },
    {
      "cell_type": "code",
      "source": [
        "print(class_names[ytrain[0]])"
      ],
      "metadata": {
        "colab": {
          "base_uri": "https://localhost:8080/"
        },
        "id": "iuVUYnF1YK6V",
        "outputId": "7da23829-9a33-432a-fde5-49ad658e254b"
      },
      "execution_count": 9,
      "outputs": [
        {
          "output_type": "stream",
          "name": "stdout",
          "text": [
            "Ankle boot\n"
          ]
        }
      ]
    },
    {
      "cell_type": "code",
      "source": [
        "plt.figure()\n",
        "plt.imshow(xtrain[0])\n",
        "plt.show()"
      ],
      "metadata": {
        "colab": {
          "base_uri": "https://localhost:8080/",
          "height": 265
        },
        "id": "A3gCncbBYPxa",
        "outputId": "bd3fe30f-d3fa-40d8-f6b1-8dac217986df"
      },
      "execution_count": 11,
      "outputs": [
        {
          "output_type": "display_data",
          "data": {
            "image/png": "[encoded data removed]",
            "text/plain": [
              "<Figure size 432x288 with 1 Axes>"
            ]
          },
          "metadata": {
            "needs_background": "light"
          }
        }
      ]
    },
    {
      "cell_type": "code",
      "source": [
        "plt.figure()\n",
        "plt.imshow(xtrain[0])\n",
        "plt.colorbar()\n",
        "plt.show()"
      ],
      "metadata": {
        "colab": {
          "base_uri": "https://localhost:8080/",
          "height": 265
        },
        "id": "LEsh3ymFYlOq",
        "outputId": "21354b59-32d4-49a3-bcb2-200b9574cd9e"
      },
      "execution_count": 13,
      "outputs": [
        {
          "output_type": "display_data",
          "data": {
            "image/png": "[encoded data removed]",
            "text/plain": [
              "<Figure size 432x288 with 2 Axes>"
            ]
          },
          "metadata": {
            "needs_background": "light"
          }
        }
      ]
    },
    {
      "cell_type": "code",
      "source": [
        "plt.figure()\n",
        "plt.imshow(xtrain[0],cmap='gray')# Greys # gray  --here Both are opposite\n",
        "plt.colorbar()\n",
        "plt.show()"
      ],
      "metadata": {
        "colab": {
          "base_uri": "https://localhost:8080/",
          "height": 265
        },
        "id": "V_RvsQxZYtaK",
        "outputId": "afba6d45-3b0b-4cff-f3b0-07a216c1dd96"
      },
      "execution_count": 15,
      "outputs": [
        {
          "output_type": "display_data",
          "data": {
            "image/png": "[encoded data removed]",
            "text/plain": [
              "<Figure size 432x288 with 2 Axes>"
            ]
          },
          "metadata": {
            "needs_background": "light"
          }
        }
      ]
    },
    {
      "cell_type": "code",
      "source": [
        "print(class_names[ytrain[32]])\n",
        "plt.figure()\n",
        "plt.imshow(xtrain[32], cmap='Greys')\n",
        "plt.colorbar()\n",
        "plt.show()"
      ],
      "metadata": {
        "colab": {
          "base_uri": "https://localhost:8080/",
          "height": 282
        },
        "id": "Hxix5EzuZFF5",
        "outputId": "4e205808-3ac7-4333-9097-43995f5a03f7"
      },
      "execution_count": 16,
      "outputs": [
        {
          "output_type": "stream",
          "name": "stdout",
          "text": [
            "Shirt\n"
          ]
        },
        {
          "output_type": "display_data",
          "data": {
            "image/png": "[encoded data removed]",
            "text/plain": [
              "<Figure size 432x288 with 2 Axes>"
            ]
          },
          "metadata": {
            "needs_background": "light"
          }
        }
      ]
    },
    {
      "cell_type": "code",
      "source": [
        "img = xtrain[32]/255 # ALl the numbers will become between 0 and 1! \n",
        "# min -> 0/255 = 0! max -> 255/255 -> 1 \n",
        "img"
      ],
      "metadata": {
        "colab": {
          "base_uri": "https://localhost:8080/"
        },
        "id": "of_DvNZSZaiU",
        "outputId": "370077be-33f4-4011-f9f6-38b433cc622a"
      },
      "execution_count": 17,
      "outputs": [
        {
          "output_type": "execute_result",
          "data": {
            "text/plain": [
              "array([[0.        , 0.        , 0.        , 0.        , 0.        ,\n",
              "        0.00392157, 0.00784314, 0.        , 0.        , 0.        ,\n",
              "        0.        , 0.22745098, 0.34509804, 0.4       , 0.30588235,\n",
              "        0.39215686, 0.50196078, 0.36862745, 0.        , 0.        ,\n",
              "        0.        , 0.        , 0.        , 0.00784314, 0.        ,\n",
              "        0.        , 0.        , 0.        ],\n",
              "       [0.        , 0.        , 0.        , 0.        , 0.00392157,\n",
              "        0.00392157, 0.00392157, 0.00784314, 0.        , 0.        ,\n",
              "        0.03529412, 0.83137255, 0.67058824, 0.76470588, 0.69019608,\n",
              "        0.87058824, 0.7372549 , 0.72941176, 0.23137255, 0.        ,\n",
              "        0.00392157, 0.00392157, 0.01176471, 0.00392157, 0.        ,\n",
              "        0.        , 0.        , 0.        ],\n",
              "       [0.        , 0.        , 0.        , 0.        , 0.        ,\n",
              "        0.        , 0.        , 0.        , 0.        , 0.        ,\n",
              "        0.72156863, 0.68235294, 0.73333333, 0.64705882, 0.71372549,\n",
              "        0.54509804, 0.5372549 , 0.81568627, 0.63137255, 0.12156863,\n",
              "        0.        , 0.        , 0.        , 0.00392157, 0.        ,\n",
              "        0.        , 0.        , 0.        ],\n",
              "       [0.        , 0.        , 0.        , 0.        , 0.        ,\n",
              "        0.        , 0.        , 0.30196078, 0.5254902 , 0.70980392,\n",
              "        0.77647059, 0.71372549, 0.89411765, 0.71764706, 0.63137255,\n",
              "        0.5254902 , 0.8627451 , 0.72156863, 0.82352941, 0.7372549 ,\n",
              "        0.65882353, 0.36078431, 0.        , 0.        , 0.        ,\n",
              "        0.        , 0.        , 0.        ],\n",
              "       [0.        , 0.        , 0.        , 0.        , 0.        ,\n",
              "        0.        , 0.40784314, 0.78039216, 0.75686275, 0.65882353,\n",
              "        0.56078431, 0.50588235, 0.75686275, 0.56078431, 0.74509804,\n",
              "        0.64313725, 0.59215686, 0.47058824, 0.47058824, 0.54901961,\n",
              "        0.75294118, 0.73333333, 0.56078431, 0.        , 0.        ,\n",
              "        0.        , 0.        , 0.        ],\n",
              "       [0.        , 0.        , 0.        , 0.        , 0.        ,\n",
              "        0.00392157, 0.64313725, 0.68235294, 0.52941176, 0.41960784,\n",
              "        0.49411765, 0.45098039, 0.6627451 , 0.54509804, 0.4       ,\n",
              "        0.84705882, 0.56078431, 0.43137255, 0.46666667, 0.48627451,\n",
              "        0.65098039, 0.44705882, 0.59215686, 0.27058824, 0.        ,\n",
              "        0.        , 0.        , 0.        ],\n",
              "       [0.        , 0.        , 0.        , 0.        , 0.        ,\n",
              "        0.22745098, 0.87843137, 0.76470588, 0.54509804, 0.52156863,\n",
              "        0.48235294, 0.45882353, 0.73333333, 0.62745098, 0.50980392,\n",
              "        0.49019608, 0.61176471, 0.44705882, 0.59215686, 0.40784314,\n",
              "        0.83137255, 0.5254902 , 0.81960784, 0.48627451, 0.        ,\n",
              "        0.        , 0.        , 0.        ],\n",
              "       [0.        , 0.        , 0.        , 0.        , 0.        ,\n",
              "        0.45490196, 0.76862745, 0.70588235, 0.71764706, 0.58039216,\n",
              "        0.47843137, 0.43137255, 0.35686275, 0.89019608, 0.31764706,\n",
              "        0.7254902 , 0.93333333, 0.66666667, 0.61176471, 0.31764706,\n",
              "        0.56862745, 0.23529412, 0.69019608, 0.63529412, 0.        ,\n",
              "        0.        , 0.        , 0.        ],\n",
              "       [0.        , 0.        , 0.        , 0.        , 0.        ,\n",
              "        0.6       , 0.58431373, 0.74509804, 0.81568627, 0.78039216,\n",
              "        0.55686275, 0.37647059, 0.7372549 , 0.74901961, 0.71764706,\n",
              "        0.68627451, 0.7254902 , 0.87058824, 0.43529412, 0.60784314,\n",
              "        0.25098039, 0.72941176, 0.54509804, 0.59215686, 0.        ,\n",
              "        0.        , 0.        , 0.        ],\n",
              "       [0.        , 0.        , 0.        , 0.        , 0.        ,\n",
              "        0.70980392, 0.55686275, 0.74509804, 0.61568627, 0.60392157,\n",
              "        0.64313725, 0.8       , 0.7254902 , 0.61176471, 0.61176471,\n",
              "        0.44313725, 0.48235294, 0.37254902, 0.64705882, 0.5372549 ,\n",
              "        0.69019608, 0.5372549 , 0.57647059, 0.6       , 0.        ,\n",
              "        0.        , 0.        , 0.        ],\n",
              "       [0.        , 0.        , 0.        , 0.        , 0.        ,\n",
              "        0.71764706, 0.57647059, 0.72941176, 0.23529412, 0.55294118,\n",
              "        0.46666667, 0.94117647, 0.7254902 , 0.55294118, 0.64705882,\n",
              "        0.7372549 , 0.64705882, 0.35686275, 0.41176471, 0.78431373,\n",
              "        0.92156863, 0.53333333, 0.59215686, 0.87058824, 0.        ,\n",
              "        0.        , 0.        , 0.        ],\n",
              "       [0.        , 0.        , 0.        , 0.        , 0.01960784,\n",
              "        0.74901961, 0.7372549 , 0.88627451, 0.49019608, 0.42745098,\n",
              "        0.87058824, 0.32941176, 0.6745098 , 0.66666667, 0.53333333,\n",
              "        0.52941176, 0.69411765, 0.43137255, 0.64313725, 0.61568627,\n",
              "        0.56470588, 0.54509804, 0.74901961, 0.7372549 , 0.02352941,\n",
              "        0.        , 0.        , 0.        ],\n",
              "       [0.        , 0.        , 0.        , 0.        , 0.        ,\n",
              "        0.7372549 , 0.61176471, 0.71764706, 0.60392157, 0.82745098,\n",
              "        0.35294118, 0.68235294, 0.88627451, 0.91372549, 0.43921569,\n",
              "        0.74509804, 0.8745098 , 0.74901961, 0.63137255, 0.48235294,\n",
              "        0.69411765, 0.52941176, 0.56078431, 0.78823529, 0.05098039,\n",
              "        0.        , 0.        , 0.        ],\n",
              "       [0.        , 0.        , 0.        , 0.        , 0.        ,\n",
              "        0.73333333, 0.47058824, 0.76078431, 0.91372549, 0.7372549 ,\n",
              "        0.67058824, 0.63529412, 0.68627451, 0.8       , 0.4627451 ,\n",
              "        0.52941176, 0.63529412, 0.45490196, 0.61960784, 0.77647059,\n",
              "        0.85098039, 0.71764706, 0.43921569, 0.74117647, 0.07058824,\n",
              "        0.        , 0.        , 0.        ],\n",
              "       [0.        , 0.        , 0.        , 0.        , 0.03529412,\n",
              "        0.78823529, 0.47843137, 0.7372549 , 0.66666667, 0.54901961,\n",
              "        0.54901961, 0.45882353, 0.64705882, 0.72156863, 0.44705882,\n",
              "        0.60784314, 0.55294118, 0.55686275, 0.42745098, 0.6       ,\n",
              "        0.62352941, 0.5372549 , 0.47843137, 0.8       , 0.15686275,\n",
              "        0.        , 0.        , 0.        ],\n",
              "       [0.        , 0.        , 0.        , 0.        , 0.15686275,\n",
              "        0.8       , 0.49411765, 0.72941176, 0.61960784, 0.50196078,\n",
              "        0.49411765, 0.38039216, 0.57647059, 0.62352941, 0.57254902,\n",
              "        0.8       , 0.53333333, 0.4627451 , 0.30980392, 0.64313725,\n",
              "        0.52941176, 0.5254902 , 0.5254902 , 0.81176471, 0.24313725,\n",
              "        0.        , 0.        , 0.        ],\n",
              "       [0.        , 0.        , 0.        , 0.        , 0.30588235,\n",
              "        0.84705882, 0.72941176, 0.75686275, 0.57647059, 0.55686275,\n",
              "        0.54117647, 0.50588235, 0.62745098, 0.74117647, 0.88235294,\n",
              "        0.55294118, 0.6       , 0.49019608, 0.48627451, 0.63137255,\n",
              "        0.52156863, 0.55294118, 0.74117647, 0.8       , 0.31764706,\n",
              "        0.        , 0.        , 0.        ],\n",
              "       [0.        , 0.        , 0.        , 0.        , 0.21960784,\n",
              "        0.76078431, 0.63921569, 0.74901961, 0.61176471, 0.56078431,\n",
              "        0.56078431, 0.57647059, 0.75294118, 0.86666667, 0.58823529,\n",
              "        0.75686275, 0.87058824, 0.56470588, 0.61176471, 0.6627451 ,\n",
              "        0.62352941, 0.52156863, 0.46666667, 0.74509804, 0.29411765,\n",
              "        0.        , 0.        , 0.        ],\n",
              "       [0.        , 0.        , 0.        , 0.        , 0.24705882,\n",
              "        0.72941176, 0.54901961, 0.84705882, 0.85098039, 0.84705882,\n",
              "        0.78039216, 0.71372549, 0.80392157, 0.84313725, 0.37254902,\n",
              "        0.6       , 0.74117647, 0.56470588, 0.73333333, 0.81568627,\n",
              "        0.81960784, 0.71372549, 0.50980392, 0.65098039, 0.29411765,\n",
              "        0.        , 0.        , 0.        ],\n",
              "       [0.        , 0.        , 0.        , 0.        , 0.34901961,\n",
              "        0.65098039, 0.4745098 , 0.77647059, 0.68235294, 0.61568627,\n",
              "        0.4745098 , 0.49411765, 0.6627451 , 0.69019608, 0.66666667,\n",
              "        0.4745098 , 0.6745098 , 0.43529412, 0.52156863, 0.57254902,\n",
              "        0.66666667, 0.73333333, 0.50980392, 0.68627451, 0.38823529,\n",
              "        0.        , 0.        , 0.        ],\n",
              "       [0.        , 0.        , 0.        , 0.        , 0.40784314,\n",
              "        0.62745098, 0.63529412, 0.71372549, 0.60784314, 0.59215686,\n",
              "        0.50196078, 0.43921569, 0.61176471, 0.61960784, 0.52156863,\n",
              "        0.73333333, 0.54901961, 0.41568627, 0.45490196, 0.63529412,\n",
              "        0.54117647, 0.35294118, 0.56078431, 0.69019608, 0.4       ,\n",
              "        0.        , 0.        , 0.        ],\n",
              "       [0.        , 0.        , 0.        , 0.        , 0.64705882,\n",
              "        0.77647059, 0.8       , 0.64313725, 0.56862745, 0.53333333,\n",
              "        0.48235294, 0.48627451, 0.72156863, 0.67843137, 0.52941176,\n",
              "        0.5372549 , 0.66666667, 0.56862745, 0.44313725, 0.67843137,\n",
              "        0.6       , 0.33333333, 0.81176471, 0.90980392, 0.54901961,\n",
              "        0.        , 0.        , 0.        ],\n",
              "       [0.        , 0.        , 0.        , 0.        , 0.48627451,\n",
              "        0.70980392, 0.83921569, 0.70588235, 0.61568627, 0.56862745,\n",
              "        0.56862745, 0.48627451, 0.7254902 , 0.75686275, 0.49411765,\n",
              "        0.55294118, 0.8       , 0.52156863, 0.43137255, 0.71372549,\n",
              "        0.59215686, 0.65882353, 0.61176471, 0.57254902, 0.42745098,\n",
              "        0.        , 0.        , 0.        ],\n",
              "       [0.        , 0.        , 0.        , 0.        , 0.45098039,\n",
              "        0.38431373, 0.62745098, 0.74117647, 0.74901961, 0.77647059,\n",
              "        0.78823529, 0.76470588, 0.92156863, 0.82745098, 0.83529412,\n",
              "        0.92941176, 0.85882353, 0.6745098 , 0.80392157, 0.85098039,\n",
              "        0.70980392, 0.70980392, 0.65490196, 0.50588235, 0.44313725,\n",
              "        0.        , 0.        , 0.        ],\n",
              "       [0.        , 0.        , 0.        , 0.        , 0.56470588,\n",
              "        0.45098039, 0.6627451 , 0.56078431, 0.74509804, 0.6       ,\n",
              "        0.50588235, 0.4627451 , 0.68235294, 0.47058824, 0.68235294,\n",
              "        0.92941176, 0.57254902, 0.44313725, 0.49411765, 0.6627451 ,\n",
              "        0.58039216, 0.62352941, 0.65490196, 0.50196078, 0.50980392,\n",
              "        0.        , 0.        , 0.        ],\n",
              "       [0.        , 0.        , 0.        , 0.        , 0.54901961,\n",
              "        0.58431373, 0.68235294, 0.1254902 , 0.75294118, 0.72156863,\n",
              "        0.67843137, 0.62352941, 0.72941176, 0.62745098, 0.62745098,\n",
              "        0.36862745, 0.63137255, 0.48235294, 0.48235294, 0.64705882,\n",
              "        0.75294118, 0.31764706, 0.57254902, 0.58039216, 0.40784314,\n",
              "        0.        , 0.        , 0.        ],\n",
              "       [0.        , 0.        , 0.        , 0.        , 0.        ,\n",
              "        0.        , 0.        , 0.        , 0.21176471, 0.87058824,\n",
              "        0.93333333, 0.86666667, 0.85490196, 0.99215686, 0.89019608,\n",
              "        1.        , 0.90196078, 0.85882353, 0.89019608, 0.9372549 ,\n",
              "        0.63529412, 0.        , 0.        , 0.        , 0.        ,\n",
              "        0.        , 0.        , 0.        ],\n",
              "       [0.        , 0.        , 0.        , 0.        , 0.        ,\n",
              "        0.        , 0.        , 0.        , 0.        , 0.        ,\n",
              "        0.08627451, 0.23921569, 0.34509804, 0.37254902, 0.4       ,\n",
              "        0.48235294, 0.3372549 , 0.25882353, 0.12941176, 0.        ,\n",
              "        0.        , 0.        , 0.        , 0.        , 0.        ,\n",
              "        0.        , 0.        , 0.        ]])"
            ]
          },
          "metadata": {},
          "execution_count": 17
        }
      ]
    },
    {
      "cell_type": "code",
      "source": [
        "plt.figure()\n",
        "plt.imshow(img)\n",
        "plt.colorbar()\n",
        "plt.show()"
      ],
      "metadata": {
        "colab": {
          "base_uri": "https://localhost:8080/",
          "height": 269
        },
        "id": "axwnGvNsbdVj",
        "outputId": "468994e9-c4a9-4419-8df4-829821c4952d"
      },
      "execution_count": 18,
      "outputs": [
        {
          "output_type": "display_data",
          "data": {
            "image/png": "[encoded data removed]",
            "text/plain": [
              "<Figure size 432x288 with 2 Axes>"
            ]
          },
          "metadata": {
            "needs_background": "light"
          }
        }
      ]
    },
    {
      "cell_type": "code",
      "source": [
        "# we can normalize entire input data! \n",
        "xtrain_norm = xtrain/255\n",
        "xtest_norm = xtest/255 "
      ],
      "metadata": {
        "id": "G9OSMoRPeacX"
      },
      "execution_count": 27,
      "outputs": []
    },
    {
      "cell_type": "code",
      "source": [
        "# Whenvever ,we need to recognize patterns so many but we have mainly 2 approaches\n",
        "# 1.Fully connected layer (Dense layer)\n",
        "# 2.Partially Connected layers (many types ,example Convolutional layers)"
      ],
      "metadata": {
        "id": "EyDoYh9obw3X"
      },
      "execution_count": null,
      "outputs": []
    },
    {
      "cell_type": "code",
      "source": [
        "# OUR ALGORITHM: I need to Consider my images as a 1-D array and find patterns in that array instead"
      ],
      "metadata": {
        "id": "NcQ-y9s9hArl"
      },
      "execution_count": null,
      "outputs": []
    },
    {
      "cell_type": "markdown",
      "source": [
        "![image.png](data:image/png;base64,iVBORw0KGgoAAAANSUhEUgAAAr8AAAFkCAYAAAApCFOfAAAgAElEQVR4nOzdd3wU1drA8d9sSUghCaGEXgQEqQZQqkqTXkTgKigvoIhcAcu1IKBe6xUVvKhYELBSBLmAgB2liPTee68B0uu28/6x2SGTDaEl2U3yfD+faObM7Myzy2b32bPnPEdTSimEEEIIIYQoBky+DkAIIYQQQoiCIsmvEEIIIYQoNiT5FUIIIYQQxYYkv0IIIYQQotiQ5FcIIYQQQhQbkvwKIYQQQohiQ5JfIYQQQghRbEjyK4QQQgghig1JfoUQQgghRLEhya8QQgghhCg2JPkVQgghhBDFhiS/QgghhBCi2JDkVwghhBBCFBuS/AohhBBCiGJDkl8hhBBCCFFsSPIrhBBCCCGKDUl+hRBCCCFEsSHJrxBCCCGEKDYk+RVCCCGEEMWGJL9CCCGEEKLYkORXCCGEEEIUG5L8CiGEEEKIYkOSXyGEEEIIUWxI8iuEEEIIIYoNSX79nFIKTdMoWbIkwcHBBAcHo2kaf/zxh+G46OhogoKCCA4OJigoCE3TGDp0KAC33XYbmqbxzjvvGG4zePBgAgMDDW2aphESEoKmaaSmpgLwwgsvYLFYCAkJISgoCKvVSqVKlbxifffdd9E0LS/vvhBCCCFEnpLk1895kslJkyaRmppKamoqy5Yto2PHjoZE8+TJk9SqVYvU1FTS0tJQSvHll18CcPbsWQIDA3nxxRfZsGGDfpv4+HhsNhsAcXFxaJrGoEGDSElJYdy4cTRq1AiAxMREnE4nKSkppKWlYbfbOX36tFesycnJ+fY4CCGEEELkBUl+C4msiWWHDh1YtmwZAAsXLgTAYrHgdDpzvK3T6aRjx45MmTKFMWPG6O1ms1n/fezYsQB88803ALz11lscOnTI67jc5Hbc6tWrGTJkCI888ghDhw7l3LlzADzyyCOsWbPGcOz06dMZN26cvj1p0iQGDx7MI488Qnx8PABbt27l0UcfBaBnz54sWbJEP/7RRx9lyJAhDB8+/JriFkIIIUTxIclvIdWhQwcApkyZorcFBARc8fiMjAzi4+NZsWJFjvsdDgcAAwYMyMMo3dasWcNdd91FgwYNGD16NBaLhQoVKpCamsqXX37J3r17DcfPmjWLt99+G4BPPvmE5557jtdee43k5GRKlSoFwLZt2/jiiy+IiIjg5ZdfpmHDhgBERkZy8OBBnn76aXr16kXnzp3z/P4IIYQQovCS5LeQCw4OBiAwMJDt27cTFhaG1WqlSpUqhuMSEhIYP3489erVw2q1ep1n+vTp9OzZk4ULF6JpGpMnT/Y6JiIiQh9PfD1atWqFUornnnuO6Oho7r77bj32tWvXMmzYMHbt2gXAG2+8wYoVK1BKMW/ePEaOHInNZqN69eq0bNlSP6dnrPKZM2e48847qV69OuAevlGxYkVuv/12evTowa+//npdsQohhBCiaLP4OgCRNzIyMmjcuDHbtm3Lcb9SCoDhw4fz9NNPc/LkSUqUKGE4ZvHixQDUrFmTZ555BqvVysiRI/X9niEHN2LXrl0sWrSIoKAgVq1apbdfvHgRgLJlyxr+D5d7sl966SUqVqzI/Pnzvc6blpamfwAA6N69O3PnzsXlctG9e3cGDx58wzELIYQQouiRnt9CLjY2Vv/dM3ktN0899RQA77zzDqGhoTkes2vXLurXr8+oUaPyJMb9+/fTsGFDEhMTqVq1KuHh4YB7qEXHjh1p0aIFHTt2BNyVJTzXdblcAJQrV47w8HCeeOIJZs2aZdjnSeo9li5dyuLFi/Uxxu+9916e3AchhBBCFA2S/BYS2cfzdu3aFYC///5bb7vWiWnr16/n0qVLegIJ7sTZkzwHBQURFRV1syHrjh07BsDIkSPp378/zZs3B9wT8UqUKEGbNm3YtWsXly5dIikpif79+xtu/8ADDzBkyBAeeughBg4cmOu10tPT6dmzJ2fOnAHgu+++y7P7IYQQQojCT4Y9FBKrVq3Sx/F++OGHbNu2jT59+uj7U1JSSE5O5pdffiEuLg6n08ktt9xCq1atSE5ONlSLuO2221i4cCEZGRl629SpU3nyySdZsWIFb731FitXrtR7VT31fv/44w9iYmJQShEYGEjfvn0NMaalpQHwww8/kJ6ejsvlwmq10rRpUwC+/vprKleuzHPPPQdc7r197733+OWXXyhTpgwvvPCCPib4/vvv59tvv6VKlSr8+uuvpKSk8Pbbb7NhwwY9Uc9e4eLOO+/k9ddf13u1e/bsecOPuRBCCCGKHkl+C4HXXnsNTdNYt24d4E7wvv/+eyIjI/VjJk+eTExMDCtXrgTAbrfrE9s++ugjw7ElS5Zk//79zJw5Ux/3O3r0aMqWLcuPP/5I06ZNmTNnjn78oEGDqFOnjl5ezeVyERoa6pX89u7dm4iICNavX49SSv/p168fmzdvZs6cOWRkZHDs2DE++OADQ292amoqQUFBPPjgg4ZzPvzww9jtdv744w/S09P55ZdfAGjZsiVjx44lLCzMcPz27dt56qmnCA4OZuLEiTz77LM38IgLIYQQoqjSVPZBk0L4QLVq1YiLiyMxMdHXoQghhBCiCJOeX+Fzzz77LCdOnPCavCaEEEIIkdek51cIIYQQQhQbUu1BCCGEEEIUG5L8CuEHXn/9dTRNIzQ0lKCgIIKDg/WV9DxLTxe0X3/9FU3T9NX3fCXr45LT6oRCCCHE9ZDkVwg/4Cn7lpycTFpaGqmpqQwaNAhN05gwYYJPY7ve5azzUq9evRg9erT+uLRq1YqoqCjD4i5CCCHE9ZDkVwg/YDJ5/yl+8803DBo0iKlTp3L+/Hm9/auvvqJ79+707NmTTZs2AXDmzBl69epFeno6AwYMoHv37uzYscNwvilTptC9e3c6duzIli1bDPsmTZpE9+7d6dWrF0ePHgUuJ705Jb/Hjx+nZ8+e9O7dm549e/L7778D7rJ406dPNxy7dOlSQ73lmTNn0qNHD3r27KmX77tw4QK9evUiMTGRBx98kNdffx1wL7n94Ycf6rdduXIlMTExhlJ8QgghxPWQag9C+LFRo0bx7bffcvLkSaKiovjxxx8ZOnQomzZtYvXq1dxxxx2cOXOGxMRElixZQlBQEPv27WP27Nk0btyYtLQ0SpQowWeffcbo0aM5cuQIAIMHD2bmzJlUrVqV6dOn89xzz3Hu3DkmTZrELbfcglIKiyXnl4fU1FSqV6/O448/zvjx41m5ciWdOnXizJkzzJw5k4yMDIYNG6Yfv3XrVpYuXQq4F0oZNGgQq1evZufOnbRs2ZKjR4+iaRpLliwhPDycdevWUb58+VwfF5mnK4QQ4kZJ8iuEH/OsrhccHMzx48fp0aMHGzdupGnTpqSnpwPuJZ09Y2E3bNhAnTp1eO2114iNjSUoKAilFCdOnADcS2BXrVqVVatWAfDbb7/x2GOPcfHiRUqXLk10dDSAYenr7IKDgw3JZ5s2bQA4ePAgSik0TeOjjz5i9OjR/Pnnn7zyyiucPn2amJgYOnbsyOrVq2ndurW+wEpaWpq+WMmqVav05a9zomkaffv2ZdSoUdf/YAohhBAU0uT366+/5ujRo/qCCE6nk7Zt2xqW+y1ov//+O7/88guTJk3yWQwAO3fu1Fd/e/rpp30ai8hbgYGBALzxxhs0atRIH7rgdDr1oQlxcXH68Z7lpsG9+t6ECROoVq0aEydOpH///lStWpWgoCAAnnrqKWrUqMHy5cuB3JNfgJiYGN5++22sVitnz54F3EM3PMl6xYoVAahQoQIAJ0+e5NZbbwXg7bffJjo6Wh+WkXVCX3x8/BWvmXVohRBCCHGjCmXy++abb3Lo0CFWrFhBfHw8drud+++/nyZNmrBw4UKqVq1a4DHNnTuXGTNm+DT5jY+Pp1GjRoA7EZHkt/ArW7Ys4O7d9fS2NmzYkNatW9OiRQuefvppatasyf79+3M9T/PmzdmzZw9btmzhoYce4o033uDSpUv6WONmzZpRu3ZtWrZsidVqxWKx4HQ6czyXw+GgSpUq9O3bl2HDhrFr1y5mzpyJ0+kkODiY0aNHM3DgQDIyMrj77rvp3bs3zZs359y5cwA0aNCA1q1b07x5c0aNGkW9evX0nukr+eOPP+jUqRN//vkn7dq1u67HUAghhMiqUCa/ISEhlClThnvuuUdvW7FiBW3btuXAgQOG5PfSpUukpqZiNpv13qj09HQSEhKIiori6NGjBAYG6vs8YmJiyMjIwOFwUKNGDcO+8+fPY7PZsFgses9WcHDwFeO12Wz6hKWscZw7d47IyEgCAgL0Y+Pj43G5XERGRgIQGxtLSkqK4XYZGRnEx8cTFRXF4cOHKV++PCEhIZQqVYqPPvqIn3/+mT///PP6HlThd5KSkmjQoAGvv/46TZo04eTJkwDUrFmTLl26AO7nlqZpVx0DGxsbS926dalbty6BgYH069eP5ORkfehB/fr1uffee4HLQy08PL3DHna7HZvNRrdu3Wjfvr3ec+vpLe7cuTMfffQRR44c4eLFi17Jao0aNfT4HQ4HZrM51/h///13OnXqxKZNm2jatGmu91MIIYS4mkJb7SH717L33HMPr776qv4GDrB3717KlCnDE088QaVKlRg/fjwAb731FuXLl2fy5MkMGTKESpUq8cYbb+i327hxI1FRUTz66KM88MADvPfee/q+zZs3U758eUaOHEnFihWZNm1arnGeO3eOMmXK0KlTJx599FGqVavGqFGjiI2NpUKFCsyfP99wfKNGjShdujQABw4coHTp0vzzn/+kUqVKPP/88wBMnDiR8uXL8/7773PffffpXwcrpRg1ahTx8fEyIaiQ8SScM2bM4OOPP2bmzJmEhYXRr18/br/9dgCqVKnC9u3beeSRR5gwYQLTpk1j4MCBnDp1Sv/3ttls+jlTUlL03xcsWMBzzz3Hl19+yaxZsyhTpgwBAQE0bdqUP//8k06dOjFjxgw+//xz+vbti8Ph0JPaqVOnMnXqVKZMmcLEiRMJCAigUqVKzJw5k1mzZvHkk08art29e3eeeOIJatasSZMmTXjqqacAKF++PHv37mXEiBG8/vrrevyHDx/W48zIyDA8Lj/++COdOnWiQ4cOHDp0iClTpjBp0iT27NmTp4+/EEKI4qPQJr85SUpK0n9fvXo19erVY/r06SxZsoRnn32W//znPwCEhoYC7h7klStXcvDgQV555RU9yR0wYABly5blt99+Y8OGDYSEhADukk3NmjVj2bJlLF68mPvvv5/hw4fnGlNiYiJjx45l7969/Pbbb7z77rt8/PHHREZG0r9/f1566SV94tKPP/7IyZMnWbZsGTt37qROnTpMmTKFpUuXMm7cOCZOnGiIPzAwkJ07d3Lffffl4aMofGHAgAFMnTqVhIQE0tLSOHfuHJ9//jnff/+9oUxYo0aNWL16NSaTiZiYGN58800qV65MxYoVmTRpEk2aNNGPHTVqlF4mbNiwYbRq1YqYmBhatWrF7t279R7ddu3a8fPPP3Pp0iViYmL44osvsFgsNG7cmE8//ZQKFSqQlJREenq6/i3E7t276dixIydOnGDfvn1MmjSJxo0b69f2JN5Tpkwx3M+6deuyZs0agoKCuHDhAv/+97+pWbMmZcuWZdKkSV6T3c6fP8+MGTPo27cvJ0+eJD09nfT09CsOyRBCCCGuShVCjRs3VpGRkV7tzz77rPLcpUmTJqmsd2/EiBH69oQJE1T2ux4ZGanq1Kmjnx9Qzz33nOGYp59+2nC7zp0769ujR4/2OmdO3n77bf24uXPnKkDFx8crpZQaM2aMvm/KlCmG8z311FP69uTJk3O9VqtWrVRgYOBVYxEivwwYMOCa/h6EEEKIglaken494xcBfRxttWrVqFy5Mn/99Re1a9e+4m2VUnpP2LZt22jSpAmfffYZmqaxePFi4PJs+5o1a1KpUiVOnTpF69atc43JbrcTHR1NaGgoNWrU0Huf4fJkppUrVwLuUlGeXl1P6aqqVatSuXJlfv/9d6+xx0qGNgg/tHDhQhYvXizPTyGEEH6pUE54y0lqaipz5syhb9++wOWvXY8fP35D59u8eTPnzp2jZcuW9O7dG6UUycnJAIYxilczd+5ctm3bRkpKCsHBwUyfPp3HHnsMcH/d3LdvX3r37s358+dZsGABe/fu1e8PcNVZ8EL4mz59+uh/K0IIIYS/KZQ9v1nrgnqEhoZy5MgR3nrrLcBdtzQqKkov2g/oZcByqmFqt9v187Zs2RJwT9DJOlN9woQJAPTr109vq1+//hVjAvSxiQEBAcTExOiJr8e0adMICQmhRYsWDBgwgLp16wLwz3/+k6pVq+rbgD6m0nPOK/WsXW32vBBCCCFEcVUoe36rVq3KiRMn9JWmbDYb/fr1Y968efoxJUqU4Ny5c0RFRREYGIjNZtOXdvWsJpX9nJ5SYmvXrkXTNAIDA8nIyNBnoIeGhuorWAUFBZGenq4vJBAZGUlISIgek8PhoHTp0pw7d479+/djtVrp0aMHs2bN4qGHHtKvW6pUKQIDAzl69Cgvvvii3h4YGMjx48epUqWKHv++ffsAKFmyJOCd/HriCg4OJiwsjODgYNLS0jh9+rRXKTchhBBCiOJIU9JF6HMlS5akVq1abN261dehCD83ZcoUvfqIR1JSkl5uTAghhBC5K5Q9v0XJe++9R3JyMjNmzPB1KMIPnTt3jqFDhxIREUF8fDy//PJLjsdt376d5ORkYmNj9brPQgghhPAmPb8+Fhsbi9Pp1Cs/CAEwfPhwvv76a0wmk14H+lqFh4eTkJDAN998w6BBg/IpQiGEEKJwkuRXCD+xe/dutm7dmucJ65YtW4iKipJx30IIIQSS/ArhF3bu3Enjxo2vWqXjk08+MaxkCBAREcHjjz+e6+1q1KjBnj17DLWwhRBCiOJIkl8hfKxSpUqkpqYSHx+f4/4hQ4Ywbtw4XC4XderUyfGYDRs2UL58eTp06MChQ4eueJ369evz66+/5lnsQgghRGFTLJNfT+mxoKAgvvnmG0OJsawSEhK4cOECSilq1apVwFGK4sBkMnn19prNZkqWLElcXNwNn3fdunXcd999nD9/3mvfXXfdxapVq2743MLtH//4h1db1nKLQtwIeV6JvCTPp5wVm2oPGzduZP369Rw/fpyJEyde023Cw8P132fPns3p06d5+umnsViKzcMm8klycjKNGjXKcZjDkiVL6Nq1602dv0WLFpw7d4533nnH68PdX3/9Rffu3fnxxx9v6hrC+CaS05uMEDdCnlciL8nzyVuxyOLat2/P7t27iYmJueFzDBw4EID58+dz55138uGHH+ZVeKIYqlu3LqdPnza0/fvf/6Zdu3bcc889eXadMWPGULduXWbMmMGSJUv09p9++ol27dqxfPnyPLuW8Nbsc+P2puGyX/Zf+/7sx/lbfLLf//ffgsiRKsJ69eqlgKv+WCwWZTKZ9B+r1XpNt5s/f76v76IohCwWi9dzafz48fl+3bZt23pdt2PHjvl+3aKqf//+uW4LcSPkeSXykjyfclYke35/+uknZs+ezeLFi3PcX758eZo3b05SUhK9e/fOcXWs9u3bExgYSHBwMAsWLMjxPP369eO7776jXr16NGzYME/vgyh6UlNTqVGjBg6Hw9D+xhtv8NJLL+X79ZcvX85dd93F6tWr9bZly5bRpUuXKy6eIXInXyGK/CDPK5GX5PnkrchNePv888+vWPbpxRdfpFy5crRt25bo6OhrPuf06dNxuVx88cUXrF+/3mt/QEAA27dvp27dujcctyjalFLUrl2bw4cPG9rHjBnDhAkTCjSWLl26eFV8aNeuHX/++WeBxiGEEEL4QpFKfqdNm8bw4TkPmho5ciRTpky56WtERESQkJCQ477U1FSCgoJu+hqi6LFarV49vs8+++w1T77May1btmTdunWGtm7duskkOCGEEEWeydcB5JX33nvPK/GNiorizjvvRCmVJ4kvQHx8PHa7nUqVKmEyGR++4OBgYmJibqpElSh6wsPDvRLfN99802eJL8DatWvp2LGjoe2nn35iwIABPoqo8Mo+6UQIIfyNvE4ZFfrkd+nSpUyYMIEXXnjB0F6+fHn27t2b4zCFm2WxWDh16hSLFi3y2hcVFUXLli1vqrKEKDp27drlVc7slVdeYfz48T6K6LLff/+dtm3bGtr27NnjtYKcEEIIUZQU+uT3q6++YuzYsV7te/fupVSpUvl67Z49e/Lzzz97te/fv58jR47k67WF/9u2bRvR0dGGZPKVV17htdde82FURsuXL6dDhw769o4dO2RBFyGEEEVaoU5+P/zwQ/73v/95tSuliIiIKJAYrjRTvmXLltKDVszt2rXLa7jDzS5ekR+WLVtGvXr19O2YmBg0TfNhREIIIUT+KbTJ7/vvv89TTz1laCtbtix2u73AY+ncuTM//PCDV3tYWBjHjh0r8HiE782ePZtBgwbp2xaLhZ9//pkWLVr4MKore+CBB7zaDh486INICp8rLUwghBD+Ql6njApltYepU6cyYsQIQ1tERAT79++nXLlyPorK/RVy+/btDW0lSpRg+/bt3HrrrT6KSvhC9p7TKlWqcOLECR9Fc21ee+01Xn31VX3bbDazcuVKWrdu7cOohBBCiLxV6Hp+p0yZ4pX4AsTFxfk08QV3rdTsk+DS09OpU6cOqampPopKFLTRo0d7tR0/ftwHkVyf7PWxnU4nW7Zs8VE0QgghRP4odMnv2rVrDdslSpTwmk3vS7179/ZaQAAgJCTEB9GIgjZ58mSvsnpxcXGFYgxt+fLl+fvvvw0l/J588kkOHDjgw6iEEEKIvFWokt8+ffowe/Zsfbt27dqcPHnShxHlrFOnTixdutSrfcmSJT6IRhSU1NRUr7Hft99+OxZL4VlFvFWrVl6T8t566y0fRVM4SP1MIYS/k9cpo0KV/GYfUtC0aVPKlCnjo2hy1717d68qEL169WLmzJk+ikjkt4yMDFasWKFvR0dHs2XLFkJDQ30Y1fX74osvDL2/33zzjQ+jEUIIIfJWoUl+w8PDDdvNmjVjzpw5Porm2mRfQQtgzZo1PohEFITIyEjD9u23314ohjtkV65cOapXr25ok9q/Qgghigq/T34vXrxI7dq1SUxM1NvuuOMONm7c6MOoro3ZbOb48eNERUXpbZ9++ilPPPGED6MS+SH7WHRw96AWVocPHzZsx8bGcurUKR9FI4QQQuQdv09+//rrLw4dOmRomz59uo+iuX5Vq1alU6dOhrZPP/3UR9GI/JK1pi+4Vx4s7LJ+SIuLi6NBgwbs3bvXhxH5J6mfKYTwd/I6ZeTXyW9qair333+/oe3pp5+mUaNGPoroxnzzzTeULl3a0FbY7oO4snfeecerp3Tw4ME+iibv9OvXz7CdkJBQKEq2CSGEELnx6+T3t99+M2zfeeed/Pe///VRNDfn4sWLhu1Dhw55tYnCx+l0sm7dOkPbypUrfRRN3mrXrh3PP/+8oa0wDDcSQgghcuPXyW+fPn0M22PHjvVRJHljwIAB+u9paWmMGjXKh9GIvLB+/XpDFZIGDRpwyy23+DCivNWnTx/CwsL07VdeecWH0QghhBA3z2+T3zFjxni13XfffT6IJO9k70WbP38+W7du9VE0Ii/06NHDsN2sWTMqV67so2jyXsuWLQkMDDS03XXXXT6Kxj9J/UwhhL+T1ykjv0x+33rrLd59911DW3Jyso+iyTvR0dH85z//0bedTidNmjQhKSnJh1GJG3X69Gni4uL07SpVqvDll1/6MKL8ERMTY9hevXq1jyIRQgghbp7fJb8pKSn89ddfhrbbb78ds9nso4jyVosWLbzapPpD4ZS9h3fEiBE+iiT/dejQwbB97733+igS4WunTp1iwYIFzJs3j+3bt+d67JYtW1i+fDkAe/fu5ccffyyIEAulAwcOyCqgQhQQTSmlfB1EVhs3buTOO+80tH3zzTdepaQKs3379nHbbbcZ2vzsn0Fcg8jISEPPb1H+Nzxx4gTVqlXTt0uWLMnixYtp27atD6PyD80+Lz5lhE6ePEnjxo1p3749lStX5p577vGam5FVo0aN2LlzJ0op+vbty4IFC4r038nN+L//+z++/fZbeXxu0pYtW/jqq68ICgrKcX98fDxTp04t4Kh8rzi9Tl0Li68DyC77ilg9e/YsUokvQN26db3aunfvLr0ihcjw4cMNiW9RV7VqVf7zn/8wbtw4AJKSkti3b58kvxS9N5SSJUsyefJkHn30Ua99+/btIy4ujg8++IBKlSpd9VwRERFYLBb9vEVdbo/dtdxW3JgpU6bwwQcfEBYWxrFjx4iNjc31+E2bNuF0Orlw4QKnT58uoCh9q6i9Tt0svxv2cMcddxi2s3/dWlRkH/5QFMY0FxdJSUleX/cWh9XPrFarYXvLli0+ikRcSVpaGrt37wbcb/A7d+7M8bjdu3ezfft2/ViPI0eOkJyczIYNG3Jc0GTfvn2Ae0XDY8eOGa7ncezYMU6cOJFrnLt37yYjI8PQdvjw4SsmIkeOHGHbtm1e9+fChQts27aNHTt2YLfb9fb4+Hj27NkDuB+HXbt2GW538uRJTp8+jc1mY/PmzV4LKQFkZGSwY8cOtm3bxqVLlwz70tLS2LFjB9u3b9c/BF/psYuNjdVjTE9PN5zn4sWLbNmyhZSUFIKDg3O878KbzWYjISEBTdPQNI3Ro0dz6NAhtmzZctXEF9yvXdu3b+fMmTP6OUaOHMn58+eLxWu5AJQfef/99xWg/5hMJl+HlG/S0tIM9zUyMlKtWbPG12GJa/DRRx8Z/u3atm2rkpKSfB1Wvtu3b5+qXr264b7v37/f12GJLBYsWKAANXr0aNWvXz8VEhKiunbtmuMxjz76qALUF198oe8bMWKEAlTdunVVx44dvc5fr149Bah77rlHvRPibCUAACAASURBVPTSS+qTTz5RgMrIyNCPCQgIUKVLl1ZKKXXXXXcpi8WilFJq8ODB+nMGUFu3bjWcG1CVKlXyuuamTZsUoIYMGaIA1bdvX6WUUmfPnlWA6tWrl6pcubJq1qyZfpsXXnhBAeqNN95Q/fr1U4AaP368vr9ixYp62z/+8Q8FqHXr1hmuW79+fXXLLbeobt26qZCQEHXs2DF9X+3atVXdunVV+/btFaAuXLigRo8e7fXYxcbGKkDde++9qn79+qpJkyYqNTVVKaVUTEyMAlTHjh3VE088oVq0aKH87C3Z7/zvf/9T06ZNU927dze8DuX1z7Rp09TFixd9fXdFPvKrv7QKFSoYnoAHDx70dUj56pVXXjHc3/fff9/XIYlrsHDhwmL779a1a1fDffe8kQv/8PPPPxsSveTkZBUZGal69uyplFLqiy++UIDavXu3UkqpAwcOKEBNmTJFPweg3nvvvRzPv3btWgWo48ePK6WU+vDDDxWg7Ha7fkzFihVVnTp1lFI5J79KKdWlSxdVrVo1/Tae83ji8li2bJkC1Jw5c/R4P/vsMxUfH68sFosaOXKkUkopl8ulbrvtNtWoUSOllFKvv/66AtTixYuVUkqdPHlSAerVV19VSinVsGFDZbVa1eHDh5VSlz8Q/PLLL0oppapXr67uuOMOw2MyefJkpZRSVapUUa1atdL3TZ06VT9P1scuPj5eBQcHq6FDhyqllNq4caMC1K5du1RCQoIKDAxUw4cPV0opZbPZVKtWrST5zcWSJUuuKXFt3769+v3339WiRYty/Fm9evU1nadq1aq+vssiH/nNsIdBgwZx9uxZfdtqtVKrVi0fRpT/WrVqZdj+17/+xbZt23wUjbgWx48f95rgU6pUKR9FU/Bq1Khh2Javav2zfuZjjz0GQEhICM2aNdOrCHhWH6xXrx4AtWvXBmDZsmWG26elpeV4Xk9ZxsTExJuKr0WLFoalsj0VITxxeXiGKzz44IN6vI8//jjHjx/H4XDwwAMPAO65InfddRc7duww3L5nz56AuzJLUFAQP/zwAwAul4vSpUvrC9J4/qY9tz927Jj++nz+/HkAfezyyZMnDcPxhg8fbljYxvPYJSYmkpqaSpcuXfTbec4TGxtLRkYG/fv3B9zvd9mH/Ak3h8OBpmn6v2VO/vvf/6KUIjU1lT/++IOOHTvSu3fvHH9at25NSkoK6enpKKUoW7Zsjuc8ceIEmqblOqGzMPHH1ylf8ovk9+zZs17jxtauXeujaApO586d9Rdvj88++8xH0Yhrkf2Fslu3bgwZMsRH0RS8jz/+2NchiGuQNXl1OBz679kXLLlae35p0KABAOvWrcNut3Po0CFatmzpdZxnnLnNZjO0m0zut66sY2iz3s+cKKUM99Plcl3xegAzZ86kadOmdOnShTZt2hgS3Kzji6/EE+MLL7xAdHQ0b7/9Ni1atDCsmJh13PO1nLM4cTgc1K5d22uuAUCZMmXo0aMH9913H0opnn76aYArVnjILjg4WH8uxMTEcOrUKVq1akXfvn29jl20aBGapnmtPSAKN79IflevXm1Y6axXr176i2NR98477xh6z4pjCZbCJPsEzOIyUzir//3vf4btwr7seHGSkJCQY3t8fPwNnS8lJQW43CsK3hMjc9K3b19q165N586d+fvvv9m5c6dXffes5w8ICDC0exLFrN+65PW3EM888wybN29m69at/PXXX3Tt2lXfFxoaetXbe2L87rvv2Lp1Kxs2bGDt2rVUqFBBv19Z4w8JCcnT+Au76OjoHCciAqxatYolS5awcOHCPLlWpUqV+Pvvv5k/fz7vv/8+3bp18zpmzJgxfP65dJ8WFX6R/Gb/xF6vXr0C74nwlWrVquk9BML/rVu3zrDtf8NU8r9G6P3332/YXrBgQb5fU1wbp9MJGHs1s/Yozpw5E4B+/foB6N9aLF682HCeEiVK5Hh+z3lVZi3aF198kapVq1K9enUA/v3vf3P8+HF9v81m01/fs/dsbt++ncTERLp3785rr72W40JGzz//PLfccou+oMy7776LpmlER0czePBgfajAhg0bmDJlij6swfM4ZGWz2fQYbDaboTfZE68n1lmzZvHSSy/pwyAWLVrEe++9B8C0adN46aWXOHr0KOAecjF79myvx6569eqMHj3a0KP9zDPPsH79eurXr89jjz1G69atAVi/fr1+fgHlypXzqtABMHfuXE6fPu1VJz8vPfPMM/z444/Ur1/fa9/jjz/OtGnT8u3aogD5cLyxjiyDzC0Wi5o7d66vQypQnokgnp+QkBBfhyRysHv3bsO/U+fOnX0XjP1HpWyLlLK5/1bOHj+hvluwSO08F6uOJaYpZUvPt0s7nU5Vs2ZNw2MxYsSIfLueuHarVq1SVqtVHTp0SG975JFHVL169QzHWSwWFRQUpE9Gy+rUqVMqMDAwx8lXf//9t7JarV5VPurWrasA9dtvv6k+ffqo7t27K6WUGjRokGrcuLFSSqmxY8fqVSA8PM+fP//8M9f7Va9ePRUQEKAsFouKj4/X20eMGKEsFouyWCzq999/19s/+eQTZbVaDedo2rSpGjhwoFJKqd69e6u7775b3+d0OpXValVff/213rZw4UJlsViUpmn6pDWPOXPm6NcdO3as3p7TYzdmzBhlsVgUoKZPn244z5NPPqkANXLkSDVjxgwVHByc6+NQ1PXt2zfHyWf/+te/fBaT2WzOMaZdu3b5LCZx83y+wtuIESMMX/XXrFnzil91FGVZF/ewWCzMnz+f3r17+zAikV3dunXZv3+/vl2gfzoZk0Dtx70uTUmwvet+CdaAkk35dOX3rNu5ihbd7yMjLY12pQNoXD4y38JZvnw57du317fHjBnDhAkT8u16omjSNI2BAwcya9YsX4cifGzAgAF89913Xu0jRozg008/9UFEbnFxcdSrV49z58557Vu3bh3Nmzf3QVTiZvn8+/bsY1xzKqxeHHz99df67w6HQ//6TviPcuXKGbavNH4yT2SMheQKkFwTkutCxnNgmwa2T92JrwZYYWfKCGYd/gBVqSz39LwPs8OG1WLivOnaJn7cqJiYGMP2tYyBFCIrz5ALmUgkhgwZ4peJL7jHZe/du9dr9VlwVy2RxX4KJ58mvzmtanYtkyWKouwlpC5duiRrvPuRJ5980jAhJzg4+Oafq67z4NwKriOQ/hDEa5CQ+ZMxAVzn3Ptcmb3NGmCCVFc5YmzRvHlEsTzhQxKdDbCoNBw2GwFBwQQEBnH+4L6bi+0qHnjgAZ5//nl9++WXX+ann37K12uKouWzzz5DKXVNyySLouuhhx4ydP6Ae96PUsrnia9HREQELpdLXzUwq6ZNm15xJUXhvyxXPyT/dOzY0bD90EMP+SgS36tZsyYNGjTQB/kvXryY2bNnF+vHxJ9kf4NesGDB9c8ud+4Gx/9AKwEEg+0jcB5w79MA7/k+RiZItZfj+4uruGSvQ7mAC/ous8VCRFQpls+cxY6/VpC+cx2DtufvC7Kn5qtHhQoV8vV6/qrZ57BpuK+jyH9LliwhIyPjihN0MzIyaNeuHeXLl7+m811pUp0oPubMmWOYLAju4WXZS5/6i9tuu421a9d6leVr1KiR33dWFZfXqWvl0+S3YsWKhu0PPvjAR5H4XsWKFenbt69hhqv0iPiHAwcOeI1nPXPmzNVv6DoAaQNACwes4NoNztPuRNcjax6R/bXTM6bXBJhh0blfSHWWJdlRmVCzO/F1KYVdM3Nqzx4mNeuDM87dnn32fn6Ii4szbPfu3ZsTJ07k+3VFwXn44YcJCgoiNDSUyZMnX/X4Jk2a0LJlSxISEnj44Yfp3LlzAUQpCquJEycatps3b+5VUcfftGjRgk2bNtGsWTND+2effcaIESN8FJW4Xj5Lft9//32vGn2pqamULl3aRxH5Xvav0du1a0dSUpKMp/SxmJgYQx3UhweNYOjQoe4NdQn3n1EAuHZB8p3G5Da77Mlu1oRXC3KfBwUkQlgCThXG+gs2Nl9KwqQFYdJsWE2pKKWwuxQKGFw7grBbWzMh5jSapeCGDX333Xds3LiRI0eOAJdXsBKFW2BgIFFRUQQEBHD48OHruu2WLVv0MZDz5s2jYsWKJCcnM3jwYK9ERxRv5cuX11fPA6hfv77fJ74eTZs2ZdeuXYb1CP75z3+iaRqPP/64DyMT18pnY36zF/SeM2cOVapU8VE0/mH8+PFeX6dI4ut7TleEYfvetgeAX8A+DxLKQGIEJAbnnPhq2X48Ca8LMDcE60Cw/gMsnSHkJJSMh5IJXApUHE4K5d1d59kSm4jVBBYtBbNmx+Z0keFS1A0Pon/1SMIs7vESBZn4emRfHMGzjK4oXHbv3k3Lli3RNA2bzcbJkyevO/HNzmazcezYMS5evMikSZPQNI0lS5awefNmYmNj8yhyURg1btzYkPgCtG3b1kfR3Ji6det6Dd0ZMWKE1GsuJHxS6uzSpUu0bt3aUDZq4sSJPPvsswUdit+pXr26Yc37QYMG8c033/gwIhFzvBXfz19LYCCEh0P/QUAClxParHL6a1JZ/l9iFJibg0oCS28wVfQ6/I+ziZxOsRFrcxJscX8+VUrhApLsTu4sE0rlYCu1wnw/ZvLXX3+lS5cuhjZ/H/smLps/fz7r1q1j0qRJVz32mWeeISQkJMdlgcE9hvfbb7/l4MGDVz1X/fr12bFjhyzwUwwdPnyYNm3aGEqHPfbYY4Vy9bRLly7RoEEDrzJo8hro/3yS/B46dIjatWvr2506deLXX38t6DD8VvaSKvKHVMCSozAMttVOgWdumwtIzXJsbv80Cgh8GQKfBZUCOMBU9YqHLzubyKkUG4l2JwEmDZOm4VIKlwKHUoQFmHm4RmksptzGVRS8rM/XiIgIr7HAwv/ExcXRsWNHtm3bdsVkFmDz5s2kpKSQlpZGp06drnrekydPcvDgQcLDw5k0aRJz5sy54rF16tQhOjo612NE0ZKSkkLp0qXJyMjQ24YPH+5V8rQwSUpKIiwszND2j3/8g7lz5/ooInEtfJL8fvXVV5fHTAJdunTh559/Lugw/Fb25PfixYvFeix0nnMdBnUed2JbGlJuBVeWP4Ochi54ZP9r0UxgbgXKBqRCwEiwXvukh7gMB2fSbPxwIoGwABMWzZ30AmQ4XQSaTZQKMNOrSgSBZv/sJcv6fA0ODubUqVOUKlXKhxGJ3JQrV44LFy7kuC8oKIh77703T+uMp6enExSUe93pDz/8kNGjR+fZNYV/yv7e1r9/f+bNm+ejaPJW9vv28MMP8+233/ooGnE1Pnk3zZr4AowaNcoXYfitYcOGGba7devmo0iKENs0yHgFbBMhpSUkt4bkFpBUG5Ry/yV4frKP0w0ASmb+aECJ9yDwFQgcCyVmQfBfELIeQnZeV+Ibk2Zn9tFYlp1NokwJCwEmEyZNw+FSJNgcNCkdQvvyJelfPdJvE19w93J4pKamSnk+P2W322nQoEGOiW/p0qXp06cPqampeb7ATokSJVBKMXPmTB588MEcj3nyySf5+OOP8/S6wr/8+eefXm1F6b0tOjrasL1nz54rfsgUvueTnt+sn5CsVis2m62gQ/BrsbGxhp5e6Rm/AbY3wf4/oARogeBYadx/tbG6nu1wOHcI2nUHWwYcPnYAqM3NmncslmS7iwyXC3Pm34NLKWwuRZWQANqUC6VsicKx4MvBgwe59dZb9e3itlxtYaifOWzYMHbu3MmGDRu89n311VfUr1/fq3RTfvn666+ZOXMmy5Yt89o3aNAghg0bxt13310gsYiCExUVZVgZcuHChdx3330+jCjvdevWzfBe/f3339OvXz8fRnRZYXidKkg+rfMLFPsKDzlJS0szbKempl7hyGLOdRqwgBYK6c+B7bPcy4zlNnzBVBmwgXKCqTyEuOsth0dUITHhVJYDbzzxtbsUS0/FcSLZjsWkYdbAnDmu1+5ShFhMlA2y0qdq4RoykH2Z5+yLXwjfGjJkiNcKWuAuzfTOO+9QsmTJAo1n8ODBDBw4EKvV6vVV8bfffqtPmqtVq1aBxiXyz8svv+y1JHpRS3wB2rRpY0h++/fvT3Jysld1K+F7Bf5datmyZQ3bN1tOpyiqVKmSYZ3zVatW8frrr/swIn/gANunYP8a7N9B2iBIqgxJ5SExFOw5JL5Zhy6Ae7Ka58c6CKxDwPp/YLkPQk9C6HkoeVFPfHft2o0t43JJphYtWtxQ5CdSMthwMYX3d5/jbKqDEmYNa+aEtnSnu+e3fkQQA28pTd9ClviC+/maNVFZsmSJfIXtJwYOHJhj4vuvf/2LTz75pMATXw9PTXOlVI6JQe3atTl27FhBhyXywaJFi3jzzTcNbdu2bfNRNPlr3LhxjB8/3tAm5Ur9U4H3/JYtW5aLFy8W9GULnez1U4vlam+pXUArBZhBnQX7n1deHQ28e3NdWdqD3gRTHcDurrwQMIyr+fe/XyE9/XKv+xdffHFd4Sfanay/kMzhpAzsLkWpQPefm2eBiiS7k66VwilXwkqF4MIxxCEnFSpUYPTo0Tz11FN6m/R0+F7fvn1ZsGCBoa1Dhw60adOGV1991UdRedu5cydz585l7NixhvYaNWqwbt06mjdv7qPIRF747LPPDNu33nrrNS+BfbP2JPwbsykUl8rgtrCXCuSab775Jm+99Zahbd68eYa5EcL3Cjz5zf41l8vlklqPOchefmjYsGHcddddhrGVRY7rECTXzkx4FSjjB4CrJrtZ24NmuBeQIA2UA0xlr3DwlUVEGBe3yP6BJDczD18k3alIc7qwmjQCzSZcSuFU7rG9tcJK0LlimF7ZobBLTEw0bAcEBPgokoLnj+Pohg0b5pX41qlTJ8dxtr5Wo0YNXnzxRbp27crtt99u2NeiRQv2799ftF/3irisZUyrVq3Knj17MJvNeX6dLXEjSXEcxqRZAA2XcnAxYwUmLQCnSsNJKg3C/pPn183J0qVL6dGjh779wQcf+Dz59cfXKV8q0OR3yJAh7NmzR9/euHGjJL5X8M9//pM1a9Ywc+ZMvc3hcPgwojzi+BUIBMxAOiR3MvbmaoCKu/x7Virb7+ZbwFQdcLpvE7wiM3HOqkTu44CvID09naNHj+rb4eHhlClTJtfbnE2zsT8hg/UXkilpNWPSINBsQilIc7goFWgmxGKib7XI6w/Iz9WtWxez2YzT6QRgw4YNDBw40MdRFU8PPPCAV/mounXrsnfvXh9FdG0aN27Mzp07adiwoaG9Tp06kgAXUtk7u6Kjo28o8U11nMCkub8dM2vBHE2eyo6EMVhMnm+YNEwEoGlZz60RaHZ3epgJJM28DWUDZcn/Drfsq9WtWbOGN954g5dffjlfryuuXYEmv9l70mT4Q+5SUlIM24Wy1m/Gm6ASQTMDYZA+zrg/t9dBz1LAHpZmYH0IVBqQBtZhuS4acTPmzJnD8uXL9e2XX37ZsDBLdgcT01l4Io5gi0kf3gBgc7pIdbroWimcqCAr5QpJBYfr1a9fPzp27Kj38nzwwQc8//zzxXO4jg89/PDDXonv7bffztatW30U0fVp0KABK1eu5J577jG016lTh61bt3r1DAv/tX79eq+2RYsWXfV2MenLSXeeRsvswQXFmosDsJouf5tk1oIIMmd/bdEMybbJBKER7iTXGliCj57dwS3BE3j2hZH5PtY9JCSE77//nv79++ttq1evJiUlRYaE+YkCTX6zr4IiVQxyl/3DwW233UZsbOwVjvYT6SPAuQp3724gOLO9AF5t6ELWpYCtjSBoUebwBweYaoJWML2m2ddsz/5BxCPR5uTn0wnE2RyEW836i69TKdIcLu4oE0L9iCAiA31eWCXfZV21CciXrzbFlQ0aNMirxFyzZs3YuHGjjyK6MXfffTc7duygUaNGhvbo6Gg2bdpE06ZNfRSZuB7jxhknfk2c+L7XMUmO/exNeFPvwTVpgZxNW0y683yWXlyNklZjVSilXGR/87C5YlHY3ecxQXqSmRf7uRNgi1Vj5cJULJaXeWBgb2677ba8uZO5aN++PXfccYf+9/fbb79x9uxZqWLiJwrsHfmHH37gjTfe0LfHjRvH/fffX1CXL5RWrVpFyZIlSU5OBvCfZWNdF4AkwARaGUiKBOV+0clxiEFuJcbAndSSCqYmELw0r6O9IbmtSOVSCodLMePgRWwuhTWzbJmmaTgzJ7OVCjDTqFQQrcv5Zja9L2T/MFtcejj8oX7mI488YhgiBe7e0sKW+Ho0bNiQTZs2edUebtasmZRBKwQ+mTKDP//8w9A2+OEn+OVCBTRneGaLCZdKw+aKR8vSK2LWShBovjzETCmFU6UZtjXNjAkLKvMNxe6Ko0PURkIstVHKgcVk4cz5MwxYfYshBofDwaVLl/L43uYsMjKS+vXrG/4Ga9eujQ+WVgD843XKnxRY8pu9J016fa+NZwylb4PYBM41QABoJSHjGXBmWbkmazkx8E52s87dMwHWfwEp7iWBza2uqfJCQctaag7Alll7eU98GqdSbWyPTaOk1UQJ8+Wv2lIcTqIyKze0Kx/mdc6ibtiwYYZFFCZPnixj3AqAw+Fgx44dhrbq1auzb98+H0WUN5o2bcq6deu8Sgz6MoEQOXMpGxcz/sKkBRAcGEy6ZTv//TWUezqVxZ6ZoK49XwrNHgFcnhyroWE1GTsIHK5klHLPb1GZ/60c1B+nSgfAqdKoEjyQKsH9yZEWCEDJoHJYrVbsdrthd0E+d7788kvmzZtnyHe2bdsmw3f8QIGt8LZp0ybuuOMOffvJJ5/kgw8+KIhLF2rZJwwUyD+X42+wvQpaCO6hCyvAGZN7gksu2yGrQF0CnKBFgKVDfkSdZy5evGioR12ldCm+X7eV1PBybL+QiNXkrtOrlLvfwVO2bHDNMoRYTUQEFP0hDlfik+erj/m6R6VRo0bs3LlT327fvj1//PFHLrcoXNasWUPr1q0NbV9++SVDhgzxUURiV8I4zFoQ7vTVQrLjAMdSvsxsg+DgYEwqGPtVFm91qjTsrqQs2xnULfkiodZamQmwAjRuCX38huL84IMPGD9+vD5srVSpUmzZsoXq1avf0PluxLRp0xg+/PILRGhoqE8WAvL165S/KZB3aaWUIfEFsFiKb4JwPZKTkw1Fsps1a8amTZvy5uTK6Z6I5lgGqfdmfmI2ZU4oyya3sbpZ8x0XEKaAjMwNBVpw3sRbQLKXH3tnTwz70tNIupRIUGZPr9Ol9A7tu8qF0jgy2CvxEyK/lSlTxutr3M6dO/somvzRqlUrr7ahQ4eSnJzMqFGjfBBR8XIw+UNOpc7DrLm/vTURyEXbSrQs6YNJsxJsuTwu15kBWMBsVdht7gxYARlZvjF0oahUoidNIj/DkZkAu7ATbm2QJ3ErpXjssce4//77iYuLQylF2bJlqVixYp6c/1o99thjhuQ3KiqqQK8vclZgPb9ZE4OGDRt6fU0nrizrY1erVi0OHjx4/SdRDnAsBa0EUAIcsyB9+uXENafV0Qy3z/a7tav7FxULId6zeguz1OQkytePZvR/P6NZt45cPHUJl9OJlrkUcbpTUTHISliAmS6Vwq9+wmKkOPb8+orT6fTqRHjmmWd4/33viUVFQfbn1oABA5g9e7aPoikaUhxH8LzYm7QA4jI2serifVhNl59XFi0EU+ZQAg93WbHL/x4u5dDH5YaFhWGxaJw4aCMlQdGgYX1stgzsKpF7o7bn/53yQwEBAYbhFwMHDvSanCoKlk+6X222q3wXIq7oumbQpw0FLRywgOsw2LOUmdEwlhnLaehC1rbAF8BUBXCASoLAojuWc3OamY827seVlsKFE5d7KtIcLgLNGvdWDKNGaADBFqlmkN3rr7/OK6+8om9/8cUXPPLIIz6MqGjatWuX17jBkSNHFtnEF9zDke68806OHDkCuMsROp1O5s6d6+PICod423Zibesxae6SYVZTGBsuDcT9HdblBLikpbLXbbN/8LC5LqEyv/pSOAi11KJq8CgqhZVjxIsjKFc+nBlvxJIUC0qdzdf7VRisX7+eJk2a6Nt79uzh7NmzVKhQwYdRFW8+6fkNDw+/rtWyijOXy2VIeOvUacS+fVf49JwUAabygObu6XUeurFxugoIngiWvqDSARuYG1HUHU7KYMOFZC5lOLCa3MMblFK4FCQ5nNxXJYJKwQGEWCXpvRK73W5Y3a1Ro0Zs3148e3vy08svv8ybb75paCsOvezDhw9n2rRphrbicL+vl1Iu1l7qi9Xk/mbKhJU4+yaS7PvQtMu1xq1aGJpm8rqtyjJL2aGSDNUWbC4nnaPW4VDuKkQKJyXMFQm3NmDcC2/y9nuXO0aWLFliWOmsuMrIyOCBBx7ghx9+0Nvmzp3r81XfirMC6fnN/qlREt9rZzKZWL9hL83vvI1qVSE+dgfPP9uD9yYthIRsS8hqgDMhy42z7Mvek6sFgOlWLvfkfgTWPvl2P/xVutOFUyne332ecKtZn8ymaRrWwEA0s5VAeyr3VgynVljg1U9YzGWvhxwcXLjGexcGGzdu9Ep8sy9sUVR9/vnnrFu3zjDBr1y5csTExPgwqoLnUjYu99ZaWXa+CRnOC2iaGQ0NhcLhSiTrm4BJs+ornnko5cLhylp5yYVZK5E5cU1hV4ncUeorKgX3RSl35SGFw2sYhMfsedMN25L4ugUGBlK/fn1D8lskVmwtxAok+Q0KCiItLYdJVOIaTCcscAP/6AOzZoClFKB+dCe+2UuMZZc14TUFQcAzoFKBDDB3AWuv/A7er+2ITWV/YjonUmxEBV3uDdFMZkpFRbL2hx/Yu2ENP334jg+jFP6uoGdRZ30DBRgxYoRhJamibseOHYYOlUuXLnHq1CkqV/b+ur4oOJu2FFPmZDOzFsTRlGkcTfkac5al1j6JMgAAIABJREFUfANMpdEw6wmqhobFFOp1LrsrCYWnfKYLEwFUDn4QV2bPrlOlUT3kEaJKdPK6rWfRCe0Ky3I+8sgjHD9+XN+WWsxGt99+OxaLRU96H3roIbp37054eMHMG5FqD0ZScsHfpD8Hri24a+oGgX0RdWvD3AVAKu61JcD9gT57by7Zti2NoMSn7hXStCgwy8pIAFsvpXIyJYPDyRmUMJkoaTXrZctcZitBVgsvtm3Oqf17yEhJBkl+r1n2r6Cz1/cWN++tt97Sfw8JCeGxxx7zYTS+MXr0aD766CPAPTSsTp06rF69mujoaB9HdnMOJX1EmusMGmY0TDhVKgeSJmHOUjHHrAURasm+4pn30A+HKxWHulxSy6FsNI6YQJCpEgonKrOXt0rwgDyJPftS5l9//XWenLeo6N+/P5MmTTIs+1xQia/wJsmvL6gU3KujBUHaALBnLqigaZDT+DUHl5Nez2tgRma7Fpr5iw1MLSDk78xrKPf5BOB+c7iY4WDO0VgsmY9LSOaENbtLoQEWi5n/q1WKEHncblj2IU4rVqzwmgQnblybNm0M2yaTyTCRprgYOXKknvyCe9GkvXv3Fqrk91z6b+xKeAGL5u6h1bCS6NiDS2Xg+UpPw2QoIebhUnbDuFxwYXddHvLmVHZqhAyhYfjELGNz7YRa8qc39u+///YainP+/Pl8uVZhdu7cOcN2rVq1OHTokI+iKd7yPfm95557DEMeLly4kMvRRZBKAMfPQKC73q19CtiyLOFrmISmcmjL/AkGLDBzOphN0L59c6Iq1QHrFT5dSwKnS3O4+PbIJVLsToIsJvdokcyliNMdLmqFlaB8kIU7yoRye6OGhtv6xQp7hUhERAS//PILXbp00dvkMcwbPXr04O+//za0JSYmXuHooq1OnTr89NNPdOvWTW976KGH6NChg9/UUU2w78ocIqBh1gKISV/B+thH9Q/fFi0IS7bVzUxYMZuM42ldym5c3hc74dbGWLSSuKvlut8k7i6b88ImgZTOy7uVo+zPw5deeok+fYrfHJKrOXbsmKGD4PDhwz6MpnjL9+Q3MjLSsH3hwgXKlClzhaOLCOd6sE1xlxlz7gDHX5f3aeS+YARcXg5YAcH/hYCyfD/7S1au+IOPMyc6L/rhfXpX9y7+LoyWn03kXJoDu0vpVRqUUiTbnZQPstI2qiS3RQTpx0dEGt8oYmJiKF++fIHGXNjFxsYatk2m7E/4oqUgxtEdPXrUq4eoZ8+e+X9hP9a1a1fatGnD6tWr9bZ33nnHJ+XeLmasId62GVNmJQWLKZwNlwZmlhVzJztmLZAwq3cvblYKRYbzYpZtd6JbJXhAluV9U6hbcqxX4uxLpUqVMmyfOXPGR5GIK5HxvkYy7CEvODdDanv30r2YQZ3PnFiW6WrJbvYyY+FxoBKBDDDVBmD53zv5dNrlT/aBAcWzx+darbmQzOHEdOJsTsNyxE4FyQ4nj99ajiCzRoC5aCdmomjYsmUL+/fvN7RlHftbXM2aNYtq1arp2//973/zPfm1uxJZf+lBrKYwwF0bN9a2iVTHcUxZJqEFmSsbevmUcuFSdq9zucjwHIHd6aJ7xb1kuC5ltjgIMlch1HJLvt6nm5V1wmWFChWYMGGCD6Pxb19++SVDhw7Vt1999VVeffVVH0ZUPOV78pu15qc/WLhwIWlpadx9d1cqV94G8e0vDzMoecqduALgBK0ymDKLUDvXAoGAFVz7IaW/dw1dlWjc9sie3JpvAa0U4AJ1EUJPeAeqRRg2VZbxXCAlpHKSZHdyIcPBnCOXCLeaMZs0SmQmtzaXC7OmUTrQwkO3RBIeILV680vWlYzAXeZH3Lhz587Rr18/Q9trr71Gw4YNr3CL4qNq1aqEh4eTkHD59bF58+aGSUXXQyknDpWCltljYTGF8uOZyriw623gLjWWtT6uhpVAs/FbI4crNcscDoVJCyDAVEavtuBwJdKm7M+UDbzbKw7/6dO9NqdOndJ/j4iIoGzZsrkcXbxlHaoD8Ndff13hSJGf8jX5PXDgABs3bvx/9s47TJKq3P+fc6qqc0/emU0sGwhLhgUkLGlZogiKgKBXlku4gHqBKyr3R1JQL2YlSBAQBZEgSFQkSpYgOS5hIxtmZ3Zi566qc35/VE/PdM9snp609XmeenZOT3fVObXTVW+953u+b8lr5TfGoeSaa37LueeeA8B2OxzNB68/7J2BHl1toswqx9gKAueAzkD2//W+Xl4drRwNJWsRrAPBOAjIeYvdgj8qVF5bf0466ST+9Kc/FX1Ur7rqKg44oP9Fc3MkrzQfdGZ4vS1FwlaMC/XalrlKk3IUu9dHaApbbN9H4jAQ5Q9rvl51w9l7772ZPn16sRLXgw8+yJlnntlPAuWzftTUlD4Ih8Nh9tprr2Hqzcijs7OzJMO6fPlyPvvsM7bYYu0SA4Bl6XsxijZiET5N/pblmfsxRO+tMSAbkCW3SoEpoyX7cVSqxFnB1WlmRP8bhVfNVOk8dYE9mR47e2OGOKL561//WtLu6OgYpp6MDpLJZEl7xYoVNDc3+/K6IaaiFd6uueYazj333GL7jDPO6FedZ6i4/PLLueyyy3j/VbBt2HU25NvBClAaqPalpCjEeh5IA+ZRELwCSILOgTFrg4Pdgdhpp5147733im3HcTas3PEY5IkVXbTnXFZmbEKGQBaqsmkg6SgmhQPMnRCnsY+P75q49957OfHEE1HK+4P49re/PabLxVaSs846ixtvvLHYfuGFF5g9e/Yw9qhyVNo/87jjjuO+++4rtnfbbTfeeOONyh1wFHLKKf/Jbbf1Lv793vmX8vNf/bDkPR92/4i86kAgERjYupNFqZv62Yh5BR560br0BqGwsVVvgOdqm61i36IxNLdQfAIcnWJadPMo613u8PLUU09x8MEHD1NvRj6u63LSSSdx7733Fl/78Y9/zMUXX1zR4/o+v6VUNPNbPt1ZXot+KHnyqfd460XYfk/ALVTttVlz4AvrH/D2oAFje4j8zQt6cT2Hh0GivCLMWF9ItCZspfmoK8uTK7uxpDcZGTEL8gZXeRXagPO3b0JugOvF/Pnzi4EvwJ577jnIPd98yOVyJW3T9JcXbCx9A1/AD3wH4PgvnVwS/C7O3MQrmSdIdnvXTClMEvYnaFxE8cIuCRuls32es0K2zysapfNFRwWlbWqtWRww4eliAKxxCckJ/coEby6UF7HyA9+1YxgGRx99dEnwW1VVNYw92jwZ0jvScEoeZs/ej+rqeyFDwR+X/gvP+rKm360tlhKA+wF09XmTuTUEf+WVEAYgC+Z/wBrKQ/qsnbacwy2ftBI0JGGj4IUpBLbSZF3FrnURpkYDzKja8OIK5QFaPp8flD77+GwsW2+9dUnb1/lCwv6oqMsVwsBWnegDDuFVPbX4nlTSobVjUcnnDBEuW4DmYqvuPm2bmLUtEWNKUZebV23MafzXgP0wDH+aGjbfJMymUG4N9+GHHw5TTzZfKhr8lk+HVFBhsU7OPfdc6oM/B6dgwbI+gW/kIdA901sRyF/d37asnPKSw+4nkCorI2z9GcSWgONVX4s8tF5jKD9/5ed3LJN3Nc+3JFiUzBG3jGJGV2lNd95hh5owM+Ihtq32K4r5jB0mT55cYnH29ttvD2Nvhp6ks4Dl6XuK5X1NEePD7h+SVc3FMrsCg4CxBa0r++rzRcFmrJe8akcr7z0al4BsYKfqn+Jobx2Fq7NMDh9H3JpZ+YGNER599NHiOhSAr351cKrFjXUOPvhgpkyZwtKl3mL366+/njPPPHNYZ8c3Nyoa/FpWqc5yODO/jY0CI60HDnrLY0gNVOn+r5vHgG7Dq85WC+nDwHl2zc4OPZQ/GDv/LG0nx/W+SdtgbA2R/quVc/nN8wn7/iUddOQdUo4naZBCoAq2ZUppvrvDeDRskMTBx2ewqJSO7q677uKZZ54pea2lpWXEFHGoBM+0HEBAeq4JQhiknaV02+8j+yxAM0SUUJ+sq9a6aCFmmiZCCMJRQTgiaW5pJp/Pk1eKgxsfIygb0ThoNIYIU23tOLQDHGNceeWVJe2f/cwvBb8+bL/99uyzzz7F4Bcq74zl631LqVjw+8knn5R42X3pS1/iggsuqNTh1olpAPEVkNwKRKP3ojBBfQbu4tKMrQS6BZh7Q+gaMPYovD8AYkLvTqOlNyZggP0vA3dRf1u0vqjVpW3n1VLphDEdwg+xaOGrbDUtzuTJ8OwLXuZ3OLPplaQ1a7MokeOfzQmqLAMpIFiwLcu6ipgpiVsGJ0z1HAT8sNdnrPHSSy+VtO+8885RHfhm3VXFbK0la3h+9eG0514uZmg99b4osxAz+lmIaTSO6rtiXhA1p2OYXsWsmvow11+c4MGbEiS7HKKNm/ei4EpSXV26kLvcycBnzZTL6sLhtTsR+QwuFQt+y59i0un0Gt45xMTK6mirZWDfCrlLvKxt3wDYfRmSe0LwHDD2Beukjdj/crCvwatPHAL3PrDLsrrlUgnK2mohJL0MxacFGds9t8EHHxnALyG7HIK/GRMRYFvOZkkyz3MtSQygLtj7J2orTcpxmTuhiqaQxeTo4D4px2KxknbfRRw+G0a5pq28ApTP2nn++ee5+uqri+3GxkZmzhw90/FLUrdiCM8OTIogrbln+Cjxa0zROxtoyRoCsvTvYqBFY45KFi3DAFyVZtuqi3B1Cq1dTBFnxxqv4Mc9F17MdTddUXxvrNrq59bgMzisXLmSDz74oOS14ZzdHW2UPyjcdNNNXHHFFWt4t89gUzGrsyVLljB1au8ChMMOO4zHHnusEocaHNwPwX0K0uf0yhR6gkkNCAFyO4j8a9Nsy3Q7qA+Bwk1A1HvZ4nXZqpW/FsHrZ6LQP3NHIIpnX+F62efIPza+n8PAnYvasJWmI+cSMgSiIG/QQHfeZVZdhN3qIzSE1m1btqEsWLCAXXbZpahfO+igg3j88cf7SXd81o+uri6mTp1KZ2cnAA0NDbS2tg5zr0YPr732WonbyOmnn87NN988jD1aM4tTf6At/zIS72HUECE+TvwKU/Y63UiC/bxxYSAbsRx2n4I+jrbZIX4R9cHZxQDY1Rm2iKxZW9p3LcSECRP8UrsV4uqrr+a8884rtr/85S9z1113+dfM9eS9995j1113LfGSH6szuSMR33+oB2M7bwv8N2S+As4T3mI0KDhDaM/JobsGjFqIfgai/8V8nYg6MMr8TqvK/uAT0UKALQDpOUXowg0hDuSBnkR6T9bYfY9+dPeJmDUQ/BYE/w90Ei9AnjLs2eKsq3ixJcHb7RlChkQKCJsSrTU5VxE1JRLBN3ZqrGg/Ojs7SxZuTJo0yb+IbwLV1dWEQr2LD1evXr2Wd49uKuGfWb6CfqTMnHXk/81LbcdhFRIAQhhk3RZcnSmpgBYxJ/f7rNI2ml67Rq0VQpj0+E0qnaMhOId96x/ALlzvtHb7yR42hJUrV3LOOedwzTXXbPQ+fAam7/cbvEVc/jVz/dlxxx0Jh8NDJhXxfX5L8YPfgQj/xfs38x/gPgFua+miNdUB3TEIngbGXLC+NrjHj6dK22o55L4N4Qn84kdXc9hc2GXfwu96kiTl0onyB0gB5K+F3LW9rwVOAfMQ6Kktr5MQOI+hYn5XlgeWdhC3DKKmLGZscq5CADvXRtixJkR9BTK95ZQHG35lt03Hz2JsPLvvvnvx54kTJ3LHHXcM2bFbs88gRYigrOeRldtgyN6LiySIJavJ6d6HGYGBJUsL8irt4OpUn7ZNTWDXEhuxnGrjwHFli38LBMrKu28IixcvLpl1bG9v3+h9+aw/5d7ePuumr6+8z9DiB79rI/xncN8CNR9SXy2VQwggfwvoWyBwP1jfBnPftexsE5CTigH5Bd+/miuvgwP3A2kEuP2uf4DjQObw0oId62PDZt/qbT1owH0TL63sAhEI/2mQBwMtWZu329N81J2jNmB4C/cAR2kStssBTTEmRYNMGWRNr4/PaGQodZQLkjfwesc3sApVzqLm5PWyVMy5bVAIahUuEWMKO1ZfgaO9rJbSWSaHTyRirrvk8KaybNmykna5lt/Hx8enYsFveXW3UftUaOzqbdXHQe67ntdvT0Kr555g3wvOfaBVfwlDBVjRDHfeC2Bx+10He/+LsQTezUeAqCqVPPSwLps3QWkwDOD8HYpTlUkIXArByze67zd81IIhBLmeSmxC4GqNrTTjwxbfnFlZeYOPz0jnmGNKfcGHUiu9MPsbIsZ4ZM/CNAFCKtw+1SUdncRVvTKMnNIcOeF1DBFCowCFKWJEzelD1u++zJ49m9NPP53f//73ANx8880cf/zxHHroocPSn7FKXV1dSbt8kavPuhkpcqbNkYoFv4888khJe86cOZU61NAgLAhd5W2pvUCvAndJbza1Z+FGp4DAIRC4GMyDBr0b7e3tfS46Kfbff3+ef/55EGXZjfIgXK2CzOehOJ0YAPc5UOk127Bp+hT5KJD7IWR/2Pv70NlgnQy6xxkhA+YXSj6yIp3nrfYM73WmiVsGrtYEDE/Xm3YUjSGTkCH58pa+I4DP6GOwdXTlFmdDKR9pXmgxZSeJcgRCQC7r0rEizMRJTTiui6uSzKr6HRMjXxyyPm0MM2bMKP6slGLlypXD2Juxx8KFCznhhBOK7aOPPprLLrtsGHs0OtFal8ysNDY20tLSUpFj+XrfUioW/J5++unFn4UQ/OAHP6jUoYae6Cvgfgru3yH7P6UWaQbgPAn2kxA8F4z9wTp+0A69atWqknZ9/XouBpFNEH299DXnMXBf8/yLiUPuXFBlU6wD1dXoGyDnb4DcDaW/D/0vGAtZlPwmK+19eXFVOxFTUhPo/XPLugqt4ZAJcbaIBqkO+F6cPj4AkUhk3W+qEPP2WsYZlzugLSIxwZJPu5BLzuK+R64btj5tDOVZyJqajdcQ+/SnvBT8qJ3ZHWH4f6dDx5BofsfkwhdjKzDOA/MoT/KQ/t8BNMFXg7gOct+B2JJh7OwaMA/3tmL70IIThCxsKUjstfYCHVAaIEsg/zP+vOppMm4jGdVdDGxdbaJ0gG4nyhGTYHocqn3VuY9PkVtuuaWk6tNQc8Xtk2nr+IyHbk7xydveg/BJx4++wObcc8/lnnvuYcGCBQB8+9vf5tBDD/ULCfiMaNZHX+8zOPihx6Yit4LABd6WORrcV0AVNHoC0A7opV7FNjkRom+CHKG6Vjmj/2s1fR5cdCskt/Hs2gAwQS/0xigg4zZwX8tjrMrPIiS7kdgEDYXSBnldRY35CePMdziy6SRPRpymIK0Aog+DsTNgg86BsX2lR+vjM+J4+umnS9qPPvrokB373a4LmXVkMwGzmoOPqyabVrg6zYxqb3apfIp2JDNhwgQmTZpUDH4XLlxIKpXyg18fHx/AD34Hl/DDoPOQOwfsu0B1l2ZF9QpINEHw7IIcYpAt0iqNGAfxMg2wez/oh3lmxQxeTV5M3OgiKlvpuUdmXIO42c0O4VvYp+oSTCNHH6vP3ix55ujeBXkaiFyNpyHRgON5ElvHVnZ8PoNKR0fHut80BhhM/8zyhcLl5WMrSV6tJpuxcaVX0ycSl0CMFe7vWbTslwgM5ja+TlY10xQ6bMj6tbGU2xUO5bn08Rlp+D6/pfjB72AjAhD6HVjfAPUupOYNIIe4AbgB7D9B8Kdg7DJ8/d1E5iePZVHyWD5KpakxvYy31pq80iRszZen1FFv19MQwjOjcFg/G7bsub0/91TYc44DnQWyYB4PgbMGbRyNjaXZeN8bdNN58sknOeCAA4a7G6OKcr3vUK4Gnx49m2Xpe8m6KzFFFaYulCcmStiIorXiny174+oMM2LfIiBraQwdwrjggUPWxw2h/Dt89tlnFx0gfHx8Nm8qVt64fHpsTOp+15fMWWDf2NsWlJUzFhBfP7Pr+fPns9122xXbX/ziF3nggQcGp58bQNpV3PJxK4YUKA2W9P6/HaWxtWa32jAHjK8qvLsLdMRzzHA/hNT2IHoWuEnQA/iYlgfIA9q0BSiaG2sHoi+Bsbf3My6I4AAfGpi+f6+1tbV+8DtI9D2v06dPL05DjyUGK6Py5JNPlthxDUdJ45SzGCkCzO++go8T12JJE0t6MidJoPj/6ag0ijwh2UTEnIqrU4wPHcV2VRcPaX/XRiaT6fcwsVnfhwYR27YJBHp92HfbbTfeeOONYezR6EQphWH0LvbeaaedeOeddypyLD/zW8pAa/l9Bpvw7zzrMXM2yCm9xSh64gKtPYu0zLHg/G24erleLEvluX3haq6f34IpvYKmlhQorUk5LuPDFrvVRfoEvgDVXuALXgnpKg1xp7DlvWIi5hxv8aD1ZS9oVfTqgXvcNPpu4ElMtFMIdoHkPp62utuCrpAnPXH+4Z1T5yFwnh+KU+SzBoaqjOdopbwE9OTJ/UsEV5qoOZWwMZHdan/LiVM0X55kE5LjqbF2wdVpbNWN0nlMGSEga3B1mi77HZLOAj5O/IJ7PxPcsURgq24S9vyBH1qHCF/fWzn6Br5CCD/w3UiklLz55pvF9rvvvsu8efOGsUebD77sYSiJvADqA3BegswZpb8zAPsByD8AwXPAOASsYwbczXDwVnuKVVmH9zoyRExJ3DKKWZSU41JjmezfFGfbqhCm3MBFMdbXSvXPzj+8qnr0GO1HIHX6hrlOAGS+WnrzlXgLE3UKyBd01yf3242fHaoMfTMcY4nByqaUn58RUWJbwKHj3wbgo+6foXBoyT3B6tyLSCwMEcaUPfKIAKYRJ2zAwysacXWObePfJW7NpMqcSX1w9nCOxKdC+NfLTaPc17e2tjJ+937WtxQ/+B1q5PYQ2N6zFbP/AJnLvKCsb3Yzfw2IGyAbh3hbycfz+XxJu9IBxeqsw6PLu+i2XTQQtwq2ZUrjaE3CVpwyo566oEnYHKSJBPNI4MjS1+J7FWQOABGwb/bOXU8QXC4l6aFkwSGQ+3lvW9wM+SvAErz3Coxvgln7wdJl1uCMw2dM85WvfKXfa3/5y182en/l32Wl1k8KNVRsW/W/AGzpnkLCno8pYnyWuZOPE1djigAB6blCCAxChqehX5y6BVdniZhTqA/si6tTVFu7MrPq/w3bOHx8NicG+zo1VqhI8JtIJEraO+64YyUOMzpwXwcEGLNKX5dTIPgDb0sfCup9cFf2qRhnA+3eNL6xNUQeBTmdnXfemVtvvZVTTjkF8KZKlVJIOXgKFltp8kpx08etXhE3KTGEN73lKm8xW1PYZOt4iN0booN23LVi7FDa7jl3PeRvg/z3+1S6C4L7Rpm2umyfWoM7H1zYobDmcMlnAK3eeddA7DHPaQIHT4sRAmObQRuWz+im701koJvMhlAuCxmp0/YRYzIRw5Nk1Af3Zteaq3BUhkdWTiRoNJJX7WilkMLClFFMotiqixWZBwFoyf2ThakbyLmrOHZyBldnMERlxrp8+XImTZpUbM+dO5ennnqqIsfy8RmpDOZ1aqxQkeB3p512Kmm/++67lTjMyCd3eW92MngOhK4e+H2RJ7wywrkfg/1bUPlShwj1CSRmQPC/IXQEy1f26q2ee+45rrzySs4///xB6/Yjyzr5pDtHzJLIwgIXrSFpu0yOBpgYsdivMT5oxxsUAvO8rS+5SwsSBwmiGrLfL/19X/1wvuzfnvOfOrzkIwg8Nw8KFaR0Fswv+77EPptEZ2dn8YEWYL/99uOSSy4Zxh5tGKYMc8wkz9ru/a4fkHVX0O18SEf+NaSwPElEQR6htUZrm4Cs475lARxls331RTQFD8XRSWoDuxMyJgxKv8qt4/xKZJsnLStTPPjAgyiR48jPzyUWi1FXV7fuD/qMWSoS/NbV1bFkSW9Fs3Q6PawlO4eNXEHSIIDsNWsOfgFELYR+BdY8r+Rw+owBLNJ+C/q3fHPezlx3NSxb4f06HB6cc/tiS5LmjM2KdJ6qQlU2rTU55S1mO2PrcYQNScwaJdrN4I9K28YuQM+5CnoL4bI/985zz/q8DEVrYaC/BZsGsmeVto3fgdwRr0BHt7eAT249uGPxGdOMpXKxO1RfDkDKWURL7p9YIk5r/gU+TVyDIYIE5Th6Lm4hYzwYsDB5PZ8krkSRpzE4h9rA5wjKeraOf3uT+lIuHRnMGTKf0cFq+3FeXHk9jy94gH/eAz+4dBpPPv2QH/xu5via30qR7pMx1Ky/r4axi7cFTofsPLDv7HUzEIAN1bXv8NkiSHdCtAkCgfW39CpHac2SZI6Hl3VhCOElqQ2vs7bSuFpz+IRqtq0JbfQxRgxm2QJCc38I/QzwJB3nfROu/Cl0J6CqttoLgHVXfy1x+cI7tczbekiWySI0UK1BJ3o/VJRn+Ixm/CnENRM1pzHNPB2ASeHj2Tb2HQwZ4/5lDQRlCEOEEZgIDEwZw8T7TnTab9OefxUpAizP3E/WbeaICR8P51B8RhnvdH6XltzTmCJCxl1GYFI3//3DKZx1MXxlx0Wc9JWv894Hbw13N4cM/zrVHz/4rRS60/tX4ElFqzfC5il0m7elj/AKZrgrvCDa9vYbqfLkCPAS2HGwjl/vXWccRWvO5qGlnTgaQoYX+AohcJQm6yq2qwmzRcQaG4HvenDVdd4G49C6sAI3+w3QzXh2HDHI39q7OLGHdXkSCzwNcd925ElP6gJ4zhN7g5w+SCPxGQp6dHS+f+a6EUISMbcE4KQp3hfk3a4L6cy/Rk61k3Q+KgTCJqaMYIggWiuSjhf0/nWZhaMctq++kOnRM7BVgoixBQHDz95trmSc5eR1GwIDS9bwdMt+pJzFCASWrMYo+LwLDISKkurSNE0wGDdBsHT+Z8Pc+6HDv04NjB/8VorQVZ7vrAYCRwCbEEBGHgX3bc/+K3VSr5TCLmz6Jm8LnuXpT821lx59urmbjpzL4mSOiCkJCFG0q+nOu0yPB9lDlEF1AAAgAElEQVSuJsR21SNzwU2lqanpU3QjdH3pL409gUKmXQTAfQVy15W+Z102bBpIHVK2323AnAvkQSch8EN/YZ3PmGan6p8AnjxiceqPWDJO0v6EhakbMUSYgKxHFhxewsYEMGBR8gY+TfwaV+dpCh3G5PBxgGRa7PRhHInPUOFVIFyBKeMsSP6WTvstZMES05K1RM0tBvycDGSor4/x5r9yLPtE49iZoey2zwjED34rhbE3xJfiVRrbAi9zuCn7K8ghqueAuB64zJuWdyhmgsn/zrNPQ0A8228X73emeb0tTVfexRCCWMGr11EapTVJR/HdHcej+1Rs8ykj8K3StjUPAt+j+FUSNZA+BJxX+muF+1Iug1EfQ77P1K7ziLevYgW7Zq8oiM+IYzCyKbFYqQym3PtzLBM1pxV1wlo7bBH9D0JyAo+s3AZTSixRjRRBBLJMHvEmbfl/ITFpzT9Dzm1m/4YnSr53jl36xRupDho+a+a1jtOx3U4MEaY19zS27kYgMUSEsNHr5KG0gypUC7VVFwpPN28EFKufOZNj/utG7MJk2w03/GbIxzHc+FnfUvzgt5LIgZ9CNwnRyI9+XM/3L4XnHoOpW8AW2wJJChZpBbuCLgHW9qSsl8moGDd8tJIqy8CSgoAUCCGwC0HvhIjF5+qjTIn1ZDQHv9tjGjm1tB19ubSd+SqoD/GKdhRS9s5b65BOJIBE7+sSmlvHI0UerbtpaniQfz5dh5Q59thjD6SUm+ei0jFCeTn4xYsXD1NPhhchTMYFDwDgxII84q3Ob9Oc+TugyalWbxpbSAwRLsojVmUfRWvFwyubcHWSbWIXsF31xUyY2MAtf7iR00717vyPP/44P/rRj7j00kuHa4g+A2CrbjSqKFm4f1kMU4YRGCjtFL8fkgAB2VsEwlFpQKNxCBmTkBjkVScHjnueuuDuvQc4Ds449nd+TVufIn7wOwqpinuVnw44HGqq4aVnv8LMmX+FrNv75TYgm1/IfctfpdWeRWOot3CD0pqE7bJDdYimsMWs+iHy6t1cCd/Z/7XseSCqANOzssv/2Zsc6FO0493us8irOAKXgOzm0fabMQW4EmZnzmDu3N8Dni3WlVdeye67797/OD4+o5xda34DNb8h7S7j/a5LsEQVedXGZ5m7MUQIS9R4PsECtFZIUcMnySuZn/g/AkFBc7XB5w4NEY1Lnr4vjcr72d+RwPLM/V6wK2p4pf1Ecmo1ojBDGpQN9FwMDWGVPBzmVQegcXWG6dGzEBjYuos96v6IWFt06we+Pn3wg99RTmcXPPbcl5m5y89B/h2y3wITHlz1MCl3It3uTGJmCgClJWlVT9SAU7eCagsGqyibzwYSuqq0HT6Tl5ozNKdtpABD5FiSPQKXAKIgfYgbrQgBUhq8kbsW8ILfF154gcsvv5yHHnpoiAfh4zN0RIzJ7Fn3R6+hNU3pIwgZ43lx9RfQKCxRVSiWIbBkHIs4OLDHgbD/5yXSgN//uJUt59wLnEexfLrPkPFa+6lYsgZDRPkk8StAIoTAFNUlEgatey3q8mo1Grfws82cxsewVTeuTrNldF75IXx81gs/+B0DRAKdwJbkjW/yRu6bvPxZEksKpLCxZAqtIa/jCDSnNU2lJrgagp34//1Dj60UtirUyjAEty1oo9sGKXYDoO/stykyWCJdbGutsZUmGAyRXPZJyX7nz58/FN33GQB/FfUwIARbRk8G4KgJn2HKKt7uOI/F6VsxRaSQQSyYdOeC2DkvmPqP8xvI5RbwePNugGLL6H+ybfyCYRvGWOeplr1QKocQEoFJwpmPLNx3ArKhmNHVWuPqbOFnBSg0irzq4sjxnxAw6tDaRWETNiYO13BGNf51qhQ/+hkDLO1M0Arc/P5K4qZJ2BCARgjIK42jTHaJ38w24bupCSwBF+iyIHAqmIeDdeIwj2Ds0p5zaMnaSOFprV9YlaA562AUgtyQIQlI8KprlGo/tdZkXV34GQKGYNf6OGlX8V/7lVZRtG0bH5/NkaDRCMCsut8xq+535Nx2Xm47DkvWoMjTpV4gFq0hndRkUxoIk9ftgGZ+9//xXteFKK0YF9yP3WtvIadaaAjOHtYxjT4+oyPfQlA28MDyqUWv+ICsL0oZvHZN8Wdbdfd4daK1y/jwUSidI6/aOKjx+aHtvs9mhx/8jkZ07wrms3/7R+RW2/KXT9qpD5qFXysUkMi77FkfZ0osxgzO8T7QM5sk8Zwh8n+AwMNgneUVffDZJFZlbN5qTxcy74Ll6TytheAXPBeNqj4V8rQuXY2ectzC655BxFem1pF1FRoISsGWsSCvvfQi/3nKKfzx1luLnzvttNMqPjYfn9FA0KjjwMani+27nj+Bq393P9/77URiVZJUQpNLe9dKKaqxqAYg4XzMk6t2xtZZ9qy9kaxaxYzYNwlI30t4IE7/fjWZpAaheKxrJumEd3OpCUxmoFXTWmtybisAts4yq+YqNBpQKO2wbdX3hrD3Pps7fvA7Ckl1tHHsRVcw54SvUTt+Arl0CtdxPNsy7a19jRiSs3cY35tJ1AnIXQK5qwquEPRen+w/g3O3V0muqtyTy2ddvNGe5o22FAEpyLuajKvocYqTQhAxS23uHFXIdtD7XwFe4ZHztm9Cae+WoDWEBxBl77LH5/jDPrP52c9/jmEYOI5DU1NTxcbn4zOayX1yAo//+V4+fbsZ19YcfSYc8Z+aXNro4xwgMEQQwxhHEHin67sobbMq+yimiNMUOmyTSy2Pdp5umU1A1hMMhvjVI7XsdUgVTl6jFaSTmmDhMqe1QuPNRHnShbbCvUlzzMSl5NVqXJ2jPrj3MI7GZ3PHD35HEe05h1VZm6pT/5cvWgZ2Nku6uwuAnKsISMGEsMXhk6qIlgVciBiErvS29OdArQJ3aVEWVyyh3CkgMAeC/wfGPkM6vpFCue2U1prlaRtDgCkFH3VneWFVkoDszeaa0rOO61seuoe8UsVkvas10+NewZOcqzhh6kBZpbV7zVmWt1CnsbFxwwfnM+j4OrqRjTA9LenC97yAbHzqlxxV9x3smm6eXLUrAVkPUNCjWhgijCW9bHDS+RSNS3v+VT7ovgyl89RYu3FA49Pk3VbC5uThGVQFybjLkYTIqpU81rwTARlHIJGiYNWYhx33jNG1ujCNKMAKumQyGTQaKQJEjWkocpiiioMany3Zf4QKWICOYsq9p3O5XEWO41+nSvGD31FCa9bh3iXt5F1N2JTkCna+VjBI2tXMqjZoCptsVbUeleQir4JaCM69kP3f0iywAThPg70vhP4H5OwNKps8Fujo6GAx0LI6hQS68i5vdqQxC0GxKaAuuOavTs5VFKS62Eqxb2OcqCnRWpNXmr3Gxdb4WR8fn8oiDC+4sGQVR05YWHz99fYzCBkTWJz+Izm3FUNEMaXnnV2YiwEBSXcBDy6PYyub2Q334Oos40OHEzTGDcdwNpnFqT9giAgSi4TzEe90XYQpLAQm0T4ODEL0PtQrBVV10ltXkrd54Z5aTvzaqWQyScLGFLaJnz8cQxmV3H777cWfLcviiCOOGMbebD74we8o4M5FbWQ9PUNxGlwaBg2T63j2r39jUtcKZn9jAx/r5HQIXADmMeD8DdLf6/VB7MkG564E8VvIXQjRD0CMXWugb9z2ILWxiKc1kAaPLujEzns3SSlKdbpAUZoAYCvPhQG8BYZHTKxmaiyAozVKQ1N47J43H5+xwu51NwPQFDoMR6dZkbmPT5M3YoogwUJ2GCjII8YTMuC1jtNQOsu44Byi5nSqzO3ZKn7OcA1hvXB1ltfbz8CS1SjyheDXyz4KTGKFEsHeegTV53MZbNWJNARdzYKLThDEaiSpZAarcxcuPfXHxcrvPuvPjTfeWPx566235ktf+tIw9mbzwQ9+RyhZV/HYii4WdOcIGdLzfpUCpTVWKIx2HI4NeZnI66/97cYfSM6EwEwIfBfSx4D7Iuh273c9cgj9KXQHwJgI0fcLZXdHH15ZZ89OLOdqbvy4lbDhZS/22P+g3jdqjWPnS+QLrta4utd5IW4ZnsZXaQ4ZH2Pr6vXIuPv4+Ix4GoLewt/xocPZufqXODrF31duUQiAJa5KIYQsVBvzroWd9lt05P+NFAEWpW7E1Tmi5pbsP+6JYRxJL225F3i57UQsWYPGIeuu8irlIUqsw7R2cXUG0F4eQATwFqTlaQjuz74NDwJZPs0u4D+f27H4ucMOc4d8TGMRx/FL2A8VfvA7wliaytGSdXhqRTdxyyBqyqIGNesq4qEQRvNizjr8gN4PSWMNe9tAIg+BVpA9DZwHQXWWVsVRK6C7FoJng3EgWCcNznErxEddWVzdq8P9y+J2ggWPMYGgNtB73px8qc7K6ZPNVVozKRpgUsTC1V6md8/6CFUB/+vj4/tnjmVMGcckznGTe60En2s9lLAxgdW558mpVqQIYYoIFEot59RqwAuI/7rMJK9cDm58FENEqDK3J2DUr+lwm4TSDqtzzyNFAEOE+Sx9Jx92/xJTGkiCWLKKvGrHKwJS1edzeVyd9gqFyFrGB4/E1WmCspHdaq8b4EghgsboTIBszvjXqVL8u/cIIe0onluVYGkqR9bV1BY0pUprHOWVIz5iYhVb10f5w32Pku3qrExHhITwH8F9A9T7kJrXXw6RvwG4AZy7IPB9MGZVpi8byL9XJ2nLuUgBphB80JnBpVfO3Fenq/vIFgACwRDRmjgAOVsTSnawz7gYtvIyvk1hi7g1SA8ZPj4+o5YDCtnc5sw/SLtL6cj/m4Wp32OKIEIE+njZWoSNMGEDXmo7HlenGR/6PA2B/QjIOqbF/muT+5J0FrEkdQumiJN0PmVR6qaihMEQIeLWwIvLHJXG1UkUNrXWHsyIfRNbJ4gYWzAx/MV1Hren4pqPz2jFD35HAHcubCPhKPKuwpSCkCG9oFdrJIKpsQBHTe590nbNQOU7ZczytuqTIXcW5G/s9eTq8eeyHwTnIa8RHx6LtDsWtpF2FIYQZFxVWJjS68IQKCsa4fTppiUFWmsCoTDv/etZfv21oxGmSWNjE83Llw3xSHx8fEYT48NHAqD0qWwVPw9DRGjLvcS/2k7GEoKgMQ6BQNBjqVZLe/4VVueewxBhVmQfwNU5TBFh34b1L02+IvMgHyV+jiWqyKpVJJ2PEZgIYRIxe4NdrV2U9lZGuzrrFZXAk3DNiJ3K9lWXY+tugrKekDF+8E6Mj88owA9+h4nl6TyLEjlebEkStwykgEBBY5pxFDUBg+qAwZem1K5jTxVGAKHfeVvqc6Cbwf2sj0VaIZrsEmAdDYFzwDx00A7flXfpyjvFCmmPreiiOVNaIU0KcLQu6Hl7dRqeqbq3YEMDASnYKh7EVpqAIThsYnXxvU27ft17n+OQT6cGrf8+vSQSieHugo/PoCNFgGrLq7gYM2ewZdS7ljy5aldMUU3aXewtFCvIEQwRQmtFe/41wAtS71sWJK/yzG16hpi5NVrbhX2HWJ75K6+1fwtLelZjhgghRRBPvCVLinC4OofWeTSKgGwgbEzG1SmaQkeyY/WPBm3Mrlua+e2xX/TZNFIp/94zVPjB7zDwaSLLg0s7CUpRlDeA5webshVHTa6mIWQxfqS5BERfBfdDcJ+GzLe813oSqwJwHgb7YQj+DxhzwDpmgw/RmrWZ35XFFAJDCj7tztKcsTEKGdyAIagOrFl+kHYUPcZEEsHhk6rIK2/xRsSUbL0GK7hX3nyLadOmAdDR2cn999/Pscceu8H99+nliiuuKGlfe+21w9STyuLr6HwG4pCmtwBYnrmfjvyrpJ1lfJb5M5IwUphFL2GNxhBhghJeXH0USpeWKjdEiFiZn3DPOhBXZ8m5XkZXkaMxOJf64L44KklT6DCaQoOXiOjLuHHj2G233XjzzTcB+OCDD1iwYAEzZsyoyPHGKn2dHgDOP79yFnH+daoUP/gdQjKOy31LO0naLlFTFkveOkrTbbvsPS7GbnVhqkfyQipjO28zDwf7dshcNoAm+EoQ10GuHmIr1rq7jpzD35d1ETAEAkg5im7bLe7SkIJYmdbW7an9CwWpg0faUZy/QxN5t1fbULsWP96SfnR0lLRvvfVWP/jdRMqD33nz5g1TT0Y+d9xxB1/72teGuxtjktra0tmz7u7uIT3+pPCxTAofi9IO0/NnEpTjSLmLeaXtRCxZXVJUJyDWr5RyXnXiqAQTwp9nZvxiHJ1CaZvawKwhkTDEYjHOP/98Tj75ZAAWLVrE3XffzUUXXVTxY48lzjrrrJJ2JYNfn1IqEmX5qftelNZkXc3tC9pIOi7hwjS9FAJXa/KuZlzI5JszR1m1LjkDgj/wtvShoN4B1eL9TgAiD6yEbgFyGu2BhUgcTCF4tzPDs80JLCkwhCAoBYVqmAjhSRn6Yitd8JwEV8OEiIXWXuD7jQHOW3QQ/qrLq+74bDixWMy/FqwnJ5xwQknwe+CBB/Lss8+u5RM+60NrayvHHNM7AzV79mx++tOfDnk/lHaQwqTDfp1PE9dgiBCm2LhiN3nVyf4N/6A2sBdSDF+iJJ1Ol7RDId/ucUOJRCL9zqPP0FCRb87555/P2WefXWxHIpFKHGbE80FnhhXpPG+2Z4hbssS2LOW4jAtZbFkTYP+m+AbtNxYrvWhmMplB6/NGEXkCSIJ9ETg3gZPlzcR5mCKNgc1qe2te6U5iiSTgOTH0tRkrLyec71shTWt2r48QkhKNVz1tzoQqfHzGEtlstqSdTCaHqSdji56H5h4MY2gcWzrzb5JTq7FkNe91/T9WZZ9GCgNTxDBEBKWzCFE+o5XB1aWWiwJZYksGEJA1PL/6yELm9yhmxi/B0UmaQodUfFw+PmOFigS/Z511Vknwe+SRR/KPf/yjEocakSxP53m7Pc2niRyG8DSqPdZaeVeRsF1OntFA3JLUbKDEYeXKlVxyySXF9qxZszj11FMHeQQbzv1LIWReDc4XcFQ3n2aOxxBeOtfAptpK4dVOBq0Fuo+BcM51cZS3gCKvNHMnxJkYCXiFJRRMi/tlg3xGLpXwzxyqIG2sU/5gXR4MDxYrs4+wOvtccVHb4tTNpN1lCExMGSNa4sKgi/86uhtXZ3F1nqnReTSFDkcVAmCBxFYJ3ug8B1MECMg6ROGWHZA1BGQN7flXea71YECzfdVlODqFrbrYtfaqioxzbVRV+UmJkYzv81vKkMyZPProo0NxmBHBVR+sImh4koagFIiCvMFVGksK9mmMsUd9dKP339HRQXNzc7E9bdo0amqGxnDcVl7IKoQnOfj9J6sJGdKrhOwqhEgDeyGEIGq0lnzW1RZKW2gEpshiiSQaia1c5o6fyA61VvEBQZbdsHx8fHxGGu92XkBr7jkMGSHtLCav2uhZAGGIMCGjCQCl7ZKMrqO6UdjYymWv+psYH/o8rkoRNqdgiP4P+k2hQwkZ43m8eQcy7jJMGcMg4pmoiRCGEUJrzfzETwvHy9PtvEdetbFn7e1UB3bst8/BoHx24swzz2Tu3LnFhcM+68Y0R/D6njGOf+YHgSXJHG91pPm4K0vcMhCAJT2v3ozjMiEcIG4ZfH5y9Tr3tS6kLNXDVrIc4pJkrriYLCAlf/y0tajHlQVtripkMQJFnW7BV1JpbN1TIc2iKfAqDdbb5PWWbBO5h61j9/b6BptfBecrCPNL+GGvj4/PSCJhfwRAQNbxVMuepJwlCASWrMYQAXBB0OveAD1FJDJobGLmtgRlPRoXW3VywPhnsGSZ1G0tif64tS0AR030vMeXZ+7n48QvEFh05F9DikDhntO7z277fUDzz5Y9sXWWpuAc9qq/g5xqLdqybSrnn38+b731Fn/6058AL5Pt61fXnwMOOKBk8WVbW9sw9mbzww9+N5EXW5L8qyVJ1JRUB8zilFbGVRjAkZNqmBSx+jkWjETeak/TnXcRwisA8erqFH1nCRtCvdZr5dOHrtJkleep62qYEgmwa30ER2lcHWBKEKpDFiRPLNiiFT4ogNydoO+E4Dlgfh7MIyo7UB+fEY7vmzp8LM/cR9ZdhcDAklW81n4aGgeQBGRtiYShL3nVgdYurs4wPXY2EWMKju5meuxbRIzJA35mY+hxjwAv+2zKKkDwXtclmCKMJauRwiuEFDTGEQS6nfd4ZOVUHJVjn4a7sFUXjk6yTXzT3AXKs7/lyRmfNdPQ0FDSbm5upq5u/dw+fDYdP/jdSBYnczy/Kkm37VJleQvZdKEqW9JWHLNFDVvGgkTMkX0x+OuSDrKuwhSC9ryDo3Qx+9oj2+hBa11ciKbxZBDgvTYhbHH6lg1kC566IUMQLHFtOMzbYsdD/lrI/bS3UlzRIu0asG8EghDvqvjYfXwGg8HQ0ZXP4Lz88svceeedfPWrX930nW/GjBs3rqTdtnrgsvCvt5+Bo5MYIsyq7OPYugtRkDAEZF2xeI7WDkp7/1e26kQVZrps5XLAuPsIyiYcnaYxOLef3rgS7FTz8+LPdYHPEZSNvNJ+Egl7PqaMYQovG1yURxiaNzq8ssquztKRfx1Xp9iu6lJqA7tv8PHb29tL2o2No8y1aBiJRkvlj5XSo/fg631L8YPfDSDrKlyluerDVURNg4AhMIW3qMJRmqyr2L0+yoHjN8y9oZKkHZeUo5AIgobgvqWdNGfyxaIRYUPSc42WUBKw9q2QBl42eELYwtGasCH5whb9tcZrqT9ROMhkCP3E29L7g1oI7oo+FeNyQM6rGGfuAuG/gNxmk86Bj89Ip6amhrvvvpsTTzwRAKUUb7/9th/8biJ9A1BhwPsfvIMigyTMA8vjmCKOwMDVacB72JcESqqmOSoNWqNxCcpGhJDYqpMDG5+hLvC5YRjVwPQUtDh8/IcALE3dxbtd38GUcbJuM6KgrbCkd922gJbc42iteHH1F9C41AR2Z/+Gf2Cr7n4uEwPxzDPPEI1Gi3KHhoaGigdxY4GbbrqJ22+/veQ1f5Hr0OIHv+vJG20pFifzLErmqA9axYBRa03CdtkqHmRcyGTfxqENfI2y5EJ7zmFR0nOZMIXgvc40y9O9FdKChlirw0TG6S0HbAiY3RjDVhoFVFkGO9QMov9t5HmvXHL+Ssj/DBSlBTPctyGxLYTOA7kPWCcO3rHLsO3Sqkq+Z6XPUFN+8/OlD5vOLgdBJBwk1Q2/fGgcD60K4tjeNS4gx+GV1lEYIlISKOeVV/TG1RmmRU8HBLbq4nN1dzJa1uNOiZ7ElOhJALzcdiIBWYMUYRYkr8EQEUwRxRBhEKC1QiDpzL/Gfcss8sphzrjH0cLBVWkmRY5b43H8YHfDKT9nN998MzNnzhym3mye+MHvOninPc2iZI6FyRxBKYlbnm2Z0pB1vWn/U2bUE7OMfsUZKoGg9Evz8YoWnktDV1snUkBHzqUt5yALF2hTCuJlemPV54uXcVVR15txFd/YtpFsoWqaBCZEAhUcDSDGQ/Cn3qI390VIf6t/xbjcVcBVkP8NhO8DOXHQu7Hnnnsyb948brvtNgDuuusu5s2bx5w5cwb9WJsLfYO3X/7yl8PYk9GBUmrdb/JZJ693nElA1GDIKFc9MhFDmoAg2akwVRNm4XLoBSDexS+vVuM94oOt8hzY+Ah51YmrUkyLnTE8AxlE9q6/u/hztbkDQaOJD7ovpzP/BpaMY4oqQGKIMIYRJmTAS+1fBhSOyjAj9y2EMJgS+Vq/bLcf/G445Q5NXV2+zG+o8YPfAXC1pivvcuuC1QQLAv5o4YrpKO+LbknB8VvWMDla4eCwQNZVBA1JIpVhz+O+zv9cfyuZZALlurz/WWvxAiQEhMt0xo7SxZBZaU2VZaDxgt1zZjZhyhGQyjB28bbANyHzFXAeKkgg6NUGu69AchKIGoh3rG1vG4wQgp133rnYzmazLFy40A9+N5J58+axbNmyYnvu3LnD2JvKMlj+mblcaYEDv8rg+vPoyq0IyHqEMOiy30XiPXgZIooQXpCrtUbRc441rs4Cmpyb4vMTP8YSVWhctLaJmFsO11AqzrSYp/ltCB6A1i4rsg/yWvvpWDKGQQgKqz4sUYMQgoCEz9J3orFpzvwdS9YQMbdkn/p7AchmS/Xqhx9+OI899tiQjmk0sWLFiqK8qYfyIjeVwPf5LWVIgt+hEP4PBkprliTzPNuSoD3rEC0EkT1evRlHsXVViMaQyV7jNq405fryUVcWs1AGeWXG5vlVCQJSEKieyjnX3Eyqywv+tNae9KHvlJ2r6MkhOUqzfU0YS4pihbSjJg+NL/BGE/6L92/6aHD/DWpVbzZYA7oTOgUETwHzC2AdPyiHLZc++B6MG0/5d748sPPpz9e//nVef/11rrzySgAuvvhi9tprrzH94LAhtOf/jUEQy6jjgWVbeGXRASEMArIex/WcBwKytviZSFwgBGgNiUQ3DdbBuOTIu6s5uOmVYRnHSCFQ0P5Oi57GtOhpAPxz1V4EjAYMgqzKPYHQXjbYlF6VVlencdwEKWcRf/1M4giN1p9SO3ErJkwK8OFred59a+GwjWk0UH6f+eIXv8hFF100TL3ZfKnY3f2HP/wh3//+9wEvQLvhhhtKqr6NRB5Y2sniZI6wKYkV5A0ASdtlXNDkkAlVbBUPViSYf2x5F0FDIBDklOLdjgxW4eIugdpg4b9KuWQS3cVgVytFXnkuE+A5MOzXGGdcyERpcLQeXJ3uUBJ5GNw3QH0Iqa9D34S2Adi3Qv5WCJwGgZPBOGi4eupTxmh54B1pJBKJkvbmrj2f3/0TTBlHa5s3O8/HEt75qAkMbDfmLdL1CuxMnFzH1d9JIg1IJrv5wWXfZ9eGy4es76ORvg8E87t/gimiLM3cQUf+NUwRxZLVCAykCBQD4odW7sbfl25J2JTc8OPVCCeDzYdYbDdcwxjR1NfXl7R9b+ThoWLB79lnn10MfgHuuOOOERv8vtKa5MOuLBegca4AACAASURBVEnbLfrxerZlkHYUp2/VQDwgsQbRw9DRmj/0qZDWnu/V6QoG1ukqDeFIGCkNhJQopejoTnBgU4wda8I42nvfaPAUXm+MWd5WfSTkfwjZq0ot0gDsW8C5HXAhXrmiHz4+lcZ13ZL25mYd9WzLQQRkPQiBq9K05p4ueNZKYiUlghUa71xpXK+6WsFq8qiJC4iZmlPP/Q/uuKY3mPv95RcO9XBGNTOrvPM1MXwsOdVCe/41/t1+NpaUBOU4ei7ABtV0tio6UZx4bi1K53i6+QSqrO2QBPlc/e1rOcrmxx577FHSbm1tXcM7fSpJxYLf8qeZ4dev9ahevS9st+3SkXO4fWEbVZaBKUWxSlleKZSGQybE2b4mstFHXJWxi0c0DcF181sIl1VISzreBbx8sZyrdVFfrDTUBQ2aqmI8+fQzvHjPn/jXvXd4o+qz2GBo1MfDhKiD4JXelvoc6JXgLutjkeb5bXoWaftD6EovaPbxqTCDqaMrN77fZpttxuSCopzbghQhMu5nPN68Y9FLV2vdZ9ZAEjQ8n16tFY5KFV5XCBEgbExG6RwBWctBjc/3O8bbz5WeN2FmgM07k74xRMwtiLAFtYHdmRE7C4BHVk7HEnGkMEk5izENA8MIkU1pIIDS7bTmnkFrzcMrGsi5bcxteoOYOQOlc8X/182Rjz76qKT95ptvDslxfb1vKZuFqPFfqxIYKDSScV0rSTRO4a3VSTrzDuP6VC1ztSZlK2bVR2gKW2y/gXKBDzoznqduoULaP1cm6ElRCqAxtGbrIldrcm5PsKuZFAmwbXWoGARvXRWiLmhy+IlHFj+z2U6JRl8FtRjs2yF3aWkWWADu85DcHYLng7HPemuCU6lUSbuqat0+lz4+g8kvfvEL7rnnHpYsWTLcXRlUlqb+jCHCCGGRsN/n7a4LMYWFwCRsTCq+T/SZXVPaIa/a0VojhcH02LdwdRqtHaLmdLaJf2eNx7vgggt48+1Xi+2//e1v1NbWrvH9PhvG5yf06no/TF7Cex+8xbLOp9h7bhO5jCadMAETb6m1JmxM4pmW2WgcHG2zU/UPqbJ2JGpMpyawy7CNY6h5+eWXh7sLPgXGfPD74NIOFiZzmFICglBaklEJAkITMXvlAa7WjA9ZHLVVdTEDvD78bVkntqsxpWBZOo/dp0Ja2BDFykBAYbVxz8+e2wJ4we7EcICjplWTc73LRdyURMeSfGGwkVMheAmYXwLnMch8t79FWv7XnrN9fiZEXgERXcsO4cILL+TBBx/k3XffBeC0005jzpw5/WxpfNZNLFa6IHQoVjOPFfL5/HB3oQSdhwXpW0nolxFsmPewEBJXZ1mUusnzlAUEVomEYSCUdggbk9mj7hZs1YUQBvWBvdf7uPFY6YNrZ4dvJVUptov9mHFb2Hzn90fxl6ueZMpWMS65qoHl7e042UifSnn1xaz+J4lf4+gMcXNbmkKH4qgUs+quH85hDAknn3xySfvGG28cpp74jO3gN5+lTZuEDRspPLcDFashVJIq9JDAqqzNdR+18qUtapgQsYqlfHsIGoK7F7XTmvX0uZ7JgijuyRCl8gWtNfke704NhhRUWQau1kQNyXFT/Trem4yxo7cFvwPpY8B9FnS39zsBaBfc9yERAzkeogtBDJzRj0QiJdPOnZ2dZDIZP/jdQG677TauvfbaYvsnP/kJBx544DD2aHRRXup4p512Kj6QDTVPPPYsV9z4Bb7/x2oS3SlKV52uL6Iku7t+nzDIqVbe7PhGwX5MF6qwebg6zVaxc9gqfu6An1euuda2z+DSMMGiytqBlx95gpdJ8JfrEjz71PM4u5xCMtmOEKYnaUEgMDFlHJM4OdXC4tQtaBQdq14lp1azf8PjxK1th3tIFaF89uG0004bpp74jO0rQiDE43+4hi9/53vYGU9bm+psH/CtouCHEzYEDy3rxF2Dzi4oJaGysmo9T7P/v737jmvq6v8A/rlJyGCDoogTEBURpYrWASp11G3tso6qz1NbR+1Qa39PHaVqtU9dXdZqW22rVatV29pqHaj0cc8i7lE3CCh7JuTm/P4IueYmAQUhN5Dv+/Xipffcm9xvbgL55uR7zmEwzscLGHt25RwQ4esKfclgNV+VAhG+Fa8hJg/hutX4b+EwgN8J8JniKdIMKUC2K6B+DZD3AFxetLoLy4UGaNaC8rNcmaymT3NW2fNnpqWliV53SUlJlXfn5bBr1y483edp9B6pgtpVjsI8+61eyXEcGNMjT3+11GPO5czC6ezJNvd1nuqFY7ObCNvpma9i851HXyqaZwY0dh2OUM/p0LP8h9+gnBjj4aZoArW8XqXft1TCW5vN7qAHunWLBuMZ4GVsSsh8E4V8Egr4G8gpvggZp4SLzAMyzgWMMRTyyQCAuNQIGKCD3mBAG+958Ff3hULmAXdFUwkeVeWZNGkSjh8/Lmz7+flBr9fbbVljmudXrMqSX8u57KQa8OZ79wqm9eyK2j7eKMzNwbz4eKTcuA+5jeTW9IZjmdw+CtMcui8H10IRz6AtSYKbuKseK/6y0FfJpdCsB/iTgOEckD9aXA4hB6D7GsDXgH4z4DIVUHQo/b4IkZhUtf2TJk0CAJw9yOPmRT2CwpQozDcgP8c+A/CM36qVXmYh47zgYsqsLBTnA/fyzWfO8IJGbvvY0qRpdyI5dUu5bvOoDNChtjIa9TXPgkfl/x03MB38VN1RWxVV6fddmtdeew1z5swRf1gz+6IgwudzAEBO8QWkFP0JA9PiTPZ0KDg1XGQ+kHHG51oYDCcHLuUuxPmcWLgrmiPIfTyK+BS08vrQXg+pUtWvL/72Y926dVCpqi4/IGWrsuS3adOmWLhwIaZNmwYA+O2337BixQqMGzeuqk5p07CRL4PXf4evV30HAJjbri2+2BKHRBhsJsCPQynj8OedbBTxBgxq6I3aZQxwq4ioKPEfMpoipQzydsYfr6GA9k1jwms+4QcDULzRmAAzHvA07tRqxb8STjuo8DEolTV63hG7MJ8X/e7du5g3bx5mzJhh1xhM34IkX9fjjd6pcPfi0KKdHP+33A8FOSXfdjFemHKMZ1roDfarrZXLXKHgrBcbMn/9McasOmIelQwqqORV901djv4CsnLef/iBFcDA41bBj/BQNIcBlT/9I88K0VjzMpq4/0vUfjHxDjxqPeg8CguJxrkr4pk4PF1C4eli7CVu4jYGKpk/9qZFopC/Cxkn/vvrIvOACzygM6TjXPZMGJgWOcXnoDPcR6Tvd9WmN/jChQuYPVs8x/Tdu3clioYAVVz2YFkrmZeXV5Wnsyk6OhrR0dF47dtVuJwD6LV6JGZnlZn4FhsYDGXsV8pksPw2nAMAjkNOsfGNYO21DKF0oohneKGJj7BwBgOg4DjU1ZQvOU5NTRVtW06LRGzgVIB6hfEnPwJgGQB/22yKtJLeoSwO8B6GmK5FMB+Qu2PHDrz00ktSRF5tWY5oLiwslCiS6uvJJ58UbVtOj2QPv/76K8LDwwEA95N53E8GGjWuDxeFEsUG498ipawW1HJ/6A0FqKfpj1Ze8+wWX1LhLziXPfNBAswBXp5eOPX3KSiVypJZImQIDGxa7gSY42TQGTJQxKeAQ9V8Lc1xLnCRVd2MMsWGHKTrDlfZ/SfqpiAh+w1jjV8JlVqN/xU2Er5FLSi4hF+T3EXHCDgOMhh7PuWcuszrLONchJ7hdN1BAAx7UtuBgUexIR+tvT5GoPtYMGaASv7gfTE/Px/du3fHiRMnUKtWLfzwww+Ijo62+0w+J0+eFJV/jR071mrwG7EvjlXhJJJff/21qKf3k08+wdtvv11VpyvVP7la/Hor02rhCBMdb4C+5CoUGxg61HaDj0oOg40ro5Jx+ONOlmjBCzkHqB4yQ0QRbxB+/xkYlDIOHf3cSxJt4zy+zb3KLg0JDQ3FxYsXhW2DwUA1qeXFXwT4P4HCKQ8SYBMGwBNYPB/430Fg6/aS5ho4z2pVSU9PF30oq1OnDnbt2oU2bZxnOqPKcPDgQdE3PREREfjzzz/h7+9vtxguX76M3NxcLFmyBBqNBowxLP10JYpc9+NmziaAA+qpB6CuupfdYnqYP7ceRr/Bnc1alGCsYjXnWboE3MhfJcxSUZk4zgWZupNI08ZBXkUztMs4NRSysme4eRyl/V3kZJz5QTbzXpu3K+d7mfn59SwXepYLN3kQWnsvgZ67j1pF/0KnTp1x5uKDDwABAQE4evQoGjRoUK5zPS7zxyaXy7FhwwY899xzdo2BiNl1wJu9CrstMWacyszUE1tsYCguyWx1BoYYf0+EeqmgLzmurPl4AaCWWgE5jNM9yDngRq4OfyZnQ1nyS+8i44SliU1UMk70C2BgDAfTHvSEK2UczmcVCTHqDAxPB3ihltrsKeLFX19R2lsB8hYlP/0A/Uag8H1xTXAuMHU6MCkdSEoCgilnKxfL3/HmzZtT4lsBkZGRGDRoELZuNQ7iTEhIwJEjR/DMM8/YLYZmzZoBANauXStq1yAaPj7RdoujPF56uY9oe9euPyp8X97KCEQoP3/ckEpVxKchQ3cYsnJOH/coZJwaSYW/4EreUsi5qnmbl3MauHDWgyCZwZgAyzgZTF+RGgyGh3YiWO8WTxVqtdfs/dSF84QLPKFneTiWMRzgtPAs2okek44hf7kLrp019vwnJyfj+vXrdk9+zdWvX58SXwdQpcmv5XyVUo1abuqpQu96XkjMMk6V066WG8LKuYCFOcvkOKKWAhG1HtSG/ZNbhAOpeUIyLOM4pGv1opkEXGScqLeYMYa7heKv5tZeTxfKL9x9aoHVqQ/v7DzIXZRIT0tFllYP70quK3Ya8uaAfBagmgUU9AYMpwBDunFfLqBSA0EtSv4g5wcBmmOAjMpMyqui9ZbOTqVSoUuXLkLyCwBDhgxBeno6fH1pisTSeHl5IScnR9ju1ctxeqUtqeV1EKAZXGX3X0f9FMK9PkLFpqcrm5zT4EbBKiRmTYbCIgE29vxyxm8mZTIwgwFKlRL6Yr3V8t2l48DAgzcUlpkA24pLyRmnEyt03YdBo+rjubEcBjW8jcx7xvdfmazyr0dZQkJCRNv0ba1jqNKyhxMnTqB///5IS0sT2hISEpyyJ+jE/XwU8AZwMPbyHrqXB5lZ362cg9XiGpZPjbtPLShKSjcYgPR79/G0vzt0Jb3YfMnKcL6qmj2DXZVgBYD2LaB4PeCRD+Sa7yv5UU0C5NE2p0gjRllZWaK5LDt27IjDh6uu7rCm69GjB/bu3Stsa7VaGlBYiuHDh2P9+vXCdmBgIK5du1bGLUhVmRe7DDPnvC5s//vlqVi5elG57iNL9zfO53xgc1CjLTJOhVsFayDjNFBwbkKNsI+/Dl1dU6EvmVTjzJkzaNWqVbliqaikpCQEBweL6n2pjM4xVGnyCwAvvfQSNmzYIGyfP38eoaGhZdzCOVzL1cJUGSHnOKQUFmPP3Ryht1gh44T/AyWfVi2eKsYYtGaFyQYG+KkVqKNWwMCM5R0d/dxRW03J8KP7B71immL3PhgT3gLgwbJ8Jf8q+gGqhYC8pSQROjrzno2mTZviypUrEkZT9apy/kzLOv9XX32VVoWy4fLly+jTpw+uX78utJ04cQLt2rWTMCrndfnyZfTu3Vu0TLc9vrW4nLsEalldXMpbgJziszAwA0Lr/BsHvmuLjIxctG/fzq7fBgwbNgw//fSTsP3vf/8bK1eutNv5zdE8v2JVnvwOGTIEv/76q7BNyW/p9CVLI8tlHM5lFWJfSg6UMhlkMg7FumKoXN0gk8sBxoyfJA281VcofMmCGoBpYJ0Mcu5B3laoN+CN0LrCp08GY1kGeeDS5Tto0bwhvl8OjB4NwAVAPh5MkWbCqQAPmmvZnEKhEH216Qy9HFX5ppKfn2+1VLQzXNPy2rRpE1544QVhW8okgxh17NgRR48eFbb9/PxE3wJXpSL+LooN2WAwwE0RDDln//l0d+/ejd69e4va/v77b0RERNg9FoCSX0vUJehAFGY9vWHeGlFd8tiXXkCSXzBatI1EQX4eunWNRpbaC3qzREPGQUh2jTjjPJdm75UuMg5LzqUAgLDI88jgWsLKdAYG+CoV8FRKMzjREfjXNU6DM2a88efS335oFuYBFFwzmyINANMap0hTvQC4jDH2CDu5R6/pI4/Czc0NAQEBSE5OFtq0Wi1Njm/BvIcRMM4yQqR15MgRUefMvXv3UFRUZJe509XyepKvnmdZ7rVw4ULJEl9ircqT36ysLNF2rVq1qvqUNVK9kBZY+eGH2FGyPXjzRnQc8ALy842D+GQch2wdjwNpuUK5hJwzlk5Y9uu6m035xhjD+msPlnzmGUM9VxcEuavAM2NvdJi3RjzrRA1nMIgTuGdGPIHz51YDmq1AocVHZzmA4p8B3c+Aagqg6EFJMKlUt27dgkLx4Pevc+fOOHnypIQROZ533nlH+L+Hh4dVjxuRxsSJE7Fs2TJhOywsDP/884+EEdmHVqtFbGyssO3t7W01dzeRVpWXPeh0Onh6egoF32q1mia9L6dDhw6hS5cuwvawYcOwbt06m8dmaPWQccZFNC7lFGFXco6odlgl4yC3KHOQy6xLJ/iS2gkDAE8XOVwVMqHkuJA3YEzTmjvzQVpaGurWrStsx8TEPBh0ZLgOFH8NFP5XPEUaUNKVrgLgAXg45+p7lmU49BX940tKShJNzaRUKrFp0yYMHDhQwqgcx9NPP41du3YJ28HBwbh69aqEERFzlnPcbt26Ff361ewOgm7duuF///ufsB0eHo7ExEQJIyKWqnzOD6VSKZr7s6iIaiTLKztbvGRoWRPd+6oU8FYq4O4iR7tabngvvB6mhvkLP2E+rvBRyVFLrUAttQK11QoU6g3Q8cafYgMz9hjLZVDKZVDLZSjiDUgv0iNDa/wp1Buw5FwKFp9LwaJzKfj4zF0U8QZkavXINDumujItzGCyb98+TJkyxbghCwRUHwHeDFBEAbK6D2aD4GAshWD3gWwOyAsDDDekeAiSCAsLE21T4ls56tevj+XLlwvbOp1OVEvp7Mx/VwFQ4utgzDtqeJ5H//79a/zr1zzxBUCJrwOyy3fZ9Cb4eCznJXycusoYf+tJyf9KMZZKcJxxQNzJjAK4mE8gLuNE9cgA4C4Tl04sv/RgIAPPgAauLgj3cYWeMfAGoIm7Ej7VaAq2+/fvi7Ytl+oGALjuBwz3AN18oPgLwMCLe4MN54HcQED1NiDvDLi8YH0fNUidOnVw/vx5YTslJcWuK5LVZK1bt4anp6cwh+28efPw0ksv2W3KJkdl+VVyp06dJIqElCY0NBQqlUo03ddvv/1WI8sAUlNTrQb0x8TESBQNKYtdshEqc3g8lnXSlnXUj6ubRUIc6KGCgnuwWt3R+3m4mF0ktKnk5oPqjFwV4gFyGVoee+4a36h5BpzPVsBXpRAW7dDyDM829oGjsvzAVurE6DI/QP0J4PIywB8BCl4XJ8AcAN2nAD4FirsC6jWArFEVRi4dmry96nTq1Ak9evTAL7/8IrS9/fbbiIuLkzAqaZ09e9aql3fbtm0SRUNKExERgYSEBLRv3x55ecZVTT/66CPMnz9f4sgq36pVq5CZmSlq2759u0TRkLLYJfnV6/WiARthYWE4d+6cPU5dI7Rv3174f4sWLfDDDz9U6fmauItHkg9q6INBDR9s70jKwu38YiEB5sAhT88LU6ZxMM5cITcbapdTzCNLZzYFFhhWWPQW+6kVeKGJr7D0tJyTbho2y9H0BQUFZd9A3tb4o5wIFLwI8JuN63wCD2aH0P8PyGsMyLwB98yy7q1aslzNzXxFw5rMXlMIbdq0CW5ubkLp2J49e9CrVy/s3r276k/uYG7duoXw8HBR2/vvvy9aYIU4jhYtWlgtfd65c2ccOnRIoogqX0pKCqZPny5qmzVrll1mt3gUNNWZmF2SX8sXPS15Wr31qW9dArD1dhbUcuPMEsUGZuwpNiuVUHAcXESlE5zQCwwYp2m7V6QXpmHjGdDIXYkufu5CMswzhkAPldWAvarw3HPPYcKECfjqq68AGHsq+vTpg65duz78xq4bjf8WPA0YTgN86oPeYAbAkGWcIk09ClAMARTPVMljsKcZM2bgwIEDwnZQUBA8PT0ljKjmkclk6NSpE/bt2ye0nTx5EoWFhdBoKr5ce3VkWVMJGOeVJY4rKytL9O3Q4cOHMWDAAPzxxx8SRlV56tUTT602atQozJkzR6JoyMNIUoRp77W1axJH7U0b1FCcEDd0KxDKJBQyDuezCnElRwvTCs4qmXXphELGiWqJM4r02HzzQQ+pnjGEeqnh6SKHAYCOZ+gZUHUJlukrOpNyf4J33Qnwp4y1v/kvi4eXygHoVgPa1YBqPKB4AVA89dgxS8Uy0f3444+tFmcgj2/v3r3o168f/vzzTwBAZmYmJk2a5HQLOrz88sui7YEDB6Jv374SRUMeVd++fYXXLmAcnHj//n3Url29Zw+yNfuS+aIrxPHYJfm1TNhcXFzscdoayTTgxdGF+7iKtgPdVSjkDeAAKOUctt/JxrVcragX18UsOTStdKexGGh3I08HQ8kyawYGpBQVQ4aSDlUGeLvIMbCRjcFpFZCfny/a9vCwHiz4UKZyCM8egO5jQPvZgzII00PTLQeKvwMgAzweUl7hoFxdxc+35QwlpPLMmDFDlEBs2LAB7733Hpo2bSphVPbzxhtvWLWZz4ZBHNf27dsxYsQIIVm8dOkSQkJCrOpkq5MffvgBY8aMEbUdP34ckZGREkVEHkWVz/NrcurUKdE666NGjary2tWawJnmTf3xn3S4KowZsAEMSfnFMM995Zz1rBO8xfUwMAir1fGMoZGbCv3qe0FreLCCnZ9a8ci1xA0bNsSdO3eE7Uq5/vntAZYM8MniFeNQ8q+iE6D+BpCHlX4fDuTIkSOiUfYymQx//PEH9cRVoXfeeQeLFy8WtRkMhho/6HDKlCn45JNPRG01+W9iTbRs2TK8/vrrVu3V8XlcuXIlxo4da9VeHR+Ls7Fb2cO9e+JJ/2lgwqPRaDROM1vGyGDxrBYH03LhUlIiI+eAm/k6XLfoLVbLOVEiK+cAF/PSCa0eq64+mLZMb2B4opYrapfMPFFsYOjgV/rX81VSn+52HDDcAoq/AbQfinuBOQD8YSCvFaCaCsg7AS7PVX4MlchycODo0aMp8a1i0dHRVsnvjz/+aFUOUJMYDAacOnVK1Na8eXOJoiEVNXHiRBgMBqse/FatWuHs2bMSRVUxlomvj48Prl27JlE0pDzslvxajpanwTCPxnyWDGfTpY64zKClt8a4gl3Jtlouw7rr6cjTG4Q2jUJcTy7jIPQmm1zMLhIG2/EMuFNQDBcZZ1yrgjFoFDL0DvACAOTeS63sh1USWCNANRdQPA/o9wKFU2xMkbYY4GSALgJw3QNwlVPOUdnMV8MDgNzcXIkicR6DBw/GkSNHRIO8Ro0aBcYYRo0aJWFkVSciIgJnzpwRtqOjoxEfHy9hRKSiJk2aBK1WK1qW+ubNm1avaUdmWeqgVCpx5swZ23PCE4djt7IHwPqruj/++AP9+/e31+mrnUGDBuH3338XtdHXKWX75vI9YTlnjjP29ObrDUL5hAyc9XLOBgbzq2rqiOVkHFzd3HHl+BHMG/IUFBpX1K9fHzeuXK6a4AsHAfo4gJX09JuXQwCAzB9wuwNwclu3lozlV+0TJkzAsmXLJIrGudgqc1i9enWN7AG2fKxvv/22VQkEqV4WL14sSoAB4PLlywgJCZEookfzyiuvYNWqVaI2em+uXuzarWi5MhnN+lA2yyniLEtHiLVXm/mJtvP0PA6k5kEp4yDjgLQiPZIKdKLSCaWME20Lf8QYg7YgH8FPRGJDZsniHDoeC87eRcfabmjgphJqjosNDC29H3O6Kc1W47+FzwL8XwCfYTFFWgqQowCUrwGK3g5ZDlGrVi2nS3ylnD+TMQa1Wi1aPevAgQM1KvnNzc21+qZwwoQJlPjWAOZz2Js0a9bMoRPg4cOHY/369aK2Jk2aSBTNo6N5fsXsmvxajgC3XLmMiLm5uYm209LSqv2UMPbmrpCjT30vYTuvmMedAp1QJ6yScdiRnI3cYl7oHdbIZUIJLjMYoCsqRLG2SLgPb6UCiVmFSMh8UItdbGBI1+qhL+lFVnBAV/8KlvZotgD88ZIp0sZYl0MUfw3ovgaULwMuEwGF43xNSHN429+VK1cQFRWFW7duAQC+/vprZGdn46effpI4ssd3+/Ztq8UsADjdB6yaqmvXrjhw4ACioqJE7c2aNcPcuXMxZswYNGjQQKLorA0dOhQbN24UtXXo0AFHjx6VKCJSUXYtewCAkJAQ0ZKU9FWBbWvXrsXIkSNFbWfOnEGrVq0kiqjm0vIGlKyjAY1Chi8upIEDAzjTlGtyKFUqISE28Hrwer3V/RSXzChhekV7uyiEadmKDQztarkhwtfV6nZlYrmAdhqgXSEeFGc6CacEmA7wlOb3qHPnzjh8+LCwrVarnWaApokj9Kj06NEDe/fuFbWNHz9eWKSlutJoNMKKdiYrVqzAa69RF1ZNcu7cOZvvbe7u7g4xhuDbb7/FN998g2PHjonamzdvjosXL0oUVfk4wt8pR2L30VQ0x++jsZzPd9WqVZT4VhGVXFx+80ZoHdF2amY2PvhlJzw0ahh4HrUaNIJfUAgKzeYBdpFxwswUgPFDXa5eXOazPzUXe+8an1edgSGqrjtaeKqhL8lb9QaGBm5KcXCcB6BebvzJbwOwdIBPMpsiTWc8LosDlL0B1RxA/mTFL0Y53b17V7TtbImvo9izZ49Vx8Ly5cuRm5uLH3/8UcLIKs5WPfO6deswbNgwCaIhVSksLAxnz561eo/Ly8sDx3GSdpJ98803Nj9sNWvWrNokvsSaCcf7nQAAIABJREFU3ZPf9PR0e5+yWrIcMZqUlCRRJOTMiaNY/sqD1XpcfWvj2+170LFlKHQ6HVxkHI7cy0deMS+8YavlnNUyzHI5B5VZGXdCegFO3H8wC0qxwYCn6nmCMWPHLgPQobZZ6YvbaYBdAXRbAO1/xFOkyQHodwHFuwD1NEDeBVAMrtTrYGnfvn1ITa2i2TCqEUfpTbly5QrCw8NF00WtXbsWCoUC33//vYSRlc+dO3ds1lCuXr2aEt8aLCwsDLt27cL69evx3XffifbVq1cPCxcuxPDhw+02VujQoUM4ffo0Jk6cKGpv3Lgx2rdvj59//tkucVQWR/k75SjsXvaQlpYmmhopOjra5jrtzuzevXsICgoSlteNjIzE/v37y7+8Lqk0o0aNwpo1a4TtDWt/xIvDRwjbmVo9ig0MHGecgm3llXvQM7PclLPuYZbBundLxxtE6100cVM+6BlmDC29vdDKWw7gAmD4Dch/zzpYBmM5BNcEcL/0OA+7TGPGjBEtVLNkyRJMnjy5ys5HHo4xhsjISKv5cMeMGWOVUDiijIwMBAcHIysrS9T+ww8/1Ngp3Ii1BQsW4P/+7/+s2rt3746OHTvio48+qtLzJyYm4oknnrBanZbjOCQlJaFevXpVen5S9eze81unjvgr5UOHDtk7hGrBlPgCgJ+fHyW+EmvUqJFoW+0unoPYRyX+VXq7pb9oO0/PY8P1DKhLEmAOQL7egCLeAFP+q+A4KOXi0ok7BeIBZPEp97H3LgAEQGeYhGj//yBC1QPF+tMAlDAwF3i63AKgA9hlIIcDZA0B91sVfeilshyB37Zt20o/BykfjuNw8uRJBAUF4fr160L7999/D7lcjm+//VbC6B7O1iDoVatWUeLrZN59913I5XKradDi4+MRHx8PFxcXzJkzp0rOzXEcFAqFVeILwGYbqZ4kn2uM53mcOHFC6jAciuVI5uq87nlN0bVrV9HsG5Yjfh/GXSHHKyF+GBFUCyOCamF4UC308PdEmLcG4d6ueMLXFS4yDgV6AwpLfrQGBoWME/24cBxUMg4qmRYeikIcT0vDstu78M3d+/jmbjKWJd/EhfyRuJQ/DGfzxxqzbMNtoOjNSr0e9+/fFw3+CAwMtPqAQKRz7do1q1HyK1eudNgkMiMjw2aN75o1a/Cvf/1LgoiI1KZOnYoFCxbYXPRi7ty54DgOHMfh1KlTyMjIqPB5Tpw4gXnz5gn3BwB6swHNSqUSkZGRVgMvSfVm97IHAJg3bx5mzpwpbPfq1Qu7du2ydxgOy/JN4OzZswgLC5MoGmISFRWFgwcPCtvZ2dmVulJhSmEx8s3qhjkw/HQjE2ph0Q4Oarn4tcHB+vWiNXiBQQY9UyBIvQ3P1B4AuLwBqD+vtFg3b96M559/Xtj+4IMPEBsbW2n3X5048ijqDh064Pjx46K2MWPGoHPnznj11VclikrsnXfewfr165GcnCxq/+mnnzB06FCJoiKOZO7cudiyZQsSEhJs7u/SpQt69OiB7OxsDBkyBN26dSvz/iZPngylUglPT09RLmLLvn370L179wrH7igc+e+UFCRJfq9fv46goCBhe8iQIdiyZYu9w3BYlskMTQfnGCIiInD69GlhOysrC15eXmXc4vFpeQNkHAcZgCwdjzXX0kUJsIGZjXvjADk4oYyCMSCX1cY7TeoA6spdIOW3337DM888I2xPmTJFtHqjM3H0N5XAwEDcuHHDqt0RZk4oLbbly5dj3LhxEkREHJXBYIC7u/tDZ5Tx8PBA8+bNS51zXK1WP9K8vHPnzsXzzz+PFi1aVCheR+Pof6fsze41vwCgUqng5+cnrFj2yy+/YNGiRVb1Pc7I8qvjp556SqJIiKXevXuLkl9vb+8q/2BiPkiullqBt1vWFe2/klOI81lFUMhk4PXFuFuoRxE44yxonAzKzItAi8pNfPPz80WJL8dxiIiIqNRzkMpz/fp1NG/eHKmpqaKFhoYPH47hw4fjxo0b8Pb2rvIPcibJycmIjY0ttf6YenyJLTKZDAUFBcjOzkaDBg1Qr149XLlyxeq43NzcCpVSurq6onbt2ggJCUFcXFxlhEwcmCQ9v4Bx0mjzr93Wrl2L4cOHSxGKQ+nUqROOHDkibFOvr2Nx6F55vQ5XcnXIZ8YV6phMBteUm2jWonmln8r8OrRv395q8ndnUl16VFJSUhAWFmazPjIkJARTpkzB+PHjq+z8R44cQWJiYqk9usOGDUPXrl2rNAZSs7zxxhvgOA5bt27FzZs3K3Qfo0aNgkwmw6uvvorOnTtXcoSOo7r8nbIXyZLf2bNn44MPPhC2lUolbt68CX9//zJuVbN99dVXVnMKVnZdKXk8O3bsQN++fYXtSZMm4YsvvpAwIvtr06YNEhMThW1/f3+rxS6IY0pNTS3zb2z37t0RExOD999/v1LP26tXrzIHJo0ePbpazUVMHMulS5eQmJgILy8vrFix4qFllH/++Se0Wi0KCgokL/0h0pAs+QWMtb6//vqrsJ2ammo1FZozmTVrFj788ENhe+/evYiJiZEwImLJMnl44oknrOZUrcmKi4uhVIpXoXOo3m/ySA4cOIDo6OhS97u6uqKgoEB4bvV6PRSKR6uSMxgMkMlkWLRoEaZNmwaVSgWtVmvz2AYNGuD27dvlfwCElKGgoKDUxTD0ej3c3d3tHBFxNJLU/JpYrg61ePFifPzxxxJFI63MzEzEx8eL2qg3zfF4eHigXbt2OHnyJADg77//RmxsLGbPni1xZPbRtWtX0bZ57S+pPqKiosAYw3//+1+89571QikFBcaVB83LWzZs2ABvb2/wPG91PAC4u7vjvffeE82IAsBm4uvm5oakpCS71RkT5+Lq6ip1CMTBSdrze/XqVYSEhIjanLUXKT4+XtTLGxMTg61bt9InVAe0bt06jBjxYHW3FStW2Fz7vSZ67rnnRF8ppqWlwc/PT8KIyONasmQJ3N3dsWjRIpsDiCrTrFmz4OXlhV69eqF169ZVei5CCCmNpD2/TZs2lfL0DsVyWpbg4GBKfB2U5XM1btw4dO7cGa1atZIoIvtYunSpVS1dXl6e0ye/1X0gyZQpUwAYP9hkZWVVyd/lDh064Oeff6aFUAiRSHX/O1XZJF/hrX///qLtwMBAiSKRVu/evUXbtla1IY5h9OjRGDNmjKjNGT6ouLi4iLbXrVvntL+vNVGtWrUQHBwMxhgYYxg1ahSCgoLQokULtGnT5pHuw8fHB2FhYWjRogXq1q2Lf/75B4wxHD16lBJfQojDkLTnFwD++OMPUV3ZvXv3EBcXh549e0oYlX1ZrjDj4eGBV155RaJoyKNISkoSbY8bNw47d+6UKJqql5WVZbXstuU1IDXLDz/8INqeMWMG8vLySh1IVFBQgNdff53KGQghDk/Sml+TTz/9FJMnTxa2p02bhgULFkgYkX25urqKVq3JzMyEt7e3hBGRh+F5Hmq1WrQGvAP8KlWZtLQ01K37YIGNLl264MCBAxJG5Djo60RCiKOjv1Nikpc9ANarmlnOAlGTFRQUWH2dTImv45PL5ValKTV55Lp54gsYk19iRG8ohBBHR3+nxBwi+W3durVokMXq1audZsWo0aNHIycnR9geOHCghNGQ8ti/f79o21TbWNP88ssvVm3OOiUhIYSQ6s8hkt+mTZuiU6dOorYXXnhBomjs58CBA9i2bZuozXyRC+L4zFcpzM3Nxdq1ayWMpmpMmzZNtL17926JIiGEEEIen0PU/Jr4+/uLSh4KCgqg0WgkjKhqffHFF3jzzTeF7Xnz5mH69OkSRkTK68iRI1Yf3Hbu3Gk1e0d19e6772LhwoWiNgf6kyGpF1980apt48aNEkRCahJ6XZHKRK8n2xyi59dk5MiRou2avEpLcnKyKPEFgKKiIomiIRXVsWNHq9Xdtm7dKlE0lSsvL09Yyc7kyJEjEkXjmDZu3Cj8EFJZ6HVFKhO9nqxJPtWZuUWLFmHx4sWitrVr14pW06op6tWrJ9pu2LCh1dyxpHqwnPLryy+/xNKlSyWKpvIkJiZi7969ojaa3qx8Ir8Wb1sOOqH9tL+s/ZbHOVp8tN/x9weB2MQczG+//cYACD/PP/+81CFVCR8fH9HjbN++vdQhkccQEBAgej6DgoKkDumxmT8eAGz48OFSh+RQXnjhhTK3CakIel2RykSvJ9scqucXABo0aCDaTk9PlyiSqpOVlYXMzExRm7PMblFTJSUliRZruXbtGjIyMuDr6ythVBVn6/UYFRUlQSSOzVY9HSGPi15XpDLR68maQw14A4CMjAz07dtX9OYbFRWFvXv3Ws2HWx2dOnUKHTt2RHFxsdD25ptv4rPPPpMwKlIZRo8ejdWrVwvbPXr0QFxcnIQRVZx5Ig8Yy4+GDx8uUTSEEEJI5XGoAW8A4Ovri379+onaDhw4ALlcLlFElWvv3r2ixBcwzvJAqr+5c+eKtuPj46vlKmi2ptujxJcQQkhN4XDJLwDExsbipZdeErXVhOT39OnTVnOmrlu3Du7u7hJFRCpTo0aNRAPdeJ5HdHQ0bt26JWFU5bdv3z7R9uXLlyWKhBBCCKl8Dpn8AsD69eut2qr76llr1qwRbWs0GrRo0UKiaEhViIiIsPqgtmrVKomiKR+e5zFw4EDRDA8hISHw8fGRMCpCCCGkcjlcza+5L7/8EpMmTRK227VrhxMnTkgY0eMxr6NUqVQ4f/48goJoIpKa5uLFiwgNDRW1zZ07FzNnzpQookeTm5sLT09PUduiRYswdepUiSIihBBCKp9DJ7/5+flWJQGfffaZ1eIQ1UFkZKRowQBfX98aOZMFMbIcMBYSEuLw5QNyuRwGg0HY7tKlS7WsWSaEEELK4rBlDwDg5uaG3377TdT21ltv4e+//5YooooZMWKE1UpZlPjWbIwx+Pv7C9tXrlxBjx49oNfrJYyqdIGBgaLEFwAlvoQQQmokh05+ASA8PNxqNTTL5WQd2f3793H8+HFR25AhQySKhtiT+bRngHGmD0ecz/n06dNW8047eokGIYQQUlEOXfZgotPp4OPjg4KCAqHt2WefxebNmyWM6uF4noebmxu0Wq3QNnz4cKxdu1bCqIi9MMYQExODv/76S2jz8vJCVlaWhFGJpaSkWH24nDNnDmbNmiVRRIQQQkjVcvieXwBQKpUIDw8XtW3ZsgUvv/yyRBE9mvPnz4sSXwDo1KmTRNEQe+M4DvHx8WjUqJHQlp2dbVUPLJW0tDSrxBcAoqOjJYiGEEIIsY9qkfwCwJEjR9CxY0dR2/nz50W9wY7kxIkTaN26tahtxYoVotkriHOYMGGCVVuDBg0k7QE+d+4c6tata9W+Y8cOdO/eXYKICCGEEPuoFmUP5gYMGIBt27YJ2w0bNnS4RQSOHDlis4e3ml1qUonef/99qxXg6tWrh+TkZLvHcvHiRYSHh1sNvjt06BB9M0EIIaTGqzY9vyaWvb+3b9+GRqORKBprZ86csZlAnD17VoJoiKOYM2eOVfJ79+5du5dApKamIjQ01Crx3bdvHyW+hBBCnEK1S35nzpyJ2NhYUVtRURHq1auHoqIiiaIyOn/+vFWpAwCcPHkSYWFhEkREHMnMmTOxYMECq3ZPT0/k5eVV+flv3bolmn7NJC4ujkodCCGEOI1ql/wCwAcffIApU6aI2lJSUmwmnvbUq1cvq7Zjx46hbdu2EkRDHNG0adMwZ84cUVtubi5atWplNTiyMp0+fRqBgYFW7fHx8ejRo0eVnZcQQghxNNWu5tfc22+/jc8++0zUplQqqzSJsOXChQt4+umncffuXdHXyRcvXkTz5s3tGgupHmbNmoUPP/xQ1Obv749WrVph9+7dlXouPz8/aLVa5Obmitrj4uIo8SWEEOJ0qnXyCwBDhw7Fxo0bRW0KhQLFxcV2OX9iYiLatGlj1S6TycDzvF1iINXTkiVLMHXqVKv26OhorFmzBo0bN67wffM8j7S0NNSvX9/mQMsjR47gySefrPD9E0IIIdVVtSx7MPfCCy9Yten1ejRr1gyFhYVVeu6jR4/aTHwDAgKQkZFRpecm1d+UKVPw8ccfW7Xv378fTZo0wdy5c7Fw4UJcuHDhke9z27Zt+PzzzzFy5EgEBATYTHx37NhBiS8hhBCnVe17fgFjsrBz507MmzdP1N6yZUuEhoZi06ZNlXo+nucRExODkydPWs0zfPjwYfj7+6NJkyaVek5Sc+3YsQNfffUVtm7danN/w4YNERYWhoYNG+Lrr7+2eUy7du3QoEED7Ny5s9Syn9mzZ6NHjx7o0qVLpcVOCCGEVDc1Ivk1mT59Oj766COr9sGDB+PXX3+ttPOUNj3VuXPn0LJly0o7D3EuMTExiI+PL/MYmUwGg8EgapPL5Q8tsZk1a5bVQDtCCCHEGdWo5BcwzgQxe/Zsm/s+++wzNGzYEK1bt0ZwcPAj3+f27dshl8uxcOFC7Nmzx+Yxx44dQ/v27SsUMyHmevfujWPHjiE7O/ux7qdFixZo0qQJ/vzzz0qKjBBCCKn+alzyCwBLly7Fjh07RCvBmWvatCmefvppaDQaLFy4sNT7GTZsGAICArBkyZJSj1m4cCHatWuHmJiYx46bEJP9+/fj3LlzOHPmDJYtW1au23755ZfQ6/UYMmQIGjZsWEUREkIIIdVTjUx+TSIiInD69OkyjwkJCYFOpxO1cRyH4uJiJCUllXnbRYsW2RytT0hlunLlClxdXXHx4kX07NnT5jGFhYVISUmBTqdDs2bN7BwhIYQQUn3U6OTXpEmTJrh//z7y8/Mf+74aN26M9u3b4+eff66EyAghhBBCiD05RfILGCf037lzJ1JTU7FmzZpy337+/PlISkrC4sWLoVKpqiBCQgghhBBS1Zwm+TW3c+dOuLm54f79+xgyZEipxyUmJiI9PR0GgwFPPfWUHSMkhBBCCCFVwSmTX0IIIYQQ4pyq/QpvhBBCCCGEPCpKfgkhhBBCiNOg5JcQQgghhDgNSn4JIYQQQojToOSXEEIIIYQ4DUp+CSGEEEKI06DklxBCCCGEOA1KfgkhhBBCiNOg5JcQQgghhDgNSn4JIYQQQojToOSXEEIIIYQ4DUp+CSGEEEKI06DklxBCCCGEOA1Kfp3Y3bt3cfHiRanDIOV09+5dXLp0SeowHltRURHOnj2L4uJiu573ypUrSEpKsus5CSGEOA6OMcakDqIsly9fxu+//47CwkLwPA8AyM/Px/z58zF//nyMGDECwcHBottkZWXh888/x+uvv44tW7YgJycHeXl5AACtVounnnoKPXv2xBdffAGdToe8vDzwPI/IyEgMGjQIAPDxxx+jXbt26NmzJwAgKSkJK1euxMSJE1G7dm07XoGq0759e5w4cQKP+hJIT0/HqlWroNfrodPpAAB5eXn44IMPUFhYiGXLluG1116Dv7+/6HZz5szBgAED0LZtW8ybNw9RUVHo1q2b6JjVq1dDJpNh5MiRQtu1a9fw448/YsqUKXB3dwcAbNq0Cenp6Rg3btzjPPRqLSoqCgcPHnzk581Rbd++Hf3798fx48cRGRlpt/NyHIe2bdvi5MmTdjsnIYQQx+HwPb8HDx7EO++8A3d3dwQHB6Nx48Zo1qwZkpOTERsba7MHTK/XIzY2FufOncNrr72GpUuXIjw8HI0bN0ZgYCC8vb0BAG+++Sa++eYbhIeHo0WLFhg8eDDi4uIAAP/5z3+wZs0a4T5TUlJKPV91tXz5cmzZsuWRj79x4wbeffdd3Lt3D82aNUPjxo0RFBQEjUaDy5cvIzY2FpcvX7a6XWxsLLZu3QoAmDlzJlauXGl1zFtvvYXJkyeL2vbt24fY2FhR20cffYTx48c/csyOqKioCG3atMGePXsqdHsfH59S982aNQvPPPNMRUOrdJcvX0abNm1w9epVq31qtRoAoFQq7R1WmdeQEEJIzaaQOoCHUalUAIBXXnkFHh4eon2ff/45+vfvj5ycHNE+Pz8/jB07Fl27dgUAhIeH49lnn7V5/xEREcI+Pz8/9OrVCwkJCbhz5w4aNGiAQYMG4bnnnkNkZCRiY2PRpUsXq/soKiqCWq1GYWEhiouL4enpaXUMz/PIz8+HXC6Hm5sbAIAxBq1WKyQBAFBcXAzGGJRKJXieh8FggIuLC9LT0+Hj4wOZ7MHnlZycHMhkMqFXFAAMBgN0Oh3UajWysrKgVCrh6upq87G3a9cO7dq1E902Ly8PBoNB+IBgzsXFBQDw3HPPWV0HuVwuOsaS+WO0FY+npycUCvHL8ZVXXkF8fDw8PDzAGMOCBQtw6tSpMns8i4qKoNPpoFAoROcxPTbz6w8Ynxe9Xg+VSoWsrCyoVCpoNBphv06nE5KzrKwseHh4CI/VXG5uLgBYvUZt7UtNTUViYiLOnDmDrl27CteMMYbc3Fyr59S0Lzs7G97e3qVeYwDYuXMnjh8/DsD4WjIdm5+fD57n4erqanWdza+dWq2GXq9Hfn4+vLy8bB5n+brLysqyer3k5OTA09MTV69eRWJiIq5du4ZGjRo9NNE1vf7M77+oqAhKpVL02ud5HsXFxcLrqrRrZ3pMmZmZUKvVwnOr1WqFY0y/tzzPU1JMCCFOwOF7fk1sveGb3sRtJRzmCZL5m6YlvV4v/L9Ro0YAjImC6Q3U/M3a1v0UFxdDo9Fg2LBhGDp0KAIDAxEaGio65t69e1AoFOjTpw/c3d0xdepUAMDXX38NjUaDlJQU4diGDRsKCX9MTAyUSiW+/PJLtGzZEteuXQNgfEN3cXFBx44d4evri759+wq3nzFjBjQaDVatWoXo6Gi4ublh6dKlNh979+7dwXEcAGMdqVwuR0xMDDp27Ih333231GtWVvJV2QwGg/D/sp5HwNjLqNFo0L9/f7i5ueGLL74AAGRkZEAul6N3795wd3fHv//9b+E2I0aMgFqtxvfff4+uXbvC1dUVu3btEvarVCp4e3vj//7v/9C9e3coFAqkpaWJzhsWFobg4GCEhYUhPDwcBQUFwr7g4GA0b94cwcHBQnnOkCFDAACLFy9GeHg4AAiJW7du3VCrVi1R+UdWVhZkMhmio6Pxxhtv4M6dOzYf/8aNG4XENywsTOhtnzZtGtzd3dGnTx+4uLiIXm/mNBoNOnTogHHjxqFdu3aQy+UoLCwU9hcWFkKpVKJjx46oV6+e0MNcu3ZtPPnkk0IpzMiRI+Hl5QWtVosxY8YAACZMmIDBgwfbPK/peY2KioKvry969uyJevXqYeDAgUJcb731lug2I0aMEBJZy2s3YsQIAMCuXbug0Wjw3//+F+3bt8eiRYsAAP369RPKbhITE+Hq6opevXohMjISa9eutRkjIYSQGoQ5uLVr1zIAbPDgwezFF19kvXv3ZpcuXWKMMXb9+nUWEBDARo8eLRz/ySefMADs1KlTjDHGALDatWuzl19+mQ0ePJi98847wrEA2MiRI4Xt9u3bs+bNm7OcnBzGGGO9e/dm0dHR7O2332be3t7s4sWLVvHxPM8AsKioKKGtbdu2rHXr1owxxi5dusQUCgV76623GGOMLVmyhJkuu+mx3bt3T7htq1atmJ+fH2OMsWeeeYYBYDt27BD2Z2RksICAADZw4EDGGGMFBQUsICCA9e7dmzHG2Pz58xkA9umnnzLGGEtISGAA2PLly61iHzJkiBDL+PHjmfnLYdWqVaygoEB0/OnTpxkA1q1bN/bSSy+x5557jvXq1Yvl5eWx48ePMwDs0KFDVucBwD766CPh/+PGjbM6plGjRiwoKMiq/dixY4zjODZr1iwWFhbGhg8fbnUMY4zt2bOHAWAbNmxgjDG2e/duNnv2bHbv3j3m6urKxowZwxhj7O7du8zFxYVNmDCBMcbYuHHjGAC2efNmxhhjf/31FwPANm7cyBhjzNfXl3l6erLz588zxhibMmUKk8lk7MKFC4wxxiIiIlhERARjjLHMzEwGgG3ZsoUxxlhYWBh78sknhRinTp3Kbty4IVwHU6zJycnM19eXDR06lDHG2JYtWxgAlpWVxZKTk5mHh4fwOr158yYLCAhgpf3qPv3000wulwvbs2fPZgDYtWvXGGOMvffeewwAS0xMtLotANasWTOWkZHBGGNs8ODBrF69eiw7O5vl5uaygIAANmDAAMYYY/Hx8QwAu3XrFrt+/brV79zq1asZY4ydO3eOAbD5u2N6zs6ePctyc3PZ5MmT2f3790XPw927d9nEiRNZ3bp1hWt3/vx55uXlxd577z1WVFTEfH192Ysvvii6dnl5eezAgQMMAHvppZdsXivGGPPy8mKtWrUStufPn1/qsYQQQmqGapP87tq1iyUkJLBDhw6xvLw8YX/Pnj1FiUCTJk2Yq6ursA2Ade7cmV29epUdO3aMnT17VrQPAHN3d2dKpdIq+fr222+FY0wJjiVT8rtixQqhbenSpUJMGzZsEMW3cOHCR05+Bw0aZJXknD17lgFg8fHxQtukSZOE40zJrzlPT0/WsmVLq9jNk9+xY8cyAKx///42HydjD5Lfr776ip05c4YdP35cSHaPHj1aJckvY4xpNBrhedi/f7/NY6ZOnWozIdy2bRsDwK5fvy609e3bVzjWlPxaxmtK8jw9PUUJbFZWFgPA1q1bJxy7cuVKxhhjaWlpDAD7448/hH3ffvutVUzZ2dmifaYkzRTjxo0bGQBWUFAgJJmmD3yMiZ83SzExMaJ9rq6uotduQUGBKGbLx236UMAYY/v37xcS13/++YcBYCdPnmSMMRYXFydKqkePHs00Gg2rV68ei4yMFO7j0KFDDAA7cuSI1flMye/p06et9pmS39u3b7Nbt24xACwuLs7q+pg+dJniMN9nuq7m186Sl5cXA8CWLl1a6jGEEEJqFoev+TWJjIy0WY+3e/duKBQKREVFITo6Gjdu3LCqCfXx8RF97Wxu5MgSGcoPAAAMAUlEQVSRwsA2juMwffp0zJ8/H4Cx5vTgwYP47rvv8Pfff5cZX1FRkc3/m0oEPD09wRiDp6cnatWqBQAVGq1vqjc1/zra9HVzaQwGQ6l1vybffPMN8vPzsWPHDnAch7lz52LmzJk2jw0LC0OrVq1EbRV5LI+qoKAAHMdhwYIFiIqKsnmMeU2xOVNpjHkpgnmpS2nM637Nj8/PzwcgLoeZMGECJk+eDLlcjoCAAFGtrPlroTSmGFu1agWZTAZXV1fUqVMHMplMeL5N5wVQrqnB3NzcHhq/OfPXkumaKRQKIY7o6GjI5XJoNBrUrVtXiP3777/HsWPHcOHCBSQnJz9yfACE0ptXXnkFq1atgre3t1CTa6r/BYBz586hR48ewqBTvV4vxBUeHm517UyvSfNrZykrKwt+fn6YNGkSJk2ahNOnT6N169blip8QQkj1Um1qfst6w+d5Hg0aNED9+vVt7jevG7VknkTGxMTgzz//RGZmptBmmiKtokzJT05ODnJzc5GUlIT79+8DeJBcmCf1DxsQZLoO5oPqzBO1x7Fu3TpkZGQgMjISs2bNKjWptvVcmI4tbZCUefJZUdnZ2aXuK+15MiVR5gOyTDXVleXbb79FdnY2MjIykJSUhKioKOG8lgPXbDFdu6tXryInJwcpKSlITU2FSqWy+RopT/yZmZmi15Tpfsxf94/C9JwfO3YMOTk5SE1NRUpKCho2bIicnBy0bNkSjRo1wmuvvQYPDw9cv379ke9bqVTixo0bWLVqFf73v/8hMzMTR48eBWC8Ng0aNMCSJUuEut9Zs2Zh9erV8PDwEK7PlStXrK7do3zIAYw1+RcuXICvry/atGlTnstCCCGkGnL45NeUuJp6S23ZvXs3NmzYgFmzZmHBggVW+8saoGWaOxgAFi1ahISEBNy+fdvq/KUx9S6ZH2f+/2effRahoaFo0qSJ0GYa+DNixAg0adJEeMNds2YNTp06JfR02Tp3q1atMHDgQHTv3h2AMWH67LPP8Omnn5Z6G57nRY/T1mOfPn06bty4AQB45513RI/N8rHa6uXt1KkTunfvjg4dOojaBw4cCI1GI5rGzFYvLc/zNmdRKC1eS6Ze6pdffhkAMG/ePISGhmLgwIGIjIxEWFgYAOCvv/7CH3/8gd9//x1A6c+vqV2v14vOa3rspsRq8uTJGDVqlNC7+OOPP+L333+HSqXCxIkThQFf+fn5qFOnDo4dOyY8TtNAzU6dOiEmJgZNmzYVzvP6668jJSUFPXv2RKdOnYTXSFxcHDZv3lzqdTB9sDI5fPgwTp06hV9//RUA0Lp1awQGBmLYsGE2b2/rsep0OjRt2hQDBw7EE088Iew3vWYyMzNx4cIFxMbGYsWKFcjLy8Phw4cBPPjwZ+tbG/PfHdP/Tb3ApteRqf1f//oXmjZtig4dOiA8PFwYbNexY0erazdp0iRkZmYKv0dlfSthOk+LFi1szuRCCCGkBpKg1KJcfvrpJwaAubq6MrVazdRqtc16R5TUhF65ckXU7uXlxZRKJdNoNMJtp0+fLtxmxIgRouPnzp0ruv9Ro0aVWl/JGGM6nY4BYMuWLRPaPvvsM6vbNGrUiCmVSqF+2VydOnWEWtqYmBih9nXo0KFMJpPZPG+fPn2YTCZjANiXX34ptJvXFJsEBASwbt26Wd3H8OHDRcdGRkYyhULBALCtW7daHW+q+d23b19pl4N16tSJyeXyUp8rAEytVouejw0bNrAuXbowmUwmPM8A2LBhw0S3mz17dqnnNT/Ozc2NAWDJyclCe1hYmHD9f/vtN6H9zTfftBnjqFGjGGOM1a9fn3Xt2lXYd+fOHQaAbdq0SWgz1RsDYK+//rroviZMmCDse/PNN4V2Uy24+blN1w4A+/7770X388QTTzAAbMaMGWzMmDHMxcWl1GtgevymmuLDhw8L171OnTplXruJEycK27t372YA2Llz54S2vn37Mo7jGAD2xRdfCLebMWOGcMz69etF13/OnDkMAAsJCRGdb9++faLBd19++SUDwAICAoR6Y/Pf5169ejEAbOzYsVaxd+7cWbh23333HWPsQd3w33//XepjNsXv6urKALDi4uIyjyWEEFL9OfwKb4QQAgC9evVCXFxctV/ZjhBCiHQSEhIcv+yBEEK2b9+OuLg4fPPNN1KHQgghpJqKj4/HE088Aer5JYQ4vPT0dKSmpqJly5ZSh0IIIaSaysrKwqeffkrJLyGEEEIIcR5U9kAIIYQQQpwGJb+EEEIIIcRpUPJLCCGEEEKcBiW/hBBCCCHEaVDySwghhBBCnAYlv4QQQgghxGkopA7gYe7du4fjx4+jX79+2LRpE9RqNQYMGGB13Pbt28HzPORyOfr16wcAOHPmDNLT09G9e3fRcaGhoQgMDMSePXsQEhICnU6HU6dO4cUXXxSOi4uLQ0FBAeRyOfr37y+0nzhxAnK5HEFBQYiLi4Ofnx+6du0qimXbtm3geR5KpRJ9+vSp7EtCCCGEEEIqyOF7fn///Xf0798fw4cPx6lTpzB69GirZPP9999H//79cebMGfTv3x/Lly8HALz66quIiYkRHdu/f38sWrQIANCzZ0+0bt0aX331Ffbs2SMc8/PPP6NXr144c+YMBgwYgFdffVXYN3jwYLRt2xZz587FqVOn0K1bN2zbtk3Y369fP4wdOxYHDx7EL7/8gq+++qrSrwkhhBBCCKkg5uDWrl3LALANGzYwxhjjeZ55eXmxPn36MMYYmzlzJgPAioqKGGOMhYaGMh8fH8YYY71792aWDxEAe/fdd4X/P/nkk4zneWH/d999xwCwS5cuMcYYKygoYADY66+/zhhjrGXLlszDw4NlZ2czxhg7dOgQA8A2b94s3OdHH30k3N+xY8cq94IQQgghhJAKc/iyB5PevXsDAGQyGYKCgrB//34AQEJCAgBAp9MhKysLaWlpkMvlj3y/jRs3hkz2oAP86tWrAIBmzZoBADQaDZRKJY4dOwYAMBgM8PDwgKenJwCgU6dOAICbN28K9/Hee+/Bx8cHzz//PNq3b1+hx0sIIYQQQipftUl+dTqd8H+DwQCVSgUAwr9jx45FXl4enn76aQQGBj7y/fI8L9p2cXGxeZxSqRT+z8xWhDYYDAAgJNxarRavvvoqxo8fj/Hjx+P48eOIjIx85HgIIYQQQkjVqTbJb2nS09MBABs2bLDal5GRUe77y8nJsWpjjAnneRilUokffvgBsbGxCA4Oxn/+8x/ExcWVOw5CCCGEEFL5HH7Am16vB/CghxUAioqKUFRUBADYt28f5HI5evToIexv0KABAOD48eMAIMwOYeqBNe9F1mq1ovMtXrwYbdq0QZ06dQAAQ4cORXFxMS5cuGB1buBBL7ApTtO5g4KCAABeXl4VfOSEEEIIIaSyOXzPb4MGDRASEiKUNwBATEwM7t27J2zr9Xo0a9YMoaGhSEtLE/XSMsbQrFkz+Pv7IyUlBS1btkRYWBgAoHPnzujQoYPVORMSEtC+fXs0b94cBoNBVObQo0cP5Ofni44PCQkRkt2EhAT4+/vD09MTgwcPxubNmyvnQhBCCCGEkMfGMfPMjhBCCCGEkBrM4cseCCGEEEIIqSyU/BJCCCGEEKdByS8hhBBCCHEalPwSQgghhBCnQckvIYQQQghxGpT8EkIIIYQQp0HJLyGEEEIIcRqU/BJCCCGEEKdByS8hhBBCCHEalPwSQgghhBCnQckvIYQQQghxGpT8EkIIIYQQp0HJLyGEEEIIcRqU/BJCCCGEEKdByS8hhBBCCHEalPwSQgghhBCnQckvIYQQQghxGpT8EkIIIYQQp0HJLyGEEEIIcRqU/BJCCCGEEKdByS8hhBBCCHEalPwSQgghhBCnQckvIYQQQghxGpT8EkIIIYQQp0HJLyGEEEIIcRqU/BJCCCGEEKdByS8hhBBCCHEalPwSQgghhBCnQckvIYQQQghxGpT8EkIIIYQQp0HJLyGEEEIIcRqU/BJCCCGEEKdByS8hhBBCCHEalPwSQgghhBCnQckvIYQQQghxGpT8EkIIIYQQp0HJLyGEEEIIcRqU/BJCCCGEEKdByS8hhBBCCHEa/w/OqhELkMnAMQAAAABJRU5ErkJggg==)"
      ],
      "metadata": {
        "id": "TP0lP4ZniB_z"
      }
    },
    {
      "cell_type": "code",
      "source": [
        "# minimum 2 dense layers required to create a deep learning"
      ],
      "metadata": {
        "id": "yLQSlM2fhW9W"
      },
      "execution_count": null,
      "outputs": []
    },
    {
      "cell_type": "markdown",
      "source": [
        "![image.png](data:image/png;base64,iVBORw0KGgoAAAANSUhEUgAAAl8AAAECCAYAAADAR7KpAAAgAElEQVR4nOydd1xT1/vHPzcJIwyZgggobkVRHFAVte7iqNtqcVBFUWu1VeueVese37pn69a6cFtXVRAXFbWKGwdT9g4JGef3B7/c5iZhB8I479eLFznn3Hvu594kN8895znPwxBCCCgUCoVCoVAoZQJP3wIoFAqlNLl79y6WL1+uUf/x40csX74c6enpelBFoVCqMtT4olAolZqDBw9i4cKFGvUhISFYuHAh4uLi9KCKQqFUZajxRaFQKjUmJiZa6w0NDTn/1T0wCCGQyWQAAKlUCgDIzMxEdna21v5ycnKQlZUFiUSitY/U1FQoFApOf2KxGCKRSGt/WVlZyMrKglgs5tQr901LS2NfK/tS7qNte6lUiszMTLZeJBLleWwKhVK6UOOLQqFUSczMzAAAdnZ2YBgG06dP57QPHToUBgYGCA8Ph6GhIVasWIGOHTvCxMQEPj4+nG3fvn0LIyMj9OjRA8bGxjh58iQAYNSoUTAwMMChQ4fQoEEDhISEQCQSwdDQEH5+fujfvz/s7OzQunVrtq/ExERYWFigcePG6NSpE4RCITtyt379ehgaGmL37t1o3Lgxjh49CgCYMWMGhEIhOnXqhObNm8PBwYGdTjU0NESvXr0watQoNG7cGI0aNUJQUBB69OgBBwcHdOnShTUQKRRK2SDQtwAKhUIpC8aNG4eMjAwAgIGBASIiIgAA2dnZ8Pf3x/HjxzF9+nQ4OzvjxYsXuH79OhYtWoScnBwAQGhoKB4/fozk5GTUrl0bo0aNwsGDB3Hjxg10794dp06dwqBBgzBw4EAMHToUhBBYWlqyx0tISAAAdvQpPDwct27dAgA0bdoUX3zxBR48eICoqCiMGzcO69evBwAsW7YMixYtwrJly1iD8dOnT4iNjWXPTSwW4+HDh/Dw8AAAMAyDffv2YerUqQCAz58/4/z58xAIBGAYBrNnz8bdu3fx4sULNG3aFA8fPkT79u1L7+JTKBQO1PiiUChVggULFiA+Ph4AYGxsjKtXryIoKAgSiQRz587Frl27EB4eDmdnZzx58gRpaWlYsGABnj59CgBYsmQJAMDa2hp9+/bFoUOHcPDgQZw9exYAMGjQIADQOoo0bNgwjbrx48ezr319fTF79mwAgLu7O9zd3dk2Hk9zgkJ9AcHWrVs1thEKhezrAQMGQCAQICkpCQAwbdo0AEBycjKA/6ZeKRRK2UCNLwqFUiVwcXGBi4sLW46KigIAyOVyMAwDAHj58iU6d+6Md+/eAcj1k1L6gqn6Uqn6WhkZGQEALC0tIZFIYG1tjWbNmhWoR9V3TNVPDACaN2+OZ8+ewdzcXKtfVnZ2Nse4OnDgAHx9fWFubq7hu6at/7z81igUStlAfb4oFEqVRGlA5eTkoHbt2lizZg2+//57AMDixYtx+PBhmJiYsCNZyilE4D+DC/jPKEtNTUV2djaio6Px7NmzAo9vbm7OvjY1NWVf7969G8+ePQMhBOnp6Vi7dm2Bffn6+mLevHlIT09np1YpFEr5hRpfFAqlUqNcYaiO+gjR2LFjUadOHbRt2xYtWrTA119/zWn39PQEkOv7deTIEezfvx9ArqEGAP7+/uy2HTp0yPfYADBmzBgAQEZGBmbMmIFZs2YByB2JUxITE4Off/45T83azrNVq1Yax1bXoexH/T+FQikbqPFFoVAqNaqjVKrw+XxO2cbGBnXq1MGDBw/g6enJGZkCcoO1CoVCtG7dGgcOHMDo0aMBAPb29iCEYPfu3TA1NQXDMDh9+jSAXN+yvPj999/RunVrVKtWDbNnz8bq1asBABMnTsTIkSPBMAymTJmCFStWsPsIBLmeIurG1JMnT7Bq1SowDIPz588DyHXyV78GSiNL2Y/Sn0w57UqhUMoGhqYXolAolFy6du2KmzdvckaC7t27h/bt23NWE5aEzMxMmJubY+/evRg7dmyJ+6NQKBUPOvJFoVAoAC5evIibN29iz549nHplkFNdOakrfchUA55SKJSqBR35olAoFAAJCQmIi4vTWKmYk5OD9+/fo27dujoLyfDq1Ss4OTmxcbsoFErVghpfFAqFQqFQKGUInXakUCgUCoVCKUOo8UWhUCgUCoVShlDji0KhUCgUCqUMocYXhUKp1ISGhmrNfajk9OnTuHDhQp7tW7duzTNifVxcHLZu3YrU1NQS66RQKFUH6nBPoVAqNRMnTsTOnTvzjOLOMAwMDAyQk5OTZ/usWbPYIKiq/PXXX+jVqxf++ecftG7dWqe6KRRK5YWOfFEolEqNat5EbaSmpiIxMTHfbUxMTLTWK0NPqEaTLy59+vRBw4YNS9yPLnBycsLQoUN11p+3tzeaNGmis/4olIoONb4oZcq///6LO3fuICwsDA0aNADDMFr/Ro4ciZUrV8Lf3x+zZ8/GkydP9C2dUgkICAjAX3/9xakLDw/Hx48fOXV//fUXzpw5o7WPzMxMNiCrjY0NgP/S9Fy5cgUAcP36dVy8eLHQ05GJiYn4999/8eHDBwQFBSEmJgZAbhqhy5cv48KFCwgNDS38iQKIjIzExYsXcfHiRcTFxbH1CQkJuHLlChvsFQAeP36MBw8eAAAiIiIQHR2NsLAw/P3335DJZLh27RoSEhLw4sULnD17Fu/evWP3FYlEuHLlCtLT09m6t2/f4saNG+zxnj17hvfv33POjUKpygj0LYBSNfjxxx/h6OiIuXPn5ptsWMnhw4c55a1bt8LPzw/9+/dHx44ddTLSQCm/LF68GHK5nDVqxGIxBg4ciHbt2hW7z9mzZ4MQgrVr12LOnDlYuXIlAKB9+/awtLTE58+fAQATJkzArl27MHPmTNy6dUujH3d3d5iYmMDb2xsvX74EkDvy9fHjR3h7e6Nz587w8PDA33//jbi4OERGRhao7eXLl0hNTYVCocDJkycxatQo1KxZEx06dMD79+8xceJE/PLLL7h37x7atm1bYH8pKSmoVasWhgwZgoyMDAQHByMxMRFGRkY4e/Ysxo8fj5iYGDg4OAAA+vXrh+joaCgUCty/fx9A7ojgyZMn0bVrV/Ts2RO1atXC0KFDkZiYiAEDBuDjx4+oXbs2wsLC4O3tjcuXL8Pb2xsAMGvWLJw5cwaEELx48QJpaWmQy+Wcc6NQqjSEQilFli5dStzc3AgAnfx9+eWX5MyZM/o+LUopUKtWLeLh4UE6duyo9b23srIi7du3Jx4eHqRRo0bk/v37hep3+vTpBAB59+4dIYSQtLQ0AoDMmTOHEEKIg4MDady4MSGEkClTphAAJDMzkxBCSGhoKAFAlixZwm7r4eHB9r106VICgLx69YpERUURAGTevHlse+fOnYmZmVmhdLZr145YWFhw9rWzsyMKhYIQQsjBgwcJABIUFJRvPxKJhAAg48ePZ+uGDh1KeDweIYSQw4cPEwAkPj6ebXdzcyM2NjZsWSAQkO7du7NlAKRXr15see7cuQQASUlJIc+fPycAyN9//822jx49mqj+vHzxxRec/imUqg6ddqTonLS0NAQFBYFhGCxatCjPlWIWFhZwcnJCzZo1UbNmTTg7O8PY2Djfvm/fvo0BAwbA0dGxNKRTypDk5GTs3buXnWqOiIhASEgIgoKCtG6fkpKCu3fvIiQkBK9fv0bbtm3BMAwkEkmezvKq1KtXDwBQrVo1AMCjR480trl//z4MDQ1ZP7GWLVty2mNjY+Hm5saWu3TpotFHx44d2dctWrQodA5HqVQKuVzOlgMDA9mpeQDo3r07ALAjdPn1A4AzStimTRt2xFnZX37I5XK2HyWNGjViXyvPMSsrix2dVEU5Mq1QKCAWi5Gdnc32qT7FS6FURei0I0WnREdHo06dOho3blWmTp2K2NhYbNiwAU5OTpy2rVu34ocffijwODExMahfvz5mzZoFPz8/8Pn8EmunlA1RUVEIDAzEiBEjdNKfsbExunfvjqFDh8Lf37/Q+2mbui5M7kZVA0mb0af62Vf1qyoqhoaGnGNJJBIAKPCzrjSudKVDibbzVjXkLC0tAQC///47Xr16pVWr8vpu3LgRlpaWyMzMxPfff6/VgKNQKjPU+KLojF69euHly5daDS9HR0fs2bMHsbGxGDNmTJ599OnTB7du3cLJkycLPF54eDgmTJiAP//8k3XupZR/vvjiiwKdro8ePQqBQMCO1piYmGDHjh24ePGi1u2vX7+O69ev4+3bt1i7dm2xtSUlJeUZkkKJUChkX1tZWRX7WOooFAqOMSMWi2FkZMSWq1evDiDXwT0/lEaScoQPAMzNzdnXWVlZnP4AcI4DAIQQjREy1VWjyvOWSqWs4TRjxgxYWloiICAgX30AMG3aNPb18ePH0bZtW6xZs6bA/SiUSoO+5z0plYMGDRrk6af16dMnIpVKC91XVFQUOXLkCPnxxx8Jn88vlC/Y119/TRITE0vxDCklpVOnTkQgEOT5HjZo0IAQQkhSUpLW/RUKBUlJSSFSqZTs2LEjz34YhiEBAQHsfko/LlUAsD5NVlZWxMXFhdPm4+NDCCGkcePGBACZP38+IYSQJ0+eEADk2LFj7LYASFhYGImIiCAAyOnTp9m+/P39NY6dFx4eHkQgELDlzMxMAoCsWLFCQ1dB7NmzhwAgHz9+JI8ePdLQNWDAAFbXsmXLCABibW3NtjMMQzw9PTnXBAC5fPkyEYvFBABZu3YtIYSQp0+f6syn8+LFi4U6PwqlokONL0qJadasmdYb6f79+0vc9+3bt4mrq2uBN22BQED69+9P3r59q4Mzouiabt265bmA4saNG8Xu18fHhzRt2lRr30oDbPv27aRu3bqc/Tp27Mg6xn/zzTdkzJgxnPY6deoQW1tbQgghDRs25HyW7969S2rXrk3c3NxIRkYGqVu3Lvn06ROJj48ndevWJcHBwey2mzZtYo3KwuDp6Uns7OzI2bNnCSGEREZGkjp16hAXFxcyYsSIIlyZ3PN2cXEhLi4urLGoyqBBg9hjzZo1iwwaNIjT3qBBA2Jra0uys7NZI3DJkiXEwcGBbNy4kcjlcvLw4cN8v5cMw5BevXqRrl27kq5duxJvb29iamqa7z5nzpwhL1++LNK5UigVDRrhnlIi2rRpo+G4PH78eHh5ecHX11cnx3jz5g02bdqE8+fPIzY2Nk9/Mj6fj3PnzqF37946OS5FN3Tt2hU3b97UqF++fDnmz59f4v7lcjlatGiBsLAwjbaAgAAMGDCgxMeo6jAMgylTpmDTpk0Acn3InJ2dtTr/u7i44Oeff0Z6ejrq1auHb775htN+7do1PH78GC9evMD+/fu1Hk8oFOLff/9F/fr1dX8yFEp5QN/WH6XiUrduXY2n1mHDhpXa8d6+fUu6dOmS71Ozo6MjadCgAdm0aVOp6aAUHm0jXt26dSOvX7/W6XGSk5NJdHS01s/EpUuXdHqs4qCcmjM3N+f8GRkZka5duxa5PwcHB2JiYqLRHwCSk5Ojc/0AOCNvBgYGWq/1kydPyOfPnwvVp0KhIP/88w+Ji4vL8/tcFHcFCqUiQUe+KMXCxcUFnz594tT5+/tj586dpXpckUgEd3d3vH37tsBt165di59//rlU9VDypn379rh37x6nrnfv3nk6zesCuVwOgUBzHdGff/6pMQJDKR7aQlXY2dkhMDCQE46iKGRlZaF27dpISkrSaJPJZHQ1M6XSQdf3UorMF198oWF4+fj4lLrhBQCvX78udMqWmTNnYvPmzaWsiKINb29vDcOrc+fOpWp4AblTz2/fvtXIxThs2DA29Q+leMTHx7PplFTZtWsX4uLiim14AbkrKRMTE7WuchYIBAgPDy923xRKeYQaX5Qi0aBBAzx8+JBTN2rUKI10QKWFWCzO0+dLdem8kqlTp2Lr1q2lLYuigpeXl4ah4+3trdXvqzSoX78+Xr9+rVHv7e2NQ4cOlYmGyoirqyuSk5M5devWrcP48eN1dozBgwdrDVXRvHlzTn5KCqWiQ40vSqFp1KgRJ6EuAIwePRoHDhwoMw2NGzeGra2t1raEhATs2LFDo/6HH36gI2BlyN27dznl7t274/Lly2WqwcnJCWKxWKNeW65GSsEwDKMxJbhp0ybMmDFD58caMGCAhgEmEolQo0YNnQSLpVDKA9T4ohSKkSNH4s2bN5y6MWPG5LlaqbRITEzEqFGj8myPjY0FIURjemTq1KmIiooqbXlVmoyMDDbKuZJu3brh2rVretFjZGSEmJgYzmdh7969mDJlil70VERiYmK0ZgLYunVrqV7HAQMGaJ2CNDAwwIcPH0rtuBRKWUGNL0qBfP78GXfu3OHUjRgxAr///nuZa2nQoAEmTpyYZ7syUveLFy80DLDJkyeXqraqzOfPn+Hm5oa0tDROfVmPeKnj4OCgkcZoy5YtmDp1qp4UVSzWr1+vMdq0efNmfP/996V+7MGDB+PSpUsa9dOnTy/1Y1MopY6eV1tSyjkymUxj+bd6QEp9sG7dOg1dPXr0IAkJCZzt1LcZPny4nhRXbt68eaNxrRcuXKhvWYQQQuRyOTEzM9PQR8kfbe/pmjVrylzH0aNHNXSUJDAvhVIeoCNflHwJCQnRqGvXrp0elHCZMWMGoqOjcfDgQWzfvh0PHz7E1atXNfzB3N3dOeVjx47RETAdExkZiYYNG3Lq1q9fj6VLl+pJERcej6d1SrRJkyZs7kiKJurv6YwZMzBz5swy1zF8+HCNRTPdunXD2bNny1wLhaIraJwvSp5cu3YNPXv25NQdPHgQI0eO1JOi4uHl5cVxAvfw8MCdO3dgaGioR1WVB3Nzc2RmZrJlY2NjZGdn61GRdmJjY1GzZk1O3Y4dOzBhwgQ9KSq/bNu2TeMh5erVq+jRo4de9Dx8+BAdO3ZETk4Op57+fFEqKnTki5Inq1at0qiraIYXAAQHB3N+NEJCQuDi4qJHRZWHbdu2cQwvAGUWUqKoODg4aARaXbRokZ7UlF/WrVunYXi9fftWb4YXAHh6euLjx48a9bNnz9aDGgql5FDji6KVZcuW4e+//+bUqQdWrUh4eHhwyrGxsRpGA6XoqIduuHXrFtq2basnNQXz559/omvXrmw5Pj5ea8T2qsz169c16spDjkUHBweNBR0XLlzQkxoKpWRQ44uiwfv37zVGBA4cOIBatWrpSVHJ+fXXXzWmnMzNzfWkpnLg6+uLEydOsOWaNWuidu3aelRUOPr166dRFxoaqgcl5QtCCIYMGcIJkFurVq08gxrrA1NTU44v2osXL9CpU6dyOc1NoeQHNb4oGvj5+XHKDg4OnNGCioq20BinTp3Sg5LKgXpw3e+++65CTOf++OOPGnXffvutHpSUL7KysjS+D1OmTNGaK1Nf8Pl8DXeIoKCgQuV6pVDKE9ThnqKB6jQMj8eDXC7Xoxrdcv78eY2Rj4CAAAwYMEBPiiomjo6OiImJYcuNGjXCq1ev9KioaLx8+RKurq6cug0bNmDatGl6UqR/zMzMkJWVxZabN2+Op0+f6lFR3vTt21cjTyj9KaNUJOjIF4UlMzNT4ym3U6dOelJTOrRs2VIj6XJQUJCe1FRMkpOTOYYXgAo3MtqkSRONhQH37t2rsj/gCQkJHMMLQKEMr+fPnyM4OBgJCQmlJU0rFy5c0Agr8/LlyzLVQKGUBGp8UVimTJmiMcpVXleuFRcnJyf88ssvnLoNGzYgIyNDT4oqHn379uWU/f39sW3bNj2pKT4uLi5o3LgxWz5x4gQePHigR0X6Q/0h6+effy5wn9DQULi5uaFDhw7w8vIq88TXixcv5pRbtmxZpsenFJ8pU6bk+dA7ZcoU3Lt3r4wVlT3U+KKwqDukL1++XE9KSpeJEydqnGt5XqFXnjh16pSGgfLrr7/qSU3JcHFxgaenJ6euKk4/Hzp0SGPKeOXKlfnu4+bmhi5durDlt2/f4smTJ6WiLy9++OEHTlkikWD9+vVlqqGqU79+fTRp0kRrMO782LJlC/766688227cuFFgHw0aNICbmxtq1aoFBwcHrF69ukga9A01vigAcgOqrlixglPXrVs3PakpXczMzBAdHc2pe/HihZ7UVCw+ffrEiQq/d+9ejemfisT+/fs5hnhcXBxSUlL0qKjsUQ1ADOQa2Pk52TMMg+fPnyM9PZ1Tr4/Vw48ePeKUb9++XeYaqjLh4eF49eoV/v333yLva2xsXKw2Je/evcNXX32FiIgIvHr1CnPmzMGuXbuKrCMvGIYp1Tyi1PiiANBc9TdjxowqNxrUpEkTfUso10gkEgQGBrJla2trNGvWTI+KdMPYsWM5ZWtraz0pKXtu3LiB7du3s2V7e3s0aNBA67ZHjhzJM9zMjRs30L59+1LRmB/29vaoU6cOWz5//jz27NlT5jqqIubm5mjTpg0uXbqEcePGcR7Kjh8/jhs3buD9+/dYuXIlJySNNlavXo3w8HCtbZGRkdi4cSPWr1+P4OBgTpvyIYHHyzVl1JPA37hxA+vXr8fGjRuRmJio0fe2bduwceNG/Pbbb5z68+fPA8g17jds2JCv9uJCjS8KAGDnzp3sa1tbW0yaNEmPasqGHTt2cMqfPn3SWEFF+Y/4+HhOPj1vb2+NabuKyLJlyzTq/vjjDz0oKXvUp98HDx4MNzc3je3atm2LESNGIDIyklO/YsUK3LhxQ28LLhwdHTF69GiNOkrp4+joiOjoaHYWQWkAAbkPNN27d8emTZtQu3ZtfPPNNzh27Bhnf+Wqeg8PDyxduhRmZmZaj1OnTh0EBweDz+ejQ4cOHF8x5eIpMzMzVK9eHUOHDmXb7ty5g+7du8PKygrnz59H3bp1Of2uWrUKkydPRu3atfHTTz9h0KBBbJvyXHg8Hvh8fpGvTaHQX05vSnmhVq1aBAD716hRI31LKhMkEgnnvAGQBQsW6FtWuUX9WvXv31/fknTG1atXOec2ePBgfUsqE9TfU19fX41tunfvrrEdALJ06VI9KNZOmzZtONqysrL0LalSs3TpUqJqPrRq1YrY2dmxZXt7e1KvXj22/OzZMwKAnDp1ihCS+7nbtWsXGTp0KFE3QwCQtWvXsq99fHw4bRs3bmRf8/l8YmZmRgCQgQMHsts9evSIACAnTpxg67p06UJ4PB4hhJBff/1V63GHDx/OKc+ePbuIV6bw0JGvKs7nz58RERHBqatI8ZpKgqGhIS5dusSpe/fuHWf4nJLL+/fvOWWBQIAzZ87oSY3uqV69OqccHx9f6aOmq0f1t7W1xb59+9jyggULwDCMRrqhNm3aYPny5Vi4cGGZ6CwM6lH4VaP0U3SLTCZDYGAgJ5uFj48P4uPj8fnzZwC5MdeEQiHb7uzsDACclG7+/v44ceJEgeFdMjIyEBQUhJMnTwIA5/68aNEiZGRkgBCCgIAA+Pr6Avjv86A6TW5nZ8fum5dfp/qK3dLM7kCNryrOd999xymr+79Udpo0acLx9Tp27BiePXumR0XlE3V/noq2sqgg6tSpAy8vL7YcFBSE06dP61FR6aM+ZawaOX758uVaV7F6e3sjJCQE8+fPL3V9RUE9fIzqFBJFt1y6dAnXr19Hz5494e/vDz8/PzZUj2qmCFWjSumLpTo1qVxZrO5vpY7SHSQ4OBgLFizAl19+ybapxqa7fPkyDhw4gPj4eBgaGgIAJ3SSqtGW11RiWWZzKD95IyhlztmzZ3H16lVO3YIFC/SkRj+4uLjAzc2NE6CxS5cuSE5O1qOq8sX//vc/jSfC0lwFpA8sLCzQs2dPjkPvxIkT0bt3b1hZWelRWelhZ2eH2NhYtuzn54egoCBMmjQJYWFhGtt36dIFly9fLkuJhaZ///4adVOmTMHmzZv1oKZy4+TkBABo3bo1XF1dIZVKUb16dfzyyy9wcHAodD+dO3dGQEAAGIZBTk4OZs6cqXW7fv36afXLBLhGlPI1IQRisRgAOCuxVVdQpqamau1PPVhwqfl7gRpfVZr4+HjO08mePXs4K4eqCn/++Sdu3LiBpKQkALlD0klJSbCxsdGzsvKB+pRjZQ1EumjRIgQHB7MPJJmZmZwn9crEsGHDOIZXUlISHjx4kGdGi4KmhsoDYrGY8wP7+PFjPaqpnMhkMrRu3RqbN2/GhAkTOG2EEDAMg969e4PH40EkErFtylEn1Wk81dWH586d4xhfOTk5AHKzaVhbW8PU1BQjRozAoUOHIBAI2G0jIiIQExODN2/eoGfPnrh8+TLs7e1hb2+PPXv2oGHDhoiJicGGDRtw8OBB9nO8Y8cOxMTEgGEYZGdno1mzZrC3t9f4zLx//x7h4eGoV6+eLi4fh8p5Z6EUiFQq1fB3UhofVZHvv/+eU7a3t9eTkvJFYmKiRgDFyvw5UV+OvmXLFj0pKT1iY2Px+vVrTt0ff/yhNbSMi4tLhfGBVB+tjoyMzDN8AaV48Pl89OrVS2tYHqlUit69e6NZs2bw8/PjrEIVCoXo3bs3u1/v3r3ZzxshBHw+nx117t27N9q0aQMAsLKyQkhICAIDA+Hn5wcDAwPW8Bo8eDAUCgX8/f2xevVq7N+/H97e3uwx/fz8sGHDBowZMwZhYWEan/lz585h4MCBGDJkCBo3bsz6qymRSCQQi8UYPXp0qTx80MTaVZTU1FTOdEqTJk1w69Yt2NnZ6VGVflFNKO7o6IioqCg9qikfnDlzBgMHDmTLPXv2xOnTp2FqaqpHVaVHWFiYRuyyynaL3LdvH8aMGVPgdleuXEHTpk0rVOiGCRMmcAJtLl68GEuWLNGjIgpFO3Tkq4qi7sfSsGHDKm14qRMdHY0pU6boW4beUZ92c3Nzq7SGFwA0bdpU3xJKncL4sURFRaFnz57lwvAqivGrnpWjMJHSKRR9QEe+qiiqozwCgaBUl9RWFN68eYNGjRqxZS8vL1y5cqVSGxv5IZFIOD9eDMNg3759GkEtKyOq34/GjRtzFmRUZOLi4lCjRo082zt37o9060gAACAASURBVIwtW7aUGyP0xYsX5UZLZaR79+64dOkSDAwM9C2lykFHvqog6vmv1FMyVFXs7OzQsWNHthwcHIzjx4/rUZF+MTIy4pTd3d2rhOGl7vf1+fNn3LlzR09qdEt+voxHjx7FzZs3y5WxoxpWgKJ7rl+/zokYTyk7qPFVBVm3bh2n/M8//+hJSfnC0tKS47AJ6CdZcHmhZcuWnLJ6apnKiq2tLZYvX86WU1NTK0XaqUmTJuW5mnnnzp0YPnx4GSsqGGXIAErpoRoLi1J20FATVQxtK5fc3d31oKR8ohoXBsiNeF9VefLkCaesHgOnMqOeB87CwkJPSnTD6NGjcfDgQY36SZMmYdu2bXpQVDgyMjJQrVq1IsWPMjQ0xPPnzzl1np6eecZ2qqpkZmZi+fLl6NGjh76lVEmoz1cVY/LkyZybrXqiUkqu38vt27fZcnx8vEb6mcpOYGCgxpRPVbpVvHjxAr169WJTb3Xq1Annzp2rcEbY0aNHERwcjK1bt2ptr6zv6S+//MJZ5RgYGMhxKaBQ9A2ddqxi1KxZk1NevHixnpSUX6KjoznlqmZ4AZrpWjZt2qQnJUWEAHcT+yM4sV+JunF1deVMQQcGBuLFixclVVemHD16FD4+PnkaXvv37y9jRWWH+n1NWwR8CkWf0GnHKsStW7c00gdJJBI9qSm/vH37lrPajWGYSjtCkBfqzvYV5cfrbIwFAB4YMLgQ44DqRl3whc2RYvWVnp7OKVck/6Pjx4/Dx8cn320qynuqC6qy7yalfEJHvqoQ6iETfv75Z/Tp00dPaijllVWrVnFy+Dk5OUEoFOpRUeHJUaRDwJhBwDMDAx5iss8gNGUiPouvFLmvrl275lsuj3z48AEMw2DYsGH5bufi4lImSYSPHDmCP//8Uy8rqhs3bsy+joiIKPCaUChlCTW+qhAzZszglNWn1yj/oT7ttnv3bj0pKXvURwmWLl1aYaZe3SxWIEseBTnJBsCDEd8WUaKTuJPgjbC0RYgX3yh0X+PHj9eYpi/PhIWFoWHDhhr1NjY2GDlyJKduw4YNpRq/7tSpU5g4cSJGjBiB4cOHo3PnzqV2rLw4evQop1xZE6RTKibU+KpCqDrWOzo64siR4k3HVAWmTZvGKe/du1dPSsoedeMrPj5eT0qKTuNqc9G/ZgJsDb0gJSlQECkEPBOYCJzxLvM3PErxx9XProXuT/3c80o8rW9MTU3Rtm1brSNMiYmJ6NKlC6euNFf+3b17F0OGDMHOnTvZOmXevrJE/b0zMTEpcw0USl5Q46uKoB6hm0a0z5+MjAxOWSKRICcnR09qyo6XL1/C19eXLX/zzTeYPXu2HhUVHSO+LdrZnkENo94Q8p2RI0+CgshgwLOAgoghUSTgTLQ5suXRkClE+fal/j0pb5HuFQoFDA0NIRKJkJmZyWkLDAwEIQQhISHw8/Nj6xmGKVLohsKQnp6OiIgIMAwDLy8vjXZ9GD49e/bEypUr2fLGjRtx6NChMtdBoWiDGl9VBFdX7tP+okWL9KSkYmBjY4MOHTqw5SdPnmDZsmV6VFQ2GBoacspZWVl6UlJy2toeR0fbv9C42gLwGEMoiAwMwwefEcKAqYaLMU54lDIe7zI3F7rP8uT7tnz5crRs2VLrg9Tly5fZ0ArqsevGjh2rEUy4JCxduhR9+/ZF7dq1NdqEQiFmzpyJz58/6+x4RSEtLY1T1rXRSaEUF7rasYpgaWnJmWqYPHmyHtWUf4yMjDB16lROWplq1arpUVHZoJ5+JikpSU9KdIMh3xqNq81FbVNfnIlyhFBgBgFjBgYCmAicES+5iqjsY5Aq0tGk2vwC+4uMjMRvv/2GH3/8sQzU503fvn21Rt1ftGgR+vTpA09PT7ZOfcpRl76eEydO5EwvqvPu3Tu9+s2pG1+jRo1CREREmSw2oFDyg458VRG0Rban5I/6jVu9XBlR9fcyMDDAvXv39KhGdwj5NfFtbYJWVrvBZ0wgJ1mQEzH4jBDGvJp4m7ERAVFCfM7+C3LCDb9y//59TjkkJKQspXOQyWTo06dPnobXL7/8wjG8AODTp0/sa1tbW85K1uIgFotx4MABMAyj1fASCAQ4duwYCCFaDS8FkUKqSMWpCBOcCndBYvbdEunJj23btqF169ZsOTY2tkq4D1DKP9T4qgJ4e3tzYha1adNGj2oqDm5ubpwVUr/++isePHigR0VlS2U02GuZDEcvh3C4mI6BlYEnpIo0MAwDPiOEIc8a95IG4mJsTcSJr0Eizx31U4/xpq+YUStWrICBgQEuXbrEqe/SpQvmz5+vsUJXGyV9T9+8eQOhUMjxC1RlwoQJkEqleYZ1kBMxAuM742y0FYwElhCYpOFSsqaPmC5RP2fVGH4Uir6gxlcVQH2J9YkTJ/SkpGLxxRdf4Ouvv+bUGRsb60lN2VOZE+42t1yP9rYBsDJsA5EsEgBBbmiK6uDDGMGJvXEvaSAAQJHDDclw5swZ/Pvvv2Wqd/PmzZg/X3NatFu3bvj77785icDzo7jGl1wuh4+PDzw8PLS2e3l5Ye/evdixY0eefTxN+Qn3kgYjTRYGE4EzAD4IBCD8YkkqNImJiZxyefLbo1Rd6MR3FcDAwIBTTk5OhouLi57UVCzUpxors/HVq1cvTvnDhw96UlI28BgDeNleBAhwKloIY54V+DAGwwhgzHdAujQM1+KboaZHN0ybvBwbt+Zmh/j8+TOePXuG5s2bl7rGJ0+ewMvLCyKR5qrMNm3a4Pr16/nu3759e065OFH6v/rqK9y7d09jBbASmUwGqVSa53fjY+YfeJO5AdnyCPAYIxjwqoEQBWQKBUQygq9qXC2ypqKgXIWpxNHRkcY4pOgdOvJVydmyZQsOHjzIls3MzGBpaalHRRWLM2fOcAKMqkbNrmyo+gYB0Lp6rbLBZ4zB5xnjG2eCdjYBkEMKqSLX4BbwTCGRJeF96mF8u2UTBk3i+sOVNk+fPkXLli01DC8zMzM2hERBqL+n2dnZhT7+kiVLwDAMrl69qtXwCgoKAiEEfD5fq+GVIX2Dj1m/IyRlLHIUiRAw1cBnjCFTiCBRJMLVYhp8XBJRw7hHoTXpgpiYmDI9HoWiDTryVckxMzPjlFeuXIm6devqSU3FpKrERFOPxSSRSCr1SJ861Y2/RBur35Ga8whh6b/AmG8LPiMEYICEWGDuNhMYCRkE/ZWO7LTSiw7/4cMHHD58GAsXLtRoc3R0xLNnzwrdV3Gm2M6fP4979+5xYmSpMmvWLLRv354TikWVbHkMokQn8CpjJeQkE6YCZwCAgsiQLYtFbdPRsDJog/rmU4qsTRdQny9KeYAaX5Uca2trTrkqrNjTNaUZDby8sGvXLjx69IgtL126tEoZXkpqCr9GTeHXcDQZgrC0BYjKPgsTvgN4jADxsXJMWm6FfuOMwZPNAlA6eVGbNWumdZrx2bNnsLKyKnSanI0bNyI8PLxIx27atCnCw8MhkUg02rp3745Vq1ZxVg+qczdxIMTyWKRJ/4Uhzwp8njUIkUOBHDAwwFc1XsNEUAt8Rn+fLUII5s+fj19//VVvGigUanxVYqKjo9G/f39OnboxRikYQgjnadnOzq5CpdwpDOqR2/NyrC4u2fJYAAoI+Y467be0sDBohva2ZwAAF2LsIVVkgc+YIiNVAEsbIyhIEgKiTFDduCM62BY9abc6OTk54PF4eU5nhoeHF3nEWn1RwMOHD/Pctl69enj//n2e7eorPtWRKUS4nzwEiZIgCBgzGPFtQQiBVJEOQ54NGBigt8PHIunPD5FIhJSUFPB4BXvOGBkZ4dmzZ3Bzc2PrAgMDIZFIkJycDIVCAWtra+qITylTqPFVieHzucuIvL29MWnSJD2pqTxUxpu0etBJXU21fhb/haScewhLWwoFAbrZ3UR147JPslwSvqrxGmFpiyEyCkQOSYAonQfAEIY8ayRKghGSNBo1hL3gbPJtsY/RtWtXrfkPx4wZg++++65YrgLqhpw2Z/u9e/fi0KFDWg0vU1NT9O/fP9+8pvHiG0jJCcHTtLkQ8qvDgLEEwzAghCBHkYR6ZpNRUzgAtka6CyeRkJCADh064M2bN8Xu486dO5yR3S+++ALTp0/XOuKoT0QiEfz8/GBkZKRvKRQdQ42vSoz6U2F5u7FUVArztF3RUI9dVdLPysOkkTDm18BH0T4QIoOZwBkKkoPHqZPRs0ZYifouawx4lnC3+g2Dfd2RIY/FykO1EB8nBxQ8GDLW+Cy5jAjRISRKglHD2BsOwr5F6r958+Za/bi2bNlSokwU6r5NqmEm9u/fj/Pnz+PUqVNa992+fTvc3d3Rtm3bPPuPE1/Dg6RhIJDD7P/9unJXMYqQLU+Gp81O1DH1L7b+vPjrr79KZHhp48GDB3nGJtM3x48fh6Ojo05Cv2RmZmLp0qVo1aqVDpRRSgI1viiUIlLZHHaDgoKwePFitjxmzJhi/xCFJH+HRMkd5CgSwEAAPiMEw+NBQaSQERFMmIob4uTU/idgGAYmJon4ebMNJNkKZItywGeEEAqcECE6jAjRAXjZXIatccEjPT/99BN27typdURq8+bNJU4Bpv45NTXNXSRw5swZfPfdd3nut3PnTvj75200KYgMl2JrgQEfPMYYPCb3Z0ROxFAQKZyEg9DSaidbr2vU849Wdm7fvq3T/i5evIioqCg4OhbPBUAqlYLH47EzK3K5HAqFIt8VwElJSbC1tcWRI0fw7beaI8S///47/Pz8kJqaCgsLi2LpqmhQ46sSo56nT9df4qrE8+fP0axZMwC5q9GGDx+OY8eO6VmVblB3rlb+SBeWNOkzJEnu4mHyRJjwrf8/llPuDZQQBSTyRFQzaApDnjU6Vi+5f5S+Obs7E2d3Z2LebhsM8mmHiOTrMOBZwYBnDkIUCErsDjAMuto9gJDvDEOeZmiXKVOmYMuWLRr1Pj4+OHz4cIk1Hjp0iJP6Z9KkSXBycsrzwaFp06Zo3bo19u/fn2efCiLH7fgOSMq5D2N+DQAEPEYABZFBqkiBuUETdLcPLbH2ghg2bBhSUlKwb9++QrsACAQCREREcEbM6tevz8Y7fPXqFaKiokpFb3mkuCmWZDIZbG1t4eTkhBcvXgAAXF1dERUVhaSkpAJzZuZ13OrVq8PR0THf/QkhOHfuHNq0aVNsw7E8QY0vCqUQJCQkcMqFXXFWEVCfRi1sFPTnafNgzKuBVxkrICNZqGbgzLbJSTakinQQELSy2g5bQy+YG1SuGGkrxifh13HnYaXYgdcZayEnIvAYAxjxq4MQOa5/boHqxt3Rqfp/QUQPHz6M4OBgbN++XaO/IUOG6MTwAjQN6O3bt2s9ZrVq1TB//nxMnTo139WtL9IWI1X6L9JlL/8/On0uEnkCjPmOcLVchFomI3SivTBMnDgREydOLNI+hw8fxsiRI9ny7NmzMW7cOAC5xtexY8fKnT+nmZkZ5syZg8zMTJ312aFDh2InOxcIBOyK+UaNGoEQgrCwwrsR5GX8f/311xrZRLTtO2DAAGzfvr3I7315hBpfFEohUDdI9JXfrzSws7PjlAvyLXmRvhTx4utIyfkHPMYQAsYUhjwrECIHgRwieRychAPgbvkbpCQdFgbNSlO+3qlrNhG1TEbheKQZhAITGDDmYGAAocAJKTkPEZjshXrWXfHySm/Oj7+S6tWr4+7du6hfv77ONBU0AqEkNjZWI76bKhFZR/FRtBdJkrsQ8Mz+Pzo9gYxkQCRPQ+fqF2Fh0BwmAiddSS811MPsqAacbdy4MZYsWVLWkgpFr169kJqaqrGAqjhIpVK4urrqxIFfKpVqXQX722+/Yf78+ZBIJFi9ejWmT5/OttWrVw/t2rVDaGgo9u3bx05Bnj59Gr6+vkhJSUFoaCi6deuGjIwMMAyDmTNnYs2aNXByyv2MTZ8+HZMmTSpwBW55J99v6KBBgxAQEAAzMzNkZmZixowZWLduHdtOCAGPx4OlpSVSU1Nx//59fPHFFwBy07AYGhpyEjozDINly5ZhwYIF2LFjByZNmsT23aRJE3YYU0m1atWQk5MDiUSCOXPm5Bn0j6KJ+g9oZRim1SfqxtbatWvRqlUrDB8+XE+KdIfqEnwA7E1OlRx5EpKlIbgd3wtCvhUYxgBGfFsA+P+QAmkw4tmDYfj4pubnMtGtD6ytrZGcnMyWW7VqhdDQUAh4pvCpTRAnvoLnafOQJfsIPkxQzdwCkZ/e4HLAY6wap5l/0cLCQudhS2JjY/OdQrO3t8fhw4fRrVu3PLeRyBMQJ76Kh8kjYcSvDkO+DRgwkJNsyBRZaFxtHppUW6BT3aWNjY0Np1xRUgxVpKDYR44cwU8//QSRSAShUIilS5fi6tWr8PLK9YHs0KED5HI53r9/jwYNGkAsFmPMmDFISEhAZmYmGIZBRkYG+1rVwIqKigLDMNiyZQvGjh2rr1PUHSQP3r59Szp37kwSEhIIIYR8+vSJACBz584lhBDy4sULAoAsXryYEELIqVOnCABy69YtQggha9euJQDIkydPCCGEbNiwgfB4PHL//n1CCCHt27cnV65cYY9Xp04d8uWXXxJCCMnMzCRNmzYlLVq0IIQQ8v79e86xKAXTsGFDgtxswSSft5lSBJYtW8a5pgEBAfqWpBNUz6lRo0actvCM7SRKdJpcjK5FTkcakwvRTuRCtBO5GONMzkXbkdORQnIyUkCepy4kieK7ejqDskMsFnOuV5cuXbRu9zx1AbmcakB23anB2V7552jfiEwc97NOtb1794788ccfWo8HgPTs2ZPMnz8/3z5EsmgSkfUnORNlSQKiTNn3+nx0DXIykkfuJQ4jL9KW61R3WfLtt99yrsnTp0/1LanCUqdOHeLi4sKpO3LkCAGg8TlLTEwkAMiZM2fYulWrVrG/TXv27CEAiFwuJzdv3iQASExMDKcPiURCAJAtW7aU0hmVLUX6Vfbz82Mv1rhx4zR+1BmG4bwZAMjkyZPZ1x07dsyz70uXLhEAJD4+nty+fVvj4o8fP54aEUWgbdu2nJtMSkqKviVVeGbPnl3pja+6LrnG1/uM3eRBog85GSkgAVFm5Hy0A7kY40wuRDuSC9E1yYkIkFtxXUiC+A6JEV3Q8xmUHdHR0YUyvggh5N7rjYRnqN0QOv7Yk3wkP+hMl0wmIzY2NnkaXp06dSqwjwdJI8mt+M7kVKQRuRBdk32/z0XbkUsxdUi8+DaRKrJ0plkfDBgwgHNdXr58qW9JFRZtxld6ejpp0aIFAUD69u3L3iOVxtf+/fvZbRcsWJCv8fXs2TNO35XN+CqSz5dqctXdu3fj+fPncHZ2RmRkJIYOHQpCCD58+MBu8+jRI7Ru3Ro7d+6EiYkJAgMD8+w7MTERQO48cqdOnbB48WLUrFkThBDs2bMHu3fvRmRkZFHkUiiUIiLhvcMDWVMkpCdBQWQQ8h0AAAQEMkUWeIwhZCQDA52y9ZoipryQlx+OlZUV0lPF0LZ04fR7R1SzjsKT6Dd4zpyBtZEH2tmcLraGVq1a4fHjx3m2t2jRosCVzveShiEu+wIEPHMY8+1y/boUWeAxRpApMvC1U1yx9VGqDubm5njy5AmAXDejCxcu4P79+xquDRSg0NEijxw5guPHj0Mmk7F1V65cQVRUFLy8vHDy5Elcu3aNs0+rVq1w4sQJyGQyZGVl5dm3VCrF6NGjcezYMXYVxpIlS2BtbY2WLVvihx9+wLRp07T6olC0ox5zRRcB+qo6qg66gGbS8oqKsxvQuLUhTr51xKl3TkiITwEDAQQ8EyhIDnIUqZDI4+Ag7ItWVrsxwDGzyhpe6t+j6OhoJCUlsWWJRILatWsjNTUVCnDjd20/OhbPSCMYmKZDIuLDgGcOQIHP2VcQkuyLBPGtImn56aefwDBMvoYXkLeBmJwTgrcZ/8OfEQwSxTdgwLMGjzH8f4f6dNQw7o22Nscx0KnyBGdW/x2qVq2anpRUTt69e4ePH3PTSClz4mZnZ+skNqJy0VN+C0QqEoU2vhYvXoyOHTuy5Vu3bsHCwgJHjhxBcHAwQkJC0KNHD+zbt4+z3/z58wEA06ZNy7NvPz8/mJqastGUY2NjYWtri27duuHx48eIjY3F3r174ePjU6STq6oEBgZy8roNGjRIw9mUUnT8/Pxga2vLln/55Rc9qik5Mdnn8SJjAQ4+tMGeuw4ws+Ah6bMCDPgAGGTLYyHkO6O11S40t1gPD+v9qFnE6O2VDQcHB/Tr148tv3z5ko3X5e/vj06dOiEiIkJjv6tXr2Li8L2wl2xHI5NlyJRFQk5EAHgw4tsgNvsibiV0QVjaQnwW/5WvhqNHj2LChAn47bffCqVZOaugSoLkNoISuiMsfRHMDZzB5+X+oMmICJmyKDSzWAFPm4OwNepQqGNUFBYtWsQp5xdMlpI/SUlJGp8tqVSKBQsWYPjw4fjqq69Qr149tG7dmn1wVX2AVZ1JU2bUkMlkbNBh9RRnxsbG8Pb2xsKFCwsMS1EhKMzcpKmpKWnQoAGnbtq0aRo+WDwej7i7u7NlAKR3795EJpMRAGTq1KkafSt9uRQKBVsXGBhIAJCwsDC2btSoUdTnq5DMnTu3UvomlQdat27NubYikUjfkoqMWBZPrn12JxdjapMzURbkYowz+3cu2o4ERJmTwx9B0iT/EoksSd9yyx1Kp2Ll38mTJ8nkyZO1+lr9+OOPJDw8XKMPkSyK3EscTk5HCsn56Brs9T8TVY1ciqlDrn1219hHKpUSOzs7wuPxtB6rX79+RCaTEYZhOPXZ2dmcfq59dieXYuqwxz0f7UDORduRPyNAHiQOJyJZVKldu/KAUCiki5F0wLt378jbt2816qOjo8m9e/fIw4cPSVpaGiGEELlcTkJDQ9kyIYQkJCSQ0NBQQgghqamp7GuRSERCQ0OJRCLR6Fsul5N//vmH3LlzpzROqUwp0OfL0tISnp6e+Pvvvzn1DRs2BJA7SuXg4MCmGPD09AQANsRE165dwefz0bBhQ9y+fRuEEHYI8ttvv8WxY8c04nVYW1sDyI3I7urqCiD3CbNGjRoFyaUAGjFc1KfLKMVHfdqpIuZ5JESG1JwnEPJrwoBXDXwBYCRkoCA54Gc3Ri1TX9QxrQRLuUsJ9XRAQ4YM0brdvHnz8Ouvv2ptE/Id0dbmKEKSfZEuDUOG7BUETDUY8CygIBJky6NxKpqHwY4pkCIHdpaNkZqWrLUvY2Njzndc/X6qDJ56I64NknMewZhvBx4E4DEGkBMxjHi24DFG+Lpm1fDrUr8+lOJRr149rfU1a9bUCOLK4/HQsmVLTp2trS07k2BhYcG2C4VCjW1V+2ndunVJpZcL8jS+EhMT0bp1a6SlpaFfv36YN28eFAoFZDIZ1q1bh4kTJ0IoFKJmzZr43//+h59++gm+vr5sSgsLCwtYWVlhxowZAIDXr1+DYRgsXboUixcvRp8+fXDp0iWMGzcOS5YsgVgsRmZmJpYvX46mTZvi8ePHaNmyJRISEhAQEICUlBTExsaWzVWhUCoxDHjgMQZgGD4sbXmIfi/D+d8zkClJx+n/0e9YSenZsyc8PDywfLlmXC91PKz3Q6bIwpuMtYgUHYWUpIPHGMDcTABDE2eMmGeJ4ItAaprmvlZWVhg5ciQ2bNiQ7zFkuIiQpH3IlL2FKSc6fSKM+NXR1uYkqhm4Fvk8KRRK8cnT+OLxeFizZg2srKyQmprKjjqpPvn7+vrC0tIS2dnZOH78OIYOHcq2BQYGcqKCE0Jw/Phx1q9r+PDh+PHHH5GZmcnmexKLxWzSVHd3d/zzzz94/fo15syZg969e+vwtCs36qMx9ElPd6gHxNRFpOiyhoBARqQwskzArIEKRL5TIOL1/y+k+Z9+tVUE8kst5enpiStXipa/UsAzhavFEtQx88flOEfY2Vvh8EqC4IvZeHZP+z4nT5xG4yYN0bRp0zz77THcFF8OEOJasg9kktx8m4QQyEkmRPJUdLQ9CXMDV1QzaFIkvRQKpeQwhP4yVzrmzJmD1atXs+WTJ09i8ODBelRUuVBducPn8zkrgCsCWdIPeCtaC3eLbRAaWUKc89+wSlFuB3K5HCKRCBKJhH3QEggErNuAkvT0dMjlctaBVi6Xw8bGhpMBQ33VWVpaGgwNDTm59pKSkiCTyWBmZsbmLszMzIRcLmeTgysUCpiYmJTaKraXL1+yrhCqCAQCuLq64unTpyXqXy6X448//sD48ePz3ObEqcMYMijvxUd8PoN2fQyx5pQDskUEElHueyonYsgVWahnPhVuFlU3W4j6yjv6E0jRB9T4qmQEBgbiyy+/ZMvff/89tm7dqkdFlY/KcvPu2eMrXLv+X9LnmJgYODg4FHr//fv347vvvkPz5s1hYmICQ0NDBAYG4sSJE6hTpw7rm8EwDCwsLNCsWTNIpVKkp6dj165d6NixI3stFyxYgGXLlrF9MwyDjh07srEBp06dis2bN6Nbt264ceMGQkND0bJlS3b/Tp06QSwWIzs7G99++y3mzp1b4uujysePH/Hu3Tv06NFDa3tRr506nz59wps3b9CzZ0+t7U3aGKKhuyF+3V0dUSlJEGXloEP1KzAXNIIx3x4AIJbHIUP2Gu8EvpDmyJGZBoAACiJFjiIJ9sZfwcKgGZoV0/AKDw/Hw4cPIRKJWGPb0NAQvr6+7DZSqRR//vknCCGsb5xYLMbw4cNhZWWFY8eOAYBGjss//vgD7u7urK9PZmYmjh07BrlcjoYNG6JLly4AgBMnTkAqlbIhI6RSKTw9PdGmTZtCn4ePjw+OHj3Klm1sbLSuCKVQShOaWLuSoT4Nll98NUrVxtLKglNOSEgokgGhjLdz9+5ddiTq/v37aNeuHUaMGIFDhw6x2y5duhRTp07l7K80WsePH4/ly5dzjC/gv+m9BQsWYPPmzYiIiICzszM2D6hQ+gAAIABJREFUbNiAiIgItGzZEqampnB3dy8wiGhJEIlE8PLyQkxMTJ7bFPXaqTJixAg8fvwYL1++1Gizs3XElCWeaNAnADVr2ONjjBQMYwFDngKBCd1gbeiJLnbBeJL6EzKlrxAnuQFjnj0YJtf1QEFyYMBYoIX1b6gp/Bp8RqhxjMJy8uRJzJkzB8uWLYNAIICZmRn8/f0RHBwMb29vDBo0COnp6Rg1ahT69OmDLl26QCKRQCQSgRCChIQEjBo1CgBw7tw5HD9+nO177NixGDVqFA4cOAAAcHV1hbW1NSZPnoyuXbvi6NGjGD58OL755hs4Ojpi5syZyMrKgkQiKfI97siRIxzjq3r16sW+JhRKcaHGF6VI/Pvvv2jRogUnibo+iImJgaOjIwICAjBgwAC96aDkBlNUGl9t27bF3bt30b59e/j4+LC+msppQW306dMHt2/fRvfu3XH9+nWN9tWrV8PDwwPOzrnO4tOnT+e0l3YAYeW5lQadO3fO13CMS4gCIAeBFCcjhTDkVQMfpuAxAgj5DsiQvsLfcW2RLgsDnzFhMxIYGjEQGBIkZ8Shr4NuEp0rp4AXLPgvoba/vz+MjIxgbW2NQYMGsQFdR44cqZF0Xrlg6ujRo1oTIyuDFjs5OaF69eps8FgvLy/OVLaXlxd+/PFHnZwThaIvKt46eUqpExoaCoZhYGRkBHt7e9ja2oJhGMTFxbHTDerL7bWRmJjIhhdR8uzZM04A2OLC5/MhFArZZfSU8kOjRo0A/BfhGshd7fzgwQNcvXoVr1694myfnp6Ojh074v79+2ywRVX69u2LkJAQ9O7dW+Ozw+PxkJycjMePH+P69esIDg7W2Xl4enpqjczdqVMnWFpaFrvfsLAwLFy4EAzDaDW8XF1d8eDBA5XvDR8MjDHUmaCj7TXwGAMQkmtwCnimEMk/wZBnBT6TO+qtkBM8uy/GELdItEjO0Oi/pKgupDI0NERsbCxWr16Na9eusaOh+UU0d3FxQU5OTp4pZ6Kjo9mFV0Du9VANM6SLaOkUir6hxhdFA6VBExQUhLi4OCQmJoIQAnt7e3aUoTDxrc6dO4fOnTtzbpbdunVD586dS6zR3t4eIpEI3t7eJe6LoluUCxBUPyNPnz7F/v37ceDAAYSEhHC2T05Oxp49e5CVlaXVVysgIADTpk3Dx48f0aJFC2zbto1t4/P5iI+Pxx9//IFDhw7h7NmzOjmHLl26aOgEgE2bNuH27ducKPeF5fnz51i3bh2aNWumNQzF0KFDsX79eoSFhbHxEtWxNvKEo3Aw5OS/kUQe818qMeVXbd0PyUj6CDDGpe/LFBeXGx9MdXHE3r17MXPmTEyYMAGXL1/mbJ+amopVq1YhPDxc64PY3Llz8fDhQ7Rr1w6LFy/WaH/48CHmzp2LyZMnFxhmg0Ipr1Djq5IhEHBnkksyJZOZmVngNnfv3oWTkxNcXFzg7OzM/vjFxMRg3LhxAABHR0f88MMP2LVrFxISEpCSkoIaNWqwgXufP38OJycnODo64vvvv2f7dnd3x7Zt27Bu3TpYW1tzfIYSEhLg7OyMW7dy8+E5OzsjODgYPj4+sLOzY+PNKdmzZw+rs3nz5mjfvj1atWpV7GtTGSitkCTKz6DqCImPjw+2bduGQ4cOsX4/6mzevBmbNm1CQkKCRtuGDRvw9OlT2NjYYPLkyVi7di2AXIdrV1dXbNq0Cfv27cOaNWtKpH3evHlo1aoV+7lSZcWKFZgyZQoAze+G+vdOHbFYDA8PD8ycOVNru7e3N44fP64xpaoKIQrcSeiFePF1dpSLEDkURAoFkf1/GTAwYrD1Rg3M2Qc4ORV/EUBJaNKkCXr27ImePXuibt26nLaMjAz8/PPPyM7Oxs2bNzX2XbFiBe7evQsg11dQfYrRzs4OX331Fbp3714kR3sKpTyR5x3j3r17aN++Pa5cuZLnChxK+UM9EK1qLsKiEh0djbi4OGRnZ0Mmk6F+/frsKJZAIEBGRga8vLxw6NAhjBgxAjdv3kTXrl3x8OFDeHh4YMeOHZgwYQJev37N+nOsWbMGcrkcHz58AAB8+PABbm5u2Lt3L8aOHQuGYWBiYoJ169bh6dOnmDx5Mo4dO4bk5GQwDANCCDZv3gypVIqoqCj2qTsqKgodOnTA69evsWrVKtSuXRs8Hg/jx4/H2bNnMX78eLx69QqNGjXCypUrMW/evGIbG1FRUZUiybv6FJ96MvbiEhUVBYDrK1WYaep+/fphypQpnETV6voSExPZ6TqlIaOrUB+zZs1ijTpVBg4ciNOnT3Pq1J20Y2JitIagkMvlqFOnDiIjIzXaDAwMwOPxCnVtbsd/iVTpUzAQgM8YgWH4uRkJGBNOVHw+YwrIBDA2YdCtnxOuJDugGr85vrQrWtLuoqAc8VJ9Hzw9PfNcGao0ym/cuIFu3bppNcbbtWuHe/fuoVOnTti0aRMYhsH//pcbhK5WrVolGj1X/97nlXicQilN8hz5qlGjBry8vFgnV0rFQDXhqKOjIzZu3FjsvtavX48RI0bgu+++w5AhQ5CSksLeqGQyGczNzUEIwYgRIwCATd6tNNCUIyvqNzfVm1/dunXh4+PDccBV3d7X1xfDhg0DALx69QpbtmzB/fv32Ru+6ojD9u3b0bBhQ9SqVQsHDhxgk+Yq/UeUxkVJjYyKFtdLG1u2bMH58+fZ8o4dO7QaD4XBwuK/VZNPnz5FixYtMHLkSPTv35+tV/oC5cf/sXfeYVFcbRu/ZwtLW0CKoiCIoEiwYDf2kmBssXeNGo3JZ2KNNYkak2iixhhbbNEYG2LX2HvBHiv2hg1Qel1g2/n+4N0Js7vAArvMlvO7Li/3nJk5c8+yu/PMOU/x8/PDvHnz2FlLzedn3bp1bOJSzTJVwbx1Zf17Hj16FDNnztRreHXs2FHH8ALy36+CTuD6DI3hw4dDJBIVanjdvn27WMMrNmc3Lif3Q6riJkSMM0QCRzCMEHmqZAgYO7Tw3I8PKt3EB5Vuo6b7CHh7BcDRRQ21GpDnMhAQR6QqbuBKcn/E5uhehzFYs2YNpFIpAgIC2O+GdlFkffj7+0MoFLIPZvrQpBopGLBR1u8fwzCoV68e205ISMDTp0/LNCaFUlIKnfkKCAhAVFRUeWqhGJmy/kitWrWKrUig4fnz55z2vXv38NVXX0EsFiM1NRXAf8aXxsjSrnSg/eR56NAhdOnShT1OX7V7IN83CCg8q3zB4zTJO4H/Zl00qQvKGr1mqXm9CqL9HhR8vwxF87f58MMP4ezsDDs7Oxw6dAh//fUXW/tVw7x583D48GEoFApkZmZiyZIleP/99wFwl/CGDh2KoKAgAP857Ds4OOCjjz5Cnz59sHPnTuzYsYOtp5idnY0LFy6gS5cubJ6vPn36FLl8V5CDBw+ia9euOv3BwcGYOXMm+2Chj8K+X6tXr8bx48exa9cuvdvXrVuH2rVrIySk8Mzyb3J2IjH3NJ5lrYRE6AE7gRsIIVCqs5GjSkEzj7/hIn4PLuLaAPL9vt5FjcDsxTvh4JGMeZu88TZeCYCBncANCXmn8Fq2A4HOY+Bl3w6+DiVPuqz53Bdcrv7++++xaNEiTJw4Ef7+/uzfrKgkt5pxAgMDMWrUKNZvU9MfHh6OLl26YPz48azPl6ZMHQCjBNmsWLECLVu2BJDvwrBgwQKsWbOmzONSKIZSqPF1+/ZthIWF4cqVKwgNDYWzszNOnjyJCRMmIDo6GkuWLMG4cePYG+bBgwc5JYCaNGmCmzdvQiwWIycnh3PDatq0KW7cuAGxWAw7Ozvk5uaif//++PvvvwGAXXrS5Ieh8ENRN2SRSIScnBzUrl0bc+fOxZdffonTp0+jZ8+eJT5P48aNsW3bNiQlJWH9+vWcmZSyolar0bNnTwwcOBDe3t5wdXVFYmIim+yRUnoGDBiA8PBwyOVy1rdw5cqV8PPz4+wXGxsLtVrNlhFTqVTw8fEBALx69YqzNO7r64ukpCRkZmays2WDBg1Cy5YtoVQqsWjRIs74CQkJUCgUrIGtVqsN/vycO3dOr+FlZ2enE5FpKHZ2doXO+owcORKLFy+GVCotcoyE3BO4njISDARwFOUvb6tIHpTqTFRzHok6LvMhEujOJF69eRTnDscCAASCBMxY44a0ZDlABBAyDnAU+eK1bAteyTbBzsMNFe07lOjaNNfl6OgIQgiEQiGys7OhVqvZXFuaz0Hv3r3h6OgItVqN3NxcXLt2jf27FXx/Vq1ahUqV8pPEaj4fixcvRu3atTF79mykp6fr3AMiIiKwf/9+qFQq5Obm4vvvv9frmF8UBR/UNNdEoZQnhRpfBaePNQZWhw4dQAjBo0ePUKtWLYwfPx6EEERGRqJLly5ITU2Fm5sbfvrpJzx69Ij9knXt2pX11xk0aBCuXr3KfqHatWuH8+fP4++//0ZycjI8PT3x1VdfYdmyZWjatCl7HMW8YBiG/fuGhobC1dUV9+7d4+yjWSooOMuSlZXFWWZo0KABXrx4AalUCqlUCrVajXv37hUahl5SBAIBrl27hoiICGzfvh3BwcFQqVQ0+awRkEgkBiUWrVKlSqHb9Lk1ODs76yxFaRt0GkqTIDM1NVWnBBIAuLu7w9vbW+dzbCiFpUDw9fXVu/RYELk6GXmqZByOD4ZY4AA7gTsYRgA1UUChToO7pBncxPVQz63w4psF0zMc3ihDz4a70P7LKLxJuYCUvMsQC9wgEkhBiBoXkrpBQXLQyfvR/2bWPIq9vsmTJ2Py5Ml6t2n+Xh4eHkX+XuvbpvHb1BAaGlroGPReQLEWCvX5Kui3o3m9Z88eAGBLMTx+/BjAf08RGv+b7777Dunp/9WLK+jDo12UVqVSseNr6pktW7aMPc5UNdoohaN5AtWXGFOzLScnBy4uLmjYsCFmzpyJCRMm4MqVK5x9PvzwQ4hEIvTt2xdLly4FkO9H9vz5c4wePRp3797F9evX4eLiAj8/P3z11VcYMWIE64wPcGffNHrkcjlr+OXk5LDbCxpUmtdqtRrVq1dHzZo1sWvXLqxfvx6RkZFo1apViZ+WKZZPTExMoX6s586dK5HhVZyjdqVKlTBnzhy8evWqyP0eZPyEaynDcOxtLTiJfCARev7P8JLDTuCO2q6/oKXn0SINL30Q+1cIFP6Elp5HUNv1F9gJ3KEmcjCMABKhJ5yEPjj2thYuJfcBIeriB6RQKEajRBnutZehND4++hg2bBj2798PJycnxMbGsn4C2mMULEysWS7w8/ODWq1GbGxsSeRRjEStWrVw6tQptjZfQerVq4dTp06hcePGAPJzgWkSW37wwQc4ffo068waHByMp0+f4sGDB6hYsSKA/MzXvr6+kMlkbOLEixcv4vz581AqlfDw8GDDx6OiotglCSB/efLUqVOoW7cuJBIJTp06hbCwMADAqVOnOD40w4cPR+PGjSEQCHD27Fk8fvwYFy9eZIMCbty4gR9++AFz5swx6ntHMV8CAwORnZ2td9YzJSVF58GwKH799dcif/9Onz6N6tWrFzpjp+Fm6hg8z14LO0EFOIh8QQiBmsihUKdDSXLxkfcTiARFL1MWh5CRoIZ0PAKcPsWeWBeIGHuIBa5gIIaDyBdp8ls4m9gaLuJQNKiwuvgBKRRKmTFJeaEvv/wSGzduZKeIe/ToweZ/2rRpE06cOAFvb28QQpCdnc3up5nFKO5JkWJa7O3t2UK22jg6OnK2OTg44IMPPmDb2sf5+/vD39+f06cdJm5nZ4cOHXT9T1q0aMFpOzk5ccYv7DWQnwtIY/BpbqoXL15ESEgIpFIpXr58qZN/yFCqVatGlz8sjEqVKiEhIUGnf+/evZyozOJITEzE2rVr8e233+rd7urqioMHD+p8dgsiV6cgNmcPrqeMgp3AA/YCb9a9Qo1cSATeaOa+A572rQzWZQgigRR9qxIk5Z7FjbSvkKd+CwGxh1ggRZbyKTIUD/E8aw0auv8JH4eesBPoLs1SKBTjYBLjq2B0W1xcHK5fv862d+3ahbdv32LPnj2sM+XWrVsxaNAg9OzZE5GRkbh06RIbCfX7779jwoQJppBJsRHatWuHPXv2YPny5exSUVBQEA4ePMizMoqpWbNmDdavX6/X8IqIiDDY8Hr48CFu3bqFgQMHFrrP/PnzMXXq1CLHSVdE48TbMAgFjnAQ+gBgwDAMVCQHuaok1HWbj2Bp0WOUFU/7Ngj3jsajjF9wJ30G7IWeEDIO+TNhQh/cTpuAGymj8YH3bbj+L5qSQqEYl0KNL41/TW5uLutfowkt12zT/K+ZxtcsH06fPh2rVq1CixYt0LhxY44xprn5yeVy5ObmokKFCujfvz/S0tIwZswYeHh4oHnz5mjbti1SUlIwbdo0o16wLWHqgsOWRI8ePWgB7iIo+B21FoYPH85GUBdk/PjxCA8P50RnF0XHjh3x+PFjvHjxosj9ijK8lCQHt1LHICkvChJhxf/VZ1SDQAWZMh5+joPg5zgIlR26GKTJGAS7TIeLuA5eybbilWwrHISVwUAAO0EFqBlnXErqBU9JC9SvsBJChtZQpVCMSaHGV7NmzZCUlIQKFSpAIBAgKSmJ9clq27Ytuw0AxowZgyFDhrDFZv39/SGTyZCSkgIvLy/8+uuvbC4fjdN+v3792HP1798fe/fuxZgxY/DBBx8gMTERSqUSSqXSKjKJ80VxJU8otkvByDjA+ooVF2Z4ffbZZ2ymdEN477338ODBgzJpiUrsjAzlAyjUqRAyjhAwYqiJAgRqqEku+lbNz33Hx9+gskMXeNt3RlOPLdgX6woBYw+GCCBgxFCSLMTm7MGbnJ3o4WP8At18ov35N1Z1BwrFUAq9OzMMwzonA+C8FggEnLZYLOa0gXxfIE0uHwCsYdaiRQts3LgRp06dQnJyMhvyXdBvqCwlcWwZbWNLu9QQhaLh0qVL7OvOnTsXu1xmacTFxXHaYWFheP/99zlFuQvj3Llz2LVrFxuhq03r1q3xxx9/IDQ0lGMwOTs7cxLGJuddwpOs35AkPwcx4wqxID9yW65OgZhxQ2uvY3AR56dUMYbhVbCwNWBYSaeC5+7uk450RTSiEjtBrk6BncAdAsYFGYqi02Twyf79+0uco0sikeDy5cucvufPn+Py5csG1bO1deRyORo3blyqNC+U/2AID57DGzZsQHR0NIRCIdRqNapVq4avvvqqvGVYHVWqVOEYXNQpnKKPV69ecYIg2rVrxxY5txbOnDnDBmE0adKETYNSFNeuXcPu3bvxyy+/6N0+atQotGjRAsOHD2f7ChpN1atXx7NnzxCXsx8p8it4kDGP9acCAKU6G7nqFDSssAyu4nrwlBjPoT4tLQ0ffPAB618bGBiIo0ePIjAwsMRjJeWdR5riNm6kjgUDIFg6EXXdftPZ78iRIzh48CAkEgmysrIwd+5cnYdwU7Jw4UKre2iwFEJCQnDx4kV2UoVScngxviimgRpfFEOIi4vjzEpbo/EFAPfv30deXh5q1KhRZP1AID9XYVE5Bfv06YMdO3bo9Bc0vrykdZGQsRf74xqDECU705WfKDUVVZ2GIET6DZxEpYuyLYq7d+9yEhP37dsX27dvL+OoGQAYAFLk5clRrZo/a1yJRCI8fvyYk2fPzs5Ob25AU+Hk5KRTHJ5Sfty+fRt169blW4bFQp2CKBSKVVJcoXC1Wo2kpCT4+fnpNRrc3NwglUqLTX3j4MSAEQDHM5KxL7YuRIwLGIEj1EQBJcmEs6gmqjh0R4MKq8p0PUWhnfDVkMLWGu7fv8/6PLm5uaFr1664evWq3n3fvn1b6Dia5MrlRdOmTXH69OlyPSflP4p7oKEUDTW+KBSKTdK7d2/s3btX7zapVIqbN2+iWrVqRY5RvyMwdKwXWndxRGy8CiLG7X+pI/JgL6gIf4fhqO06F0zhxURMgr7i0wcOHMCTJ09Y31A7Ozvcvn0bK1euNMo5mzdvbpRxDOXUqVMYPHiw3lJRxSGRSHDixAncvn2b7fv4449RvXr1QgumU/KRyWQYM2ZMqfMkUvLhxfj67LPP8OrVK6uJMMnNzUXbtm3x3Xff8S2FQqEUw4IFC3DkyJFCZ03279+PwMDAYg2vO+kT8esuD6jyJHgXrwIhBAQqyFVpIFDhg4o34SAqvK6lMdEkFNZw+vRp9O7dm53Rk0gk+Oeff0o0I2YIK1asQGBgILKystCtWzejjm0IW7ZsKfWx06dP5xhfU6dOLTI5LoViTHgxvg4ePGh1kXjWYkhSSgYt/G453Llzhy19pY/p06fj559/LnacV7II3E4bD0ANARzAMPn+lXb2QG6uEs099qCSQ0cjKueSl5fHlmsTi8WoW7cuoqOjOfu8e/cOu3fvLvU5NL9nhBAolUqEhobi7t27nFkhlUoFiURS6nPwjXY0KI10pJQnvBhf2iHR1oAl/whRSs7KlSsxZswYvmVQDCAlJQUVK1YsNOlwWFgYbt68Wew42coXOBAXAInQKd+vC0IwDAM7ewaOripc2OaHKYMuFTtOSYiMjGRTKTg4OGDTpk3YuHGj0cYXiUTo0aMHxxBJSUlh67Xq21/fawqFUjLot4dCoVgtn376Kc6fP6/X8KpatSqmT59erBGtVGfgYebPeCPbASeR9/+y0xMIBEAlbyEOR2Yj6lA6Lu4QY8qg0umMiorC+vXr2QdThmEgEAiwbNmy0g1YCKtWrYJKpWJntKpXr87LciGFYuuYhfH1/PlzAJZT4kQsFuPBgwf46KOP+JZCoVD0MHXqVGzduhWxsbF6t0dHR6NKlSrFOmtfTuqLTOVjZKueQ8RI/2d4KaFEBghRoZVLHpRyQJ5HEBho+M+pi4sLm6RSJBIhNjaWLdNmDMLDw7F161akpaWxfXl5ecVGgFIolPLBLIyvgIAAviWUGGM7rlLKBiEEN27c0CkbUhrUajUkEglq1apV6D6aGQqN7w3FPNizZw969epV6Pa1a9di1KhRxY6TrYzBnbTJeJt3BGLGBXaC/FJqcnUahIwDulW5BwH8Icv8L8+XXC5HXFwckpOTAeRHTH7xxRc4evSo3nNkZpa8ZI+DgwNq1arF+f1JTU3FmzdvdLLte3h4lGvSUwqFYjhmYXxZItT4Mi969epVaNqA0rJq1SpkZGTo9EskEpw5cwZAvqG2Zs0apKenG/Xc+lCpVKhcuTKGDRtWpnG0Z3uswV/xxo0buHjxIsaOHat3+4ABA9C8efNiDa93uceQJr+J2+nT4SD0hETgAZEYcHIRQEky0UyyCO5oh7MnE3HpWgTn2NevX3OS1xqDH374gf0M5uXloVOnTujUqZPOftr1Jy1lFYFCsVWo8VVKtJ1NzaEwsTlo4AtjG14A8MUXXxi03+eff270cxfF9u3bDa7bp41AINA59vLly+jcuXOps5PL5XI0adIEixYtKtXxZeXhw4do3ry5Xv3+/v7YvHkzWrZsWew4aaqLeCwYBoE0F9Vc8tNMiMHgYXQexrR/CwcXBao6HIdAfARnzh016jJht27d8M0337BjEkKgVqsRHh5utHNQKBTzgRpfelCr1cjIyCh0ScnOzg6pqamcPk0Itr6ZkvJAX2kUtVoNmUxW6FOwi4sLOnXqhCNHjphanl42b96MwYMH83JuS+bQoUNGHS8tLQ2HDx8u0xhRUVH47Tfd+n+lpSSlauLi4nT2FQqFkEqlePHiRZHHpqamwV7khl2xQrhX8MTkrsl48K8KQJre/e9Ct8RQUQgEAkilUvY7qFQq4enpWWzWfAqFYt2YrfEVExODCxcuGMWHpyQ4OTlh8eLFOHnyZImOO3DggNnNPGmXHDE3hgwZgv79+xslZP3NmzcYOXJkkfX5DEUgECAzM9PoRg7FcORyOdq1a2dQ+Zhq1arBzc2NdS4fOHAgli5dCk9PT3afEydOICkpiX2g0mQ4X758eYGREsqk2dHREX369GHrHWZlZWHmzJl4//33yzQuhUKxPszS+Hrz5g1atGhhdYlYKabDx8fH6DN4y5YtY3MsFcTBwQGHDx/G5s2bAQC7du3SmQk1BWKxGM+fP8ecOXNMfi5zwNCHmerVq+PFixc4deoU/P39ERAQgAkTJrBGvYODA1asWGF0fcuWLeP4mPn6+uLvv/82+nkoFIr1YZbGV0xMDDW8bIA//vjDrBM1Fua8DeQ7P2/evBkMwxQZXWcKRowYUer3TSwW4/Xr12jUqBHb16JFCxw/fhwpKSmlGlMikeD8+fNGfx9OnTpl0H53795Fy5Yt4e3tDSDf8V0mkxlNR3BwMG7evMl5f9RqNapWrcr5jNCagBQKxVDM8s7n5eUFgUDAW8SOp6cnatSoUeiPqUAgQE5ODu7cucP2ubm5ITQ0FHK5vLxkcpBIJLh8+TJHc/PmzaFUKgstf5Oeno7du3cjNDS0vGRaDRqndT5KC/n7+5fpeO0ZJXt7ezg4OJQpUq9nz568lVmqU6cOAJQ44lQkAgLDgFw5UNm+FVQkF4mJiYiJidG7v7EjGSkUiu1ilsZXrVq1cPnyZezYsQP29vbleu7c3FwMGDAADRo0KHK/hIQEVKpUiW137NgR27ZtM7W8IvHz88Pr16/ZdmElQii2jXaaFFtJSzB3/jT8Gzsf9kIXKOQq+NXJxtjPB8IB9VEJU/iWR6FQbAizNL4AoHHjxmjcuDHfMgpFe4mmtKH/xoQue1AowKBBgzBv3jxOdvucnDx06NAOT9V5eJj5OyQCZ7SVPgbU3hALpDyqpVAotojZGl8UCoVSGrZu3Yr27dtj5MiROtuCBIsR5Lr4vw5aoIBCofAANb4oFIpFExYWhlu3bnH6Ro0aBZlMhvr16xuUYJVCoVDKE2p8USgUi+bmzZto3rw5Ll26xOkfN24cAODatWuc6M7i6N+/PxiGQXp6epmTz1IoFIo+qPFlRZS2PAyFYumcO3dEKr06AAAgAElEQVQOIpFIb26wxo0b4/nz5wgICCh2nD59+mDXrl1s283NDUKhEIQQpKam8hbRSaFQrAvq8WBFaNeB016KoRgPfclXKfyhyXtGCEGDBg3g4ODA2V69enUIhcJi6zE+f/6c005PT0dKSgqbRJdhGM6/gph7RQkKhWI+UOPLioiIiOC0mzRpwpMS6yY7Oxtr1qzhWwalEK5fv45jx47p9KvVajRs2BBff/11ocf+8MMPpT5vYmIi5s6dixkzZmDy5MmIjIws9VgUCsW6ocuOVoy7uzvfEqySt2/f4uLFi3zLKDXaiYALKyBvybRs2RI3btzQydf36NEjPHr0CFeuXEFUVJTOcV27dsW1a9cgEAjg6elZooS2aWlp+O6779i2UCjEb7/9BoVCgezsbEydOlVvBCaFQrE9rO9Xl0IxMZa+vFStWjVs376dbWdlZfGoxnTUr18fhBAsXbpUZ9uFCxfAMAymTp2qs61Ro0Zo0KAB/Pz8QAhh//Xr1w/e3t7w8/NDUFBQsedXqVS4evUqbt68icePH2PUqFGcJcvZs2cjMTERL1++xNOnT8t0rSqVqkzH2yJ2dnactvZSNYViSujMF4VigxQ0uK5cuYLZs2dbbcHusWPHQiaT4eLFi9i/fz9n28KFCwEACxYsKHYc7WVEDw+PUtfDBPKXOAsuc44bNw716tVjZ8omTZpk8FiVK1dGaGgo7t27ByC/3JgtEh8fj+3btxdbGcXR0RHXr1/n9O3cuRPPnj3jrUQcnygUCjRo0ADNmzfnW4rNQI0vCoUCZ2dnviWYlGnTpgEAunfvrtcAe/r0KT755BP06NHD4DG1K0qcPn0aqampEAgEbJmykqA9Q3f8+HE4OjpCrVYjKSkJ58+fL/RYDw8PjBs3Dp9//jkA4NChQzh79izatGlTIg2WTFZWFho3bsypbFASli1bZmRFloVYLMa5c+fQrFkzvqXYBNT4olAoNsO+ffvQsWNHHYf8PXv2YM+ePThz5kypDZa2bdty2p07d4ZIJIKdnR3+/fffEt/Ujhw5wmlLpVIolUqo1WpIJBJkZGRwthes0ZmZmYm7d+/alPGVkZFRasOLkj/7de/ePWp8lRPU54tCodgUR48eBSEE3t7eOtvatm0LhmGQkJBQ5vNIpVI4ODhAKBSiadOmHP+xu3fv4v3330fHjh3RtWtX+Pj4FDteVlYWcnNzIZfLkZmZyfEfc3d3x4sXLzj7u7q6lvkaLAmpVApPT0++ZVgsDMMgODiYbxk2A535olAoNsmdO3cQGRmJsWPH6myrUaMGoqOj4efnZ5Jzh4aGciJm7969iwMHDkAikcDJyQnz58/XyTlWFKmpqZg/fz6nb8OGDbhx4wYCAgL0XqO1IZVKcfPmTWzatKlIny87OzvcuXOHky6mdevWGDRoEGQyWXlINTsUCgWaNm1KS3GVI9T4smL0ZfumlJ1q1aqBEELfXwvHy8sLX331FYYMGYIKFSpwtmVkZKB+/fpwdXUtkRFUWmrXro3atWuz7R49eiAhIQFCoRAeHh4ICQkpsXP/yZMncfLkSQDA2rVroVAoIJPJMHLkSMyaNcuo+s0FX19fzJgxo9j9zp49yzG+mjVrxvrLUSjlAV12tDIKPvHJ5XIoFAoe1Vg3tNSMdeDm5gZCCPbs2cPpT0lJQUxMDHx8fMrdl6hixYqoXbs2QkJCULFiRSQnJ3OWLRs1aoSgoCAEBwejbt26xY4XHR2Nhw8f4tWrV5g9ezZnyXLYsGF48+YNHj58iOjoaJ1AAmskJyeH06al2SjlDTW+rIw7d+6wr1NSUtCvXz8e1VAolkOPHj2wbds2nf64uDj4+vpi6NChPKjSz7Vr1/DkyRM8fPgQt2/fxqhRo9C6detSjbVx40ZUrVoVISEhqFu3LoYMGYKVK1fi999/x9y5c2kOMQrFBNBlRytDe2nC1pxuKYZRMDIOsM4s96Whf//+8PLywu7du7FixQrOts2bN8PBwcEsS0utXbsWq1evxrlz59i+sWPHYsCAAbh48SKmTJli8FiRkZGcnGYHDhyAu7s7UlNTsWnTJgQGBhpVO4Vii9BfXAqlDPzzpirfEkqFdhJOW3U01kf79u2xfPlyjBo1Smfb2rVrwTAMjh8/DicnJx7UFY72UpomaebkyZPZFBWEEGzZsgVA/mfAkALxly9fxqFDh3Dp0iUEBQXZxLIkhWJqqPFFoZQBkZhvBaVjyJAhGDZsGNueNWsWrl27xqMi82Pt2rUghKBGjRo628LDwxEfH8+24+LiylOaXrSNr4KZ2oVCIRsgMmjQIBBCkJubi+zsbOzfvx8ffvghunfvjn79+kEqlRZ5HurrSKGUHbrsSKGUAbUFu8Noz3bZakma4nj8+DEaN26Mf//9t9B9kpKSULly5XJUpcuAAQPw559/stGZLi4uBh3XrVs3dOvWjW2fPXsWd+7cgVgshouLC0aMGMEacv369YNYbKFPHAXQF91KoZQn1PiyMrR9eSy9CLS5I3Gg6SZsgbNnz0KtVhc6K+Tm5lbOinQJCAhArVq1WONr4MCBaN26NapUqVKicdq0acPJjN+uXTvk5ORArVYbVFDcEiiYxb169epYv349j2ootghddrQyXF1dYWdnx7bj4uJ0DDKK8Tj7TzLfEijlgKOjI5ydnUEIQUBAgE4gi5+fHxiG4T0yUNsfyxhFoitXrozq1atbjeGlTXFFuCkUU0CNLyvjvffew7x589j2kSNHsGHDBh4VWTeJ577gWwKlnHn+/Dm6d++ud1u9evXw448/lrOiwqGJgIuHPpxS+IAuO1ohWVlZnLaDgwNPSqyPoKAgPHv2jG1bsvOx9iyNSER/DgxF27ldw7179zBr1iycO3cOx48fL2dVFArFUqAzXxRKCdD2+bHkzNgeHh6c9tu3b3lSYnkU53R+4sQJMAyDH374oZwUUSgUS4IaXxSKjbJmzRq4u7uz7Q4dOvCoxnJITEzE/fv32XZYWBiGDx+OTp066ew7e/Zsq62jSKFQSg81vqwQ7bBp7bBqSukpGMwA6Do4WxqWrp8Pdu7ciVu3brHtUaNG4a+//sKhQ4fQsWNHnf1//PFHjBw5EgcOHDC5Nu0KF56eniY/p6Vjya4DFMuFGl9WyKJFi9CgQQO23alTJ5rHxgj88ssvuHr1Kttes2aN2WU5p5ge7ei4gvnSjhw5gubNm+scs379enTr1g3Xr183qTbtRLnmkALD3MnNzeVbAsUGocaXlaJ9g+A7BN4aSE7mppXgO6kmxTy5cOECCCF6k5w2atQIDMMgMzOzXLTQmU1dtCNAX7x4wZMSii1DjS8rRTt8moaclx3thLXWcGOjM6Ilp7jyOxoeP35cqMO9v78/YmNjjSmLYiA0rxfFHKDGl5WibRjQNAJlxxqrBWgvgw0ePJgnJZZBSkqKTsHt9PR0vftWqlQJM2fO1Fv3MTU1FU2aNEHdunVNopNCoZg31PiyUvz9/TntmJgYnpRYD9rLjpY680WICgp1/oxXQd9AIL+MDqVwZDIZx9gKDw/HTz/9VOQxlStXBiEEmzZt4vTHxcUhOjoawcHBOrn5KBSKdUONLytl586dnDZ9wi4bR48exerVq9m2j48P3nvvPR4VlR6Z8gXOJLTEO/lBxMt3cbbR4tpFIxBwfzJLYoAPGTIEf/31l07/48ePIZVKMXr06DLr08f58+dNMq6lov03pFD4gK5FUSgGoG2U9O3b12KNLxHjjHRFNC4nDQDDCDDhtwpw9xZi1pAkpL6jN6aSUNI0BcOHD4ebmxsOHTqEtWvXcratXbsW9vb2WLp0aZk0bdiwAcOHD2fbI0aMwNOnT8s0prWwYcMGTnTqypUrSzXOmDFj8O7dO6twRVCpVKhYsWKp3wtK6aDGF4ViANrGl6WHpwsYMcRMfv63bp8yEAiBnY+qQK3KwdEEfzRw3QgvSRueVZof2p+D0lQ46NGjB3r06IHMzExs27aNs23ZsmVYsWIFtm3bhr59+5ZK4yeffMIxvvRFXZY34eHhOHfuHK8zq0KhEKmpqZy+2bNnY/r06SUyokUikU4+NWtAIBBgxYoVfMuwGajxZcU0aNAAN27cYNuvXr2Cn58fj4osl1OnTnHaBZ+eLQ0CFRRqBYRMGkSMFLmy/Kd3JxchAAKFUo6oxM5QEhm8JK1Qv8Jy5KmSUNG+Pb/CzYDDhw9z2u3atSv1WBEREYiIiICPjw/HKV+tVqNfv36IiIhA3bp1SzzDWljdSb6YOHEiW+fS3MpxJSQk8C3BbNAXGEIxHXSNwYq5dOkSp929e3eelFg+3333Hfva0dER//d//8ejmrIhEriifoWFqO/2B1TIARGlwt6RgVoFqFUMBIwYEqEHnERVkal8hFPvmuFsYgc8zVyGu+nfQq6yvqd+Qxk6dCinXZyzvSHExsaiXr16Ov0DBw5E3bp1OaWMLBHqY2UZTJo0iW8JNgWd+bJitKfGC9bxo5Qeb29vNGvWjG8ZpUYkcEJN6WQAQGWnVjh89CR23/8MX0z0Ry4IsmVKZKYpAABCRgKhUAI7ENzLmAkCJRJyT0LI2KOyQ3fUlE7k81KshrNnzyIrKwu+vr6cfpVKhdDQUKSlpcHV1dWgsbSDAPjOa/Xzzz9j48aNSEpK4lWHsYmPj7eKmTNCCOzs7BASEsK3FJuCGl9WjHai1fLKqm3tWNP7KIY/JKQaVkxSY8Wk/HQkXQZVxbzNdZGcKEO64hYEEEPIOEIsyPcdkqlegkCFtIzbuJs+DUqiQC+fbOSq4+EsCuTzciwWV1dXuLq6Qq1Ww8PDA+np6Zzvr5ubG0QiERQKRbFjubi44NSpU2jfPn+Z+NKlSxg7diyWLVtmMv1FYWdnh8TERF7OXZCIiAgMGjSIba9btw6ffvppmcb09vYuqyyKjULng62YChUqoGHDhmz72rVrnOUzimFs2LCB07a26fngWtURGPif0ZT8tDqqpRxDu4pRqOY4AjWkkwEwyFMlQKmWQcCIIWTsIWKcIRFUgpPQB/vjKuBQfBDupc/EK9lWPM9agzyV5c8KFOTkyZOc9ogRI4x+DoZhkJKSgn379ulsUyqVqFu3LpYvX17sOGlpaZy2oVn5rRntag60ugOFT6jxZcU4ODhg2rRpnD5nZ2ee1FguI0eO5LSnT5/OkxLTUK1aNc6MwOWrZ3HsdH6euLAKyxDi8i2aeexAS69j8HXogyzla+SqEkCgAoEKAAN7YSU4i6riWdYK3Ej9HLfSxuJKyiBcSxmOJ5lLeLoy4zJ27FhOe926dSY7V9euXXHixAmd/ujoaIwdOxbdunUr0XjU76rkaUEoFFNCv5FWjnbpEzs7O56UWC5ubm58SzA52hFy2ikBPCTvw0vSGg3cV6GPrwJdKr+GkmRCyNhDjRwo1TKoiQIigTPsBBVgL6yEDMVdxOf8g4eZ83Akvgb2xubPvqiJZVYG0J49yszIz0qvJgqoidzo5+vQoQMIIfjmm290th04cAAMw2DRokV6j9X2+zJkudLa0f5M0/eEwifU+Col5pA7xxBq1qzJme26evUqVCoVj4osixcvXlh0WglD0Ta+nJycCt1XwIggEXqhh08mOlV+jmpOI1DZoRschX7IUyVCrk773/KkHUQCJwhgByXJhoiRYtcbMXa8FuN++g9IzDuLDMU9U1+a0RCLxZy2CFI8kf2CHa/tEPlKYrJrmTt3LqZNm4b3339fZ9vkyZPxyy+/6PQHBARwHPQXLFiAo0ePmkSfpRAVFcW+tre3R+3atXlUQ7F1GMLDXGxgYCCeP3/OtsePHw+1Wm0x08JCoRDJycnYvHkz29e9e3fs3buXR1WFM2LECI7f0rVr19CoUSMeFVkOXbp0waFDh9j2F198YZWZoO/cuYP27duz9StbtmxZ4rI0mcpHSMw9A5HAGUm55/Asew1EjD3sBJ7sPgzDAACU6kwoiQzOohrwcxyEXNU7hFUw3+XJM2fOoHv37qyfUIMOwN+7ZuBp9iLYMZWgJnLYCbwQ7h1tUh3t27fH6dOndfonTZqE8PBwdOzYke0bP348J1v+2bNn0bp1a5PqM1eePXuGoKAgtv3xxx/r9aujUMoLs4h2XLLEfH90rQHt6LwqVarwpMTy0F5yHD9+PE9KTEvdunXh5+fHGl9RUVGQy+UlWqaWioIhdQ4GAPg69ENNl6kQQIy9sf6QCIUQMy5gIAYDIUQCKUSQQq5OxqPMhVATOTKU95CnSkQzj52QimuY5DpLy5EjR1jDq2lHB8yL9MKrvDWwYyoBANREDkJMv4x19MgpZGZmwsOTO/P+22+/4bfffsOjR49Qs2ZNAEB2ltZSqNosfu55wdHRkdM2t2SvFNvDdr+NNkStWrU4bR8fH4uZZeQTQggnRF4kElm147Ix/QMFjJhNOzHIP/+zdjt1PNIUdyBXpyBb9RwCiCESOEPAiAEQZCjyZ41OvKsDBcmDt30HtPI8zs6W8UnBJTwPbyGcXATIfesINVFCSTJgL6iMjpUfmlxHnugBXDycQUg6GKErwM0mg+DgfOOXkDx4B2bC0xdwdBQhNVUJlSQGcvggT5EHO4E7jr17D7mqRDDQ//6qCEEt10mo56rfr8ySuH79OqdtC64EFPOGl2VHd3d3nRpblk67du10StCYE56enuysBkAjfwxh5cqVGDNmDNtevnw5vvzySx4VmZa1a9di9OjRbHvBggWYMmWK0c+TqXiEl7JNEECMexnfQ8Q4QCxw/Z8R9h+5qnjUr7ASAU6jjK6hJKQmKtGqVSvce3QZAODqKcCv+yrCtwYDexIIX8f+CHL+Sv+x8utIll+CAGULdGEYIfJU73An/VuIGAkk9kKkxbph18pM7Fmtm3dO4gZsue6BOtVdkfw/H8/UlFTkFpjxsRO4Q8AU/fydrXyNjt7RcBFbtn+UtgEfERGBAQMG8KSGQuHJ+Dp//jxkMpnVzCIolUpUrlwZYWFhfEspFKlUiqysLLZNja/i+eeff/Dxxx+z7blz5+qNPLMmtG9Spv6cvMs9DntBJVxM6YlsxfP85UgmP0AkV/UWDdxXobrT6GJGMS5XkgcAYAAwEAqFSEhIwOnTp9klaFmWGjXr2aGiHwMxqQhPSRso1Ck6UZwCRow0+U1kKZ8Wa+QYgma5VoNQDLhUEODBv3KMbBavs38lPyE8Kgmx/aov3iQooFIDIAAhahDtKbNCyFbGo5P3HbjY1Smzfj4p+LlmGEYnATWFUt7wYnxRyp9q1arh5cuXbDswMBBPnz7lUZF5Ex8fr+Mbt3jxYkyYMIEnReVDwZuUoRnVjcmL7L9xL/1bMIwIle27oX6Fsmdlv5v2LZ5l/wER41j8zhBARWT5S3H/ey8EAoFOiR6FnECtAghRQY3C00wwEBvF8FKRXBCiP0rZ3lEAMMCeVZlYNUPXlymwjhjLT3hDIAQEQjVyZWrYCdyKNcCU6iy85zoHAU4ji9zPEijvhwoKpTio8WVDFPwB8vPz4xhjFC5v375F5cqV2XbHjh1x5MgRHhWVD9o3qfv371t0zbeE3OM4mxgOR2FJgkwERvEzUxM5lCTbCOPkoopDD9gJvADoN8AEAqCCqxBblsjx7QT9yV/7fOWMOs3sMGbweniie5l1WQq3bt1C/fr12XbPnj2xe/duHhVRKNT4sikK3lBq1qyJR48e8ajGvFEqlZy8TrVr10Z0tGnTCJgD3377LebNm8e2W7dujbNnz/KoqGwk5J7A2cQP4Sj0MWh/BUnnJExlGAaVK/9Xv0+hUBpUp1BN5HC3a4JaLt+W2QBTkxz4OX5i8Azapk2bcPLkSfz999862xztKiE7722Z9Fga2qmN6C2PYg5Q48uG2LRpEz755BO2PWvWLMyZM4dHReZLhQoVOPXxbOVrEhcXBx+f/wwVa8iHdDPly/xlR0HhiWMBQKHORnOPnfC0bws1yYOAEUAiqACGsYdnZSEUChWqVvVB9I0XyCm2biWBiHGGWOBazH6mo2vXrjh48KBOv7u7OzZv3oxOnTrxoKr8adSoESfaUSaTwcHBgUdFFApNNWFT+Pr6ctoFox8pXLQLE9sKDMPAyckJ2dn5szUJCQnIy8vTKc1iSdR3X4H67itKdezTxzEAgKT4/OU+RXYmABEcSrSMyQ8HDhwAoBvpnJKSgs6dO2P//v2oXbs2AgIC+JJocmQymU4KFepsTzEHrCPckGIQwcHBqFu3Lts+c+YMXr9+zaMi82TPnj2ctrUmVtVH5cqV8ccff7Dty5cv4/fff+dREb+EhNbktOf9/ANPSkrPv//+q7f/448/RnBwMJ48eVLOisqPadOmcQKLwsPDiyydRaGUF9T4siGqVKnCSZ1w7949GvGoh++//57TXrhwIU9K+EF71q/gMqSt4e3tzWlboiFe1Ay3QqFAaGgom73f2iiYHBcAJk6cyJMSCoULNb5sDO0yG+3bt6fZnrUQibir8dZ6YyoM7aLxQ4cOtcngjMGDB+PNmzd8yygzxVUqUCgUcHV1hbu7ezkpKj+0HyRsxXeTYv5Q48vGmDFjBho3bszp0zbIbJkpU6bgxo0bbDs0NBTOzs48Kip/hg8fjr59+3L6rPHGXBzaRrilzhLXqVOHU2AbAD744AOd/VJTU1G/fn1s3ry5vKSZlGPHjmHFiv98/SZNmmQzQQYU84caXzZIbGwspz1kyBCelJgf2olVf/75Z4t2Ni8tcXFxnHbv3r15UsIf2kZ3UlIST0rKjvbs7dy5cxEVFaWz361btzB06FD079+/vKSZDO3vcmambhkmCoUvqPFlg2gbX1u2bOFJiXlx7949TJo0idOnHSllK0RFRXFmfs6fP8+jmvJn3759nMADAFCp9Cc4tQSUSm7po6ZNm6Jx48bIycnBuHHjdPbfvn07nJycsGbNmvKSaHTq1OGWRLLkvx/F+qDGFwVAfkZ3W+fYsWOc9vDhw216VlD7hm1LaPsGLV68GM2bN+dJTdmZPXs2wsPDOX0qlQr29vZYsmQJxo0bp2OsyGQyfP7551iyZEmZzt2q7cdo1DQcJ0+dR6Om4ahdrw3S08t3FiooKAjr1unP/E+h8AE1vmyUzz//nNMeNGgQT0rMh4KzXmKxGMOGDeNRDf/89NNPnPbGjRt5UlK+qFQqLFvGrSmpPVtsicTHc4tvT548mX29ZMkS3LlzR6+BOWHCBPzwww84ffp0qc57/sx+/HvlGD4dNQH/XjmGu7fPwtVVWvyBRoQ+XFLMDZrh3kZ58+YNqlatyunbuXOnTfr2aChYfsnLywsJCcVlMbd+Cr4nwcHBePjwIY9qyoeMjAxOioIaNWrg9u3bFp8VPSUlBR4eHpw+7Z//7OxsxMfHo0aNGnrHePr0KQIDA0t1/vdqt8L9u+WzfP3RRx/h6NGjbPvly5fw8/Mrl3NTKIZAZ75sFF9fX53ab+/eveNJDf9op1ew5qzfhqLtI/Po0SOMGTOGJzXlR8E6gADQsGFDize8AMMiVp2cnBAUFFRoSoagoCCjFB3Xx7Rp08AwjM6/ypUrQyaT4fXr1wb9y8vL0wkmoIYXxdyg5YVsGO3ki0eOHMHIkSNtLrrv9u3bOv5NV65c4UmN+SAUChEVFYWWLVuyfdozJ9ZI/fr1Oe2IiAielBifAQMGYNu2bWw7JCQEDx480LtvfHw8vvnmG2zYsEHHGPP29sbVq1eNZtQ8fPgQCxYs0Lvt7du3Zc5Kv23bNr3RjiqVCpUqVULPnj3LND6FUlKo8WXDDBkyBOvXr8fdu3cBAP/88w8yMjLg5eXFs7LyZenSpcjJyWHb33zzDY9qzAvtlBNr167F4MGDUatWLZ4UmZbCDABrYePGjRzjq6jqBd7e3li/fj0mTpzIKUsG5M+S79ixA19//bVRdJna+2XgwIFFbh88eDDnN6AwsrKysGDBAtSrV89Y0ii2CqHYNL179yYAOP9sid27d+tc/7Vr1/iWZVZ89tlnnPfn9OnTfEsyGS1atOBc68OHD/mWZFQSExN1Pu8LFiwo9jiFQkEWLlzIOW7FihUlOndIaMsit8+fP19Hmzn+EwqFxNnZmTg6Ohb7z9Z+TymGQ2e+bJydO3fq+HA8efKkUIdba0M7i7m7u7uO/5etQ7RmJc6cOYO2bdvypMZ0pKSkIDU1ldPn5ubGkxrT4OnpiUOHDqFz585sn/bfVx8ikQiTJ0+GXC7Hvn370KtXL6P7/02dOhVTp07Vu+348eOYPXt2kcuPEokEiYmJuHr1qlF1aaNSqZCVlWXw/iXxkatTpw7WrFljcEJYmUyG7t27Gzw+xXyg0Y4ULF68mJNmwc/PDy9fvuRRUfmgUqnQrl07TgLR7777Dj/++COPqsyPa9euoUOHDpwbgjX+bCxcuJBz8+/SpQv27t2rY6BbOmvXrsXo0aPZdp06dXDixAlUrFjRpOctj2hH7SjH1q1bo3///oUuKYpEIrx48QK///67SXWZkpkzZyI7O7vY/fLy8tC6dWv069evHFRRioMaXxQAuk9nS5cuxdixY3lSU34UvO4aNWrg/v37VnezNQaurq6cEjXNmzfHhQsXeFRkXJ48eYL33nuPE3ixdu1ajBo1ikdVpqNz5844fPgw2/7333/RsGFDk57T1MZXcnIyPD092XZYWBhu3rxp0LE3b94stgC5Bk9PT3h7e5dKI98IhULUrl0bCoWi2H1TUlJw9+5dmwiy4QN6l6EAgE5U26VLl6ze+NI2OJs1a0YNr0JIT0/nvF9Xr16FQqGAWCzmUZXxUKvVHMNr5MiRVmt4AbqpVR49emRy4ytPnmfS8e/du8dpG2pMAboRrsVRkjkLmUyGqlWrGmTEiEQiPH361CDjqDSoVCrcvn3b4P0LGrOGkJqaqjc/okqlgpeXV4nHs2bozBcFQH5uow8//JCT4+jMmTNo06YNj6pMx+nTp3FcPNwAABRiSURBVNG+fXtOH/0qFE2nTp1w5MgRtv3BBx/g+PHjPCoyHv/3f/+HVatWse3OnTvj4MGDPCoyLXv27EHv3r05n3lTff5/+301hAIBUlLT4F7BDZlZWZg8aQzs7Y2b0kb7YWrdunX49NNPjXqO8mDPnj04cuSIQSl/XFxcMHfu3HJQVXZ8fHxw6dIlneTetgo1vigskydPxqJFi9h2YGAgnj59yqMi09G2bVucPXuWba9ZswafffYZj4rMnxcvXnCSz37yySc6iXotlYI3brFYjCdPnsDf359HRaZHIBBwDK7PPvvMJIW09+47jLw8Ofr3647I7ftACEHvnl0gtjPerOmsWbN0fDVt5da2a9cu2NvbF+vYL5FI8M8//5S5VmdZWL16Ncff0JahxheFZcqUKfj11185fdnZ2XB0dORJkWn4+eefdXJ5JScnG5QB3Ja5e/euTvHlLVu2WHxd0NDQUNy/f59t+/j44M2bNzwqKj8K3rArVqxosVUumjRpgmvXrrHt2NhYVKlShUdF5otCoYBAYFhxG6FQCIZh9LoXODg4sOPk5eVBrVZDLpcXafSW9PciKysL9vb2xbqDyGQyiESiEi018w11cKGwLFy4EGKxGD///DPb5+TkZFVPkI8fP9YxvLZu3UoNLwOoXbs2li5dinHjxrF9J0+etGjj69WrVzqJZG3F8AKAWrVqsfU68/Ly8PLlS4ub8Xv37h1SUlI4fbZWpaMklNRPs7Df/+fPn+PJkycQiUTo0KEDgHzfwS+++AJSKbdwem5uLnr27Fni3wqpVIrBgwdj8+bNRe7n5OSEdu3a4dSpUyUan1fKMacYxUKAVlLB3bt38y3JaHz44Yeca6tSpQp5+fIl37IshidPnhB/f3/Oe5iZmcm3rFLz+eefc67l008/5VtSuXLnzh3O9Y8YMYJvSSVm7ty5nGvo27cvUavVfMuyas6ePUsAkJUrV5L33nuPVKhQwSTnAUC+/PJLg/br3bu3STSYClpYm6LDnj17OO1evXph3759PKkxLgUdxEUiEWJjY2nR3RIQFBSESpUqcfosbaZEQ1RUFFavXs3p++STT3hSww/akWl//fUXzpw5w5OakvPo0SN8++23nL7u3bubrPg3Bbhw4QLatGmD/fv344svvsD169c5udUohkGNL4oOjRs31umz9JxOOTk5EAqFnL7mzZvzpMay0S46npKSYlCSR3MjKiqK0541a5bVRvcWRocOHfDTTz9x+rTfF3OmYIJkABg+fDgGDx7MkxrbIDk5GUD+MjUA2Nvbs/cMuVyOkJAQMAwDLy8vMAyD+fPnA8jPm8cwDPbt28cGCBQM8AKAW7dugWEY2Nvb6xh0hw4dYsd1c3ODSCRiNVgi1Pii6ODj44OHDx9yMl4vXLhQp/SKJTFhwgSo1WpOX8FoR0rJ0M4B5+rqilu3bvGkpnTMmDGDfS2VSlm/FVujTZs2cHV1ZdszZ87kUU3JKBihLBQK0adPHx7V2AZhYWHw9fVF3759sXz5cly6dInddufOHYSGhoIQgsTERCxduhTTp08HANYPbNOmTcjNzcXNmzcxefJkrF27FgBw6tQp1K9fH7t27UJubi4ePHjAOe/27duxZcsWJCYmIi0tDSqVChMnTiynqzYBfK97UsyXJk2acHwp6tSpw7ekUhETE0OcnZ051zJjxgy+ZVk0crlcxzfwxx9/5FuWwYSHh3O0+/r68i2JV6pXr855P1q3bs23pGIZOnQoR7NAIOBbks3w8uVLcvPmTQKAMAxDXr16pXe/ZcuWscXFIyIiCAAik8nY7Q0bNiRisZgQ8t93siAowucLAJk6dSr7mvp8UawG7eWl6Oho1K1blyc1pSM+Ph4BAQGcQrgTJkzAvHnzjHqelJQUJCUlFbkPwzDsUyDDMOjRo4dRNZQnYrEY+/fv5/TNnDkT//77L0+KDKdr1644duwYp+/169c8qTEPnj17xmmfO3eOJyWGc+DAAU5bpVLxpMT28PPzQ1hYGJ48eQJCCMdvdsCAAWAYBlKpVO/MVMEasUqlkp0RK6poOpD/HWUYBs7OzpyZWkuFGl+UItE2EKKjozFt2jSe1JQcfbl+WrVqZdRzDBs2DB4eHvDy8ip2X01enA8//BDt2rUzqo7yplu3bhgxYgSnb/v27TypMYzMzEwdQ6NZs2Y8qTEvtD+PXl5eiI+P50lN4aSmpiI0NJTjBhEWFsajItslKCgI27ZtY9vbtm1DZGQkMjMzkZmZqRPQUhQFH5D14efnhx49eiArKwvp6eml1mwuUOOLUiR79uxBv379OH07duzgPL2YK1u2bNHpu3jxInr16mW0c3Ts2BG7du1Cz549DdpfY3wdO3YM48ePN5oOvpg4cSInCe/ChQsxZcoUHhUVTkpKCurUqcPmtQLyI3kL+qzYMjt37uS0k5KSsGPHDp7UFM6FCxc4SXEBsH5DFNNz7do1vP/+++xM4+jRo9l7BPlfTjCxWIy8vDyOX6UGolXSStP+5ZdfAAB//vknAOhEsRbk66+/1juWJUGNL0qxREZGcgyWmJgYncK85saOHTswZMgQTt/Jkyfx/vvvG/U8S5cuRVZWFoKDg0t0nEQiwZdffgkAqFmzJoYMGYI//vgDDMPofYqfM2cOGIaBQCDQKaPCJ3Xq1IG9vT2nz1xvhJmZmXj58iWn78MPP+RJjfnh7u6OOXPmcPrGjx+P2NhYnhTpolQq0a1bN07fqFGj0KhRI54U2R6NGzeGi4sLRCIRGIZB69atERkZCQAYOHAgunTpAnt7e3z00Uec2pqayMSCy8PZ2dnsjFeDBg3w+vVrfPbZZxy3jJycHADAw4cPsXfvXjAMw0a05ubmsmPJZDITXrUJ4NHfjGJBLF68WMfBGgDJzs7mW5oO69at09FpZ2dHEhISTHbOcePG6TiLagOAfPvtt+zrfv36EUIIGwywceNGQgghbm5uJCwsjCiVSkIIId988w0BQPLy8khaWhoBQHbs2GGyaykNFStW5LzfDRo04FsSh/j4eJ3PxLx58/iWZZb07t1b570yF44fP87RVb9+fb4lUSilgs58UQxiwoQJemc0AgICdBI18snOnTsxcuRITp9UKsXjx48N8skqTzR5x9RqNVq3bo2hQ4cCyHcsvXXrFrvkM2/ePERERMDOzg5yuRwAzK7epnZZjxs3bqB169Zm4wTdpEkTnT59SyIU6Hx/ACAiIoIHJVz27dunM1NpSf6nFEpBqPFFMZhRo0bpJMVLSEhA9erVeVLEZd26dejbt69O/+vXr80+C3vBZIGaOnUODg5s3xdffIGAgADUqlULgPlNsYeGhqJ79+6cvvPnz+sktuWDiIgInWhGS8riXt506tQJV69e5fQNGjQIq1at4klRPkuXLtXp69+/Pw9KKJSyQ40vSomYNGmSTgRLdnY27+U80tPTdVJjAPlOmNYQljx//nzExMQgOTkZhBCzTCa5d+9eneAMvj8Xf/31l04x34sXL9pcJvuSoq/KBZ+Z76dMmaIzu5qWlsaTGgql7FDji1JiRo8erTeE2MXFBe/evSt3Pdu2bYObmxtnWdTHx6dcw+QLzlIZC01G/sDAQGzdupXtv3Pnjk72Z3NB43hbEFdXV16Wprds2cJx+AXyM/MbO+jCmOTm5uK3335DTEwMAOC3335DdHQ0L1qSkpJQtWpVtr1lyxZ2abw8mTRpEn799VdO38aNG63ioYpiu1Dji1IqRo8ejSVLlnD6MjMzUadOHU4EiqnZsmULBg4cqNP/0Ucfwdvb2+TnDw8PR/v27bFs2TIA+Us2YWFhemfhACAjI4N9rXlyl8lkbL00AFAoFADA1kt8+vQpXr58ierVq6NVq1aYP3++WUebai9NZ2RkoE6dOqy/WnmwadMmnWhXAGVO7/Hxxx+jS5cuetNTtGvXDq1atUKLFi30fibPnj2LFi1aoHnz5oUu4aWkpODrr79mk5x+/fXXWL9+fZk0lxYPDw+dpeTNmzeXa/HxH374AYsXL+b0+fv7o2PHjuWmgUIxCXx7/FMsmyVLluiNgiwPIiMjCz13eUVhvnr1irx69Yq8e/eOpKSkkFevXpGYmBiSk5Ojs298fDxbWuPdu3ckMzOTEEJIUlISSUtLY/dTq9UkPj6eyOVytk+hUJDXr1+TFy9ekKysLBNfVdkpLDq2PNiyZYtJzt2mTRt2rM2bN3O2NW3alNjZ2RGZTEZyc3MJADJw4EB2+4MHDwgAsmHDBvLo0SMCgGzZskXnHO/eveNsS09PJwqFoszay0JQUJDOezl8+HCTn/fbb7/VOa9EIjH5eSmU8oAaX5Qys2rVKr03u+bNm5OoqCijnisuLo7cunVL7/kcHBz0Gj0Ufvjjjz/0/p3S09NNdk59aUYcHR1JXl5emcb9/fffSeXKlQkh+WlCIiMjiz0GBdJZFHxNCCEXL14kAMiTJ084x2iMr61btxJCCDl06BB5/fo1IYSQAwcOkNjYWBIdHU0iIyPJ/fv3dc557949smvXLrJnzx6SmprKGXf37t1k+/bt5Pbt2yW8ekL8/f113tfBgweXeBxDmTx5ss75vLy8THY+CqW8ocYXxSgUZoABIGPGjGFvJmVh/PjxpF69enrP4eTkRGJiYoxwJRRjsmLFCp2/VWBgIJk4caJRzxMVFUVmzZqlcy5nZ2fy4sULo50nLi6uRMbXL7/8QgghpE+fPqRChQrsjGy9evVIgwYNdIxCjfEVERHBjlEwN1ylSpXIlClTyJgxYwgA8vjxY/bYx48fEwBk/PjxpE2bNqRmzZokLy+PpKamEh8fH/LRRx+RqVOnkuHDh5Pz58+X+NqbNGmi8/5qctUZkxkzZuicp2bNmvTBimJVUOOLYjR+/fXXQg0whmFI9erV2aW2kjB//nwSEhJS6NiAeSZ7peSzYMECvX+zhg0bGmX8t2/fFvq50CzzGovY2FiDjK86deqQ0NBQztLxV199xT4oNG3aVO9x+oyvgrNnHTt2ZPf98ccfCQASFxfH6tIYeydPniQASGxsLLlx4wYBQF6+fEkIyV/K1MymlZTAwECd93j06NGlGksf33//vc749vb2RK1WG+0cFIo5QB3uKUbj66+/BiEEffv2haenJ2cbIQTPnz+HVCoFwzBgGAYrV67E27dvERMTw/mXnp6OWrVqsftNmzZNb3Sfl5cXzp07B0KI2SUdpfzHlClT9EbHXr9+HQzDYPLkyXjz5k2JxlSpVEhLSwPDMIUGVhBCTBKFagjR0dFo1aoVxGIxgPyC48uXL0d0dDSysrJw5cqVUiV5LZhTTxO1mZOTw+Z98/T0xJs3b3D9+nUA+e+BVCoFkO+o/vLlSwgEAvj6+pbqup4+fYoaNWpw+tasWQOGYUpURFmbgwcPgmEYfP/995x+kUiEnJwc3lOWUChGh1fTj2LVjBgxgnh4eBQ5Y1Xafz/++CPfl0cpIYsWLSK9evUq9G8aGRlJFi1axAk+0ObgwYNkzZo1pH///oWO8/nnn5Nnz56Z5BqKm/lKTEwkgK5DOgAya9Ystn3s2DECQGepvLiZr4KzTIcPHyYAyPPnz8mzZ88IkO9n2atXL9K/f38ycOBAkpSURAgh5Pz58+xSZdWqVcmbN2/K9D6EhYXpfe+XLVtWoiXNW7dukY0bN+odKygoqEwaKRRzRmRUS45CKcD69etx584dPHz40CiZqD08PLBjxw7Ex8frJM6kmD+TJk3CpEmT0KdPH+zatUtnu+YzsnXrVvj7++uUJrK3t8fu3bvZVBz6uHTpEpo1a2Zc4QXQZOwXCPQvGnh5eWHo0KH466+/ihxHM5NDCDGKLk0ajz///BMhISE621u2bImWLVuiadOmGDZsGA4ePIjRo0eX+nw3btxAw4YNcfPmTU7/2LFj4erqivDwcGRkZODIkSN6jx82bBiysrJw+fJlxMXF6WyvUqUKbt++XWp9FIrZw7f1R7ENNL5etWvXJgCIQCAodnaLYRgCgKxZs4YQQjj+MxTLx8XFxWgzod9//71Jtebl5ZGcnBzy8OFDAoCsW7eOqFQqjk8ZANKzZ09CCCEymYxkZGSwn9kLFy4QAOSff/4hSUlJBABZunSpznk0BcA3bdrEjjlnzhz2dcEZtX/++YcAYKMe582bRwCwUY69e/cmjx8/JhcvXmRnzLTHNwZF/V2cnJyIRCLh/HN0dCzymOTkZKNpo1DMFTrzRSkXnJ2dAYCTrfvnn3/G8ePHIZFIOPump6dj586dqFKlCqdf4z9DsQ7S09MRExODkSNH4vTp0yU+vmbNmqhWrRqOHj1qAnVc1q5di0WLFsHV1RUfffQRVq9ejV9++QWtW7fGn3/+ib59+6JNmzZISkpC3bp1oVarkZWVhblz52Lw4MFo3rw5jh49inHjxgHIT0Q7duxYnfNIJBKEhISwmeVDQkIQHBwMAKhXrx7q16/P7uvt7Y2QkBD2uzVjxgwoFAo0a9YMubm5WL16NWrUqIEaNWrgxYsXCAgIgEQiwfLly/UmoC0tGRkZ6NatGy5evKgzK6lJFGwI7du3x6pV/9/eHeImEIRhGP7rVm4QGAQn2OA5CQaL4wQ4TtETcARugMByiZUkGASCHqCQtA39ukmfR88mfzLmzWQy+16j0ehls8FQvd3vLzr3Bvih3W5Xfd9X27a12Wye/qZqtVrVbDary+VSy+WyJpNJeFKe2e/3dTwea7vdfuu79Xpd8/m8FovFL00GwyO+gEHp+77O5/One1W32626rvujqfiq0+lUTdNU0zQ1nU4frjkcDjUej+t6vdpT/iXxBQAQ5J0vAIAg8QUAECS+AACCxBcAQJD4AgAIEl8AAEHiCwAgSHwBAASJLwCAIPEFABAkvgAAgsQXAECQ+AIACBJfAABB4gsAIEh8AQAEiS8AgCDxBQAQJL4AAILEFwBAkPgCAAgSXwAAQeILACDoA5CixH6spIWfAAAAAElFTkSuQmCC)"
      ],
      "metadata": {
        "id": "oyvyH7-OmD1Y"
      }
    },
    {
      "cell_type": "code",
      "source": [
        "#Acitvation functions are mathematical conditions with in which Neural Networks Operate\n",
        "#Dense layers are already pretty expensive in terms of electricity and time.\n",
        "#So Neural Networks always ON is bad idea."
      ],
      "metadata": {
        "id": "Rrl2JU2WkBPR"
      },
      "execution_count": 19,
      "outputs": []
    },
    {
      "cell_type": "code",
      "source": [
        "# Linear and Non-linear "
      ],
      "metadata": {
        "id": "-mS1TQw3mMFI"
      },
      "execution_count": null,
      "outputs": []
    },
    {
      "cell_type": "code",
      "source": [
        "# https://en.wikipedia.org/wiki/Activation_function "
      ],
      "metadata": {
        "id": "gv2kcY8eyhTf"
      },
      "execution_count": null,
      "outputs": []
    },
    {
      "cell_type": "code",
      "source": [
        "HP_hiddenDimensions = 128\n",
        "HP_epochs = 40 \n",
        "\n",
        "model = keras.Sequential() # this creates a \"SEQUENTIAL MODEL\"-> layers one-after-the-other \n",
        "\n",
        "model.add(keras.layers.Flatten(input_shape=(28,28))) # INPUT LAYER\n",
        "model.add(keras.layers.Dense(HP_hiddenDimensions, activation=tf.nn.relu)) #HIDDEN LAYER\n",
        "model.add(keras.layers.Dense(10, activation=tf.nn.softmax)) # OUTPUT LAYER\n"
      ],
      "metadata": {
        "colab": {
          "base_uri": "https://localhost:8080/"
        },
        "id": "1tqtlJNB0r59",
        "outputId": "4319fafd-1d61-4835-9bb5-4e401818cd38"
      },
      "execution_count": 20,
      "outputs": [
        {
          "output_type": "stream",
          "name": "stdout",
          "text": [
            "WARNING:tensorflow:From /tensorflow-1.15.2/python3.7/tensorflow_core/python/ops/resource_variable_ops.py:1630: calling BaseResourceVariable.__init__ (from tensorflow.python.ops.resource_variable_ops) with constraint is deprecated and will be removed in a future version.\n",
            "Instructions for updating:\n",
            "If using Keras pass *_constraint arguments to layers.\n"
          ]
        }
      ]
    },
    {
      "cell_type": "code",
      "source": [
        "model.summary()"
      ],
      "metadata": {
        "colab": {
          "base_uri": "https://localhost:8080/"
        },
        "id": "JPnz-F2S2CCj",
        "outputId": "f3dde8f4-fcb2-4caa-b459-007056b49ad2"
      },
      "execution_count": 21,
      "outputs": [
        {
          "output_type": "stream",
          "name": "stdout",
          "text": [
            "Model: \"sequential\"\n",
            "_________________________________________________________________\n",
            "Layer (type)                 Output Shape              Param #   \n",
            "=================================================================\n",
            "flatten (Flatten)            (None, 784)               0         \n",
            "_________________________________________________________________\n",
            "dense (Dense)                (None, 128)               100480    \n",
            "_________________________________________________________________\n",
            "dense_1 (Dense)              (None, 10)                1290      \n",
            "=================================================================\n",
            "Total params: 101,770\n",
            "Trainable params: 101,770\n",
            "Non-trainable params: 0\n",
            "_________________________________________________________________\n"
          ]
        }
      ]
    },
    {
      "cell_type": "code",
      "source": [
        "# Flatting Layer -->job is to convert multi-dimention arrays into 1-D Array"
      ],
      "metadata": {
        "id": "gpUXgk4C2Dxf"
      },
      "execution_count": null,
      "outputs": []
    },
    {
      "cell_type": "code",
      "source": [
        "# output size is 3X3 = 9\n",
        "# 2 2 2\n",
        "# 2 3 2   ---->     2 2 2 2 3 2 1 1 0\n",
        "# 1 1 0 \n",
        "# Do i need Any weights or biases at all for this conversion? --No\n",
        "# That's why-> PARAMS (W, B) are 0 for flattening layer\n",
        "\n",
        "# so on 28X28 = 784\n",
        "# Flattening -> INPUT SIZE -> 28,28    OUTPUT SIZE -> 28X28=784! W,B = 0"
      ],
      "metadata": {
        "id": "VATDUnaP3oNX"
      },
      "execution_count": null,
      "outputs": []
    },
    {
      "cell_type": "code",
      "source": [
        "# DENSE LAYER (128)\n",
        "# 1 element was breaking into 128 elements \n",
        "# 784 elements here..\n",
        "# y = mx + c, 784 y's are being calculated\n",
        "# HOW MANY W, B \n",
        "# 784 X 128 -> no. of weights \n",
        "# 128 bias will be generated! => 784 X 128 + 128 = 100352 + 128 = 100480  # compare generated value same.\n",
        "\n",
        "# Dense -> Input Size-> 128,    Ouput Size -> 128 X 784;    W=100352, B=128\n",
        "\n",
        "\n",
        "# DENSE LAYER (10)\n",
        "# 1 element -> 10 elements \n",
        "# 128 elements ->  128 X 10 + 10 = 1280 weights + 10 bias = 1290! \n",
        "# BIAS = 10 bias\n",
        "\n",
        "# Dense -> Input Size-> 784, output-> 10, W,B = 1280, 10"
      ],
      "metadata": {
        "id": "4LZ6maDm5Kzu"
      },
      "execution_count": null,
      "outputs": []
    },
    {
      "cell_type": "code",
      "source": [
        "# https://stackoverflow.com/questions/47312219/what-is-the-definition-of-a-non-trainable-parameter"
      ],
      "metadata": {
        "id": "BX7GjoY15yt_"
      },
      "execution_count": null,
      "outputs": []
    },
    {
      "cell_type": "code",
      "source": [
        "# COMPILATION of model is 3 parts:\n",
        "# 1) HOW TO MODIFY THE LEARNING RATE -> hence LOSS is also modified (OPTIMIZER FUNCTION)\n",
        "# 2) HOW TO CALCULATE THE LOSS\n",
        "# 3) HOW TO MEASURE THE LOSS \n",
        "\n",
        "# KERAS HAS A LOT OF PREDEFINED OPTIMIZERS and LOSS functions \n",
        "# OPTIMIZER GENERAL PURPOSE -> GMAT or GRE -> correct answer-> next question is difficult and incorrectly answered -> next questions are EASY \n",
        "# is called ADAPTIVE LEARNING!"
      ],
      "metadata": {
        "id": "Q5ZNQ_Y3OTXW"
      },
      "execution_count": null,
      "outputs": []
    },
    {
      "cell_type": "code",
      "source": [
        "# In KERAS -> RMSProp -> Root Mean Squared Propogation\n",
        "# RMSProp with a MOMENTUM -> ADAM optimizer (MOMENTUM is a FORCE in a direction)\n",
        "# https://www.dlology.com/blog/quick-notes-on-how-to-choose-optimizer-in-keras/"
      ],
      "metadata": {
        "id": "BS8EnXJKZAIX"
      },
      "execution_count": null,
      "outputs": []
    },
    {
      "cell_type": "code",
      "source": [
        "# LOSS FUNCTIONS \n",
        "# How to calcualte for loss functions?\n",
        "# HOW TO MEASURE THE LOSS Formulas -> ACCURACY, RMSE, MAE, Precision, LOSS \n",
        "# MSE, MAE -> they measure Numbers \n",
        "# Classification -> Accuracy, precision, recall, F1 Score\n",
        "# Regression -> RMSE, MAE \n",
        "\n",
        "# Categorical problems -> we have 2 kinds of classifications \n",
        "# BINARY and MULTICLASS\n",
        "# BINARY_CROSSENTROPY and SPARSE_CATEGORICAL_CROSSENTROPY \n",
        "# Minkowski --Regression problem\n",
        "\n",
        "# IMAGES -> MSE "
      ],
      "metadata": {
        "id": "Cw0XRLQDZbUg"
      },
      "execution_count": null,
      "outputs": []
    },
    {
      "cell_type": "code",
      "source": [
        "model.compile(optimizer='adam', loss='sparse_categorical_crossentropy', metrics=['accuracy'])\n",
        "# After compiling, model has complete info to build the DAG \n",
        "# hence we can begin training process "
      ],
      "metadata": {
        "id": "AnAPzWe8ZnRh"
      },
      "execution_count": 22,
      "outputs": []
    },
    {
      "cell_type": "code",
      "source": [
        "# the results of training are important \n",
        "HP_epochs = 30 \n",
        "history = model.fit(xtrain_norm, ytrain, epochs=HP_epochs)"
      ],
      "metadata": {
        "colab": {
          "base_uri": "https://localhost:8080/"
        },
        "id": "MXXi_9dDbbE3",
        "outputId": "8f24788e-adc5-4d6f-e8cf-d3bd664da647"
      },
      "execution_count": 28,
      "outputs": [
        {
          "output_type": "stream",
          "name": "stdout",
          "text": [
            "Train on 60000 samples\n",
            "Epoch 1/30\n",
            "60000/60000 [==============================] - 4s 73us/sample - loss: 0.4921 - acc: 0.8277\n",
            "Epoch 2/30\n",
            "60000/60000 [==============================] - 4s 62us/sample - loss: 0.3746 - acc: 0.8639\n",
            "Epoch 3/30\n",
            "60000/60000 [==============================] - 4s 61us/sample - loss: 0.3352 - acc: 0.8784\n",
            "Epoch 4/30\n",
            "60000/60000 [==============================] - 4s 62us/sample - loss: 0.3137 - acc: 0.8848\n",
            "Epoch 5/30\n",
            "60000/60000 [==============================] - 4s 61us/sample - loss: 0.2944 - acc: 0.8917\n",
            "Epoch 6/30\n",
            "60000/60000 [==============================] - 4s 62us/sample - loss: 0.2808 - acc: 0.8960\n",
            "Epoch 7/30\n",
            "60000/60000 [==============================] - 4s 66us/sample - loss: 0.2684 - acc: 0.9004\n",
            "Epoch 8/30\n",
            "60000/60000 [==============================] - 5s 75us/sample - loss: 0.2572 - acc: 0.9045\n",
            "Epoch 9/30\n",
            "60000/60000 [==============================] - 4s 65us/sample - loss: 0.2480 - acc: 0.9075\n",
            "Epoch 10/30\n",
            "60000/60000 [==============================] - 4s 68us/sample - loss: 0.2396 - acc: 0.9101\n",
            "Epoch 11/30\n",
            "60000/60000 [==============================] - 5s 84us/sample - loss: 0.2306 - acc: 0.9135\n",
            "Epoch 12/30\n",
            "60000/60000 [==============================] - 5s 78us/sample - loss: 0.2259 - acc: 0.9157\n",
            "Epoch 13/30\n",
            "60000/60000 [==============================] - 4s 69us/sample - loss: 0.2170 - acc: 0.9190\n",
            "Epoch 14/30\n",
            "60000/60000 [==============================] - 4s 63us/sample - loss: 0.2104 - acc: 0.9219\n",
            "Epoch 15/30\n",
            "60000/60000 [==============================] - 4s 61us/sample - loss: 0.2042 - acc: 0.9243\n",
            "Epoch 16/30\n",
            "60000/60000 [==============================] - 4s 62us/sample - loss: 0.1990 - acc: 0.9252\n",
            "Epoch 17/30\n",
            "60000/60000 [==============================] - 4s 61us/sample - loss: 0.1930 - acc: 0.9276\n",
            "Epoch 18/30\n",
            "60000/60000 [==============================] - 4s 63us/sample - loss: 0.1861 - acc: 0.9290\n",
            "Epoch 19/30\n",
            "60000/60000 [==============================] - 4s 62us/sample - loss: 0.1828 - acc: 0.9308\n",
            "Epoch 20/30\n",
            "60000/60000 [==============================] - 4s 61us/sample - loss: 0.1789 - acc: 0.9324\n",
            "Epoch 21/30\n",
            "60000/60000 [==============================] - 4s 62us/sample - loss: 0.1730 - acc: 0.9343\n",
            "Epoch 22/30\n",
            "60000/60000 [==============================] - 4s 61us/sample - loss: 0.1696 - acc: 0.9364\n",
            "Epoch 23/30\n",
            "60000/60000 [==============================] - 4s 60us/sample - loss: 0.1666 - acc: 0.9380\n",
            "Epoch 24/30\n",
            "60000/60000 [==============================] - 4s 61us/sample - loss: 0.1626 - acc: 0.9378\n",
            "Epoch 25/30\n",
            "60000/60000 [==============================] - 4s 61us/sample - loss: 0.1572 - acc: 0.9414\n",
            "Epoch 26/30\n",
            "60000/60000 [==============================] - 4s 61us/sample - loss: 0.1551 - acc: 0.9409\n",
            "Epoch 27/30\n",
            "60000/60000 [==============================] - 4s 62us/sample - loss: 0.1505 - acc: 0.9441\n",
            "Epoch 28/30\n",
            "60000/60000 [==============================] - 4s 65us/sample - loss: 0.1482 - acc: 0.9439\n",
            "Epoch 29/30\n",
            "60000/60000 [==============================] - 4s 64us/sample - loss: 0.1433 - acc: 0.9467\n",
            "Epoch 30/30\n",
            "60000/60000 [==============================] - 4s 61us/sample - loss: 0.1425 - acc: 0.9474\n"
          ]
        }
      ]
    },
    {
      "cell_type": "code",
      "source": [
        "# Why Training Again and again? Why Epochs?\n",
        "\n",
        "# NueralNetworks are expensive -> hence they work in time-bursts \n",
        "# these time bursts are not enough to know EVERY detail about the data \n",
        "# so EPOCH 1 -> MODEL learns all it can about the data -> and then SAVE that learning \n",
        "# in next EPOCH -> MODEL DOESN't START from scratch, but resumes from where it LEFT! \n",
        "\n",
        "# MORE THE EPOCHS -> MORE THE LEARNING -> TOO MANY EPOCHS = OVERFITTING! "
      ],
      "metadata": {
        "id": "r0DZFjh-fx2s"
      },
      "execution_count": null,
      "outputs": []
    },
    {
      "cell_type": "code",
      "source": [
        "model.fit(xtrain_norm, ytrain, epochs=5)\n",
        "# Observe that model doesn't start learning from SCRATCH\n",
        "# picks up where it left in previous training "
      ],
      "metadata": {
        "colab": {
          "base_uri": "https://localhost:8080/"
        },
        "id": "QX4V2RAKca7o",
        "outputId": "9379f675-00f7-4db2-be3e-305214d502d5"
      },
      "execution_count": 29,
      "outputs": [
        {
          "output_type": "stream",
          "name": "stdout",
          "text": [
            "Train on 60000 samples\n",
            "Epoch 1/5\n",
            "60000/60000 [==============================] - 4s 64us/sample - loss: 0.1385 - acc: 0.9477\n",
            "Epoch 2/5\n",
            "60000/60000 [==============================] - 4s 64us/sample - loss: 0.1359 - acc: 0.9499\n",
            "Epoch 3/5\n",
            "60000/60000 [==============================] - 4s 62us/sample - loss: 0.1327 - acc: 0.9501\n",
            "Epoch 4/5\n",
            "60000/60000 [==============================] - 4s 62us/sample - loss: 0.1299 - acc: 0.9518\n",
            "Epoch 5/5\n",
            "60000/60000 [==============================] - 4s 62us/sample - loss: 0.1277 - acc: 0.9518\n"
          ]
        },
        {
          "output_type": "execute_result",
          "data": {
            "text/plain": [
              "<tensorflow.python.keras.callbacks.History at 0x7fa9c632b950>"
            ]
          },
          "metadata": {},
          "execution_count": 29
        }
      ]
    },
    {
      "cell_type": "code",
      "source": [
        ""
      ],
      "metadata": {
        "id": "-64Q8Wx-cvfc"
      },
      "execution_count": null,
      "outputs": []
    }
  ]
}