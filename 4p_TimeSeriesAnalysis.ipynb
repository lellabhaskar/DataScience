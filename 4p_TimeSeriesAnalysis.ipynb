{
  "nbformat": 4,
  "nbformat_minor": 0,
  "metadata": {
    "colab": {
      "name": "4p_TimeSeriesAnalysis.ipynb",
      "provenance": [],
      "collapsed_sections": [],
      "authorship_tag": "ABX9TyP6qkWuxN1ptKMYMfwR/FjA",
      "include_colab_link": true
    },
    "kernelspec": {
      "name": "python3",
      "display_name": "Python 3"
    },
    "language_info": {
      "name": "python"
    }
  },
  "cells": [
    {
      "cell_type": "markdown",
      "metadata": {
        "id": "view-in-github",
        "colab_type": "text"
      },
      "source": [
        "<a href=\"https://colab.research.google.com/github/lellabhaskar/DataScience/blob/main/4p_TimeSeriesAnalysis.ipynb\" target=\"_parent\"><img src=\"https://colab.research.google.com/assets/colab-badge.svg\" alt=\"Open In Colab\"/></a>"
      ]
    },
    {
      "cell_type": "code",
      "metadata": {
        "colab": {
          "base_uri": "https://localhost:8080/"
        },
        "id": "bvnfO21Ra8qm",
        "outputId": "f3a7c6d8-765f-441c-c620-f84f03ed8528"
      },
      "source": [
        "# Superstore data set\n",
        "# https://community.tableau.com/docs/DOC-1236\n",
        "\n",
        "!ls"
      ],
      "execution_count": 1,
      "outputs": [
        {
          "output_type": "stream",
          "name": "stdout",
          "text": [
            " sample_data  'Sample - Superstore.xls'\n"
          ]
        }
      ]
    },
    {
      "cell_type": "code",
      "metadata": {
        "id": "suCPlGZldI39",
        "colab": {
          "base_uri": "https://localhost:8080/"
        },
        "outputId": "3c908369-8d21-467c-c7c1-08e3d77124e4"
      },
      "source": [
        "import pandas as pd\n",
        "df = pd.read_excel('Sample - Superstore.xls')\n",
        "df.head()\n",
        "df.columns"
      ],
      "execution_count": 2,
      "outputs": [
        {
          "output_type": "execute_result",
          "data": {
            "text/plain": [
              "Index(['Row ID', 'Order ID', 'Order Date', 'Ship Date', 'Ship Mode',\n",
              "       'Customer ID', 'Customer Name', 'Segment', 'Country', 'City', 'State',\n",
              "       'Postal Code', 'Region', 'Product ID', 'Category', 'Sub-Category',\n",
              "       'Product Name', 'Sales', 'Quantity', 'Discount', 'Profit'],\n",
              "      dtype='object')"
            ]
          },
          "metadata": {},
          "execution_count": 2
        }
      ]
    },
    {
      "cell_type": "code",
      "metadata": {
        "id": "473pwlDVIwmO",
        "colab": {
          "base_uri": "https://localhost:8080/"
        },
        "outputId": "e4d6d83e-c72d-419e-8f8b-4545a051b323"
      },
      "source": [
        "import warnings\n",
        "import itertools\n",
        "import numpy as np\n",
        "import statsmodels.api as sm\n",
        "import matplotlib.pyplot as plt\n",
        "import matplotlib\n",
        "%matplotlib inline\n",
        "\n",
        "warnings.filterwarnings(\"ignore\") # for production use \n",
        "#never use development because warnings must be consider into bug and try to fix if it is possible.\n"
      ],
      "execution_count": 3,
      "outputs": [
        {
          "output_type": "stream",
          "name": "stderr",
          "text": [
            "/usr/local/lib/python3.7/dist-packages/statsmodels/tools/_testing.py:19: FutureWarning: pandas.util.testing is deprecated. Use the functions in the public API at pandas.testing instead.\n",
            "  import pandas.util.testing as tm\n"
          ]
        }
      ]
    },
    {
      "cell_type": "code",
      "metadata": {
        "id": "eRaeMixdQnQg"
      },
      "source": [
        "# Whenever you are working into TimeSeries analysis -> refer to TIMESTAMPS columns\n",
        "# if you don't have timestamps but data is arranged in either time-ascending or descending order, take a reference timeline -> 1990-2000 \n",
        "# TIMESTAMP should work like an INDEX and not input dataset \n"
      ],
      "execution_count": null,
      "outputs": []
    },
    {
      "cell_type": "code",
      "metadata": {
        "colab": {
          "base_uri": "https://localhost:8080/",
          "height": 556
        },
        "id": "ak0XZ6_mAJIi",
        "outputId": "7d96eba2-a67d-4766-c9dd-9189a1bffb31"
      },
      "source": [
        "df.head()"
      ],
      "execution_count": 4,
      "outputs": [
        {
          "output_type": "execute_result",
          "data": {
            "text/html": [
              "<div>\n",
              "<style scoped>\n",
              "    .dataframe tbody tr th:only-of-type {\n",
              "        vertical-align: middle;\n",
              "    }\n",
              "\n",
              "    .dataframe tbody tr th {\n",
              "        vertical-align: top;\n",
              "    }\n",
              "\n",
              "    .dataframe thead th {\n",
              "        text-align: right;\n",
              "    }\n",
              "</style>\n",
              "<table border=\"1\" class=\"dataframe\">\n",
              "  <thead>\n",
              "    <tr style=\"text-align: right;\">\n",
              "      <th></th>\n",
              "      <th>Row ID</th>\n",
              "      <th>Order ID</th>\n",
              "      <th>Order Date</th>\n",
              "      <th>Ship Date</th>\n",
              "      <th>Ship Mode</th>\n",
              "      <th>Customer ID</th>\n",
              "      <th>Customer Name</th>\n",
              "      <th>Segment</th>\n",
              "      <th>Country</th>\n",
              "      <th>City</th>\n",
              "      <th>State</th>\n",
              "      <th>Postal Code</th>\n",
              "      <th>Region</th>\n",
              "      <th>Product ID</th>\n",
              "      <th>Category</th>\n",
              "      <th>Sub-Category</th>\n",
              "      <th>Product Name</th>\n",
              "      <th>Sales</th>\n",
              "      <th>Quantity</th>\n",
              "      <th>Discount</th>\n",
              "      <th>Profit</th>\n",
              "    </tr>\n",
              "  </thead>\n",
              "  <tbody>\n",
              "    <tr>\n",
              "      <th>0</th>\n",
              "      <td>1</td>\n",
              "      <td>CA-2016-152156</td>\n",
              "      <td>2016-11-08</td>\n",
              "      <td>2016-11-11</td>\n",
              "      <td>Second Class</td>\n",
              "      <td>CG-12520</td>\n",
              "      <td>Claire Gute</td>\n",
              "      <td>Consumer</td>\n",
              "      <td>United States</td>\n",
              "      <td>Henderson</td>\n",
              "      <td>Kentucky</td>\n",
              "      <td>42420</td>\n",
              "      <td>South</td>\n",
              "      <td>FUR-BO-10001798</td>\n",
              "      <td>Furniture</td>\n",
              "      <td>Bookcases</td>\n",
              "      <td>Bush Somerset Collection Bookcase</td>\n",
              "      <td>261.9600</td>\n",
              "      <td>2</td>\n",
              "      <td>0.00</td>\n",
              "      <td>41.9136</td>\n",
              "    </tr>\n",
              "    <tr>\n",
              "      <th>1</th>\n",
              "      <td>2</td>\n",
              "      <td>CA-2016-152156</td>\n",
              "      <td>2016-11-08</td>\n",
              "      <td>2016-11-11</td>\n",
              "      <td>Second Class</td>\n",
              "      <td>CG-12520</td>\n",
              "      <td>Claire Gute</td>\n",
              "      <td>Consumer</td>\n",
              "      <td>United States</td>\n",
              "      <td>Henderson</td>\n",
              "      <td>Kentucky</td>\n",
              "      <td>42420</td>\n",
              "      <td>South</td>\n",
              "      <td>FUR-CH-10000454</td>\n",
              "      <td>Furniture</td>\n",
              "      <td>Chairs</td>\n",
              "      <td>Hon Deluxe Fabric Upholstered Stacking Chairs,...</td>\n",
              "      <td>731.9400</td>\n",
              "      <td>3</td>\n",
              "      <td>0.00</td>\n",
              "      <td>219.5820</td>\n",
              "    </tr>\n",
              "    <tr>\n",
              "      <th>2</th>\n",
              "      <td>3</td>\n",
              "      <td>CA-2016-138688</td>\n",
              "      <td>2016-06-12</td>\n",
              "      <td>2016-06-16</td>\n",
              "      <td>Second Class</td>\n",
              "      <td>DV-13045</td>\n",
              "      <td>Darrin Van Huff</td>\n",
              "      <td>Corporate</td>\n",
              "      <td>United States</td>\n",
              "      <td>Los Angeles</td>\n",
              "      <td>California</td>\n",
              "      <td>90036</td>\n",
              "      <td>West</td>\n",
              "      <td>OFF-LA-10000240</td>\n",
              "      <td>Office Supplies</td>\n",
              "      <td>Labels</td>\n",
              "      <td>Self-Adhesive Address Labels for Typewriters b...</td>\n",
              "      <td>14.6200</td>\n",
              "      <td>2</td>\n",
              "      <td>0.00</td>\n",
              "      <td>6.8714</td>\n",
              "    </tr>\n",
              "    <tr>\n",
              "      <th>3</th>\n",
              "      <td>4</td>\n",
              "      <td>US-2015-108966</td>\n",
              "      <td>2015-10-11</td>\n",
              "      <td>2015-10-18</td>\n",
              "      <td>Standard Class</td>\n",
              "      <td>SO-20335</td>\n",
              "      <td>Sean O'Donnell</td>\n",
              "      <td>Consumer</td>\n",
              "      <td>United States</td>\n",
              "      <td>Fort Lauderdale</td>\n",
              "      <td>Florida</td>\n",
              "      <td>33311</td>\n",
              "      <td>South</td>\n",
              "      <td>FUR-TA-10000577</td>\n",
              "      <td>Furniture</td>\n",
              "      <td>Tables</td>\n",
              "      <td>Bretford CR4500 Series Slim Rectangular Table</td>\n",
              "      <td>957.5775</td>\n",
              "      <td>5</td>\n",
              "      <td>0.45</td>\n",
              "      <td>-383.0310</td>\n",
              "    </tr>\n",
              "    <tr>\n",
              "      <th>4</th>\n",
              "      <td>5</td>\n",
              "      <td>US-2015-108966</td>\n",
              "      <td>2015-10-11</td>\n",
              "      <td>2015-10-18</td>\n",
              "      <td>Standard Class</td>\n",
              "      <td>SO-20335</td>\n",
              "      <td>Sean O'Donnell</td>\n",
              "      <td>Consumer</td>\n",
              "      <td>United States</td>\n",
              "      <td>Fort Lauderdale</td>\n",
              "      <td>Florida</td>\n",
              "      <td>33311</td>\n",
              "      <td>South</td>\n",
              "      <td>OFF-ST-10000760</td>\n",
              "      <td>Office Supplies</td>\n",
              "      <td>Storage</td>\n",
              "      <td>Eldon Fold 'N Roll Cart System</td>\n",
              "      <td>22.3680</td>\n",
              "      <td>2</td>\n",
              "      <td>0.20</td>\n",
              "      <td>2.5164</td>\n",
              "    </tr>\n",
              "  </tbody>\n",
              "</table>\n",
              "</div>"
            ],
            "text/plain": [
              "   Row ID        Order ID Order Date  ... Quantity Discount    Profit\n",
              "0       1  CA-2016-152156 2016-11-08  ...        2     0.00   41.9136\n",
              "1       2  CA-2016-152156 2016-11-08  ...        3     0.00  219.5820\n",
              "2       3  CA-2016-138688 2016-06-12  ...        2     0.00    6.8714\n",
              "3       4  US-2015-108966 2015-10-11  ...        5     0.45 -383.0310\n",
              "4       5  US-2015-108966 2015-10-11  ...        2     0.20    2.5164\n",
              "\n",
              "[5 rows x 21 columns]"
            ]
          },
          "metadata": {},
          "execution_count": 4
        }
      ]
    },
    {
      "cell_type": "code",
      "metadata": {
        "colab": {
          "base_uri": "https://localhost:8080/",
          "height": 271
        },
        "id": "PtMNk80pIRN6",
        "outputId": "f093e020-5de2-40c4-bec9-cd571d48aa14"
      },
      "source": [
        "df.head(2)"
      ],
      "execution_count": 5,
      "outputs": [
        {
          "output_type": "execute_result",
          "data": {
            "text/html": [
              "<div>\n",
              "<style scoped>\n",
              "    .dataframe tbody tr th:only-of-type {\n",
              "        vertical-align: middle;\n",
              "    }\n",
              "\n",
              "    .dataframe tbody tr th {\n",
              "        vertical-align: top;\n",
              "    }\n",
              "\n",
              "    .dataframe thead th {\n",
              "        text-align: right;\n",
              "    }\n",
              "</style>\n",
              "<table border=\"1\" class=\"dataframe\">\n",
              "  <thead>\n",
              "    <tr style=\"text-align: right;\">\n",
              "      <th></th>\n",
              "      <th>Row ID</th>\n",
              "      <th>Order ID</th>\n",
              "      <th>Order Date</th>\n",
              "      <th>Ship Date</th>\n",
              "      <th>Ship Mode</th>\n",
              "      <th>Customer ID</th>\n",
              "      <th>Customer Name</th>\n",
              "      <th>Segment</th>\n",
              "      <th>Country</th>\n",
              "      <th>City</th>\n",
              "      <th>State</th>\n",
              "      <th>Postal Code</th>\n",
              "      <th>Region</th>\n",
              "      <th>Product ID</th>\n",
              "      <th>Category</th>\n",
              "      <th>Sub-Category</th>\n",
              "      <th>Product Name</th>\n",
              "      <th>Sales</th>\n",
              "      <th>Quantity</th>\n",
              "      <th>Discount</th>\n",
              "      <th>Profit</th>\n",
              "    </tr>\n",
              "  </thead>\n",
              "  <tbody>\n",
              "    <tr>\n",
              "      <th>0</th>\n",
              "      <td>1</td>\n",
              "      <td>CA-2016-152156</td>\n",
              "      <td>2016-11-08</td>\n",
              "      <td>2016-11-11</td>\n",
              "      <td>Second Class</td>\n",
              "      <td>CG-12520</td>\n",
              "      <td>Claire Gute</td>\n",
              "      <td>Consumer</td>\n",
              "      <td>United States</td>\n",
              "      <td>Henderson</td>\n",
              "      <td>Kentucky</td>\n",
              "      <td>42420</td>\n",
              "      <td>South</td>\n",
              "      <td>FUR-BO-10001798</td>\n",
              "      <td>Furniture</td>\n",
              "      <td>Bookcases</td>\n",
              "      <td>Bush Somerset Collection Bookcase</td>\n",
              "      <td>261.96</td>\n",
              "      <td>2</td>\n",
              "      <td>0.0</td>\n",
              "      <td>41.9136</td>\n",
              "    </tr>\n",
              "    <tr>\n",
              "      <th>1</th>\n",
              "      <td>2</td>\n",
              "      <td>CA-2016-152156</td>\n",
              "      <td>2016-11-08</td>\n",
              "      <td>2016-11-11</td>\n",
              "      <td>Second Class</td>\n",
              "      <td>CG-12520</td>\n",
              "      <td>Claire Gute</td>\n",
              "      <td>Consumer</td>\n",
              "      <td>United States</td>\n",
              "      <td>Henderson</td>\n",
              "      <td>Kentucky</td>\n",
              "      <td>42420</td>\n",
              "      <td>South</td>\n",
              "      <td>FUR-CH-10000454</td>\n",
              "      <td>Furniture</td>\n",
              "      <td>Chairs</td>\n",
              "      <td>Hon Deluxe Fabric Upholstered Stacking Chairs,...</td>\n",
              "      <td>731.94</td>\n",
              "      <td>3</td>\n",
              "      <td>0.0</td>\n",
              "      <td>219.5820</td>\n",
              "    </tr>\n",
              "  </tbody>\n",
              "</table>\n",
              "</div>"
            ],
            "text/plain": [
              "   Row ID        Order ID Order Date  ... Quantity Discount    Profit\n",
              "0       1  CA-2016-152156 2016-11-08  ...        2      0.0   41.9136\n",
              "1       2  CA-2016-152156 2016-11-08  ...        3      0.0  219.5820\n",
              "\n",
              "[2 rows x 21 columns]"
            ]
          },
          "metadata": {},
          "execution_count": 5
        }
      ]
    },
    {
      "cell_type": "code",
      "metadata": {
        "id": "y5w6xCVuN52l"
      },
      "source": [
        "# Based on above data, we need to analysis for TimeSeries"
      ],
      "execution_count": null,
      "outputs": []
    },
    {
      "cell_type": "code",
      "metadata": {
        "colab": {
          "base_uri": "https://localhost:8080/"
        },
        "id": "No4tz0CfLg5g",
        "outputId": "349c3c2b-da37-422f-860e-5695baf687b4"
      },
      "source": [
        "len(df)"
      ],
      "execution_count": 6,
      "outputs": [
        {
          "output_type": "execute_result",
          "data": {
            "text/plain": [
              "9994"
            ]
          },
          "metadata": {},
          "execution_count": 6
        }
      ]
    },
    {
      "cell_type": "code",
      "metadata": {
        "id": "SgQjZeZ7RQCR"
      },
      "source": [
        "# TimeSeries Analysis are two types -> Univariate and multivariate \n"
      ],
      "execution_count": null,
      "outputs": []
    },
    {
      "cell_type": "code",
      "metadata": {
        "id": "1ZzLR82xRXAu"
      },
      "source": [
        "# Univariate\n",
        "# One Feature is going to fluctuate w.r.t. TIME "
      ],
      "execution_count": null,
      "outputs": []
    },
    {
      "cell_type": "code",
      "metadata": {
        "colab": {
          "base_uri": "https://localhost:8080/",
          "height": 306
        },
        "id": "qgQTFInaNeBt",
        "outputId": "f0f4bc79-5218-4809-f758-223614ade1cd"
      },
      "source": [
        "df.tail(2)"
      ],
      "execution_count": 7,
      "outputs": [
        {
          "output_type": "execute_result",
          "data": {
            "text/html": [
              "<div>\n",
              "<style scoped>\n",
              "    .dataframe tbody tr th:only-of-type {\n",
              "        vertical-align: middle;\n",
              "    }\n",
              "\n",
              "    .dataframe tbody tr th {\n",
              "        vertical-align: top;\n",
              "    }\n",
              "\n",
              "    .dataframe thead th {\n",
              "        text-align: right;\n",
              "    }\n",
              "</style>\n",
              "<table border=\"1\" class=\"dataframe\">\n",
              "  <thead>\n",
              "    <tr style=\"text-align: right;\">\n",
              "      <th></th>\n",
              "      <th>Row ID</th>\n",
              "      <th>Order ID</th>\n",
              "      <th>Order Date</th>\n",
              "      <th>Ship Date</th>\n",
              "      <th>Ship Mode</th>\n",
              "      <th>Customer ID</th>\n",
              "      <th>Customer Name</th>\n",
              "      <th>Segment</th>\n",
              "      <th>Country</th>\n",
              "      <th>City</th>\n",
              "      <th>State</th>\n",
              "      <th>Postal Code</th>\n",
              "      <th>Region</th>\n",
              "      <th>Product ID</th>\n",
              "      <th>Category</th>\n",
              "      <th>Sub-Category</th>\n",
              "      <th>Product Name</th>\n",
              "      <th>Sales</th>\n",
              "      <th>Quantity</th>\n",
              "      <th>Discount</th>\n",
              "      <th>Profit</th>\n",
              "    </tr>\n",
              "  </thead>\n",
              "  <tbody>\n",
              "    <tr>\n",
              "      <th>9992</th>\n",
              "      <td>9993</td>\n",
              "      <td>CA-2017-121258</td>\n",
              "      <td>2017-02-26</td>\n",
              "      <td>2017-03-03</td>\n",
              "      <td>Standard Class</td>\n",
              "      <td>DB-13060</td>\n",
              "      <td>Dave Brooks</td>\n",
              "      <td>Consumer</td>\n",
              "      <td>United States</td>\n",
              "      <td>Costa Mesa</td>\n",
              "      <td>California</td>\n",
              "      <td>92627</td>\n",
              "      <td>West</td>\n",
              "      <td>OFF-PA-10004041</td>\n",
              "      <td>Office Supplies</td>\n",
              "      <td>Paper</td>\n",
              "      <td>It's Hot Message Books with Stickers, 2 3/4\" x 5\"</td>\n",
              "      <td>29.60</td>\n",
              "      <td>4</td>\n",
              "      <td>0.0</td>\n",
              "      <td>13.320</td>\n",
              "    </tr>\n",
              "    <tr>\n",
              "      <th>9993</th>\n",
              "      <td>9994</td>\n",
              "      <td>CA-2017-119914</td>\n",
              "      <td>2017-05-04</td>\n",
              "      <td>2017-05-09</td>\n",
              "      <td>Second Class</td>\n",
              "      <td>CC-12220</td>\n",
              "      <td>Chris Cortes</td>\n",
              "      <td>Consumer</td>\n",
              "      <td>United States</td>\n",
              "      <td>Westminster</td>\n",
              "      <td>California</td>\n",
              "      <td>92683</td>\n",
              "      <td>West</td>\n",
              "      <td>OFF-AP-10002684</td>\n",
              "      <td>Office Supplies</td>\n",
              "      <td>Appliances</td>\n",
              "      <td>Acco 7-Outlet Masterpiece Power Center, Wihtou...</td>\n",
              "      <td>243.16</td>\n",
              "      <td>2</td>\n",
              "      <td>0.0</td>\n",
              "      <td>72.948</td>\n",
              "    </tr>\n",
              "  </tbody>\n",
              "</table>\n",
              "</div>"
            ],
            "text/plain": [
              "      Row ID        Order ID Order Date  ... Quantity Discount  Profit\n",
              "9992    9993  CA-2017-121258 2017-02-26  ...        4      0.0  13.320\n",
              "9993    9994  CA-2017-119914 2017-05-04  ...        2      0.0  72.948\n",
              "\n",
              "[2 rows x 21 columns]"
            ]
          },
          "metadata": {},
          "execution_count": 7
        }
      ]
    },
    {
      "cell_type": "code",
      "metadata": {
        "id": "5ynVczSMO65F"
      },
      "source": [
        "# Based on above data, trying to findout all important Categorical data"
      ],
      "execution_count": null,
      "outputs": []
    },
    {
      "cell_type": "code",
      "metadata": {
        "colab": {
          "base_uri": "https://localhost:8080/"
        },
        "id": "yHH5Ea1GNpPZ",
        "outputId": "2d9d6d81-f593-4ed2-d562-995f36d1e654"
      },
      "source": [
        "df.Country.value_counts() # this is not import of categoritcal data because all values belongs to only one Country"
      ],
      "execution_count": 8,
      "outputs": [
        {
          "output_type": "execute_result",
          "data": {
            "text/plain": [
              "United States    9994\n",
              "Name: Country, dtype: int64"
            ]
          },
          "metadata": {},
          "execution_count": 8
        }
      ]
    },
    {
      "cell_type": "code",
      "metadata": {
        "colab": {
          "base_uri": "https://localhost:8080/"
        },
        "id": "kkGObyscN3rV",
        "outputId": "d055a652-5780-4747-b4ee-095cb3d1775a"
      },
      "source": [
        "  df.City.value_counts() # this is also not categorical data due to Too many values for city and here anlaysis possible only some cities"
      ],
      "execution_count": 9,
      "outputs": [
        {
          "output_type": "execute_result",
          "data": {
            "text/plain": [
              "New York City    915\n",
              "Los Angeles      747\n",
              "Philadelphia     537\n",
              "San Francisco    510\n",
              "Seattle          428\n",
              "                ... \n",
              "Holyoke            1\n",
              "Vacaville          1\n",
              "Portage            1\n",
              "Santa Maria        1\n",
              "Norfolk            1\n",
              "Name: City, Length: 531, dtype: int64"
            ]
          },
          "metadata": {},
          "execution_count": 9
        }
      ]
    },
    {
      "cell_type": "code",
      "metadata": {
        "colab": {
          "base_uri": "https://localhost:8080/"
        },
        "id": "RUfvgL0HPpyY",
        "outputId": "216712ce-cf87-4d11-edb0-8d04b12eec77"
      },
      "source": [
        "colNames =df.columns\n",
        "for i ,feature in enumerate(colNames):\n",
        "  print(colNames[i])\n",
        "  #print(df[feature].value_counts())\n",
        "  print(len(df[feature].value_counts()))"
      ],
      "execution_count": 10,
      "outputs": [
        {
          "output_type": "stream",
          "name": "stdout",
          "text": [
            "Row ID\n",
            "9994\n",
            "Order ID\n",
            "5009\n",
            "Order Date\n",
            "1237\n",
            "Ship Date\n",
            "1334\n",
            "Ship Mode\n",
            "4\n",
            "Customer ID\n",
            "793\n",
            "Customer Name\n",
            "793\n",
            "Segment\n",
            "3\n",
            "Country\n",
            "1\n",
            "City\n",
            "531\n",
            "State\n",
            "49\n",
            "Postal Code\n",
            "631\n",
            "Region\n",
            "4\n",
            "Product ID\n",
            "1862\n",
            "Category\n",
            "3\n",
            "Sub-Category\n",
            "17\n",
            "Product Name\n",
            "1850\n",
            "Sales\n",
            "6144\n",
            "Quantity\n",
            "14\n",
            "Discount\n",
            "12\n",
            "Profit\n",
            "7545\n"
          ]
        }
      ]
    },
    {
      "cell_type": "code",
      "metadata": {
        "id": "-CuHburrTL63"
      },
      "source": [
        "# Based on above output ,Region and Category or Sub-Category Columns are the good Categorical Data"
      ],
      "execution_count": null,
      "outputs": []
    },
    {
      "cell_type": "code",
      "metadata": {
        "colab": {
          "base_uri": "https://localhost:8080/"
        },
        "id": "EZTq9sEyUO5I",
        "outputId": "b8544d9c-d375-4ed9-bd86-1c971696be0f"
      },
      "source": [
        "colNames = df.columns \n",
        "for i, feature in enumerate(colNames):\n",
        "  print(colNames[i] + \" ------------ \" + str(len(df[feature].value_counts())))"
      ],
      "execution_count": 11,
      "outputs": [
        {
          "output_type": "stream",
          "name": "stdout",
          "text": [
            "Row ID ------------ 9994\n",
            "Order ID ------------ 5009\n",
            "Order Date ------------ 1237\n",
            "Ship Date ------------ 1334\n",
            "Ship Mode ------------ 4\n",
            "Customer ID ------------ 793\n",
            "Customer Name ------------ 793\n",
            "Segment ------------ 3\n",
            "Country ------------ 1\n",
            "City ------------ 531\n",
            "State ------------ 49\n",
            "Postal Code ------------ 631\n",
            "Region ------------ 4\n",
            "Product ID ------------ 1862\n",
            "Category ------------ 3\n",
            "Sub-Category ------------ 17\n",
            "Product Name ------------ 1850\n",
            "Sales ------------ 6144\n",
            "Quantity ------------ 14\n",
            "Discount ------------ 12\n",
            "Profit ------------ 7545\n"
          ]
        }
      ]
    },
    {
      "cell_type": "code",
      "metadata": {
        "id": "e-mX_fACVJIh"
      },
      "source": [
        "# 1) Region 2) Category 3) Sub-Category -Comparitively weaker but still valid"
      ],
      "execution_count": null,
      "outputs": []
    },
    {
      "cell_type": "code",
      "metadata": {
        "id": "Oiyxj7SRVRcN"
      },
      "source": [
        "# i have choosen Category but any one you can choose"
      ],
      "execution_count": null,
      "outputs": []
    },
    {
      "cell_type": "code",
      "metadata": {
        "colab": {
          "base_uri": "https://localhost:8080/"
        },
        "id": "wTj0HNyGVdMi",
        "outputId": "e56644b0-c492-4f49-9a94-d18428b9ee47"
      },
      "source": [
        "df.Category.value_counts()"
      ],
      "execution_count": 12,
      "outputs": [
        {
          "output_type": "execute_result",
          "data": {
            "text/plain": [
              "Office Supplies    6026\n",
              "Furniture          2121\n",
              "Technology         1847\n",
              "Name: Category, dtype: int64"
            ]
          },
          "metadata": {},
          "execution_count": 12
        }
      ]
    },
    {
      "cell_type": "code",
      "metadata": {
        "id": "Po4dcPP0PRrA",
        "colab": {
          "base_uri": "https://localhost:8080/",
          "height": 573
        },
        "outputId": "111bdc5f-f6a8-4d31-a8ab-ab238f4581b9"
      },
      "source": [
        "furniture_data=df.loc[df['Category']=='Furniture']\n",
        "furniture_data.head()"
      ],
      "execution_count": 13,
      "outputs": [
        {
          "output_type": "execute_result",
          "data": {
            "text/html": [
              "<div>\n",
              "<style scoped>\n",
              "    .dataframe tbody tr th:only-of-type {\n",
              "        vertical-align: middle;\n",
              "    }\n",
              "\n",
              "    .dataframe tbody tr th {\n",
              "        vertical-align: top;\n",
              "    }\n",
              "\n",
              "    .dataframe thead th {\n",
              "        text-align: right;\n",
              "    }\n",
              "</style>\n",
              "<table border=\"1\" class=\"dataframe\">\n",
              "  <thead>\n",
              "    <tr style=\"text-align: right;\">\n",
              "      <th></th>\n",
              "      <th>Row ID</th>\n",
              "      <th>Order ID</th>\n",
              "      <th>Order Date</th>\n",
              "      <th>Ship Date</th>\n",
              "      <th>Ship Mode</th>\n",
              "      <th>Customer ID</th>\n",
              "      <th>Customer Name</th>\n",
              "      <th>Segment</th>\n",
              "      <th>Country</th>\n",
              "      <th>City</th>\n",
              "      <th>State</th>\n",
              "      <th>Postal Code</th>\n",
              "      <th>Region</th>\n",
              "      <th>Product ID</th>\n",
              "      <th>Category</th>\n",
              "      <th>Sub-Category</th>\n",
              "      <th>Product Name</th>\n",
              "      <th>Sales</th>\n",
              "      <th>Quantity</th>\n",
              "      <th>Discount</th>\n",
              "      <th>Profit</th>\n",
              "    </tr>\n",
              "  </thead>\n",
              "  <tbody>\n",
              "    <tr>\n",
              "      <th>0</th>\n",
              "      <td>1</td>\n",
              "      <td>CA-2016-152156</td>\n",
              "      <td>2016-11-08</td>\n",
              "      <td>2016-11-11</td>\n",
              "      <td>Second Class</td>\n",
              "      <td>CG-12520</td>\n",
              "      <td>Claire Gute</td>\n",
              "      <td>Consumer</td>\n",
              "      <td>United States</td>\n",
              "      <td>Henderson</td>\n",
              "      <td>Kentucky</td>\n",
              "      <td>42420</td>\n",
              "      <td>South</td>\n",
              "      <td>FUR-BO-10001798</td>\n",
              "      <td>Furniture</td>\n",
              "      <td>Bookcases</td>\n",
              "      <td>Bush Somerset Collection Bookcase</td>\n",
              "      <td>261.9600</td>\n",
              "      <td>2</td>\n",
              "      <td>0.00</td>\n",
              "      <td>41.9136</td>\n",
              "    </tr>\n",
              "    <tr>\n",
              "      <th>1</th>\n",
              "      <td>2</td>\n",
              "      <td>CA-2016-152156</td>\n",
              "      <td>2016-11-08</td>\n",
              "      <td>2016-11-11</td>\n",
              "      <td>Second Class</td>\n",
              "      <td>CG-12520</td>\n",
              "      <td>Claire Gute</td>\n",
              "      <td>Consumer</td>\n",
              "      <td>United States</td>\n",
              "      <td>Henderson</td>\n",
              "      <td>Kentucky</td>\n",
              "      <td>42420</td>\n",
              "      <td>South</td>\n",
              "      <td>FUR-CH-10000454</td>\n",
              "      <td>Furniture</td>\n",
              "      <td>Chairs</td>\n",
              "      <td>Hon Deluxe Fabric Upholstered Stacking Chairs,...</td>\n",
              "      <td>731.9400</td>\n",
              "      <td>3</td>\n",
              "      <td>0.00</td>\n",
              "      <td>219.5820</td>\n",
              "    </tr>\n",
              "    <tr>\n",
              "      <th>3</th>\n",
              "      <td>4</td>\n",
              "      <td>US-2015-108966</td>\n",
              "      <td>2015-10-11</td>\n",
              "      <td>2015-10-18</td>\n",
              "      <td>Standard Class</td>\n",
              "      <td>SO-20335</td>\n",
              "      <td>Sean O'Donnell</td>\n",
              "      <td>Consumer</td>\n",
              "      <td>United States</td>\n",
              "      <td>Fort Lauderdale</td>\n",
              "      <td>Florida</td>\n",
              "      <td>33311</td>\n",
              "      <td>South</td>\n",
              "      <td>FUR-TA-10000577</td>\n",
              "      <td>Furniture</td>\n",
              "      <td>Tables</td>\n",
              "      <td>Bretford CR4500 Series Slim Rectangular Table</td>\n",
              "      <td>957.5775</td>\n",
              "      <td>5</td>\n",
              "      <td>0.45</td>\n",
              "      <td>-383.0310</td>\n",
              "    </tr>\n",
              "    <tr>\n",
              "      <th>5</th>\n",
              "      <td>6</td>\n",
              "      <td>CA-2014-115812</td>\n",
              "      <td>2014-06-09</td>\n",
              "      <td>2014-06-14</td>\n",
              "      <td>Standard Class</td>\n",
              "      <td>BH-11710</td>\n",
              "      <td>Brosina Hoffman</td>\n",
              "      <td>Consumer</td>\n",
              "      <td>United States</td>\n",
              "      <td>Los Angeles</td>\n",
              "      <td>California</td>\n",
              "      <td>90032</td>\n",
              "      <td>West</td>\n",
              "      <td>FUR-FU-10001487</td>\n",
              "      <td>Furniture</td>\n",
              "      <td>Furnishings</td>\n",
              "      <td>Eldon Expressions Wood and Plastic Desk Access...</td>\n",
              "      <td>48.8600</td>\n",
              "      <td>7</td>\n",
              "      <td>0.00</td>\n",
              "      <td>14.1694</td>\n",
              "    </tr>\n",
              "    <tr>\n",
              "      <th>10</th>\n",
              "      <td>11</td>\n",
              "      <td>CA-2014-115812</td>\n",
              "      <td>2014-06-09</td>\n",
              "      <td>2014-06-14</td>\n",
              "      <td>Standard Class</td>\n",
              "      <td>BH-11710</td>\n",
              "      <td>Brosina Hoffman</td>\n",
              "      <td>Consumer</td>\n",
              "      <td>United States</td>\n",
              "      <td>Los Angeles</td>\n",
              "      <td>California</td>\n",
              "      <td>90032</td>\n",
              "      <td>West</td>\n",
              "      <td>FUR-TA-10001539</td>\n",
              "      <td>Furniture</td>\n",
              "      <td>Tables</td>\n",
              "      <td>Chromcraft Rectangular Conference Tables</td>\n",
              "      <td>1706.1840</td>\n",
              "      <td>9</td>\n",
              "      <td>0.20</td>\n",
              "      <td>85.3092</td>\n",
              "    </tr>\n",
              "  </tbody>\n",
              "</table>\n",
              "</div>"
            ],
            "text/plain": [
              "    Row ID        Order ID Order Date  ... Quantity Discount    Profit\n",
              "0        1  CA-2016-152156 2016-11-08  ...        2     0.00   41.9136\n",
              "1        2  CA-2016-152156 2016-11-08  ...        3     0.00  219.5820\n",
              "3        4  US-2015-108966 2015-10-11  ...        5     0.45 -383.0310\n",
              "5        6  CA-2014-115812 2014-06-09  ...        7     0.00   14.1694\n",
              "10      11  CA-2014-115812 2014-06-09  ...        9     0.20   85.3092\n",
              "\n",
              "[5 rows x 21 columns]"
            ]
          },
          "metadata": {},
          "execution_count": 13
        }
      ]
    },
    {
      "cell_type": "code",
      "metadata": {
        "colab": {
          "base_uri": "https://localhost:8080/"
        },
        "id": "kMJvs1k_rouo",
        "outputId": "b5abd45d-62f1-4cb7-9452-5b39dba196e6"
      },
      "source": [
        "len(furniture_data)"
      ],
      "execution_count": 14,
      "outputs": [
        {
          "output_type": "execute_result",
          "data": {
            "text/plain": [
              "2121"
            ]
          },
          "metadata": {},
          "execution_count": 14
        }
      ]
    },
    {
      "cell_type": "code",
      "metadata": {
        "colab": {
          "base_uri": "https://localhost:8080/"
        },
        "id": "rReL6k3Jr52v",
        "outputId": "169d7124-8ff2-4276-c81f-08a3a25f3095"
      },
      "source": [
        "print(furniture_data['Order Date'].min())\n",
        "print(furniture_data['Order Date'].min())"
      ],
      "execution_count": 15,
      "outputs": [
        {
          "output_type": "stream",
          "name": "stdout",
          "text": [
            "2014-01-06 00:00:00\n",
            "2014-01-06 00:00:00\n"
          ]
        }
      ]
    },
    {
      "cell_type": "code",
      "metadata": {
        "id": "k_O6TksZsmNR"
      },
      "source": [
        "# Two types of numbers -> 1. Continuous  2. Discrete \n",
        "# Continuous are numerical real values and Discrete are categorical features"
      ],
      "execution_count": null,
      "outputs": []
    },
    {
      "cell_type": "code",
      "metadata": {
        "id": "grl2FQzbt1Gq"
      },
      "source": [
        "# what is the feature that i want to predict against time?\n",
        "# y=f(x) => y is a continuous number that will change as per time"
      ],
      "execution_count": null,
      "outputs": []
    },
    {
      "cell_type": "code",
      "metadata": {
        "colab": {
          "base_uri": "https://localhost:8080/"
        },
        "id": "nIDeX72yuNSy",
        "outputId": "f46badbc-d05e-4663-c34e-5909483c9208"
      },
      "source": [
        "# if i was a Logistics planner or Business Analyst ,i have chosen 'Ship Mode' is the categorical column\n",
        "df['Ship Mode'].value_counts()"
      ],
      "execution_count": 16,
      "outputs": [
        {
          "output_type": "execute_result",
          "data": {
            "text/plain": [
              "Standard Class    5968\n",
              "Second Class      1945\n",
              "First Class       1538\n",
              "Same Day           543\n",
              "Name: Ship Mode, dtype: int64"
            ]
          },
          "metadata": {},
          "execution_count": 16
        }
      ]
    },
    {
      "cell_type": "code",
      "metadata": {
        "id": "KUfAGq6YstXi"
      },
      "source": [
        "# Continuous Variables "
      ],
      "execution_count": null,
      "outputs": []
    },
    {
      "cell_type": "code",
      "metadata": {
        "id": "snmQsV1fpa_C"
      },
      "source": [
        " # if i was Sales Person , i am interest to choose columns are Sales Profit\n",
        " # if i was Marketing Person ,i am interest to choose column Discount rather than Sales or Profit\n",
        " "
      ],
      "execution_count": null,
      "outputs": []
    },
    {
      "cell_type": "code",
      "metadata": {
        "id": "uzI8xLOasKcD"
      },
      "source": [
        "# Best Continuous variables to predict against time ---->  Sales\tQuantity\tDiscount\tProfit\n",
        "# Here Sales and Profit are the best for continuous variables\n",
        "# not suited for Continous variables here are \tQuantity(logistic Business Analyst)  and\tDiscount (too many zero's)"
      ],
      "execution_count": null,
      "outputs": []
    },
    {
      "cell_type": "code",
      "metadata": {
        "id": "js98Ei6FtlUO"
      },
      "source": [
        "# Type of Numbers\n",
        "# 1.Integers -> Complete positive ,zero and negative\n",
        "# 2.Real Numbers -> All integers that are not imaginary\n",
        "# 3.Imaginary Numbers --> Any number under sqrt of -1\n",
        "\n",
        "# Rational and Irrational Numbers  -> rational numbers are calcuatable numbers and irrational are PI,22/7 etc..\n",
        "\n",
        "# Discrete and Continuous Numbers"
      ],
      "execution_count": null,
      "outputs": []
    },
    {
      "cell_type": "markdown",
      "metadata": {
        "id": "IPsiLqWYzKB_"
      },
      "source": [
        "![image.png](data:image/png;base64,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)"
      ]
    },
    {
      "cell_type": "code",
      "metadata": {
        "id": "8GwCQv-Iz8Vi"
      },
      "source": [
        "# PI Chart   --> Discrete\n",
        "# Histograms --> Discrete\n",
        "# Line Chart --> Continuous"
      ],
      "execution_count": null,
      "outputs": []
    },
    {
      "cell_type": "code",
      "metadata": {
        "id": "nI6eoDCZzV1F"
      },
      "source": [
        "# Demo with Sales Column"
      ],
      "execution_count": null,
      "outputs": []
    },
    {
      "cell_type": "code",
      "metadata": {
        "id": "CP1SPmj71dfi"
      },
      "source": [
        "# len(furniture_data)  # we have 4 years of data represented by 2121 rows of dataset\n",
        "# 365 *4 --> 1460\n",
        "# at least some dates have more than 1 order and maybe some dates may not orders at all.\n",
        "\n",
        "# For TimeSeriesAnalysis ,we don't expect a GAUSSIAN distribution specially when variables are profit, loss, sales etc. \n",
        "# which either increase or decrease! they don't go bell curve\n",
        "\n",
        "# Note: # prev cases of classification, we would have preferred uniform or gaussian or normal distribution"
      ],
      "execution_count": null,
      "outputs": []
    },
    {
      "cell_type": "code",
      "metadata": {
        "id": "fXB32asF7Z6Z"
      },
      "source": [
        "data=df.loc[df['Category']=='Furniture']"
      ],
      "execution_count": 19,
      "outputs": []
    },
    {
      "cell_type": "code",
      "metadata": {
        "colab": {
          "base_uri": "https://localhost:8080/",
          "height": 206
        },
        "id": "mZ6Wzn2B50rH",
        "outputId": "e44d65e2-d0ba-4d0a-848a-fae39819895e"
      },
      "source": [
        "# ORDER BY and GROUP BY were our go to methods in SQL!\n",
        "data_grouped = data.groupby('Order Date')\n",
        "data_grouped = data_grouped['Sales'].sum().reset_index()\n",
        "data_grouped.tail()\n",
        "# Above Assumptions were correct and at least some dates have more than 1 order and some dates may not orders at all "
      ],
      "execution_count": 20,
      "outputs": [
        {
          "output_type": "execute_result",
          "data": {
            "text/html": [
              "<div>\n",
              "<style scoped>\n",
              "    .dataframe tbody tr th:only-of-type {\n",
              "        vertical-align: middle;\n",
              "    }\n",
              "\n",
              "    .dataframe tbody tr th {\n",
              "        vertical-align: top;\n",
              "    }\n",
              "\n",
              "    .dataframe thead th {\n",
              "        text-align: right;\n",
              "    }\n",
              "</style>\n",
              "<table border=\"1\" class=\"dataframe\">\n",
              "  <thead>\n",
              "    <tr style=\"text-align: right;\">\n",
              "      <th></th>\n",
              "      <th>Order Date</th>\n",
              "      <th>Sales</th>\n",
              "    </tr>\n",
              "  </thead>\n",
              "  <tbody>\n",
              "    <tr>\n",
              "      <th>884</th>\n",
              "      <td>2017-12-24</td>\n",
              "      <td>1393.4940</td>\n",
              "    </tr>\n",
              "    <tr>\n",
              "      <th>885</th>\n",
              "      <td>2017-12-25</td>\n",
              "      <td>832.4540</td>\n",
              "    </tr>\n",
              "    <tr>\n",
              "      <th>886</th>\n",
              "      <td>2017-12-28</td>\n",
              "      <td>551.2568</td>\n",
              "    </tr>\n",
              "    <tr>\n",
              "      <th>887</th>\n",
              "      <td>2017-12-29</td>\n",
              "      <td>2330.7180</td>\n",
              "    </tr>\n",
              "    <tr>\n",
              "      <th>888</th>\n",
              "      <td>2017-12-30</td>\n",
              "      <td>323.1360</td>\n",
              "    </tr>\n",
              "  </tbody>\n",
              "</table>\n",
              "</div>"
            ],
            "text/plain": [
              "    Order Date      Sales\n",
              "884 2017-12-24  1393.4940\n",
              "885 2017-12-25   832.4540\n",
              "886 2017-12-28   551.2568\n",
              "887 2017-12-29  2330.7180\n",
              "888 2017-12-30   323.1360"
            ]
          },
          "metadata": {},
          "execution_count": 20
        }
      ]
    },
    {
      "cell_type": "code",
      "metadata": {
        "id": "2lXE8a3M87r7"
      },
      "source": [
        "# Here Predicting Day by Day will be a mistake -> real data for this granularity does not exist\n",
        "# Weekly or monthly prediction \n",
        "# Temp this week will be around 22\n",
        "# M-> 22, T-> 21, W->33, .... Sun-> 21 \n",
        "# Between the two, the weekly prediction have lesser chances of going wrong than daily prediction\n",
        "# Monthly will be better than weekly\n",
        "# Quarter will be better than monthly , annual better than quarterly "
      ],
      "execution_count": null,
      "outputs": []
    },
    {
      "cell_type": "code",
      "metadata": {
        "colab": {
          "base_uri": "https://localhost:8080/"
        },
        "id": "AgVX3ViO9RAk",
        "outputId": "d1a22b38-d266-49af-b088-eccf5612960c"
      },
      "source": [
        "data_grouped.set_index('Order Date', inplace=True)\n",
        "y = data_grouped['Sales'].resample('MS').mean() # Average sales of month will be a Better prediction than Total sales \n",
        "y.head()"
      ],
      "execution_count": 21,
      "outputs": [
        {
          "output_type": "execute_result",
          "data": {
            "text/plain": [
              "Order Date\n",
              "2014-01-01    480.194231\n",
              "2014-02-01    367.931600\n",
              "2014-03-01    857.291529\n",
              "2014-04-01    567.488357\n",
              "2014-05-01    432.049187\n",
              "Freq: MS, Name: Sales, dtype: float64"
            ]
          },
          "metadata": {},
          "execution_count": 21
        }
      ]
    },
    {
      "cell_type": "code",
      "metadata": {
        "id": "bU4vyotY-H-6"
      },
      "source": [
        "# https://pandas.pydata.org/pandas-docs/stable/reference/api/pandas.DataFrame.resample.html"
      ],
      "execution_count": null,
      "outputs": []
    },
    {
      "cell_type": "code",
      "metadata": {
        "colab": {
          "base_uri": "https://localhost:8080/"
        },
        "id": "UcXdSAkE-nKw",
        "outputId": "eededf74-8daa-4bad-e90c-751ee3461104"
      },
      "source": [
        "len(y) # 48 was expected for 4 years- Proper representation for all discrete timestamps"
      ],
      "execution_count": 22,
      "outputs": [
        {
          "output_type": "execute_result",
          "data": {
            "text/plain": [
              "48"
            ]
          },
          "metadata": {},
          "execution_count": 22
        }
      ]
    },
    {
      "cell_type": "code",
      "metadata": {
        "colab": {
          "base_uri": "https://localhost:8080/"
        },
        "id": "le1Oaeie_N4B",
        "outputId": "63663dcf-97af-4de0-cfee-02efe6badc8d"
      },
      "source": [
        "y.tail()"
      ],
      "execution_count": 24,
      "outputs": [
        {
          "output_type": "execute_result",
          "data": {
            "text/plain": [
              "Order Date\n",
              "2017-08-01     857.881889\n",
              "2017-09-01    1209.508583\n",
              "2017-10-01     875.362728\n",
              "2017-11-01    1277.817759\n",
              "2017-12-01    1256.298672\n",
              "Freq: MS, Name: Sales, dtype: float64"
            ]
          },
          "metadata": {},
          "execution_count": 24
        }
      ]
    },
    {
      "cell_type": "code",
      "metadata": {
        "colab": {
          "base_uri": "https://localhost:8080/"
        },
        "id": "pqc97OfNBHJb",
        "outputId": "1b473e7d-2707-4b5b-a5b5-dfb22e3994b5"
      },
      "source": [
        "y['2014':'2015']"
      ],
      "execution_count": 25,
      "outputs": [
        {
          "output_type": "execute_result",
          "data": {
            "text/plain": [
              "Order Date\n",
              "2014-01-01     480.194231\n",
              "2014-02-01     367.931600\n",
              "2014-03-01     857.291529\n",
              "2014-04-01     567.488357\n",
              "2014-05-01     432.049187\n",
              "2014-06-01     695.059242\n",
              "2014-07-01     601.169500\n",
              "2014-08-01     457.521656\n",
              "2014-09-01     992.353367\n",
              "2014-10-01     769.015437\n",
              "2014-11-01     980.221486\n",
              "2014-12-01    1532.298325\n",
              "2015-01-01     978.328467\n",
              "2015-02-01     522.395667\n",
              "2015-03-01     781.236437\n",
              "2015-04-01     805.822962\n",
              "2015-05-01     624.996700\n",
              "2015-06-01     428.565500\n",
              "2015-07-01     719.706316\n",
              "2015-08-01     602.412012\n",
              "2015-09-01    1382.790684\n",
              "2015-10-01     632.980184\n",
              "2015-11-01    1286.701354\n",
              "2015-12-01    1049.355418\n",
              "Freq: MS, Name: Sales, dtype: float64"
            ]
          },
          "metadata": {},
          "execution_count": 25
        }
      ]
    },
    {
      "cell_type": "markdown",
      "metadata": {
        "id": "WTMojs1wFx-8"
      },
      "source": [
        "![image.png](data:image/png;base64,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)"
      ]
    },
    {
      "cell_type": "code",
      "metadata": {
        "id": "5_udJY-NF19A"
      },
      "source": [
        "# Independence Tests \n",
        "# Univariate variable for TSA -> make sure that it's an independent variable\n",
        "# We preferred Sales over Profit because -> Profit was dependent on Discount and Sales \n",
        "# For BULK data -> always do an independence test \n",
        "# Profit = y = f(Sales, Discount) <- Profit was dependent \n",
        "# Sales -> y = f(order_items ) "
      ],
      "execution_count": null,
      "outputs": []
    },
    {
      "cell_type": "code",
      "metadata": {
        "colab": {
          "base_uri": "https://localhost:8080/",
          "height": 345
        },
        "id": "Edy5LHwBHIs1",
        "outputId": "465aef5d-4d67-4267-e713-9d021cd24aa3"
      },
      "source": [
        "plt.figure()\n",
        "y.plot(figsize=(15,5))\n",
        "plt.show()"
      ],
      "execution_count": 26,
      "outputs": [
        {
          "output_type": "display_data",
          "data": {
            "image/png": "[encoded data removed]",
            "text/plain": [
              "<Figure size 1080x360 with 1 Axes>"
            ]
          },
          "metadata": {
            "needs_background": "light"
          }
        }
      ]
    },
    {
      "cell_type": "code",
      "metadata": {
        "id": "C5-3kkpJKEAN"
      },
      "source": [
        "# linear transformation"
      ],
      "execution_count": null,
      "outputs": []
    },
    {
      "cell_type": "markdown",
      "metadata": {
        "id": "fxk3U3qpJwCx"
      },
      "source": [
        "![image.png](data:image/png;base64,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)"
      ]
    },
    {
      "cell_type": "code",
      "metadata": {
        "id": "q7r_uw1tK0qN"
      },
      "source": [
        "# Eigenvectors and EigenValues -> \n",
        "# Vectors on which any linear transformation is applied and doesn't change its direction\n",
        "# Such a vector is called Eigenvector, and its value is Eigenvalue \n",
        "# https://www.mathsisfun.com/algebra/eigenvalue.html"
      ],
      "execution_count": null,
      "outputs": []
    },
    {
      "cell_type": "code",
      "metadata": {
        "id": "cGG6GwtHKGyD"
      },
      "source": [
        "# Old Algo for TimeSeries: \n",
        "# https://orangematter.solarwinds.com/2019/12/15/holt-winters-forecasting-simplified/"
      ],
      "execution_count": null,
      "outputs": []
    },
    {
      "cell_type": "code",
      "metadata": {
        "id": "abCB7YcEMo8k"
      },
      "source": [
        "# SARIMAX -> SEASONAL ARIMA EXTREME \n",
        "# SEASONS -> PERIODS or PATTERNS that repeat w.r.t. TIME \n",
        "# TREND -> whether the overall data was increasing or decreasing (slope, dy/dx )\n",
        "# RESIDUE or NOISE -> Whatever is left \n",
        "# INSTEAD of making prediction on original data \n",
        "# We decompose the GRAPH into Seasons, TRENDS, RESIDUE \n",
        "# each of them is predicted separately, and then composed to get final prediction \n",
        "# AR I MA -> Auto-Regression, Integrated seasons, Moving Averages \n",
        "# we will apply all 3 algorithms to SEASONS (season present or season absent), trend, residue"
      ],
      "execution_count": null,
      "outputs": []
    },
    {
      "cell_type": "markdown",
      "metadata": {
        "id": "aY-MwvzoMprM"
      },
      "source": [
        "![image.png](data:image/png;base64,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)"
      ]
    },
    {
      "cell_type": "code",
      "metadata": {
        "id": "7T5wQpDJM25x"
      },
      "source": [
        ""
      ],
      "execution_count": null,
      "outputs": []
    }
  ]
}