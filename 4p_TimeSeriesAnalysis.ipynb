{
  "nbformat": 4,
  "nbformat_minor": 0,
  "metadata": {
    "colab": {
      "name": "4p_TimeSeriesAnalysis.ipynb",
      "provenance": [],
      "collapsed_sections": [],
      "authorship_tag": "ABX9TyM2IX3bA0ZbxwuBXvCgjIla",
      "include_colab_link": true
    },
    "kernelspec": {
      "name": "python3",
      "display_name": "Python 3"
    },
    "language_info": {
      "name": "python"
    }
  },
  "cells": [
    {
      "cell_type": "markdown",
      "metadata": {
        "id": "view-in-github",
        "colab_type": "text"
      },
      "source": [
        "<a href=\"https://colab.research.google.com/github/lellabhaskar/DataScience/blob/main/4p_TimeSeriesAnalysis.ipynb\" target=\"_parent\"><img src=\"https://colab.research.google.com/assets/colab-badge.svg\" alt=\"Open In Colab\"/></a>"
      ]
    },
    {
      "cell_type": "code",
      "metadata": {
        "colab": {
          "base_uri": "https://localhost:8080/"
        },
        "id": "bvnfO21Ra8qm",
        "outputId": "f3a7c6d8-765f-441c-c620-f84f03ed8528"
      },
      "source": [
        "# Superstore data set\n",
        "# https://community.tableau.com/docs/DOC-1236\n",
        "\n",
        "!ls"
      ],
      "execution_count": 1,
      "outputs": [
        {
          "output_type": "stream",
          "name": "stdout",
          "text": [
            " sample_data  'Sample - Superstore.xls'\n"
          ]
        }
      ]
    },
    {
      "cell_type": "code",
      "metadata": {
        "id": "suCPlGZldI39",
        "colab": {
          "base_uri": "https://localhost:8080/"
        },
        "outputId": "3c908369-8d21-467c-c7c1-08e3d77124e4"
      },
      "source": [
        "import pandas as pd\n",
        "df = pd.read_excel('Sample - Superstore.xls')\n",
        "df.head()\n",
        "df.columns"
      ],
      "execution_count": 2,
      "outputs": [
        {
          "output_type": "execute_result",
          "data": {
            "text/plain": [
              "Index(['Row ID', 'Order ID', 'Order Date', 'Ship Date', 'Ship Mode',\n",
              "       'Customer ID', 'Customer Name', 'Segment', 'Country', 'City', 'State',\n",
              "       'Postal Code', 'Region', 'Product ID', 'Category', 'Sub-Category',\n",
              "       'Product Name', 'Sales', 'Quantity', 'Discount', 'Profit'],\n",
              "      dtype='object')"
            ]
          },
          "metadata": {},
          "execution_count": 2
        }
      ]
    },
    {
      "cell_type": "code",
      "metadata": {
        "id": "473pwlDVIwmO",
        "colab": {
          "base_uri": "https://localhost:8080/"
        },
        "outputId": "e4d6d83e-c72d-419e-8f8b-4545a051b323"
      },
      "source": [
        "import warnings\n",
        "import itertools\n",
        "import numpy as np\n",
        "import statsmodels.api as sm\n",
        "import matplotlib.pyplot as plt\n",
        "import matplotlib\n",
        "%matplotlib inline\n",
        "\n",
        "warnings.filterwarnings(\"ignore\") # for production use \n",
        "#never use development because warnings must be consider into bug and try to fix if it is possible.\n"
      ],
      "execution_count": 3,
      "outputs": [
        {
          "output_type": "stream",
          "name": "stderr",
          "text": [
            "/usr/local/lib/python3.7/dist-packages/statsmodels/tools/_testing.py:19: FutureWarning: pandas.util.testing is deprecated. Use the functions in the public API at pandas.testing instead.\n",
            "  import pandas.util.testing as tm\n"
          ]
        }
      ]
    },
    {
      "cell_type": "code",
      "metadata": {
        "id": "eRaeMixdQnQg"
      },
      "source": [
        "# Whenever you are working into TimeSeries analysis -> refer to TIMESTAMPS columns\n",
        "# if you don't have timestamps but data is arranged in either time-ascending or descending order, take a reference timeline -> 1990-2000 \n",
        "# TIMESTAMP should work like an INDEX and not input dataset \n"
      ],
      "execution_count": null,
      "outputs": []
    },
    {
      "cell_type": "code",
      "metadata": {
        "colab": {
          "base_uri": "https://localhost:8080/",
          "height": 556
        },
        "id": "ak0XZ6_mAJIi",
        "outputId": "7d96eba2-a67d-4766-c9dd-9189a1bffb31"
      },
      "source": [
        "df.head()"
      ],
      "execution_count": 4,
      "outputs": [
        {
          "output_type": "execute_result",
          "data": {
            "text/html": [
              "<div>\n",
              "<style scoped>\n",
              "    .dataframe tbody tr th:only-of-type {\n",
              "        vertical-align: middle;\n",
              "    }\n",
              "\n",
              "    .dataframe tbody tr th {\n",
              "        vertical-align: top;\n",
              "    }\n",
              "\n",
              "    .dataframe thead th {\n",
              "        text-align: right;\n",
              "    }\n",
              "</style>\n",
              "<table border=\"1\" class=\"dataframe\">\n",
              "  <thead>\n",
              "    <tr style=\"text-align: right;\">\n",
              "      <th></th>\n",
              "      <th>Row ID</th>\n",
              "      <th>Order ID</th>\n",
              "      <th>Order Date</th>\n",
              "      <th>Ship Date</th>\n",
              "      <th>Ship Mode</th>\n",
              "      <th>Customer ID</th>\n",
              "      <th>Customer Name</th>\n",
              "      <th>Segment</th>\n",
              "      <th>Country</th>\n",
              "      <th>City</th>\n",
              "      <th>State</th>\n",
              "      <th>Postal Code</th>\n",
              "      <th>Region</th>\n",
              "      <th>Product ID</th>\n",
              "      <th>Category</th>\n",
              "      <th>Sub-Category</th>\n",
              "      <th>Product Name</th>\n",
              "      <th>Sales</th>\n",
              "      <th>Quantity</th>\n",
              "      <th>Discount</th>\n",
              "      <th>Profit</th>\n",
              "    </tr>\n",
              "  </thead>\n",
              "  <tbody>\n",
              "    <tr>\n",
              "      <th>0</th>\n",
              "      <td>1</td>\n",
              "      <td>CA-2016-152156</td>\n",
              "      <td>2016-11-08</td>\n",
              "      <td>2016-11-11</td>\n",
              "      <td>Second Class</td>\n",
              "      <td>CG-12520</td>\n",
              "      <td>Claire Gute</td>\n",
              "      <td>Consumer</td>\n",
              "      <td>United States</td>\n",
              "      <td>Henderson</td>\n",
              "      <td>Kentucky</td>\n",
              "      <td>42420</td>\n",
              "      <td>South</td>\n",
              "      <td>FUR-BO-10001798</td>\n",
              "      <td>Furniture</td>\n",
              "      <td>Bookcases</td>\n",
              "      <td>Bush Somerset Collection Bookcase</td>\n",
              "      <td>261.9600</td>\n",
              "      <td>2</td>\n",
              "      <td>0.00</td>\n",
              "      <td>41.9136</td>\n",
              "    </tr>\n",
              "    <tr>\n",
              "      <th>1</th>\n",
              "      <td>2</td>\n",
              "      <td>CA-2016-152156</td>\n",
              "      <td>2016-11-08</td>\n",
              "      <td>2016-11-11</td>\n",
              "      <td>Second Class</td>\n",
              "      <td>CG-12520</td>\n",
              "      <td>Claire Gute</td>\n",
              "      <td>Consumer</td>\n",
              "      <td>United States</td>\n",
              "      <td>Henderson</td>\n",
              "      <td>Kentucky</td>\n",
              "      <td>42420</td>\n",
              "      <td>South</td>\n",
              "      <td>FUR-CH-10000454</td>\n",
              "      <td>Furniture</td>\n",
              "      <td>Chairs</td>\n",
              "      <td>Hon Deluxe Fabric Upholstered Stacking Chairs,...</td>\n",
              "      <td>731.9400</td>\n",
              "      <td>3</td>\n",
              "      <td>0.00</td>\n",
              "      <td>219.5820</td>\n",
              "    </tr>\n",
              "    <tr>\n",
              "      <th>2</th>\n",
              "      <td>3</td>\n",
              "      <td>CA-2016-138688</td>\n",
              "      <td>2016-06-12</td>\n",
              "      <td>2016-06-16</td>\n",
              "      <td>Second Class</td>\n",
              "      <td>DV-13045</td>\n",
              "      <td>Darrin Van Huff</td>\n",
              "      <td>Corporate</td>\n",
              "      <td>United States</td>\n",
              "      <td>Los Angeles</td>\n",
              "      <td>California</td>\n",
              "      <td>90036</td>\n",
              "      <td>West</td>\n",
              "      <td>OFF-LA-10000240</td>\n",
              "      <td>Office Supplies</td>\n",
              "      <td>Labels</td>\n",
              "      <td>Self-Adhesive Address Labels for Typewriters b...</td>\n",
              "      <td>14.6200</td>\n",
              "      <td>2</td>\n",
              "      <td>0.00</td>\n",
              "      <td>6.8714</td>\n",
              "    </tr>\n",
              "    <tr>\n",
              "      <th>3</th>\n",
              "      <td>4</td>\n",
              "      <td>US-2015-108966</td>\n",
              "      <td>2015-10-11</td>\n",
              "      <td>2015-10-18</td>\n",
              "      <td>Standard Class</td>\n",
              "      <td>SO-20335</td>\n",
              "      <td>Sean O'Donnell</td>\n",
              "      <td>Consumer</td>\n",
              "      <td>United States</td>\n",
              "      <td>Fort Lauderdale</td>\n",
              "      <td>Florida</td>\n",
              "      <td>33311</td>\n",
              "      <td>South</td>\n",
              "      <td>FUR-TA-10000577</td>\n",
              "      <td>Furniture</td>\n",
              "      <td>Tables</td>\n",
              "      <td>Bretford CR4500 Series Slim Rectangular Table</td>\n",
              "      <td>957.5775</td>\n",
              "      <td>5</td>\n",
              "      <td>0.45</td>\n",
              "      <td>-383.0310</td>\n",
              "    </tr>\n",
              "    <tr>\n",
              "      <th>4</th>\n",
              "      <td>5</td>\n",
              "      <td>US-2015-108966</td>\n",
              "      <td>2015-10-11</td>\n",
              "      <td>2015-10-18</td>\n",
              "      <td>Standard Class</td>\n",
              "      <td>SO-20335</td>\n",
              "      <td>Sean O'Donnell</td>\n",
              "      <td>Consumer</td>\n",
              "      <td>United States</td>\n",
              "      <td>Fort Lauderdale</td>\n",
              "      <td>Florida</td>\n",
              "      <td>33311</td>\n",
              "      <td>South</td>\n",
              "      <td>OFF-ST-10000760</td>\n",
              "      <td>Office Supplies</td>\n",
              "      <td>Storage</td>\n",
              "      <td>Eldon Fold 'N Roll Cart System</td>\n",
              "      <td>22.3680</td>\n",
              "      <td>2</td>\n",
              "      <td>0.20</td>\n",
              "      <td>2.5164</td>\n",
              "    </tr>\n",
              "  </tbody>\n",
              "</table>\n",
              "</div>"
            ],
            "text/plain": [
              "   Row ID        Order ID Order Date  ... Quantity Discount    Profit\n",
              "0       1  CA-2016-152156 2016-11-08  ...        2     0.00   41.9136\n",
              "1       2  CA-2016-152156 2016-11-08  ...        3     0.00  219.5820\n",
              "2       3  CA-2016-138688 2016-06-12  ...        2     0.00    6.8714\n",
              "3       4  US-2015-108966 2015-10-11  ...        5     0.45 -383.0310\n",
              "4       5  US-2015-108966 2015-10-11  ...        2     0.20    2.5164\n",
              "\n",
              "[5 rows x 21 columns]"
            ]
          },
          "metadata": {},
          "execution_count": 4
        }
      ]
    },
    {
      "cell_type": "code",
      "metadata": {
        "colab": {
          "base_uri": "https://localhost:8080/",
          "height": 271
        },
        "id": "PtMNk80pIRN6",
        "outputId": "f093e020-5de2-40c4-bec9-cd571d48aa14"
      },
      "source": [
        "df.head(2)"
      ],
      "execution_count": 5,
      "outputs": [
        {
          "output_type": "execute_result",
          "data": {
            "text/html": [
              "<div>\n",
              "<style scoped>\n",
              "    .dataframe tbody tr th:only-of-type {\n",
              "        vertical-align: middle;\n",
              "    }\n",
              "\n",
              "    .dataframe tbody tr th {\n",
              "        vertical-align: top;\n",
              "    }\n",
              "\n",
              "    .dataframe thead th {\n",
              "        text-align: right;\n",
              "    }\n",
              "</style>\n",
              "<table border=\"1\" class=\"dataframe\">\n",
              "  <thead>\n",
              "    <tr style=\"text-align: right;\">\n",
              "      <th></th>\n",
              "      <th>Row ID</th>\n",
              "      <th>Order ID</th>\n",
              "      <th>Order Date</th>\n",
              "      <th>Ship Date</th>\n",
              "      <th>Ship Mode</th>\n",
              "      <th>Customer ID</th>\n",
              "      <th>Customer Name</th>\n",
              "      <th>Segment</th>\n",
              "      <th>Country</th>\n",
              "      <th>City</th>\n",
              "      <th>State</th>\n",
              "      <th>Postal Code</th>\n",
              "      <th>Region</th>\n",
              "      <th>Product ID</th>\n",
              "      <th>Category</th>\n",
              "      <th>Sub-Category</th>\n",
              "      <th>Product Name</th>\n",
              "      <th>Sales</th>\n",
              "      <th>Quantity</th>\n",
              "      <th>Discount</th>\n",
              "      <th>Profit</th>\n",
              "    </tr>\n",
              "  </thead>\n",
              "  <tbody>\n",
              "    <tr>\n",
              "      <th>0</th>\n",
              "      <td>1</td>\n",
              "      <td>CA-2016-152156</td>\n",
              "      <td>2016-11-08</td>\n",
              "      <td>2016-11-11</td>\n",
              "      <td>Second Class</td>\n",
              "      <td>CG-12520</td>\n",
              "      <td>Claire Gute</td>\n",
              "      <td>Consumer</td>\n",
              "      <td>United States</td>\n",
              "      <td>Henderson</td>\n",
              "      <td>Kentucky</td>\n",
              "      <td>42420</td>\n",
              "      <td>South</td>\n",
              "      <td>FUR-BO-10001798</td>\n",
              "      <td>Furniture</td>\n",
              "      <td>Bookcases</td>\n",
              "      <td>Bush Somerset Collection Bookcase</td>\n",
              "      <td>261.96</td>\n",
              "      <td>2</td>\n",
              "      <td>0.0</td>\n",
              "      <td>41.9136</td>\n",
              "    </tr>\n",
              "    <tr>\n",
              "      <th>1</th>\n",
              "      <td>2</td>\n",
              "      <td>CA-2016-152156</td>\n",
              "      <td>2016-11-08</td>\n",
              "      <td>2016-11-11</td>\n",
              "      <td>Second Class</td>\n",
              "      <td>CG-12520</td>\n",
              "      <td>Claire Gute</td>\n",
              "      <td>Consumer</td>\n",
              "      <td>United States</td>\n",
              "      <td>Henderson</td>\n",
              "      <td>Kentucky</td>\n",
              "      <td>42420</td>\n",
              "      <td>South</td>\n",
              "      <td>FUR-CH-10000454</td>\n",
              "      <td>Furniture</td>\n",
              "      <td>Chairs</td>\n",
              "      <td>Hon Deluxe Fabric Upholstered Stacking Chairs,...</td>\n",
              "      <td>731.94</td>\n",
              "      <td>3</td>\n",
              "      <td>0.0</td>\n",
              "      <td>219.5820</td>\n",
              "    </tr>\n",
              "  </tbody>\n",
              "</table>\n",
              "</div>"
            ],
            "text/plain": [
              "   Row ID        Order ID Order Date  ... Quantity Discount    Profit\n",
              "0       1  CA-2016-152156 2016-11-08  ...        2      0.0   41.9136\n",
              "1       2  CA-2016-152156 2016-11-08  ...        3      0.0  219.5820\n",
              "\n",
              "[2 rows x 21 columns]"
            ]
          },
          "metadata": {},
          "execution_count": 5
        }
      ]
    },
    {
      "cell_type": "code",
      "metadata": {
        "id": "y5w6xCVuN52l"
      },
      "source": [
        "# Based on above data, we need to analysis for TimeSeries"
      ],
      "execution_count": null,
      "outputs": []
    },
    {
      "cell_type": "code",
      "metadata": {
        "colab": {
          "base_uri": "https://localhost:8080/"
        },
        "id": "No4tz0CfLg5g",
        "outputId": "349c3c2b-da37-422f-860e-5695baf687b4"
      },
      "source": [
        "len(df)"
      ],
      "execution_count": 6,
      "outputs": [
        {
          "output_type": "execute_result",
          "data": {
            "text/plain": [
              "9994"
            ]
          },
          "metadata": {},
          "execution_count": 6
        }
      ]
    },
    {
      "cell_type": "code",
      "metadata": {
        "id": "SgQjZeZ7RQCR"
      },
      "source": [
        "# TimeSeries Analysis are two types -> Univariate and multivariate \n"
      ],
      "execution_count": null,
      "outputs": []
    },
    {
      "cell_type": "code",
      "metadata": {
        "id": "1ZzLR82xRXAu"
      },
      "source": [
        "# Univariate\n",
        "# One Feature is going to fluctuate w.r.t. TIME "
      ],
      "execution_count": null,
      "outputs": []
    },
    {
      "cell_type": "code",
      "metadata": {
        "colab": {
          "base_uri": "https://localhost:8080/",
          "height": 306
        },
        "id": "qgQTFInaNeBt",
        "outputId": "f0f4bc79-5218-4809-f758-223614ade1cd"
      },
      "source": [
        "df.tail(2)"
      ],
      "execution_count": 7,
      "outputs": [
        {
          "output_type": "execute_result",
          "data": {
            "text/html": [
              "<div>\n",
              "<style scoped>\n",
              "    .dataframe tbody tr th:only-of-type {\n",
              "        vertical-align: middle;\n",
              "    }\n",
              "\n",
              "    .dataframe tbody tr th {\n",
              "        vertical-align: top;\n",
              "    }\n",
              "\n",
              "    .dataframe thead th {\n",
              "        text-align: right;\n",
              "    }\n",
              "</style>\n",
              "<table border=\"1\" class=\"dataframe\">\n",
              "  <thead>\n",
              "    <tr style=\"text-align: right;\">\n",
              "      <th></th>\n",
              "      <th>Row ID</th>\n",
              "      <th>Order ID</th>\n",
              "      <th>Order Date</th>\n",
              "      <th>Ship Date</th>\n",
              "      <th>Ship Mode</th>\n",
              "      <th>Customer ID</th>\n",
              "      <th>Customer Name</th>\n",
              "      <th>Segment</th>\n",
              "      <th>Country</th>\n",
              "      <th>City</th>\n",
              "      <th>State</th>\n",
              "      <th>Postal Code</th>\n",
              "      <th>Region</th>\n",
              "      <th>Product ID</th>\n",
              "      <th>Category</th>\n",
              "      <th>Sub-Category</th>\n",
              "      <th>Product Name</th>\n",
              "      <th>Sales</th>\n",
              "      <th>Quantity</th>\n",
              "      <th>Discount</th>\n",
              "      <th>Profit</th>\n",
              "    </tr>\n",
              "  </thead>\n",
              "  <tbody>\n",
              "    <tr>\n",
              "      <th>9992</th>\n",
              "      <td>9993</td>\n",
              "      <td>CA-2017-121258</td>\n",
              "      <td>2017-02-26</td>\n",
              "      <td>2017-03-03</td>\n",
              "      <td>Standard Class</td>\n",
              "      <td>DB-13060</td>\n",
              "      <td>Dave Brooks</td>\n",
              "      <td>Consumer</td>\n",
              "      <td>United States</td>\n",
              "      <td>Costa Mesa</td>\n",
              "      <td>California</td>\n",
              "      <td>92627</td>\n",
              "      <td>West</td>\n",
              "      <td>OFF-PA-10004041</td>\n",
              "      <td>Office Supplies</td>\n",
              "      <td>Paper</td>\n",
              "      <td>It's Hot Message Books with Stickers, 2 3/4\" x 5\"</td>\n",
              "      <td>29.60</td>\n",
              "      <td>4</td>\n",
              "      <td>0.0</td>\n",
              "      <td>13.320</td>\n",
              "    </tr>\n",
              "    <tr>\n",
              "      <th>9993</th>\n",
              "      <td>9994</td>\n",
              "      <td>CA-2017-119914</td>\n",
              "      <td>2017-05-04</td>\n",
              "      <td>2017-05-09</td>\n",
              "      <td>Second Class</td>\n",
              "      <td>CC-12220</td>\n",
              "      <td>Chris Cortes</td>\n",
              "      <td>Consumer</td>\n",
              "      <td>United States</td>\n",
              "      <td>Westminster</td>\n",
              "      <td>California</td>\n",
              "      <td>92683</td>\n",
              "      <td>West</td>\n",
              "      <td>OFF-AP-10002684</td>\n",
              "      <td>Office Supplies</td>\n",
              "      <td>Appliances</td>\n",
              "      <td>Acco 7-Outlet Masterpiece Power Center, Wihtou...</td>\n",
              "      <td>243.16</td>\n",
              "      <td>2</td>\n",
              "      <td>0.0</td>\n",
              "      <td>72.948</td>\n",
              "    </tr>\n",
              "  </tbody>\n",
              "</table>\n",
              "</div>"
            ],
            "text/plain": [
              "      Row ID        Order ID Order Date  ... Quantity Discount  Profit\n",
              "9992    9993  CA-2017-121258 2017-02-26  ...        4      0.0  13.320\n",
              "9993    9994  CA-2017-119914 2017-05-04  ...        2      0.0  72.948\n",
              "\n",
              "[2 rows x 21 columns]"
            ]
          },
          "metadata": {},
          "execution_count": 7
        }
      ]
    },
    {
      "cell_type": "code",
      "metadata": {
        "id": "5ynVczSMO65F"
      },
      "source": [
        "# Based on above data, trying to findout all important Categorical data"
      ],
      "execution_count": null,
      "outputs": []
    },
    {
      "cell_type": "code",
      "metadata": {
        "colab": {
          "base_uri": "https://localhost:8080/"
        },
        "id": "yHH5Ea1GNpPZ",
        "outputId": "2d9d6d81-f593-4ed2-d562-995f36d1e654"
      },
      "source": [
        "df.Country.value_counts() # this is not import of categoritcal data because all values belongs to only one Country"
      ],
      "execution_count": 8,
      "outputs": [
        {
          "output_type": "execute_result",
          "data": {
            "text/plain": [
              "United States    9994\n",
              "Name: Country, dtype: int64"
            ]
          },
          "metadata": {},
          "execution_count": 8
        }
      ]
    },
    {
      "cell_type": "code",
      "metadata": {
        "colab": {
          "base_uri": "https://localhost:8080/"
        },
        "id": "kkGObyscN3rV",
        "outputId": "d055a652-5780-4747-b4ee-095cb3d1775a"
      },
      "source": [
        "  df.City.value_counts() # this is also not categorical data due to Too many values for city and here anlaysis possible only some cities"
      ],
      "execution_count": 9,
      "outputs": [
        {
          "output_type": "execute_result",
          "data": {
            "text/plain": [
              "New York City    915\n",
              "Los Angeles      747\n",
              "Philadelphia     537\n",
              "San Francisco    510\n",
              "Seattle          428\n",
              "                ... \n",
              "Holyoke            1\n",
              "Vacaville          1\n",
              "Portage            1\n",
              "Santa Maria        1\n",
              "Norfolk            1\n",
              "Name: City, Length: 531, dtype: int64"
            ]
          },
          "metadata": {},
          "execution_count": 9
        }
      ]
    },
    {
      "cell_type": "code",
      "metadata": {
        "colab": {
          "base_uri": "https://localhost:8080/"
        },
        "id": "RUfvgL0HPpyY",
        "outputId": "216712ce-cf87-4d11-edb0-8d04b12eec77"
      },
      "source": [
        "colNames =df.columns\n",
        "for i ,feature in enumerate(colNames):\n",
        "  print(colNames[i])\n",
        "  #print(df[feature].value_counts())\n",
        "  print(len(df[feature].value_counts()))"
      ],
      "execution_count": 10,
      "outputs": [
        {
          "output_type": "stream",
          "name": "stdout",
          "text": [
            "Row ID\n",
            "9994\n",
            "Order ID\n",
            "5009\n",
            "Order Date\n",
            "1237\n",
            "Ship Date\n",
            "1334\n",
            "Ship Mode\n",
            "4\n",
            "Customer ID\n",
            "793\n",
            "Customer Name\n",
            "793\n",
            "Segment\n",
            "3\n",
            "Country\n",
            "1\n",
            "City\n",
            "531\n",
            "State\n",
            "49\n",
            "Postal Code\n",
            "631\n",
            "Region\n",
            "4\n",
            "Product ID\n",
            "1862\n",
            "Category\n",
            "3\n",
            "Sub-Category\n",
            "17\n",
            "Product Name\n",
            "1850\n",
            "Sales\n",
            "6144\n",
            "Quantity\n",
            "14\n",
            "Discount\n",
            "12\n",
            "Profit\n",
            "7545\n"
          ]
        }
      ]
    },
    {
      "cell_type": "code",
      "metadata": {
        "id": "-CuHburrTL63"
      },
      "source": [
        "# Based on above output ,Region and Category or Sub-Category Columns are the good Categorical Data"
      ],
      "execution_count": null,
      "outputs": []
    },
    {
      "cell_type": "code",
      "metadata": {
        "colab": {
          "base_uri": "https://localhost:8080/"
        },
        "id": "EZTq9sEyUO5I",
        "outputId": "b8544d9c-d375-4ed9-bd86-1c971696be0f"
      },
      "source": [
        "colNames = df.columns \n",
        "for i, feature in enumerate(colNames):\n",
        "  print(colNames[i] + \" ------------ \" + str(len(df[feature].value_counts())))"
      ],
      "execution_count": 11,
      "outputs": [
        {
          "output_type": "stream",
          "name": "stdout",
          "text": [
            "Row ID ------------ 9994\n",
            "Order ID ------------ 5009\n",
            "Order Date ------------ 1237\n",
            "Ship Date ------------ 1334\n",
            "Ship Mode ------------ 4\n",
            "Customer ID ------------ 793\n",
            "Customer Name ------------ 793\n",
            "Segment ------------ 3\n",
            "Country ------------ 1\n",
            "City ------------ 531\n",
            "State ------------ 49\n",
            "Postal Code ------------ 631\n",
            "Region ------------ 4\n",
            "Product ID ------------ 1862\n",
            "Category ------------ 3\n",
            "Sub-Category ------------ 17\n",
            "Product Name ------------ 1850\n",
            "Sales ------------ 6144\n",
            "Quantity ------------ 14\n",
            "Discount ------------ 12\n",
            "Profit ------------ 7545\n"
          ]
        }
      ]
    },
    {
      "cell_type": "code",
      "metadata": {
        "id": "e-mX_fACVJIh"
      },
      "source": [
        "# 1) Region 2) Category 3) Sub-Category -Comparitively weaker but still valid"
      ],
      "execution_count": null,
      "outputs": []
    },
    {
      "cell_type": "code",
      "metadata": {
        "id": "Oiyxj7SRVRcN"
      },
      "source": [
        "# i have choosen Category but any one you can choose"
      ],
      "execution_count": null,
      "outputs": []
    },
    {
      "cell_type": "code",
      "metadata": {
        "colab": {
          "base_uri": "https://localhost:8080/"
        },
        "id": "wTj0HNyGVdMi",
        "outputId": "e56644b0-c492-4f49-9a94-d18428b9ee47"
      },
      "source": [
        "df.Category.value_counts()"
      ],
      "execution_count": 12,
      "outputs": [
        {
          "output_type": "execute_result",
          "data": {
            "text/plain": [
              "Office Supplies    6026\n",
              "Furniture          2121\n",
              "Technology         1847\n",
              "Name: Category, dtype: int64"
            ]
          },
          "metadata": {},
          "execution_count": 12
        }
      ]
    },
    {
      "cell_type": "code",
      "metadata": {
        "id": "Po4dcPP0PRrA",
        "colab": {
          "base_uri": "https://localhost:8080/",
          "height": 573
        },
        "outputId": "111bdc5f-f6a8-4d31-a8ab-ab238f4581b9"
      },
      "source": [
        "furniture_data=df.loc[df['Category']=='Furniture']\n",
        "furniture_data.head()"
      ],
      "execution_count": 13,
      "outputs": [
        {
          "output_type": "execute_result",
          "data": {
            "text/html": [
              "<div>\n",
              "<style scoped>\n",
              "    .dataframe tbody tr th:only-of-type {\n",
              "        vertical-align: middle;\n",
              "    }\n",
              "\n",
              "    .dataframe tbody tr th {\n",
              "        vertical-align: top;\n",
              "    }\n",
              "\n",
              "    .dataframe thead th {\n",
              "        text-align: right;\n",
              "    }\n",
              "</style>\n",
              "<table border=\"1\" class=\"dataframe\">\n",
              "  <thead>\n",
              "    <tr style=\"text-align: right;\">\n",
              "      <th></th>\n",
              "      <th>Row ID</th>\n",
              "      <th>Order ID</th>\n",
              "      <th>Order Date</th>\n",
              "      <th>Ship Date</th>\n",
              "      <th>Ship Mode</th>\n",
              "      <th>Customer ID</th>\n",
              "      <th>Customer Name</th>\n",
              "      <th>Segment</th>\n",
              "      <th>Country</th>\n",
              "      <th>City</th>\n",
              "      <th>State</th>\n",
              "      <th>Postal Code</th>\n",
              "      <th>Region</th>\n",
              "      <th>Product ID</th>\n",
              "      <th>Category</th>\n",
              "      <th>Sub-Category</th>\n",
              "      <th>Product Name</th>\n",
              "      <th>Sales</th>\n",
              "      <th>Quantity</th>\n",
              "      <th>Discount</th>\n",
              "      <th>Profit</th>\n",
              "    </tr>\n",
              "  </thead>\n",
              "  <tbody>\n",
              "    <tr>\n",
              "      <th>0</th>\n",
              "      <td>1</td>\n",
              "      <td>CA-2016-152156</td>\n",
              "      <td>2016-11-08</td>\n",
              "      <td>2016-11-11</td>\n",
              "      <td>Second Class</td>\n",
              "      <td>CG-12520</td>\n",
              "      <td>Claire Gute</td>\n",
              "      <td>Consumer</td>\n",
              "      <td>United States</td>\n",
              "      <td>Henderson</td>\n",
              "      <td>Kentucky</td>\n",
              "      <td>42420</td>\n",
              "      <td>South</td>\n",
              "      <td>FUR-BO-10001798</td>\n",
              "      <td>Furniture</td>\n",
              "      <td>Bookcases</td>\n",
              "      <td>Bush Somerset Collection Bookcase</td>\n",
              "      <td>261.9600</td>\n",
              "      <td>2</td>\n",
              "      <td>0.00</td>\n",
              "      <td>41.9136</td>\n",
              "    </tr>\n",
              "    <tr>\n",
              "      <th>1</th>\n",
              "      <td>2</td>\n",
              "      <td>CA-2016-152156</td>\n",
              "      <td>2016-11-08</td>\n",
              "      <td>2016-11-11</td>\n",
              "      <td>Second Class</td>\n",
              "      <td>CG-12520</td>\n",
              "      <td>Claire Gute</td>\n",
              "      <td>Consumer</td>\n",
              "      <td>United States</td>\n",
              "      <td>Henderson</td>\n",
              "      <td>Kentucky</td>\n",
              "      <td>42420</td>\n",
              "      <td>South</td>\n",
              "      <td>FUR-CH-10000454</td>\n",
              "      <td>Furniture</td>\n",
              "      <td>Chairs</td>\n",
              "      <td>Hon Deluxe Fabric Upholstered Stacking Chairs,...</td>\n",
              "      <td>731.9400</td>\n",
              "      <td>3</td>\n",
              "      <td>0.00</td>\n",
              "      <td>219.5820</td>\n",
              "    </tr>\n",
              "    <tr>\n",
              "      <th>3</th>\n",
              "      <td>4</td>\n",
              "      <td>US-2015-108966</td>\n",
              "      <td>2015-10-11</td>\n",
              "      <td>2015-10-18</td>\n",
              "      <td>Standard Class</td>\n",
              "      <td>SO-20335</td>\n",
              "      <td>Sean O'Donnell</td>\n",
              "      <td>Consumer</td>\n",
              "      <td>United States</td>\n",
              "      <td>Fort Lauderdale</td>\n",
              "      <td>Florida</td>\n",
              "      <td>33311</td>\n",
              "      <td>South</td>\n",
              "      <td>FUR-TA-10000577</td>\n",
              "      <td>Furniture</td>\n",
              "      <td>Tables</td>\n",
              "      <td>Bretford CR4500 Series Slim Rectangular Table</td>\n",
              "      <td>957.5775</td>\n",
              "      <td>5</td>\n",
              "      <td>0.45</td>\n",
              "      <td>-383.0310</td>\n",
              "    </tr>\n",
              "    <tr>\n",
              "      <th>5</th>\n",
              "      <td>6</td>\n",
              "      <td>CA-2014-115812</td>\n",
              "      <td>2014-06-09</td>\n",
              "      <td>2014-06-14</td>\n",
              "      <td>Standard Class</td>\n",
              "      <td>BH-11710</td>\n",
              "      <td>Brosina Hoffman</td>\n",
              "      <td>Consumer</td>\n",
              "      <td>United States</td>\n",
              "      <td>Los Angeles</td>\n",
              "      <td>California</td>\n",
              "      <td>90032</td>\n",
              "      <td>West</td>\n",
              "      <td>FUR-FU-10001487</td>\n",
              "      <td>Furniture</td>\n",
              "      <td>Furnishings</td>\n",
              "      <td>Eldon Expressions Wood and Plastic Desk Access...</td>\n",
              "      <td>48.8600</td>\n",
              "      <td>7</td>\n",
              "      <td>0.00</td>\n",
              "      <td>14.1694</td>\n",
              "    </tr>\n",
              "    <tr>\n",
              "      <th>10</th>\n",
              "      <td>11</td>\n",
              "      <td>CA-2014-115812</td>\n",
              "      <td>2014-06-09</td>\n",
              "      <td>2014-06-14</td>\n",
              "      <td>Standard Class</td>\n",
              "      <td>BH-11710</td>\n",
              "      <td>Brosina Hoffman</td>\n",
              "      <td>Consumer</td>\n",
              "      <td>United States</td>\n",
              "      <td>Los Angeles</td>\n",
              "      <td>California</td>\n",
              "      <td>90032</td>\n",
              "      <td>West</td>\n",
              "      <td>FUR-TA-10001539</td>\n",
              "      <td>Furniture</td>\n",
              "      <td>Tables</td>\n",
              "      <td>Chromcraft Rectangular Conference Tables</td>\n",
              "      <td>1706.1840</td>\n",
              "      <td>9</td>\n",
              "      <td>0.20</td>\n",
              "      <td>85.3092</td>\n",
              "    </tr>\n",
              "  </tbody>\n",
              "</table>\n",
              "</div>"
            ],
            "text/plain": [
              "    Row ID        Order ID Order Date  ... Quantity Discount    Profit\n",
              "0        1  CA-2016-152156 2016-11-08  ...        2     0.00   41.9136\n",
              "1        2  CA-2016-152156 2016-11-08  ...        3     0.00  219.5820\n",
              "3        4  US-2015-108966 2015-10-11  ...        5     0.45 -383.0310\n",
              "5        6  CA-2014-115812 2014-06-09  ...        7     0.00   14.1694\n",
              "10      11  CA-2014-115812 2014-06-09  ...        9     0.20   85.3092\n",
              "\n",
              "[5 rows x 21 columns]"
            ]
          },
          "metadata": {},
          "execution_count": 13
        }
      ]
    },
    {
      "cell_type": "code",
      "metadata": {
        "colab": {
          "base_uri": "https://localhost:8080/"
        },
        "id": "kMJvs1k_rouo",
        "outputId": "b5abd45d-62f1-4cb7-9452-5b39dba196e6"
      },
      "source": [
        "len(furniture_data)"
      ],
      "execution_count": 14,
      "outputs": [
        {
          "output_type": "execute_result",
          "data": {
            "text/plain": [
              "2121"
            ]
          },
          "metadata": {},
          "execution_count": 14
        }
      ]
    },
    {
      "cell_type": "code",
      "metadata": {
        "colab": {
          "base_uri": "https://localhost:8080/"
        },
        "id": "rReL6k3Jr52v",
        "outputId": "169d7124-8ff2-4276-c81f-08a3a25f3095"
      },
      "source": [
        "print(furniture_data['Order Date'].min())\n",
        "print(furniture_data['Order Date'].min())"
      ],
      "execution_count": 15,
      "outputs": [
        {
          "output_type": "stream",
          "name": "stdout",
          "text": [
            "2014-01-06 00:00:00\n",
            "2014-01-06 00:00:00\n"
          ]
        }
      ]
    },
    {
      "cell_type": "code",
      "metadata": {
        "id": "k_O6TksZsmNR"
      },
      "source": [
        "# Two types of numbers -> 1. Continuous  2. Discrete \n",
        "# Continuous are numerical real values and Discrete are categorical features"
      ],
      "execution_count": null,
      "outputs": []
    },
    {
      "cell_type": "code",
      "metadata": {
        "id": "grl2FQzbt1Gq"
      },
      "source": [
        "# what is the feature that i want to predict against time?\n",
        "# y=f(x) => y is a continuous number that will change as per time"
      ],
      "execution_count": null,
      "outputs": []
    },
    {
      "cell_type": "code",
      "metadata": {
        "colab": {
          "base_uri": "https://localhost:8080/"
        },
        "id": "nIDeX72yuNSy",
        "outputId": "f46badbc-d05e-4663-c34e-5909483c9208"
      },
      "source": [
        "# if i was a Logistics planner or Business Analyst ,i have chosen 'Ship Mode' is the categorical column\n",
        "df['Ship Mode'].value_counts()"
      ],
      "execution_count": 16,
      "outputs": [
        {
          "output_type": "execute_result",
          "data": {
            "text/plain": [
              "Standard Class    5968\n",
              "Second Class      1945\n",
              "First Class       1538\n",
              "Same Day           543\n",
              "Name: Ship Mode, dtype: int64"
            ]
          },
          "metadata": {},
          "execution_count": 16
        }
      ]
    },
    {
      "cell_type": "code",
      "metadata": {
        "id": "KUfAGq6YstXi"
      },
      "source": [
        "# Continuous Variables "
      ],
      "execution_count": null,
      "outputs": []
    },
    {
      "cell_type": "code",
      "metadata": {
        "id": "snmQsV1fpa_C"
      },
      "source": [
        " # if i was Sales Person , i am interest to choose columns are Sales Profit\n",
        " # if i was Marketing Person ,i am interest to choose column Discount rather than Sales or Profit\n",
        " "
      ],
      "execution_count": null,
      "outputs": []
    },
    {
      "cell_type": "code",
      "metadata": {
        "id": "uzI8xLOasKcD"
      },
      "source": [
        "# Best Continuous variables to predict against time ---->  Sales\tQuantity\tDiscount\tProfit\n",
        "# Here Sales and Profit are the best for continuous variables\n",
        "# not suited for Continous variables here are \tQuantity(logistic Business Analyst)  and\tDiscount (too many zero's)"
      ],
      "execution_count": null,
      "outputs": []
    },
    {
      "cell_type": "code",
      "metadata": {
        "id": "js98Ei6FtlUO"
      },
      "source": [
        "# Type of Numbers\n",
        "# 1.Integers -> Complete positive ,zero and negative\n",
        "# 2.Real Numbers -> All integers that are not imaginary\n",
        "# 3.Imaginary Numbers --> Any number under sqrt of -1\n",
        "\n",
        "# Rational and Irrational Numbers  -> rational numbers are calcuatable numbers and irrational are PI,22/7 etc..\n",
        "\n",
        "# Discrete and Continuous Numbers"
      ],
      "execution_count": null,
      "outputs": []
    },
    {
      "cell_type": "markdown",
      "metadata": {
        "id": "IPsiLqWYzKB_"
      },
      "source": [
        "![image.png](data:image/png;base64,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)"
      ]
    },
    {
      "cell_type": "code",
      "metadata": {
        "id": "8GwCQv-Iz8Vi"
      },
      "source": [
        "# PI Chart   --> Discrete\n",
        "# Histograms --> Discrete\n",
        "# Line Chart --> Continuous"
      ],
      "execution_count": null,
      "outputs": []
    },
    {
      "cell_type": "code",
      "metadata": {
        "id": "nI6eoDCZzV1F"
      },
      "source": [
        "# Demo with Sales Column"
      ],
      "execution_count": null,
      "outputs": []
    },
    {
      "cell_type": "code",
      "metadata": {
        "id": "CP1SPmj71dfi"
      },
      "source": [
        "# len(furniture_data)  # we have 4 years of data represented by 2121 rows of dataset\n",
        "# 365 *4 --> 1460\n",
        "# at least some dates have more than 1 order and maybe some dates may not orders at all.\n",
        "\n",
        "# For TimeSeriesAnalysis ,we don't expect a GAUSSIAN distribution specially when variables are profit, loss, sales etc. \n",
        "# which either increase or decrease! they don't go bell curve\n",
        "\n",
        "# Note: # prev cases of classification, we would have preferred uniform or gaussian or normal distribution"
      ],
      "execution_count": null,
      "outputs": []
    },
    {
      "cell_type": "code",
      "metadata": {
        "id": "fXB32asF7Z6Z"
      },
      "source": [
        "data=df.loc[df['Category']=='Furniture']"
      ],
      "execution_count": 19,
      "outputs": []
    },
    {
      "cell_type": "code",
      "metadata": {
        "colab": {
          "base_uri": "https://localhost:8080/",
          "height": 206
        },
        "id": "mZ6Wzn2B50rH",
        "outputId": "e44d65e2-d0ba-4d0a-848a-fae39819895e"
      },
      "source": [
        "# ORDER BY and GROUP BY were our go to methods in SQL!\n",
        "data_grouped = data.groupby('Order Date')\n",
        "data_grouped = data_grouped['Sales'].sum().reset_index()\n",
        "data_grouped.tail()\n",
        "# Above Assumptions were correct and at least some dates have more than 1 order and some dates may not orders at all "
      ],
      "execution_count": 20,
      "outputs": [
        {
          "output_type": "execute_result",
          "data": {
            "text/html": [
              "<div>\n",
              "<style scoped>\n",
              "    .dataframe tbody tr th:only-of-type {\n",
              "        vertical-align: middle;\n",
              "    }\n",
              "\n",
              "    .dataframe tbody tr th {\n",
              "        vertical-align: top;\n",
              "    }\n",
              "\n",
              "    .dataframe thead th {\n",
              "        text-align: right;\n",
              "    }\n",
              "</style>\n",
              "<table border=\"1\" class=\"dataframe\">\n",
              "  <thead>\n",
              "    <tr style=\"text-align: right;\">\n",
              "      <th></th>\n",
              "      <th>Order Date</th>\n",
              "      <th>Sales</th>\n",
              "    </tr>\n",
              "  </thead>\n",
              "  <tbody>\n",
              "    <tr>\n",
              "      <th>884</th>\n",
              "      <td>2017-12-24</td>\n",
              "      <td>1393.4940</td>\n",
              "    </tr>\n",
              "    <tr>\n",
              "      <th>885</th>\n",
              "      <td>2017-12-25</td>\n",
              "      <td>832.4540</td>\n",
              "    </tr>\n",
              "    <tr>\n",
              "      <th>886</th>\n",
              "      <td>2017-12-28</td>\n",
              "      <td>551.2568</td>\n",
              "    </tr>\n",
              "    <tr>\n",
              "      <th>887</th>\n",
              "      <td>2017-12-29</td>\n",
              "      <td>2330.7180</td>\n",
              "    </tr>\n",
              "    <tr>\n",
              "      <th>888</th>\n",
              "      <td>2017-12-30</td>\n",
              "      <td>323.1360</td>\n",
              "    </tr>\n",
              "  </tbody>\n",
              "</table>\n",
              "</div>"
            ],
            "text/plain": [
              "    Order Date      Sales\n",
              "884 2017-12-24  1393.4940\n",
              "885 2017-12-25   832.4540\n",
              "886 2017-12-28   551.2568\n",
              "887 2017-12-29  2330.7180\n",
              "888 2017-12-30   323.1360"
            ]
          },
          "metadata": {},
          "execution_count": 20
        }
      ]
    },
    {
      "cell_type": "code",
      "metadata": {
        "id": "2lXE8a3M87r7"
      },
      "source": [
        "# Here Predicting Day by Day will be a mistake -> real data for this granularity does not exist\n",
        "# Weekly or monthly prediction \n",
        "# Temp this week will be around 22\n",
        "# M-> 22, T-> 21, W->33, .... Sun-> 21 \n",
        "# Between the two, the weekly prediction have lesser chances of going wrong than daily prediction\n",
        "# Monthly will be better than weekly\n",
        "# Quarter will be better than monthly , annual better than quarterly "
      ],
      "execution_count": null,
      "outputs": []
    },
    {
      "cell_type": "code",
      "metadata": {
        "colab": {
          "base_uri": "https://localhost:8080/"
        },
        "id": "AgVX3ViO9RAk",
        "outputId": "d1a22b38-d266-49af-b088-eccf5612960c"
      },
      "source": [
        "data_grouped.set_index('Order Date', inplace=True)\n",
        "y = data_grouped['Sales'].resample('MS').mean() # Average sales of month will be a Better prediction than Total sales \n",
        "y.head()"
      ],
      "execution_count": 21,
      "outputs": [
        {
          "output_type": "execute_result",
          "data": {
            "text/plain": [
              "Order Date\n",
              "2014-01-01    480.194231\n",
              "2014-02-01    367.931600\n",
              "2014-03-01    857.291529\n",
              "2014-04-01    567.488357\n",
              "2014-05-01    432.049187\n",
              "Freq: MS, Name: Sales, dtype: float64"
            ]
          },
          "metadata": {},
          "execution_count": 21
        }
      ]
    },
    {
      "cell_type": "code",
      "metadata": {
        "id": "bU4vyotY-H-6"
      },
      "source": [
        "# https://pandas.pydata.org/pandas-docs/stable/reference/api/pandas.DataFrame.resample.html"
      ],
      "execution_count": null,
      "outputs": []
    },
    {
      "cell_type": "code",
      "metadata": {
        "colab": {
          "base_uri": "https://localhost:8080/"
        },
        "id": "UcXdSAkE-nKw",
        "outputId": "eededf74-8daa-4bad-e90c-751ee3461104"
      },
      "source": [
        "len(y) # 48 was expected for 4 years- Proper representation for all discrete timestamps"
      ],
      "execution_count": 22,
      "outputs": [
        {
          "output_type": "execute_result",
          "data": {
            "text/plain": [
              "48"
            ]
          },
          "metadata": {},
          "execution_count": 22
        }
      ]
    },
    {
      "cell_type": "code",
      "metadata": {
        "colab": {
          "base_uri": "https://localhost:8080/"
        },
        "id": "le1Oaeie_N4B",
        "outputId": "63663dcf-97af-4de0-cfee-02efe6badc8d"
      },
      "source": [
        "y.tail()"
      ],
      "execution_count": 24,
      "outputs": [
        {
          "output_type": "execute_result",
          "data": {
            "text/plain": [
              "Order Date\n",
              "2017-08-01     857.881889\n",
              "2017-09-01    1209.508583\n",
              "2017-10-01     875.362728\n",
              "2017-11-01    1277.817759\n",
              "2017-12-01    1256.298672\n",
              "Freq: MS, Name: Sales, dtype: float64"
            ]
          },
          "metadata": {},
          "execution_count": 24
        }
      ]
    },
    {
      "cell_type": "code",
      "metadata": {
        "colab": {
          "base_uri": "https://localhost:8080/"
        },
        "id": "pqc97OfNBHJb",
        "outputId": "1b473e7d-2707-4b5b-a5b5-dfb22e3994b5"
      },
      "source": [
        "y['2014':'2015']"
      ],
      "execution_count": 25,
      "outputs": [
        {
          "output_type": "execute_result",
          "data": {
            "text/plain": [
              "Order Date\n",
              "2014-01-01     480.194231\n",
              "2014-02-01     367.931600\n",
              "2014-03-01     857.291529\n",
              "2014-04-01     567.488357\n",
              "2014-05-01     432.049187\n",
              "2014-06-01     695.059242\n",
              "2014-07-01     601.169500\n",
              "2014-08-01     457.521656\n",
              "2014-09-01     992.353367\n",
              "2014-10-01     769.015437\n",
              "2014-11-01     980.221486\n",
              "2014-12-01    1532.298325\n",
              "2015-01-01     978.328467\n",
              "2015-02-01     522.395667\n",
              "2015-03-01     781.236437\n",
              "2015-04-01     805.822962\n",
              "2015-05-01     624.996700\n",
              "2015-06-01     428.565500\n",
              "2015-07-01     719.706316\n",
              "2015-08-01     602.412012\n",
              "2015-09-01    1382.790684\n",
              "2015-10-01     632.980184\n",
              "2015-11-01    1286.701354\n",
              "2015-12-01    1049.355418\n",
              "Freq: MS, Name: Sales, dtype: float64"
            ]
          },
          "metadata": {},
          "execution_count": 25
        }
      ]
    },
    {
      "cell_type": "code",
      "metadata": {
        "id": "rDVP1FyGBKsT"
      },
      "source": [
        ""
      ],
      "execution_count": null,
      "outputs": []
    }
  ]
}